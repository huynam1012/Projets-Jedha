{
 "cells": [
  {
   "cell_type": "code",
   "execution_count": 1,
   "id": "5f24d2ae",
   "metadata": {
    "executionInfo": {
     "elapsed": 1606,
     "status": "ok",
     "timestamp": 1637833722276,
     "user": {
      "displayName": "Tran Huy Nam",
      "photoUrl": "https://lh3.googleusercontent.com/a-/AOh14GgqMfZGpWEbv6FOhjZxevciY8lZ8ZSpthCFFDe92A=s64",
      "userId": "10623278435832509850"
     },
     "user_tz": -60
    },
    "id": "5f24d2ae"
   },
   "outputs": [],
   "source": [
    "import numpy as np\n",
    "import pandas as pd\n",
    "import matplotlib.pyplot as plt\n",
    "import seaborn as sns\n",
    "import re\n",
    "import plotly.express as px\n",
    "import plotly.io as pio\n",
    "import plotly.offline as pyo\n",
    "from plotly.offline import init_notebook_mode, iplot, plot\n",
    "import plotly.graph_objects as go\n",
    "pd.options.display.max_columns = None # to see all the columns"
   ]
  },
  {
   "cell_type": "code",
   "execution_count": 2,
   "id": "d0891441",
   "metadata": {
    "colab": {
     "base_uri": "https://localhost:8080/",
     "height": 201
    },
    "executionInfo": {
     "elapsed": 641,
     "status": "ok",
     "timestamp": 1637833722909,
     "user": {
      "displayName": "Tran Huy Nam",
      "photoUrl": "https://lh3.googleusercontent.com/a-/AOh14GgqMfZGpWEbv6FOhjZxevciY8lZ8ZSpthCFFDe92A=s64",
      "userId": "10623278435832509850"
     },
     "user_tz": -60
    },
    "id": "d0891441",
    "outputId": "5c895090-346c-4bd4-c1a3-df25095af06b"
   },
   "outputs": [
    {
     "data": {
      "text/html": [
       "<div><div id=0af99ccd-5876-4a40-8739-4c7757fb1645 style=\"display:none; background-color:#9D6CFF; color:white; width:200px; height:30px; padding-left:5px; border-radius:4px; flex-direction:row; justify-content:space-around; align-items:center;\" onmouseover=\"this.style.backgroundColor='#BA9BF8'\" onmouseout=\"this.style.backgroundColor='#9D6CFF'\" onclick=\"window.commands?.execute('create-mitosheet-from-dataframe-output');\">See Full Dataframe in Mito</div> <script> if (window.commands.hasCommand('create-mitosheet-from-dataframe-output')) document.getElementById('0af99ccd-5876-4a40-8739-4c7757fb1645').style.display = 'flex' </script> <table border=\"1\" class=\"dataframe\">\n",
       "  <thead>\n",
       "    <tr style=\"text-align: right;\">\n",
       "      <th></th>\n",
       "      <th>permalink</th>\n",
       "      <th>name</th>\n",
       "      <th>homepage_url</th>\n",
       "      <th>category_list</th>\n",
       "      <th>funding_total_usd</th>\n",
       "      <th>status</th>\n",
       "      <th>country_code</th>\n",
       "      <th>state_code</th>\n",
       "      <th>region</th>\n",
       "      <th>city</th>\n",
       "      <th>funding_rounds</th>\n",
       "      <th>founded_at</th>\n",
       "      <th>first_funding_at</th>\n",
       "      <th>last_funding_at</th>\n",
       "    </tr>\n",
       "  </thead>\n",
       "  <tbody>\n",
       "    <tr>\n",
       "      <th>0</th>\n",
       "      <td>/organization/-fame</td>\n",
       "      <td>#fame</td>\n",
       "      <td>http://livfame.com</td>\n",
       "      <td>Media</td>\n",
       "      <td>10000000</td>\n",
       "      <td>operating</td>\n",
       "      <td>IND</td>\n",
       "      <td>16</td>\n",
       "      <td>Mumbai</td>\n",
       "      <td>Mumbai</td>\n",
       "      <td>1</td>\n",
       "      <td>NaN</td>\n",
       "      <td>2015-01-05</td>\n",
       "      <td>2015-01-05</td>\n",
       "    </tr>\n",
       "    <tr>\n",
       "      <th>1</th>\n",
       "      <td>/organization/-qounter</td>\n",
       "      <td>:Qounter</td>\n",
       "      <td>http://www.qounter.com</td>\n",
       "      <td>Application Platforms|Real Time|Social Network Media</td>\n",
       "      <td>700000</td>\n",
       "      <td>operating</td>\n",
       "      <td>USA</td>\n",
       "      <td>DE</td>\n",
       "      <td>DE - Other</td>\n",
       "      <td>Delaware City</td>\n",
       "      <td>2</td>\n",
       "      <td>2014-09-04</td>\n",
       "      <td>2014-03-01</td>\n",
       "      <td>2014-10-14</td>\n",
       "    </tr>\n",
       "  </tbody>\n",
       "</table></div>"
      ],
      "text/plain": [
       "                permalink      name            homepage_url  \\\n",
       "0     /organization/-fame     #fame      http://livfame.com   \n",
       "1  /organization/-qounter  :Qounter  http://www.qounter.com   \n",
       "\n",
       "                                       category_list funding_total_usd  \\\n",
       "0                                              Media          10000000   \n",
       "1  Application Platforms|Real Time|Social Network...            700000   \n",
       "\n",
       "      status country_code state_code      region           city  \\\n",
       "0  operating          IND         16      Mumbai         Mumbai   \n",
       "1  operating          USA         DE  DE - Other  Delaware City   \n",
       "\n",
       "   funding_rounds  founded_at first_funding_at last_funding_at  \n",
       "0               1         NaN       2015-01-05      2015-01-05  \n",
       "1               2  2014-09-04       2014-03-01      2014-10-14  "
      ]
     },
     "execution_count": 2,
     "metadata": {},
     "output_type": "execute_result"
    }
   ],
   "source": [
    "url_1 = \"https://raw.githubusercontent.com/huynam1012/Projet_jedha/main/companies_data_world.csv\"\n",
    "df = pd.read_csv(url_1, encoding='ISO-8859-1')\n",
    "df.head(2)"
   ]
  },
  {
   "cell_type": "code",
   "execution_count": 3,
   "id": "91965a5f",
   "metadata": {
    "colab": {
     "base_uri": "https://localhost:8080/"
    },
    "executionInfo": {
     "elapsed": 456,
     "status": "ok",
     "timestamp": 1637833723357,
     "user": {
      "displayName": "Tran Huy Nam",
      "photoUrl": "https://lh3.googleusercontent.com/a-/AOh14GgqMfZGpWEbv6FOhjZxevciY8lZ8ZSpthCFFDe92A=s64",
      "userId": "10623278435832509850"
     },
     "user_tz": -60
    },
    "id": "91965a5f",
    "outputId": "0801a3fd-6fb0-4560-b67d-906e309a2151"
   },
   "outputs": [
    {
     "data": {
      "text/plain": [
       "operating    53034\n",
       "closed        6238\n",
       "acquired      5549\n",
       "ipo           1547\n",
       "Name: status, dtype: int64"
      ]
     },
     "execution_count": 3,
     "metadata": {},
     "output_type": "execute_result"
    }
   ],
   "source": [
    "df[\"status\"].value_counts()"
   ]
  },
  {
   "cell_type": "markdown",
   "id": "1f2eb8ad",
   "metadata": {
    "id": "1f2eb8ad"
   },
   "source": [
    "# Data cleaning"
   ]
  },
  {
   "cell_type": "code",
   "execution_count": 4,
   "id": "cc01e130",
   "metadata": {
    "colab": {
     "base_uri": "https://localhost:8080/"
    },
    "executionInfo": {
     "elapsed": 55,
     "status": "ok",
     "timestamp": 1637833723359,
     "user": {
      "displayName": "Tran Huy Nam",
      "photoUrl": "https://lh3.googleusercontent.com/a-/AOh14GgqMfZGpWEbv6FOhjZxevciY8lZ8ZSpthCFFDe92A=s64",
      "userId": "10623278435832509850"
     },
     "user_tz": -60
    },
    "id": "cc01e130",
    "outputId": "360e801b-0f4b-41aa-856d-96c90cd365cf"
   },
   "outputs": [
    {
     "name": "stderr",
     "output_type": "stream",
     "text": [
      "<ipython-input-4-04c390efec36>:2: SettingWithCopyWarning:\n",
      "\n",
      "\n",
      "A value is trying to be set on a copy of a slice from a DataFrame.\n",
      "Try using .loc[row_indexer,col_indexer] = value instead\n",
      "\n",
      "See the caveats in the documentation: https://pandas.pydata.org/pandas-docs/stable/user_guide/indexing.html#returning-a-view-versus-a-copy\n",
      "\n",
      "<ipython-input-4-04c390efec36>:3: SettingWithCopyWarning:\n",
      "\n",
      "\n",
      "A value is trying to be set on a copy of a slice from a DataFrame.\n",
      "Try using .loc[row_indexer,col_indexer] = value instead\n",
      "\n",
      "See the caveats in the documentation: https://pandas.pydata.org/pandas-docs/stable/user_guide/indexing.html#returning-a-view-versus-a-copy\n",
      "\n",
      "<ipython-input-4-04c390efec36>:4: SettingWithCopyWarning:\n",
      "\n",
      "\n",
      "A value is trying to be set on a copy of a slice from a DataFrame.\n",
      "Try using .loc[row_indexer,col_indexer] = value instead\n",
      "\n",
      "See the caveats in the documentation: https://pandas.pydata.org/pandas-docs/stable/user_guide/indexing.html#returning-a-view-versus-a-copy\n",
      "\n"
     ]
    },
    {
     "data": {
      "text/plain": [
       "success    7096\n",
       "failure    6238\n",
       "Name: status, dtype: int64"
      ]
     },
     "execution_count": 4,
     "metadata": {},
     "output_type": "execute_result"
    }
   ],
   "source": [
    "df1 = df[df[\"status\"] != \"operating\"]\n",
    "df1[\"status\"]= df1[\"status\"].apply(lambda x: x.replace(\"ipo\",\"success\"))\n",
    "df1[\"status\"]= df1[\"status\"].apply(lambda x: x.replace(\"acquired\",\"success\"))\n",
    "df1[\"status\"]= df1[\"status\"].apply(lambda x: x.replace(\"closed\",\"failure\"))\n",
    "df1[\"status\"].value_counts()"
   ]
  },
  {
   "cell_type": "code",
   "execution_count": 5,
   "id": "1b28668b",
   "metadata": {
    "colab": {
     "base_uri": "https://localhost:8080/",
     "height": 201
    },
    "executionInfo": {
     "elapsed": 48,
     "status": "ok",
     "timestamp": 1637833723366,
     "user": {
      "displayName": "Tran Huy Nam",
      "photoUrl": "https://lh3.googleusercontent.com/a-/AOh14GgqMfZGpWEbv6FOhjZxevciY8lZ8ZSpthCFFDe92A=s64",
      "userId": "10623278435832509850"
     },
     "user_tz": -60
    },
    "id": "1b28668b",
    "outputId": "2092937d-45f5-4e2f-faa6-e5d392fbf397"
   },
   "outputs": [
    {
     "data": {
      "text/html": [
       "<div><div id=7e21fba6-59ee-4a0f-8f7f-28035ef51957 style=\"display:none; background-color:#9D6CFF; color:white; width:200px; height:30px; padding-left:5px; border-radius:4px; flex-direction:row; justify-content:space-around; align-items:center;\" onmouseover=\"this.style.backgroundColor='#BA9BF8'\" onmouseout=\"this.style.backgroundColor='#9D6CFF'\" onclick=\"window.commands?.execute('create-mitosheet-from-dataframe-output');\">See Full Dataframe in Mito</div> <script> if (window.commands.hasCommand('create-mitosheet-from-dataframe-output')) document.getElementById('7e21fba6-59ee-4a0f-8f7f-28035ef51957').style.display = 'flex' </script> <table border=\"1\" class=\"dataframe\">\n",
       "  <thead>\n",
       "    <tr style=\"text-align: right;\">\n",
       "      <th></th>\n",
       "      <th>permalink</th>\n",
       "      <th>name</th>\n",
       "      <th>homepage_url</th>\n",
       "      <th>category_list</th>\n",
       "      <th>funding_total_usd</th>\n",
       "      <th>status</th>\n",
       "      <th>country_code</th>\n",
       "      <th>state_code</th>\n",
       "      <th>region</th>\n",
       "      <th>city</th>\n",
       "      <th>funding_rounds</th>\n",
       "      <th>founded_at</th>\n",
       "      <th>first_funding_at</th>\n",
       "      <th>last_funding_at</th>\n",
       "    </tr>\n",
       "  </thead>\n",
       "  <tbody>\n",
       "    <tr>\n",
       "      <th>15</th>\n",
       "      <td>/organization/1-mainstream</td>\n",
       "      <td>1 Mainstream</td>\n",
       "      <td>http://www.1mainstream.com</td>\n",
       "      <td>Apps|Cable|Distribution|Software</td>\n",
       "      <td>5000000</td>\n",
       "      <td>success</td>\n",
       "      <td>USA</td>\n",
       "      <td>CA</td>\n",
       "      <td>SF Bay Area</td>\n",
       "      <td>Cupertino</td>\n",
       "      <td>1</td>\n",
       "      <td>2012-03-01</td>\n",
       "      <td>2015-03-17</td>\n",
       "      <td>2015-03-17</td>\n",
       "    </tr>\n",
       "    <tr>\n",
       "      <th>20</th>\n",
       "      <td>/organization/1000-markets</td>\n",
       "      <td>1000 Markets</td>\n",
       "      <td>http://www.1000markets.com</td>\n",
       "      <td>Art|E-Commerce|Marketplaces</td>\n",
       "      <td>500000</td>\n",
       "      <td>success</td>\n",
       "      <td>USA</td>\n",
       "      <td>WA</td>\n",
       "      <td>Seattle</td>\n",
       "      <td>Seattle</td>\n",
       "      <td>1</td>\n",
       "      <td>2009-01-01</td>\n",
       "      <td>2009-05-15</td>\n",
       "      <td>2009-05-15</td>\n",
       "    </tr>\n",
       "  </tbody>\n",
       "</table></div>"
      ],
      "text/plain": [
       "                     permalink          name                homepage_url  \\\n",
       "15  /organization/1-mainstream  1 Mainstream  http://www.1mainstream.com   \n",
       "20  /organization/1000-markets  1000 Markets  http://www.1000markets.com   \n",
       "\n",
       "                       category_list funding_total_usd   status country_code  \\\n",
       "15  Apps|Cable|Distribution|Software           5000000  success          USA   \n",
       "20       Art|E-Commerce|Marketplaces            500000  success          USA   \n",
       "\n",
       "   state_code       region       city  funding_rounds  founded_at  \\\n",
       "15         CA  SF Bay Area  Cupertino               1  2012-03-01   \n",
       "20         WA      Seattle    Seattle               1  2009-01-01   \n",
       "\n",
       "   first_funding_at last_funding_at  \n",
       "15       2015-03-17      2015-03-17  \n",
       "20       2009-05-15      2009-05-15  "
      ]
     },
     "execution_count": 5,
     "metadata": {},
     "output_type": "execute_result"
    }
   ],
   "source": [
    "df1.head(2)"
   ]
  },
  {
   "cell_type": "code",
   "execution_count": 6,
   "id": "db72f68f",
   "metadata": {
    "colab": {
     "base_uri": "https://localhost:8080/",
     "height": 801
    },
    "executionInfo": {
     "elapsed": 47,
     "status": "ok",
     "timestamp": 1637833723369,
     "user": {
      "displayName": "Tran Huy Nam",
      "photoUrl": "https://lh3.googleusercontent.com/a-/AOh14GgqMfZGpWEbv6FOhjZxevciY8lZ8ZSpthCFFDe92A=s64",
      "userId": "10623278435832509850"
     },
     "user_tz": -60
    },
    "id": "db72f68f",
    "outputId": "00792bc6-2d71-45ce-bcfd-f76ad9b0492e"
   },
   "outputs": [
    {
     "name": "stdout",
     "output_type": "stream",
     "text": [
      "Number of rows : 13334\n",
      "\n",
      "Basics statistics: \n"
     ]
    },
    {
     "data": {
      "text/html": [
       "<div><div id=a05ca65a-be09-486f-9a73-62e83f3aba1d style=\"display:none; background-color:#9D6CFF; color:white; width:200px; height:30px; padding-left:5px; border-radius:4px; flex-direction:row; justify-content:space-around; align-items:center;\" onmouseover=\"this.style.backgroundColor='#BA9BF8'\" onmouseout=\"this.style.backgroundColor='#9D6CFF'\" onclick=\"window.commands?.execute('create-mitosheet-from-dataframe-output');\">See Full Dataframe in Mito</div> <script> if (window.commands.hasCommand('create-mitosheet-from-dataframe-output')) document.getElementById('a05ca65a-be09-486f-9a73-62e83f3aba1d').style.display = 'flex' </script> <table border=\"1\" class=\"dataframe\">\n",
       "  <thead>\n",
       "    <tr style=\"text-align: right;\">\n",
       "      <th></th>\n",
       "      <th>permalink</th>\n",
       "      <th>name</th>\n",
       "      <th>homepage_url</th>\n",
       "      <th>category_list</th>\n",
       "      <th>funding_total_usd</th>\n",
       "      <th>status</th>\n",
       "      <th>country_code</th>\n",
       "      <th>state_code</th>\n",
       "      <th>region</th>\n",
       "      <th>city</th>\n",
       "      <th>funding_rounds</th>\n",
       "      <th>founded_at</th>\n",
       "      <th>first_funding_at</th>\n",
       "      <th>last_funding_at</th>\n",
       "    </tr>\n",
       "  </thead>\n",
       "  <tbody>\n",
       "    <tr>\n",
       "      <th>count</th>\n",
       "      <td>13334</td>\n",
       "      <td>13333</td>\n",
       "      <td>12117</td>\n",
       "      <td>12248</td>\n",
       "      <td>13334</td>\n",
       "      <td>13334</td>\n",
       "      <td>11343</td>\n",
       "      <td>11125</td>\n",
       "      <td>11182</td>\n",
       "      <td>11182</td>\n",
       "      <td>13334.000000</td>\n",
       "      <td>9602</td>\n",
       "      <td>13332</td>\n",
       "      <td>13334</td>\n",
       "    </tr>\n",
       "    <tr>\n",
       "      <th>unique</th>\n",
       "      <td>13334</td>\n",
       "      <td>13325</td>\n",
       "      <td>12100</td>\n",
       "      <td>5747</td>\n",
       "      <td>4587</td>\n",
       "      <td>2</td>\n",
       "      <td>84</td>\n",
       "      <td>209</td>\n",
       "      <td>595</td>\n",
       "      <td>1711</td>\n",
       "      <td>NaN</td>\n",
       "      <td>1638</td>\n",
       "      <td>3789</td>\n",
       "      <td>3666</td>\n",
       "    </tr>\n",
       "    <tr>\n",
       "      <th>top</th>\n",
       "      <td>/organization/1-mainstream</td>\n",
       "      <td>SpaceConnect</td>\n",
       "      <td>http://app.thotz.co/</td>\n",
       "      <td>Software</td>\n",
       "      <td>-</td>\n",
       "      <td>success</td>\n",
       "      <td>USA</td>\n",
       "      <td>CA</td>\n",
       "      <td>SF Bay Area</td>\n",
       "      <td>San Francisco</td>\n",
       "      <td>NaN</td>\n",
       "      <td>2007-01-01</td>\n",
       "      <td>2008-01-01</td>\n",
       "      <td>2008-01-01</td>\n",
       "    </tr>\n",
       "    <tr>\n",
       "      <th>freq</th>\n",
       "      <td>1</td>\n",
       "      <td>2</td>\n",
       "      <td>2</td>\n",
       "      <td>917</td>\n",
       "      <td>2191</td>\n",
       "      <td>7096</td>\n",
       "      <td>8172</td>\n",
       "      <td>3402</td>\n",
       "      <td>2498</td>\n",
       "      <td>855</td>\n",
       "      <td>NaN</td>\n",
       "      <td>342</td>\n",
       "      <td>171</td>\n",
       "      <td>130</td>\n",
       "    </tr>\n",
       "    <tr>\n",
       "      <th>mean</th>\n",
       "      <td>NaN</td>\n",
       "      <td>NaN</td>\n",
       "      <td>NaN</td>\n",
       "      <td>NaN</td>\n",
       "      <td>NaN</td>\n",
       "      <td>NaN</td>\n",
       "      <td>NaN</td>\n",
       "      <td>NaN</td>\n",
       "      <td>NaN</td>\n",
       "      <td>NaN</td>\n",
       "      <td>1.859832</td>\n",
       "      <td>NaN</td>\n",
       "      <td>NaN</td>\n",
       "      <td>NaN</td>\n",
       "    </tr>\n",
       "    <tr>\n",
       "      <th>std</th>\n",
       "      <td>NaN</td>\n",
       "      <td>NaN</td>\n",
       "      <td>NaN</td>\n",
       "      <td>NaN</td>\n",
       "      <td>NaN</td>\n",
       "      <td>NaN</td>\n",
       "      <td>NaN</td>\n",
       "      <td>NaN</td>\n",
       "      <td>NaN</td>\n",
       "      <td>NaN</td>\n",
       "      <td>1.515366</td>\n",
       "      <td>NaN</td>\n",
       "      <td>NaN</td>\n",
       "      <td>NaN</td>\n",
       "    </tr>\n",
       "    <tr>\n",
       "      <th>min</th>\n",
       "      <td>NaN</td>\n",
       "      <td>NaN</td>\n",
       "      <td>NaN</td>\n",
       "      <td>NaN</td>\n",
       "      <td>NaN</td>\n",
       "      <td>NaN</td>\n",
       "      <td>NaN</td>\n",
       "      <td>NaN</td>\n",
       "      <td>NaN</td>\n",
       "      <td>NaN</td>\n",
       "      <td>1.000000</td>\n",
       "      <td>NaN</td>\n",
       "      <td>NaN</td>\n",
       "      <td>NaN</td>\n",
       "    </tr>\n",
       "    <tr>\n",
       "      <th>25%</th>\n",
       "      <td>NaN</td>\n",
       "      <td>NaN</td>\n",
       "      <td>NaN</td>\n",
       "      <td>NaN</td>\n",
       "      <td>NaN</td>\n",
       "      <td>NaN</td>\n",
       "      <td>NaN</td>\n",
       "      <td>NaN</td>\n",
       "      <td>NaN</td>\n",
       "      <td>NaN</td>\n",
       "      <td>1.000000</td>\n",
       "      <td>NaN</td>\n",
       "      <td>NaN</td>\n",
       "      <td>NaN</td>\n",
       "    </tr>\n",
       "    <tr>\n",
       "      <th>50%</th>\n",
       "      <td>NaN</td>\n",
       "      <td>NaN</td>\n",
       "      <td>NaN</td>\n",
       "      <td>NaN</td>\n",
       "      <td>NaN</td>\n",
       "      <td>NaN</td>\n",
       "      <td>NaN</td>\n",
       "      <td>NaN</td>\n",
       "      <td>NaN</td>\n",
       "      <td>NaN</td>\n",
       "      <td>1.000000</td>\n",
       "      <td>NaN</td>\n",
       "      <td>NaN</td>\n",
       "      <td>NaN</td>\n",
       "    </tr>\n",
       "    <tr>\n",
       "      <th>75%</th>\n",
       "      <td>NaN</td>\n",
       "      <td>NaN</td>\n",
       "      <td>NaN</td>\n",
       "      <td>NaN</td>\n",
       "      <td>NaN</td>\n",
       "      <td>NaN</td>\n",
       "      <td>NaN</td>\n",
       "      <td>NaN</td>\n",
       "      <td>NaN</td>\n",
       "      <td>NaN</td>\n",
       "      <td>2.000000</td>\n",
       "      <td>NaN</td>\n",
       "      <td>NaN</td>\n",
       "      <td>NaN</td>\n",
       "    </tr>\n",
       "    <tr>\n",
       "      <th>max</th>\n",
       "      <td>NaN</td>\n",
       "      <td>NaN</td>\n",
       "      <td>NaN</td>\n",
       "      <td>NaN</td>\n",
       "      <td>NaN</td>\n",
       "      <td>NaN</td>\n",
       "      <td>NaN</td>\n",
       "      <td>NaN</td>\n",
       "      <td>NaN</td>\n",
       "      <td>NaN</td>\n",
       "      <td>18.000000</td>\n",
       "      <td>NaN</td>\n",
       "      <td>NaN</td>\n",
       "      <td>NaN</td>\n",
       "    </tr>\n",
       "  </tbody>\n",
       "</table></div>"
      ],
      "text/plain": [
       "                         permalink          name          homepage_url  \\\n",
       "count                        13334         13333                 12117   \n",
       "unique                       13334         13325                 12100   \n",
       "top     /organization/1-mainstream  SpaceConnect  http://app.thotz.co/   \n",
       "freq                             1             2                     2   \n",
       "mean                           NaN           NaN                   NaN   \n",
       "std                            NaN           NaN                   NaN   \n",
       "min                            NaN           NaN                   NaN   \n",
       "25%                            NaN           NaN                   NaN   \n",
       "50%                            NaN           NaN                   NaN   \n",
       "75%                            NaN           NaN                   NaN   \n",
       "max                            NaN           NaN                   NaN   \n",
       "\n",
       "       category_list funding_total_usd   status country_code state_code  \\\n",
       "count          12248             13334    13334        11343      11125   \n",
       "unique          5747              4587        2           84        209   \n",
       "top         Software                 -  success          USA         CA   \n",
       "freq             917              2191     7096         8172       3402   \n",
       "mean             NaN               NaN      NaN          NaN        NaN   \n",
       "std              NaN               NaN      NaN          NaN        NaN   \n",
       "min              NaN               NaN      NaN          NaN        NaN   \n",
       "25%              NaN               NaN      NaN          NaN        NaN   \n",
       "50%              NaN               NaN      NaN          NaN        NaN   \n",
       "75%              NaN               NaN      NaN          NaN        NaN   \n",
       "max              NaN               NaN      NaN          NaN        NaN   \n",
       "\n",
       "             region           city  funding_rounds  founded_at  \\\n",
       "count         11182          11182    13334.000000        9602   \n",
       "unique          595           1711             NaN        1638   \n",
       "top     SF Bay Area  San Francisco             NaN  2007-01-01   \n",
       "freq           2498            855             NaN         342   \n",
       "mean            NaN            NaN        1.859832         NaN   \n",
       "std             NaN            NaN        1.515366         NaN   \n",
       "min             NaN            NaN        1.000000         NaN   \n",
       "25%             NaN            NaN        1.000000         NaN   \n",
       "50%             NaN            NaN        1.000000         NaN   \n",
       "75%             NaN            NaN        2.000000         NaN   \n",
       "max             NaN            NaN       18.000000         NaN   \n",
       "\n",
       "       first_funding_at last_funding_at  \n",
       "count             13332           13334  \n",
       "unique             3789            3666  \n",
       "top          2008-01-01      2008-01-01  \n",
       "freq                171             130  \n",
       "mean                NaN             NaN  \n",
       "std                 NaN             NaN  \n",
       "min                 NaN             NaN  \n",
       "25%                 NaN             NaN  \n",
       "50%                 NaN             NaN  \n",
       "75%                 NaN             NaN  \n",
       "max                 NaN             NaN  "
      ]
     },
     "metadata": {},
     "output_type": "display_data"
    },
    {
     "name": "stdout",
     "output_type": "stream",
     "text": [
      "\n",
      "Percentage of missing values: \n"
     ]
    },
    {
     "data": {
      "text/plain": [
       "founded_at           27.988601\n",
       "state_code           16.566672\n",
       "region               16.139193\n",
       "city                 16.139193\n",
       "country_code         14.931753\n",
       "homepage_url          9.127044\n",
       "category_list         8.144593\n",
       "first_funding_at      0.014999\n",
       "name                  0.007500\n",
       "permalink             0.000000\n",
       "funding_total_usd     0.000000\n",
       "status                0.000000\n",
       "funding_rounds        0.000000\n",
       "last_funding_at       0.000000\n",
       "dtype: float64"
      ]
     },
     "metadata": {},
     "output_type": "display_data"
    }
   ],
   "source": [
    "# Basic stats\n",
    "print(\"Number of rows : {}\".format(df1.shape[0]))\n",
    "print()\n",
    "\n",
    "\n",
    "print(\"Basics statistics: \")\n",
    "df1_desc = df1.describe(include='all')\n",
    "display(df1_desc)\n",
    "print()\n",
    "\n",
    "print(\"Percentage of missing values: \")\n",
    "display((100*df1.isnull().sum()/df1.shape[0]).sort_values(ascending=False))"
   ]
  },
  {
   "cell_type": "markdown",
   "id": "53db1d87",
   "metadata": {
    "id": "53db1d87"
   },
   "source": [
    "# Featured Engineering"
   ]
  },
  {
   "cell_type": "markdown",
   "id": "37eb9d30",
   "metadata": {
    "id": "37eb9d30"
   },
   "source": [
    "### Consider 2 status : success et failure"
   ]
  },
  {
   "cell_type": "code",
   "execution_count": 7,
   "id": "366f589a",
   "metadata": {
    "colab": {
     "base_uri": "https://localhost:8080/",
     "height": 201
    },
    "executionInfo": {
     "elapsed": 36,
     "status": "ok",
     "timestamp": 1637833723371,
     "user": {
      "displayName": "Tran Huy Nam",
      "photoUrl": "https://lh3.googleusercontent.com/a-/AOh14GgqMfZGpWEbv6FOhjZxevciY8lZ8ZSpthCFFDe92A=s64",
      "userId": "10623278435832509850"
     },
     "user_tz": -60
    },
    "id": "366f589a",
    "outputId": "d548c922-5037-4339-831b-a9cf10b5fb4e"
   },
   "outputs": [
    {
     "data": {
      "text/html": [
       "<div><div id=f488b8dc-443c-47bf-99a2-cb70f5b41ec0 style=\"display:none; background-color:#9D6CFF; color:white; width:200px; height:30px; padding-left:5px; border-radius:4px; flex-direction:row; justify-content:space-around; align-items:center;\" onmouseover=\"this.style.backgroundColor='#BA9BF8'\" onmouseout=\"this.style.backgroundColor='#9D6CFF'\" onclick=\"window.commands?.execute('create-mitosheet-from-dataframe-output');\">See Full Dataframe in Mito</div> <script> if (window.commands.hasCommand('create-mitosheet-from-dataframe-output')) document.getElementById('f488b8dc-443c-47bf-99a2-cb70f5b41ec0').style.display = 'flex' </script> <table border=\"1\" class=\"dataframe\">\n",
       "  <thead>\n",
       "    <tr style=\"text-align: right;\">\n",
       "      <th></th>\n",
       "      <th>permalink</th>\n",
       "      <th>name</th>\n",
       "      <th>homepage_url</th>\n",
       "      <th>category_list</th>\n",
       "      <th>market</th>\n",
       "      <th>funding_total_usd</th>\n",
       "      <th>status</th>\n",
       "      <th>country_code</th>\n",
       "      <th>state_code</th>\n",
       "      <th>region</th>\n",
       "      <th>city</th>\n",
       "      <th>funding_rounds</th>\n",
       "      <th>founded_at</th>\n",
       "      <th>first_funding_at</th>\n",
       "      <th>last_funding_at</th>\n",
       "    </tr>\n",
       "  </thead>\n",
       "  <tbody>\n",
       "    <tr>\n",
       "      <th>15</th>\n",
       "      <td>/organization/1-mainstream</td>\n",
       "      <td>1 Mainstream</td>\n",
       "      <td>http://www.1mainstream.com</td>\n",
       "      <td>Apps|Cable|Distribution|Software</td>\n",
       "      <td>Apps</td>\n",
       "      <td>5000000</td>\n",
       "      <td>success</td>\n",
       "      <td>USA</td>\n",
       "      <td>CA</td>\n",
       "      <td>SF Bay Area</td>\n",
       "      <td>Cupertino</td>\n",
       "      <td>1</td>\n",
       "      <td>2012-03-01</td>\n",
       "      <td>2015-03-17</td>\n",
       "      <td>2015-03-17</td>\n",
       "    </tr>\n",
       "    <tr>\n",
       "      <th>20</th>\n",
       "      <td>/organization/1000-markets</td>\n",
       "      <td>1000 Markets</td>\n",
       "      <td>http://www.1000markets.com</td>\n",
       "      <td>Art|E-Commerce|Marketplaces</td>\n",
       "      <td>Art</td>\n",
       "      <td>500000</td>\n",
       "      <td>success</td>\n",
       "      <td>USA</td>\n",
       "      <td>WA</td>\n",
       "      <td>Seattle</td>\n",
       "      <td>Seattle</td>\n",
       "      <td>1</td>\n",
       "      <td>2009-01-01</td>\n",
       "      <td>2009-05-15</td>\n",
       "      <td>2009-05-15</td>\n",
       "    </tr>\n",
       "  </tbody>\n",
       "</table></div>"
      ],
      "text/plain": [
       "                     permalink          name                homepage_url  \\\n",
       "15  /organization/1-mainstream  1 Mainstream  http://www.1mainstream.com   \n",
       "20  /organization/1000-markets  1000 Markets  http://www.1000markets.com   \n",
       "\n",
       "                       category_list market funding_total_usd   status  \\\n",
       "15  Apps|Cable|Distribution|Software   Apps           5000000  success   \n",
       "20       Art|E-Commerce|Marketplaces    Art            500000  success   \n",
       "\n",
       "   country_code state_code       region       city  funding_rounds  \\\n",
       "15          USA         CA  SF Bay Area  Cupertino               1   \n",
       "20          USA         WA      Seattle    Seattle               1   \n",
       "\n",
       "    founded_at first_funding_at last_funding_at  \n",
       "15  2012-03-01       2015-03-17      2015-03-17  \n",
       "20  2009-01-01       2009-05-15      2009-05-15  "
      ]
     },
     "execution_count": 7,
     "metadata": {},
     "output_type": "execute_result"
    }
   ],
   "source": [
    "df1.insert(4, 'market', (df1['category_list'].str.split('|').str.get(0)))\n",
    "df1.head(2)"
   ]
  },
  {
   "cell_type": "code",
   "execution_count": 8,
   "id": "144da221",
   "metadata": {
    "executionInfo": {
     "elapsed": 340,
     "status": "ok",
     "timestamp": 1637833723678,
     "user": {
      "displayName": "Tran Huy Nam",
      "photoUrl": "https://lh3.googleusercontent.com/a-/AOh14GgqMfZGpWEbv6FOhjZxevciY8lZ8ZSpthCFFDe92A=s64",
      "userId": "10623278435832509850"
     },
     "user_tz": -60
    },
    "id": "144da221"
   },
   "outputs": [],
   "source": [
    "# grouping markets in industries to decrease the number of segments. The list was being taken from here https://support.crunchbase.com/hc/en-us/articles/360043146954-What-Industries-are-included-in-Crunchbase-\n",
    "admin_services = str('Employer Benefits Programs, Human Resource Automation, Corporate IT, Distribution, Service Providers, Archiving Service, Call Center, Collection Agency, College Recruiting, Courier Service, Debt Collections, Delivery, Document Preparation, Employee Benefits, Extermination Service, Facilities Support Services, Housekeeping Service, Human Resources, Knowledge Management, Office Administration, Packaging Services, Physical Security, Project Management, Staffing Agency, Trade Shows, Virtual Workforce').split(', ')\n",
    "advertising = str('Creative Industries, Promotional, Advertising Ad Exchange, Ad Network, Ad Retargeting, Ad Server, Ad Targeting, Advertising, Advertising Platforms, Affiliate Marketing, Local Advertising, Mobile Advertising, Outdoor Advertising, SEM, Social Media Advertising, Video Advertising').split(', ')\n",
    "agriculture = str('Agriculture, AgTech, Animal Feed, Aquaculture, Equestrian, Farming, Forestry, Horticulture, Hydroponics, Livestock').split(', ')\n",
    "app = str('Application Performance Monitoring, App Stores, Application Platforms, Enterprise Application, App Discovery, Apps, Consumer Applications, Enterprise Applications, Mobile Apps, Reading Apps, Web Apps').split(', ')\n",
    "artificial_intelli = str('Artificial Intelligence, Intelligent Systems, Machine Learning, Natural Language Processing, Predictive Analytics').split(', ')\n",
    "biotechnology = str('Synthetic Biology, Bio-Pharm, Bioinformatics, Biometrics, Biopharma, Biotechnology, Genetics, Life Science, Neuroscience, Quantified Self').split(', ')\n",
    "clothing = str('Fashion, Laundry and Dry-cleaning, Lingerie, Shoes').split(', ')\n",
    "shopping = str('Consumer Behavior, Customer Support Tools, Discounts, Reviews and Recommendations, Auctions, Classifieds, Collectibles, Consumer Reviews, Coupons, E-Commerce, E-Commerce Platforms, Flash Sale, Gift, Gift Card, Gift Exchange, Gift Registry, Group Buying, Local Shopping, Made to Order, Marketplace, Online Auctions, Personalization, Point of Sale, Price Comparison, Rental, Retail, Retail Technology, Shopping, Shopping Mall, Social Shopping, Sporting Goods, Vending and Concessions, Virtual Goods, Wholesale').split(', ')\n",
    "community = str(\"Self Development, Sex, Forums, Match-Making, Babies, Identity, Women, Kids, Entrepreneur, Networking, Adult, Baby, Cannabis, Children, Communities, Dating, Elderly, Family, Funerals, Humanitarian, Leisure, LGBT, Lifestyle, Men's, Online Forums, Parenting, Pet, Private Social Networking, Professional Networking, Q&A, Religion, Retirement, Sex Industry, Sex Tech, Social, Social Entrepreneurship, Teenagers, Virtual World, Wedding, Women's, Young Adults\").split(', ')\n",
    "electronics  = str('Mac, iPod Touch, Tablets, iPad, iPhone, Computer, Consumer Electronics, Drones, Electronics, Google Glass, Mobile Devices, Nintendo, Playstation, Roku, Smart Home, Wearables, Windows Phone, Xbox').split(', ')\n",
    "consumer_goods= str('Commodities, Sunglasses, Groceries, Batteries, Cars, Beauty, Comics, Consumer Goods, Cosmetics, DIY, Drones, Eyewear, Fast-Moving Consumer Goods, Flowers, Furniture, Green Consumer Goods, Handmade, Jewelry, Lingerie, Shoes, Tobacco, Toys').split(', ')\n",
    "content = str('E-Books, MicroBlogging, Opinions, Blogging Platforms, Content Delivery Network, Content Discovery, Content Syndication, Creative Agency, DRM, EBooks, Journalism, News, Photo Editing, Photo Sharing, Photography, Printing, Publishing, Social Bookmarking, Video Editing, Video Streaming').split(', ')\n",
    "data = str('Optimization, A/B Testing, Analytics, Application Performance Management, Artificial Intelligence, Big Data, Bioinformatics, Biometrics, Business Intelligence, Consumer Research, Data Integration, Data Mining, Data Visualization, Database, Facial Recognition, Geospatial, Image Recognition, Intelligent Systems, Location Based Services, Machine Learning, Market Research, Natural Language Processing, Predictive Analytics, Product Research, Quantified Self, Speech Recognition, Test and Measurement, Text Analytics, Usability Testing').split(', ')\n",
    "design = str('Visualization, Graphics, Design, Designers, CAD, Consumer Research, Data Visualization, Fashion, Graphic Design, Human Computer Interaction, Industrial Design, Interior Design, Market Research, Mechanical Design, Product Design, Product Research, Usability Testing, UX Design, Web Design').split(', ')\n",
    "education = str('Universities, College Campuses, University Students, High Schools, All Students, Colleges, Alumni, Charter Schools, College Recruiting, Continuing Education, Corporate Training, E-Learning, EdTech, Education, Edutainment, Higher Education, Language Learning, MOOC, Music Education, Personal Development, Primary Education, Secondary Education, Skill Assessment, STEM Education, Textbook, Training, Tutoring, Vocational Education').split(', ')\n",
    "energy = str('Gas, Natural Gas Uses, Oil, Oil & Gas, Battery, Biofuel, Biomass Energy, Clean Energy, Electrical Distribution, Energy, Energy Efficiency, Energy Management, Energy Storage, Fossil Fuels, Fuel, Fuel Cell, Oil and Gas, Power Grid, Renewable Energy, Solar, Wind Energy').split(', ')\n",
    "events = str('Concerts, Event Management, Event Promotion, Events, Nightclubs, Nightlife, Reservations, Ticketing, Wedding').split(', ')\n",
    "financial = str('Debt Collecting, P2P Money Transfer, Investment Management, Trading, Accounting, Angel Investment, Asset Management, Auto Insurance, Banking, Bitcoin, Commercial Insurance, Commercial Lending, Consumer Lending, Credit, Credit Bureau, Credit Cards, Crowdfunding, Cryptocurrency, Debit Cards, Debt Collections, Finance, Financial Exchanges, Financial Services, FinTech, Fraud Detection, Funding Platform, Gift Card, Health Insurance, Hedge Funds, Impact Investing, Incubators, Insurance, InsurTech, Leasing, Lending, Life Insurance, Micro Lending, Mobile Payments, Payments, Personal Finance, Prediction Markets, Property Insurance, Real Estate Investment, Stock Exchanges, Trading Platform, Transaction Processing, Venture Capital, Virtual Currency, Wealth Management').split(', ')\n",
    "food = str('Specialty Foods, Bakery, Brewing, Cannabis, Catering, Coffee, Confectionery, Cooking, Craft Beer, Dietary Supplements, Distillery, Farmers Market, Food and Beverage, Food Delivery, Food Processing, Food Trucks, Fruit, Grocery, Nutrition, Organic Food, Recipes, Restaurants, Seafood, Snack Food, Tea, Tobacco, Wine And Spirits, Winery').split(', ')\n",
    "gaming = str('Game, Games, Casual Games, Console Games, Contests, Fantasy Sports, Gambling, Gamification, Gaming, MMO Games, Online Games, PC Games, Serious Games, Video Games').split(', ')\n",
    "government = str('Polling, Governance, CivicTech, Government, GovTech, Law Enforcement, Military, National Security, Politics, Public Safety, Social Assistance').split(', ')\n",
    "hardware= str('Cable, 3D, 3D Technology, Application Specific Integrated Circuit (ASIC), Augmented Reality, Cloud Infrastructure, Communication Hardware, Communications Infrastructure, Computer, Computer Vision, Consumer Electronics, Data Center, Data Center Automation, Data Storage, Drone Management, Drones, DSP, Electronic Design Automation (EDA), Electronics, Embedded Systems, Field-Programmable Gate Array (FPGA), Flash Storage, Google Glass, GPS, GPU, Hardware, Industrial Design, Laser, Lighting, Mechanical Design, Mobile Devices, Network Hardware, NFC, Nintendo, Optical Communication, Playstation, Private Cloud, Retail Technology, RFID, RISC, Robotics, Roku, Satellite Communication, Semiconductor, Sensor, Sex Tech, Telecommunications, Video Conferencing, Virtual Reality, Virtualization, Wearables, Windows Phone, Wireless, Xbox').split(', ')\n",
    "health_care = str('Senior Health, Physicians, Electronic Health Records, Doctors, Healthcare Services, Diagnostics, Alternative Medicine, Assisted Living, Assistive Technology, Biopharma, Cannabis, Child Care, Clinical Trials, Cosmetic Surgery, Dental, Diabetes, Dietary Supplements, Elder Care, Electronic Health Record (EHR), Emergency Medicine, Employee Benefits, Fertility, First Aid, Funerals, Genetics, Health Care, Health Diagnostics, Home Health Care, Hospital, Medical, Medical Device, mHealth, Nursing and Residential Care, Nutraceutical, Nutrition, Outpatient Care, Personal Health, Pharmaceutical, Psychology, Rehabilitation, Therapeutics, Veterinary, Wellness').split(', ')\n",
    "it = str('Distributors, Algorithms, ICT, M2M, Technology, Business Information Systems, CivicTech, Cloud Data Services, Cloud Management, Cloud Security, CMS, Contact Management, CRM, Cyber Security, Data Center, Data Center Automation, Data Integration, Data Mining, Data Visualization, Document Management, E-Signature, Email, GovTech, Identity Management, Information and Communications Technology (ICT), Information Services, Information Technology, Intrusion Detection, IT Infrastructure, IT Management, Management Information Systems, Messaging, Military, Network Security, Penetration Testing, Private Cloud, Reputation, Sales Automation, Scheduling, Social CRM, Spam Filtering, Technical Support, Unified Communications, Video Chat, Video Conferencing, Virtualization, VoIP').split(', ')\n",
    "internet = str('Online Identity, Cyber, Portals, Web Presence Management, Domains, Tracking, Web Tools, Curated Web, Search, Cloud Computing, Cloud Data Services, Cloud Infrastructure, Cloud Management, Cloud Storage, Darknet, Domain Registrar, E-Commerce Platforms, Ediscovery, Email, Internet, Internet of Things, ISP, Location Based Services, Messaging, Music Streaming, Online Forums, Online Portals, Private Cloud, Product Search, Search Engine, SEM, Semantic Search, Semantic Web, SEO, SMS, Social Media, Social Media Management, Social Network, Unified Communications, Vertical Search, Video Chat, Video Conferencing, Visual Search, VoIP, Web Browsers, Web Hosting').split(', ')\n",
    "invest = str('Angel Investment, Banking, Commercial Lending, Consumer Lending, Credit, Credit Cards, Financial Exchanges, Funding Platform, Hedge Funds, Impact Investing, Incubators, Micro Lending, Stock Exchanges, Trading Platform, Venture Capital').split(', ')\n",
    "manufacturing = str('Innovation Engineering, Civil Engineers, Heavy Industry, Engineering Firms, Systems, 3D Printing, Advanced Materials, Foundries, Industrial, Industrial Automation, Industrial Engineering, Industrial Manufacturing, Machinery Manufacturing, Manufacturing, Paper Manufacturing, Plastics and Rubber Manufacturing, Textiles, Wood Processing').split(', ')\n",
    "media = str('Writers, Creative, Television, Entertainment, Media, Advice, Animation, Art, Audio, Audiobooks, Blogging Platforms, Broadcasting, Celebrity, Concerts, Content, Content Creators, Content Discovery, Content Syndication, Creative Agency, Digital Entertainment, Digital Media, DRM, EBooks, Edutainment, Event Management, Event Promotion, Events, Film, Film Distribution, Film Production, Guides, In-Flight Entertainment, Independent Music, Internet Radio, Journalism, Media and Entertainment, Motion Capture, Music, Music Education, Music Label, Music Streaming, Music Venues, Musical Instruments, News, Nightclubs, Nightlife, Performing Arts, Photo Editing, Photo Sharing, Photography, Podcast, Printing, Publishing, Reservations, Social Media, Social News, Theatre, Ticketing, TV, TV Production, Video, Video Editing, Video on Demand, Video Streaming, Virtual World').split(', ')\n",
    "message = str('Unifed Communications, Chat, Email, Meeting Software, Messaging, SMS, Unified Communications, Video Chat, Video Conferencing, VoIP, Wired Telecommunications').split(', ')\n",
    "mobile = str('Android, Google Glass, iOS, mHealth, Mobile, Mobile Apps, Mobile Devices, Mobile Payments, Windows Phone, Wireless').split(', ')\n",
    "music = str('Audio, Audiobooks, Independent Music, Internet Radio, Music, Music Education, Music Label, Music Streaming, Musical Instruments, Podcast').split(', ')\n",
    "resource = str('Biofuel, Biomass Energy, Fossil Fuels, Mineral, Mining, Mining Technology, Natural Resources, Oil and Gas, Precious Metals, Solar, Timber, Water, Wind Energy').split(', ')\n",
    "navigation = str('Maps, Geospatial, GPS, Indoor Positioning, Location Based Services, Mapping Services, Navigation').split(', ')\n",
    "other = str('Mass Customization, Monetization, Testing, Subscription Businesses, Mobility, Incentives, Peer-to-Peer, Nonprofits, Alumni, Association, B2B, B2C, Blockchain, Charity, Collaboration, Collaborative Consumption, Commercial, Consumer, Crowdsourcing, Customer Service, Desktop Apps, Emerging Markets, Enterprise, Ethereum, Franchise, Freemium, Generation Y, Generation Z, Homeless Shelter, Infrastructure, Knowledge Management, LGBT Millennials, Non Profit, Peer to Peer, Professional Services, Project Management, Real Time, Retirement, Service Industry, Sharing Economy, Small and Medium Businesses, Social Bookmarking, Social Impact, Subscription Service, Technical Support, Underserved Children, Universities').split(', ')\n",
    "payment = str('Billing, Bitcoin, Credit Cards, Cryptocurrency, Debit Cards, Fraud Detection, Mobile Payments, Payments, Transaction Processing, Virtual Currency').split(', ')\n",
    "platforms = str('Development Platforms, Android, Facebook, Google, Google Glass, iOS, Linux, macOS, Nintendo, Operating Systems, Playstation, Roku, Tizen, Twitter, WebOS, Windows, Windows Phone, Xbox').split(', ')\n",
    "privacy = str('Digital Rights Management, Personal Data, Cloud Security, Corrections Facilities, Cyber Security, DRM, E-Signature, Fraud Detection, Homeland Security, Identity Management, Intrusion Detection, Law Enforcement, Network Security, Penetration Testing, Physical Security, Privacy, Security').split(', ')\n",
    "services = str('Funeral Industry, English-Speaking, Spas, Plumbers, Service Industries, Staffing Firms, Translation, Career Management, Business Services, Services, Accounting, Business Development, Career Planning, Compliance, Consulting, Customer Service, Employment, Environmental Consulting, Field Support, Freelance, Intellectual Property, Innovation Management, Legal, Legal Tech, Management Consulting, Outsourcing, Professional Networking, Quality Assurance, Recruiting, Risk Management, Social Recruiting, Translation Service').split(', ')\n",
    "realestate= str('Office Space, Self Storage, Brokers, Storage, Home Owners, Self Storage , Realtors, Home & Garden, Utilities, Home Automation, Architecture, Building Maintenance, Building Material, Commercial Real Estate, Construction, Coworking, Facility Management, Fast-Moving Consumer Goods, Green Building, Home and Garden, Home Decor, Home Improvement, Home Renovation, Home Services, Interior Design, Janitorial Service, Landscaping, Property Development, Property Management, Real Estate, Real Estate Investment, Rental Property, Residential, Self-Storage, Smart Building, Smart Cities, Smart Home, Timeshare, Vacation Rental').split(', ')\n",
    "sales = str('Advertising, Affiliate Marketing, App Discovery, App Marketing, Brand Marketing, Cause Marketing, Content Marketing, CRM, Digital Marketing, Digital Signage, Direct Marketing, Direct Sales, Email Marketing, Lead Generation, Lead Management, Local, Local Advertising, Local Business, Loyalty Programs, Marketing, Marketing Automation, Mobile Advertising, Multi-level Marketing, Outdoor Advertising, Personal Branding, Public Relations, Sales, Sales Automation, SEM, SEO, Social CRM, Social Media Advertising, Social Media Management, Social Media Marketing, Sponsorship, Video Advertising').split(', ')\n",
    "science = str('Face Recognition, New Technologies, Advanced Materials, Aerospace, Artificial Intelligence, Bioinformatics, Biometrics, Biopharma, Biotechnology, Chemical, Chemical Engineering, Civil Engineering, Embedded Systems, Environmental Engineering, Human Computer Interaction, Industrial Automation, Industrial Engineering, Intelligent Systems, Laser, Life Science, Marine Technology, Mechanical Engineering, Nanotechnology, Neuroscience, Nuclear, Quantum Computing, Robotics, Semiconductor, Software Engineering, STEM Education').split(', ')\n",
    "software = str('Business Productivity, 3D Technology, Android, App Discovery, Application Performance Management, Apps, Artificial Intelligence, Augmented Reality, Billing, Bitcoin, Browser Extensions, CAD, Cloud Computing, Cloud Management, CMS, Computer Vision, Consumer Applications, Consumer Software, Contact Management, CRM, Cryptocurrency, Data Center Automation, Data Integration, Data Storage, Data Visualization, Database, Developer APIs, Developer Platform, Developer Tools, Document Management, Drone Management, E-Learning, EdTech, Electronic Design Automation (EDA), Embedded Software, Embedded Systems, Enterprise Applications, Enterprise Resource Planning (ERP), Enterprise Software, Facial Recognition, File Sharing, IaaS, Image Recognition, iOS, Linux, Machine Learning, macOS, Marketing Automation, Meeting Software, Mobile Apps, Mobile Payments, MOOC, Natural Language Processing, Open Source, Operating Systems, PaaS, Predictive Analytics, Presentation Software, Presentations, Private Cloud, Productivity Tools, QR Codes, Reading Apps, Retail Technology, Robotics, SaaS, Sales Automation, Scheduling, Sex Tech, Simulation, SNS, Social CRM, Software, Software Engineering, Speech Recognition, Task Management, Text Analytics, Transaction Processing, Video Conferencing, Virtual Assistant, Virtual Currency, Virtual Desktop, Virtual Goods, Virtual Reality, Virtual World, Virtualization, Web Apps, Web Browsers, Web Development').split(', ')\n",
    "sports = str('American Football, Baseball, Basketball, Boating, Cricket, Cycling, Diving, eSports, Fantasy Sports, Fitness, Golf, Hockey, Hunting, Outdoors, Racing, Recreation, Rugby, Sailing, Skiing, Soccer, Sporting Goods, Sports, Surfing, Swimming, Table Tennis, Tennis, Ultimate Frisbee, Volley Ball').split(', ')\n",
    "sustainability = str('Green, Wind, Biomass Power Generation, Renewable Tech, Environmental Innovation, Renewable Energies, Clean Technology, Biofuel, Biomass Energy, Clean Energy, CleanTech, Energy Efficiency, Environmental Engineering, Green Building, Green Consumer Goods, GreenTech, Natural Resources, Organic, Pollution Control, Recycling, Renewable Energy, Solar, Sustainability, Waste Management, Water Purification, Wind Energy').split(', ')\n",
    "transportation = str('Taxis, Air Transportation, Automotive, Autonomous Vehicles, Car Sharing, Courier Service, Delivery Service, Electric Vehicle, Ferry Service, Fleet Management, Food Delivery, Freight Service, Last Mile Transportation, Limousine Service, Logistics, Marine Transportation, Parking, Ports and Harbors, Procurement, Public Transportation, Railroad, Recreational Vehicles, Ride Sharing, Same Day Delivery, Shipping, Shipping Broker, Space Travel, Supply Chain Management, Taxi Service, Transportation, Warehousing, Water Transportation').split(', ')\n",
    "travel = str('Adventure Travel, Amusement Park and Arcade, Business Travel, Casino, Hospitality, Hotel, Museums and Historical Sites, Parks, Resorts, Timeshare, Tour Operator, Tourism, Travel, Travel Accommodations, Travel Agency, Vacation Rental').split(', ')\n",
    "video = str('Animation, Broadcasting, Film, Film Distribution, Film Production, Motion Capture, TV, TV Production, Video, Video Editing, Video on Demand, Video Streaming').split(', ')"
   ]
  },
  {
   "cell_type": "code",
   "execution_count": 9,
   "id": "15afc8c4",
   "metadata": {
    "colab": {
     "base_uri": "https://localhost:8080/"
    },
    "executionInfo": {
     "elapsed": 2495,
     "status": "ok",
     "timestamp": 1637833726166,
     "user": {
      "displayName": "Tran Huy Nam",
      "photoUrl": "https://lh3.googleusercontent.com/a-/AOh14GgqMfZGpWEbv6FOhjZxevciY8lZ8ZSpthCFFDe92A=s64",
      "userId": "10623278435832509850"
     },
     "user_tz": -60
    },
    "id": "15afc8c4",
    "outputId": "c690c39f-a61e-4160-c67f-38929dab999a"
   },
   "outputs": [
    {
     "name": "stderr",
     "output_type": "stream",
     "text": [
      "<ipython-input-9-45d1ac06cd9e>:3: FutureWarning:\n",
      "\n",
      "The pandas.np module is deprecated and will be removed from pandas in a future version. Import numpy directly instead\n",
      "\n",
      "<ipython-input-9-45d1ac06cd9e>:4: FutureWarning:\n",
      "\n",
      "The pandas.np module is deprecated and will be removed from pandas in a future version. Import numpy directly instead\n",
      "\n",
      "<ipython-input-9-45d1ac06cd9e>:4: UserWarning:\n",
      "\n",
      "This pattern has match groups. To actually get the groups, use str.extract.\n",
      "\n",
      "<ipython-input-9-45d1ac06cd9e>:5: FutureWarning:\n",
      "\n",
      "The pandas.np module is deprecated and will be removed from pandas in a future version. Import numpy directly instead\n",
      "\n",
      "<ipython-input-9-45d1ac06cd9e>:6: FutureWarning:\n",
      "\n",
      "The pandas.np module is deprecated and will be removed from pandas in a future version. Import numpy directly instead\n",
      "\n",
      "<ipython-input-9-45d1ac06cd9e>:7: FutureWarning:\n",
      "\n",
      "The pandas.np module is deprecated and will be removed from pandas in a future version. Import numpy directly instead\n",
      "\n",
      "<ipython-input-9-45d1ac06cd9e>:8: FutureWarning:\n",
      "\n",
      "The pandas.np module is deprecated and will be removed from pandas in a future version. Import numpy directly instead\n",
      "\n",
      "<ipython-input-9-45d1ac06cd9e>:9: FutureWarning:\n",
      "\n",
      "The pandas.np module is deprecated and will be removed from pandas in a future version. Import numpy directly instead\n",
      "\n",
      "<ipython-input-9-45d1ac06cd9e>:10: FutureWarning:\n",
      "\n",
      "The pandas.np module is deprecated and will be removed from pandas in a future version. Import numpy directly instead\n",
      "\n",
      "<ipython-input-9-45d1ac06cd9e>:11: FutureWarning:\n",
      "\n",
      "The pandas.np module is deprecated and will be removed from pandas in a future version. Import numpy directly instead\n",
      "\n",
      "<ipython-input-9-45d1ac06cd9e>:12: FutureWarning:\n",
      "\n",
      "The pandas.np module is deprecated and will be removed from pandas in a future version. Import numpy directly instead\n",
      "\n",
      "<ipython-input-9-45d1ac06cd9e>:13: FutureWarning:\n",
      "\n",
      "The pandas.np module is deprecated and will be removed from pandas in a future version. Import numpy directly instead\n",
      "\n",
      "<ipython-input-9-45d1ac06cd9e>:14: FutureWarning:\n",
      "\n",
      "The pandas.np module is deprecated and will be removed from pandas in a future version. Import numpy directly instead\n",
      "\n",
      "<ipython-input-9-45d1ac06cd9e>:15: FutureWarning:\n",
      "\n",
      "The pandas.np module is deprecated and will be removed from pandas in a future version. Import numpy directly instead\n",
      "\n",
      "<ipython-input-9-45d1ac06cd9e>:16: FutureWarning:\n",
      "\n",
      "The pandas.np module is deprecated and will be removed from pandas in a future version. Import numpy directly instead\n",
      "\n",
      "<ipython-input-9-45d1ac06cd9e>:17: FutureWarning:\n",
      "\n",
      "The pandas.np module is deprecated and will be removed from pandas in a future version. Import numpy directly instead\n",
      "\n",
      "<ipython-input-9-45d1ac06cd9e>:18: FutureWarning:\n",
      "\n",
      "The pandas.np module is deprecated and will be removed from pandas in a future version. Import numpy directly instead\n",
      "\n",
      "<ipython-input-9-45d1ac06cd9e>:19: FutureWarning:\n",
      "\n",
      "The pandas.np module is deprecated and will be removed from pandas in a future version. Import numpy directly instead\n",
      "\n",
      "<ipython-input-9-45d1ac06cd9e>:20: FutureWarning:\n",
      "\n",
      "The pandas.np module is deprecated and will be removed from pandas in a future version. Import numpy directly instead\n",
      "\n",
      "<ipython-input-9-45d1ac06cd9e>:21: FutureWarning:\n",
      "\n",
      "The pandas.np module is deprecated and will be removed from pandas in a future version. Import numpy directly instead\n",
      "\n",
      "<ipython-input-9-45d1ac06cd9e>:22: FutureWarning:\n",
      "\n",
      "The pandas.np module is deprecated and will be removed from pandas in a future version. Import numpy directly instead\n",
      "\n",
      "<ipython-input-9-45d1ac06cd9e>:23: FutureWarning:\n",
      "\n",
      "The pandas.np module is deprecated and will be removed from pandas in a future version. Import numpy directly instead\n",
      "\n",
      "<ipython-input-9-45d1ac06cd9e>:24: FutureWarning:\n",
      "\n",
      "The pandas.np module is deprecated and will be removed from pandas in a future version. Import numpy directly instead\n",
      "\n",
      "<ipython-input-9-45d1ac06cd9e>:25: FutureWarning:\n",
      "\n",
      "The pandas.np module is deprecated and will be removed from pandas in a future version. Import numpy directly instead\n",
      "\n",
      "<ipython-input-9-45d1ac06cd9e>:25: UserWarning:\n",
      "\n",
      "This pattern has match groups. To actually get the groups, use str.extract.\n",
      "\n",
      "<ipython-input-9-45d1ac06cd9e>:26: FutureWarning:\n",
      "\n",
      "The pandas.np module is deprecated and will be removed from pandas in a future version. Import numpy directly instead\n",
      "\n",
      "<ipython-input-9-45d1ac06cd9e>:26: UserWarning:\n",
      "\n",
      "This pattern has match groups. To actually get the groups, use str.extract.\n",
      "\n",
      "<ipython-input-9-45d1ac06cd9e>:27: FutureWarning:\n",
      "\n",
      "The pandas.np module is deprecated and will be removed from pandas in a future version. Import numpy directly instead\n",
      "\n",
      "<ipython-input-9-45d1ac06cd9e>:27: UserWarning:\n",
      "\n",
      "This pattern has match groups. To actually get the groups, use str.extract.\n",
      "\n",
      "<ipython-input-9-45d1ac06cd9e>:28: FutureWarning:\n",
      "\n",
      "The pandas.np module is deprecated and will be removed from pandas in a future version. Import numpy directly instead\n",
      "\n",
      "<ipython-input-9-45d1ac06cd9e>:29: FutureWarning:\n",
      "\n",
      "The pandas.np module is deprecated and will be removed from pandas in a future version. Import numpy directly instead\n",
      "\n",
      "<ipython-input-9-45d1ac06cd9e>:30: FutureWarning:\n",
      "\n",
      "The pandas.np module is deprecated and will be removed from pandas in a future version. Import numpy directly instead\n",
      "\n",
      "<ipython-input-9-45d1ac06cd9e>:31: FutureWarning:\n",
      "\n",
      "The pandas.np module is deprecated and will be removed from pandas in a future version. Import numpy directly instead\n",
      "\n",
      "<ipython-input-9-45d1ac06cd9e>:32: FutureWarning:\n",
      "\n",
      "The pandas.np module is deprecated and will be removed from pandas in a future version. Import numpy directly instead\n",
      "\n",
      "<ipython-input-9-45d1ac06cd9e>:33: FutureWarning:\n",
      "\n",
      "The pandas.np module is deprecated and will be removed from pandas in a future version. Import numpy directly instead\n",
      "\n",
      "<ipython-input-9-45d1ac06cd9e>:34: FutureWarning:\n",
      "\n",
      "The pandas.np module is deprecated and will be removed from pandas in a future version. Import numpy directly instead\n",
      "\n",
      "<ipython-input-9-45d1ac06cd9e>:35: FutureWarning:\n",
      "\n",
      "The pandas.np module is deprecated and will be removed from pandas in a future version. Import numpy directly instead\n",
      "\n",
      "<ipython-input-9-45d1ac06cd9e>:36: FutureWarning:\n",
      "\n",
      "The pandas.np module is deprecated and will be removed from pandas in a future version. Import numpy directly instead\n",
      "\n",
      "<ipython-input-9-45d1ac06cd9e>:37: FutureWarning:\n",
      "\n",
      "The pandas.np module is deprecated and will be removed from pandas in a future version. Import numpy directly instead\n",
      "\n",
      "<ipython-input-9-45d1ac06cd9e>:38: FutureWarning:\n",
      "\n",
      "The pandas.np module is deprecated and will be removed from pandas in a future version. Import numpy directly instead\n",
      "\n",
      "<ipython-input-9-45d1ac06cd9e>:39: FutureWarning:\n",
      "\n",
      "The pandas.np module is deprecated and will be removed from pandas in a future version. Import numpy directly instead\n",
      "\n",
      "<ipython-input-9-45d1ac06cd9e>:40: FutureWarning:\n",
      "\n",
      "The pandas.np module is deprecated and will be removed from pandas in a future version. Import numpy directly instead\n",
      "\n",
      "<ipython-input-9-45d1ac06cd9e>:41: FutureWarning:\n",
      "\n",
      "The pandas.np module is deprecated and will be removed from pandas in a future version. Import numpy directly instead\n",
      "\n",
      "<ipython-input-9-45d1ac06cd9e>:42: FutureWarning:\n",
      "\n",
      "The pandas.np module is deprecated and will be removed from pandas in a future version. Import numpy directly instead\n",
      "\n",
      "<ipython-input-9-45d1ac06cd9e>:43: FutureWarning:\n",
      "\n",
      "The pandas.np module is deprecated and will be removed from pandas in a future version. Import numpy directly instead\n",
      "\n",
      "<ipython-input-9-45d1ac06cd9e>:44: FutureWarning:\n",
      "\n",
      "The pandas.np module is deprecated and will be removed from pandas in a future version. Import numpy directly instead\n",
      "\n",
      "<ipython-input-9-45d1ac06cd9e>:45: FutureWarning:\n",
      "\n",
      "The pandas.np module is deprecated and will be removed from pandas in a future version. Import numpy directly instead\n",
      "\n",
      "<ipython-input-9-45d1ac06cd9e>:46: FutureWarning:\n",
      "\n",
      "The pandas.np module is deprecated and will be removed from pandas in a future version. Import numpy directly instead\n",
      "\n",
      "<ipython-input-9-45d1ac06cd9e>:47: FutureWarning:\n",
      "\n",
      "The pandas.np module is deprecated and will be removed from pandas in a future version. Import numpy directly instead\n",
      "\n",
      "<ipython-input-9-45d1ac06cd9e>:48: FutureWarning:\n",
      "\n",
      "The pandas.np module is deprecated and will be removed from pandas in a future version. Import numpy directly instead\n",
      "\n",
      "<ipython-input-9-45d1ac06cd9e>:49: FutureWarning:\n",
      "\n",
      "The pandas.np module is deprecated and will be removed from pandas in a future version. Import numpy directly instead\n",
      "\n",
      "<ipython-input-9-45d1ac06cd9e>:3: SettingWithCopyWarning:\n",
      "\n",
      "\n",
      "A value is trying to be set on a copy of a slice from a DataFrame.\n",
      "Try using .loc[row_indexer,col_indexer] = value instead\n",
      "\n",
      "See the caveats in the documentation: https://pandas.pydata.org/pandas-docs/stable/user_guide/indexing.html#returning-a-view-versus-a-copy\n",
      "\n"
     ]
    }
   ],
   "source": [
    "#Making new column called  Industry group\n",
    "#https://pandas.pydata.org/docs/reference/api/pandas.Series.str.contains.html\n",
    "df1['Industry_Group'] = pd.np.where(df1.market.str.contains('|'.join(admin_services), flags=re.IGNORECASE), \"Administrative Services\",\n",
    "                               pd.np.where(df1.market.str.contains('|'.join(software), flags=re.IGNORECASE), \"Software\", \n",
    "                               pd.np.where(df1.market.str.contains('|'.join(advertising), flags=re.IGNORECASE), \"Advertising\",\n",
    "                               pd.np.where(df1.market.str.contains('|'.join(agriculture), flags=re.IGNORECASE), \"Agriculture and Farming\",\n",
    "                               pd.np.where(df1.market.str.contains('|'.join(app), flags=re.IGNORECASE), \"Apps\", \n",
    "                               pd.np.where(df1.market.str.contains('|'.join(artificial_intelli), flags=re.IGNORECASE), \"Artificial Intelligence\", \n",
    "                               pd.np.where(df1.market.str.contains('|'.join(biotechnology), flags=re.IGNORECASE), \"Biotechnology\", \n",
    "                               pd.np.where(df1.market.str.contains('|'.join(clothing), flags=re.IGNORECASE), \"Clothing and Apparel\", \n",
    "                               pd.np.where(df1.market.str.contains('|'.join(shopping), flags=re.IGNORECASE), \"Commerce and Shopping\", \n",
    "                               pd.np.where(df1.market.str.contains('|'.join(community), flags=re.IGNORECASE), \"Community and Lifestyle\", \n",
    "                               pd.np.where(df1.market.str.contains('|'.join(electronics), flags=re.IGNORECASE), \"Consumer Electronics\", \n",
    "                               pd.np.where(df1.market.str.contains('|'.join(consumer_goods), flags=re.IGNORECASE), \"Consumer Goods\", \n",
    "                               pd.np.where(df1.market.str.contains('|'.join(content), flags=re.IGNORECASE), \"Content and Publishing\", \n",
    "                               pd.np.where(df1.market.str.contains('|'.join(data), flags=re.IGNORECASE), \"Data and Analytics\",\n",
    "                               pd.np.where(df1.market.str.contains('|'.join(design), flags=re.IGNORECASE), \"Design\", \n",
    "                               pd.np.where(df1.market.str.contains('|'.join(education), flags=re.IGNORECASE), \"Education\", \n",
    "                               pd.np.where(df1.market.str.contains('|'.join(energy), flags=re.IGNORECASE), \"Energy\", \n",
    "                               pd.np.where(df1.market.str.contains('|'.join(events), flags=re.IGNORECASE), \"Events\", \n",
    "                               pd.np.where(df1.market.str.contains('|'.join(financial), flags=re.IGNORECASE), \"Financial Services\",\n",
    "                               pd.np.where(df1.market.str.contains('|'.join(food), flags=re.IGNORECASE), \"Food and Beverage\", \n",
    "                               pd.np.where(df1.market.str.contains('|'.join(gaming), flags=re.IGNORECASE), \"Gaming\", \n",
    "                               pd.np.where(df1.market.str.contains('|'.join(government), flags=re.IGNORECASE), \"Government and Military\", \n",
    "                               pd.np.where(df1.market.str.contains('|'.join(hardware), flags=re.IGNORECASE), \"Hardware\",\n",
    "                               pd.np.where(df1.market.str.contains('|'.join(health_care), flags=re.IGNORECASE), \"Health Care\",\n",
    "                               pd.np.where(df1.market.str.contains('|'.join(it), flags=re.IGNORECASE), \"Information Technology\", \n",
    "                               pd.np.where(df1.market.str.contains('|'.join(internet), flags=re.IGNORECASE), \"Internet Services\", \n",
    "                               pd.np.where(df1.market.str.contains('|'.join(invest), flags=re.IGNORECASE), \"Lending and Investments\", \n",
    "                               pd.np.where(df1.market.str.contains('|'.join(manufacturing), flags=re.IGNORECASE), \"Manufacturing\",\n",
    "                               pd.np.where(df1.market.str.contains('|'.join(media), flags=re.IGNORECASE), \"Media and Entertainment\",\n",
    "                               pd.np.where(df1.market.str.contains('|'.join(message), flags=re.IGNORECASE), \"Messaging and Telecommunication\", \n",
    "                               pd.np.where(df1.market.str.contains('|'.join(mobile), flags=re.IGNORECASE), \"Mobile\", \n",
    "                               pd.np.where(df1.market.str.contains('|'.join(music), flags=re.IGNORECASE), \"Music and Audio\", \n",
    "                               pd.np.where(df1.market.str.contains('|'.join(resource), flags=re.IGNORECASE), \"Natural Resources\",\n",
    "                               pd.np.where(df1.market.str.contains('|'.join(navigation), flags=re.IGNORECASE), \"Navigation and Mapping\",\n",
    "                               pd.np.where(df1.market.str.contains('|'.join(payment), flags=re.IGNORECASE), \"Payments\", \n",
    "                               pd.np.where(df1.market.str.contains('|'.join(platforms), flags=re.IGNORECASE), \"Platforms\", \n",
    "                               pd.np.where(df1.market.str.contains('|'.join(privacy), flags=re.IGNORECASE), \"Privacy and Security\", \n",
    "                               pd.np.where(df1.market.str.contains('|'.join(services), flags=re.IGNORECASE), \"Professional Services\",\n",
    "                               pd.np.where(df1.market.str.contains('|'.join(realestate), flags=re.IGNORECASE), \"Real Estate\", \n",
    "                               pd.np.where(df1.market.str.contains('|'.join(sales), flags=re.IGNORECASE), \"Sales and Marketing\", \n",
    "                               pd.np.where(df1.market.str.contains('|'.join(science), flags=re.IGNORECASE), \"Science and Engineering\", \n",
    "                               pd.np.where(df1.market.str.contains('|'.join(sports), flags=re.IGNORECASE), \"Sports\",\n",
    "                               pd.np.where(df1.market.str.contains('|'.join(sustainability), flags=re.IGNORECASE), \"Sustainability\", \n",
    "                               pd.np.where(df1.market.str.contains('|'.join(transportation), flags=re.IGNORECASE), \"Transportation\", \n",
    "                               pd.np.where(df1.market.str.contains('|'.join(travel), flags=re.IGNORECASE), \"Travel and Tourism\", \n",
    "                               pd.np.where(df1.market.str.contains('|'.join(video), flags=re.IGNORECASE), \"Video\",\n",
    "                               pd.np.where(df1.market.str.contains('|'.join(other), flags=re.IGNORECASE), \"Other\",  \"Other\")))))))))))))))))))))))))))))))))))))))))))))))"
   ]
  },
  {
   "cell_type": "code",
   "execution_count": 10,
   "id": "c0950847",
   "metadata": {
    "colab": {
     "base_uri": "https://localhost:8080/",
     "height": 201
    },
    "executionInfo": {
     "elapsed": 15,
     "status": "ok",
     "timestamp": 1637833726167,
     "user": {
      "displayName": "Tran Huy Nam",
      "photoUrl": "https://lh3.googleusercontent.com/a-/AOh14GgqMfZGpWEbv6FOhjZxevciY8lZ8ZSpthCFFDe92A=s64",
      "userId": "10623278435832509850"
     },
     "user_tz": -60
    },
    "id": "c0950847",
    "outputId": "8f911599-2113-4ab6-eb07-1399ed6b7cdb"
   },
   "outputs": [
    {
     "data": {
      "text/html": [
       "<div><div id=78b6066c-7638-413c-898d-c323e465610c style=\"display:none; background-color:#9D6CFF; color:white; width:200px; height:30px; padding-left:5px; border-radius:4px; flex-direction:row; justify-content:space-around; align-items:center;\" onmouseover=\"this.style.backgroundColor='#BA9BF8'\" onmouseout=\"this.style.backgroundColor='#9D6CFF'\" onclick=\"window.commands?.execute('create-mitosheet-from-dataframe-output');\">See Full Dataframe in Mito</div> <script> if (window.commands.hasCommand('create-mitosheet-from-dataframe-output')) document.getElementById('78b6066c-7638-413c-898d-c323e465610c').style.display = 'flex' </script> <table border=\"1\" class=\"dataframe\">\n",
       "  <thead>\n",
       "    <tr style=\"text-align: right;\">\n",
       "      <th></th>\n",
       "      <th>permalink</th>\n",
       "      <th>name</th>\n",
       "      <th>homepage_url</th>\n",
       "      <th>category_list</th>\n",
       "      <th>market</th>\n",
       "      <th>funding_total_usd</th>\n",
       "      <th>status</th>\n",
       "      <th>country_code</th>\n",
       "      <th>state_code</th>\n",
       "      <th>region</th>\n",
       "      <th>city</th>\n",
       "      <th>funding_rounds</th>\n",
       "      <th>founded_at</th>\n",
       "      <th>first_funding_at</th>\n",
       "      <th>last_funding_at</th>\n",
       "      <th>Industry_Group</th>\n",
       "    </tr>\n",
       "  </thead>\n",
       "  <tbody>\n",
       "    <tr>\n",
       "      <th>15</th>\n",
       "      <td>/organization/1-mainstream</td>\n",
       "      <td>1 Mainstream</td>\n",
       "      <td>http://www.1mainstream.com</td>\n",
       "      <td>Apps|Cable|Distribution|Software</td>\n",
       "      <td>Apps</td>\n",
       "      <td>5000000</td>\n",
       "      <td>success</td>\n",
       "      <td>USA</td>\n",
       "      <td>CA</td>\n",
       "      <td>SF Bay Area</td>\n",
       "      <td>Cupertino</td>\n",
       "      <td>1</td>\n",
       "      <td>2012-03-01</td>\n",
       "      <td>2015-03-17</td>\n",
       "      <td>2015-03-17</td>\n",
       "      <td>Software</td>\n",
       "    </tr>\n",
       "    <tr>\n",
       "      <th>20</th>\n",
       "      <td>/organization/1000-markets</td>\n",
       "      <td>1000 Markets</td>\n",
       "      <td>http://www.1000markets.com</td>\n",
       "      <td>Art|E-Commerce|Marketplaces</td>\n",
       "      <td>Art</td>\n",
       "      <td>500000</td>\n",
       "      <td>success</td>\n",
       "      <td>USA</td>\n",
       "      <td>WA</td>\n",
       "      <td>Seattle</td>\n",
       "      <td>Seattle</td>\n",
       "      <td>1</td>\n",
       "      <td>2009-01-01</td>\n",
       "      <td>2009-05-15</td>\n",
       "      <td>2009-05-15</td>\n",
       "      <td>Media and Entertainment</td>\n",
       "    </tr>\n",
       "  </tbody>\n",
       "</table></div>"
      ],
      "text/plain": [
       "                     permalink          name                homepage_url  \\\n",
       "15  /organization/1-mainstream  1 Mainstream  http://www.1mainstream.com   \n",
       "20  /organization/1000-markets  1000 Markets  http://www.1000markets.com   \n",
       "\n",
       "                       category_list market funding_total_usd   status  \\\n",
       "15  Apps|Cable|Distribution|Software   Apps           5000000  success   \n",
       "20       Art|E-Commerce|Marketplaces    Art            500000  success   \n",
       "\n",
       "   country_code state_code       region       city  funding_rounds  \\\n",
       "15          USA         CA  SF Bay Area  Cupertino               1   \n",
       "20          USA         WA      Seattle    Seattle               1   \n",
       "\n",
       "    founded_at first_funding_at last_funding_at           Industry_Group  \n",
       "15  2012-03-01       2015-03-17      2015-03-17                 Software  \n",
       "20  2009-01-01       2009-05-15      2009-05-15  Media and Entertainment  "
      ]
     },
     "execution_count": 10,
     "metadata": {},
     "output_type": "execute_result"
    }
   ],
   "source": [
    "df1.head(2)"
   ]
  },
  {
   "cell_type": "code",
   "execution_count": 11,
   "id": "476d3eb6",
   "metadata": {
    "colab": {
     "base_uri": "https://localhost:8080/"
    },
    "executionInfo": {
     "elapsed": 431,
     "status": "ok",
     "timestamp": 1637833726587,
     "user": {
      "displayName": "Tran Huy Nam",
      "photoUrl": "https://lh3.googleusercontent.com/a-/AOh14GgqMfZGpWEbv6FOhjZxevciY8lZ8ZSpthCFFDe92A=s64",
      "userId": "10623278435832509850"
     },
     "user_tz": -60
    },
    "id": "476d3eb6",
    "outputId": "b022c772-b18b-495d-e268-27fc3ee528a5"
   },
   "outputs": [
    {
     "name": "stderr",
     "output_type": "stream",
     "text": [
      "C:\\Users\\Huy Nam TRAN\\anaconda3\\envs\\huynam\\lib\\site-packages\\pandas\\core\\frame.py:3636: SettingWithCopyWarning:\n",
      "\n",
      "\n",
      "A value is trying to be set on a copy of a slice from a DataFrame.\n",
      "Try using .loc[row_indexer,col_indexer] = value instead\n",
      "\n",
      "See the caveats in the documentation: https://pandas.pydata.org/pandas-docs/stable/user_guide/indexing.html#returning-a-view-versus-a-copy\n",
      "\n"
     ]
    }
   ],
   "source": [
    "df1[[\"founded_at\", \"first_funding_at\", \"last_funding_at\"]] = df1[[\"founded_at\", \"first_funding_at\", \"last_funding_at\"]].\\\n",
    "                                                                apply(pd.to_datetime, errors='coerce')"
   ]
  },
  {
   "cell_type": "code",
   "execution_count": 12,
   "id": "984746a8",
   "metadata": {
    "colab": {
     "base_uri": "https://localhost:8080/"
    },
    "executionInfo": {
     "elapsed": 88,
     "status": "ok",
     "timestamp": 1637833726592,
     "user": {
      "displayName": "Tran Huy Nam",
      "photoUrl": "https://lh3.googleusercontent.com/a-/AOh14GgqMfZGpWEbv6FOhjZxevciY8lZ8ZSpthCFFDe92A=s64",
      "userId": "10623278435832509850"
     },
     "user_tz": -60
    },
    "id": "984746a8",
    "outputId": "8deb787f-2f3f-462f-a3b7-1e5299666631"
   },
   "outputs": [
    {
     "name": "stdout",
     "output_type": "stream",
     "text": [
      "(13334, 16)\n"
     ]
    }
   ],
   "source": [
    "#deleting duplicate rows.\n",
    "df1 = df1.drop_duplicates()\n",
    "print(df1.shape)"
   ]
  },
  {
   "cell_type": "code",
   "execution_count": 13,
   "id": "73e80ee8",
   "metadata": {
    "executionInfo": {
     "elapsed": 77,
     "status": "ok",
     "timestamp": 1637833726593,
     "user": {
      "displayName": "Tran Huy Nam",
      "photoUrl": "https://lh3.googleusercontent.com/a-/AOh14GgqMfZGpWEbv6FOhjZxevciY8lZ8ZSpthCFFDe92A=s64",
      "userId": "10623278435832509850"
     },
     "user_tz": -60
    },
    "id": "73e80ee8"
   },
   "outputs": [],
   "source": [
    "df1[\"funding_total_usd\"] = pd.to_numeric(df1[\"funding_total_usd\"], errors='coerce', downcast = \"float\")"
   ]
  },
  {
   "cell_type": "code",
   "execution_count": 14,
   "id": "bfe9ce5b",
   "metadata": {
    "executionInfo": {
     "elapsed": 78,
     "status": "ok",
     "timestamp": 1637833726595,
     "user": {
      "displayName": "Tran Huy Nam",
      "photoUrl": "https://lh3.googleusercontent.com/a-/AOh14GgqMfZGpWEbv6FOhjZxevciY8lZ8ZSpthCFFDe92A=s64",
      "userId": "10623278435832509850"
     },
     "user_tz": -60
    },
    "id": "bfe9ce5b"
   },
   "outputs": [],
   "source": [
    "df1 = df1.dropna(subset=[\"founded_at\"])"
   ]
  },
  {
   "cell_type": "code",
   "execution_count": 15,
   "id": "d223bb2e",
   "metadata": {
    "colab": {
     "base_uri": "https://localhost:8080/",
     "height": 331
    },
    "executionInfo": {
     "elapsed": 77,
     "status": "ok",
     "timestamp": 1637833726596,
     "user": {
      "displayName": "Tran Huy Nam",
      "photoUrl": "https://lh3.googleusercontent.com/a-/AOh14GgqMfZGpWEbv6FOhjZxevciY8lZ8ZSpthCFFDe92A=s64",
      "userId": "10623278435832509850"
     },
     "user_tz": -60
    },
    "id": "d223bb2e",
    "outputId": "be721a9d-fc17-4060-f611-4a4f137782cc"
   },
   "outputs": [
    {
     "data": {
      "text/plain": [
       "funding_total_usd    14.781250\n",
       "state_code           11.333333\n",
       "region               10.750000\n",
       "city                 10.750000\n",
       "country_code          9.958333\n",
       "homepage_url          5.416667\n",
       "category_list         4.510417\n",
       "market                4.510417\n",
       "first_funding_at      0.020833\n",
       "name                  0.010417\n",
       "permalink             0.000000\n",
       "status                0.000000\n",
       "funding_rounds        0.000000\n",
       "founded_at            0.000000\n",
       "last_funding_at       0.000000\n",
       "Industry_Group        0.000000\n",
       "dtype: float64"
      ]
     },
     "metadata": {},
     "output_type": "display_data"
    }
   ],
   "source": [
    "display((100*df1.isnull().sum()/df1.shape[0]).sort_values(ascending=False))"
   ]
  },
  {
   "cell_type": "code",
   "execution_count": 16,
   "id": "6b0c4dbf",
   "metadata": {
    "executionInfo": {
     "elapsed": 73,
     "status": "ok",
     "timestamp": 1637833726598,
     "user": {
      "displayName": "Tran Huy Nam",
      "photoUrl": "https://lh3.googleusercontent.com/a-/AOh14GgqMfZGpWEbv6FOhjZxevciY8lZ8ZSpthCFFDe92A=s64",
      "userId": "10623278435832509850"
     },
     "user_tz": -60
    },
    "id": "6b0c4dbf"
   },
   "outputs": [],
   "source": [
    "df1 = df1.loc[df1['founded_at'].between('1950-01-01','2020-12-31', inclusive='both')]"
   ]
  },
  {
   "cell_type": "code",
   "execution_count": 17,
   "id": "afe3d53c",
   "metadata": {
    "colab": {
     "base_uri": "https://localhost:8080/"
    },
    "executionInfo": {
     "elapsed": 72,
     "status": "ok",
     "timestamp": 1637833726599,
     "user": {
      "displayName": "Tran Huy Nam",
      "photoUrl": "https://lh3.googleusercontent.com/a-/AOh14GgqMfZGpWEbv6FOhjZxevciY8lZ8ZSpthCFFDe92A=s64",
      "userId": "10623278435832509850"
     },
     "user_tz": -60
    },
    "id": "afe3d53c",
    "outputId": "004bb54c-9b1a-40e4-948a-308771953f83"
   },
   "outputs": [
    {
     "data": {
      "text/plain": [
       "success    5467\n",
       "failure    4075\n",
       "Name: status, dtype: int64"
      ]
     },
     "execution_count": 17,
     "metadata": {},
     "output_type": "execute_result"
    }
   ],
   "source": [
    "df1[\"status\"].value_counts()"
   ]
  },
  {
   "cell_type": "code",
   "execution_count": 18,
   "id": "9b08ff40",
   "metadata": {
    "colab": {
     "base_uri": "https://localhost:8080/",
     "height": 866
    },
    "executionInfo": {
     "elapsed": 71,
     "status": "ok",
     "timestamp": 1637833726605,
     "user": {
      "displayName": "Tran Huy Nam",
      "photoUrl": "https://lh3.googleusercontent.com/a-/AOh14GgqMfZGpWEbv6FOhjZxevciY8lZ8ZSpthCFFDe92A=s64",
      "userId": "10623278435832509850"
     },
     "user_tz": -60
    },
    "id": "9b08ff40",
    "outputId": "5d9ef490-d15c-4f38-92ca-713f666c8ba9"
   },
   "outputs": [
    {
     "name": "stderr",
     "output_type": "stream",
     "text": [
      "<ipython-input-18-fa65b2e518d5>:5: FutureWarning:\n",
      "\n",
      "The pandas.datetime class is deprecated and will be removed from pandas in a future version. Import from datetime module instead.\n",
      "\n"
     ]
    },
    {
     "data": {
      "text/html": [
       "<div><div id=6529d789-a6ad-4d3b-9e8e-346d525302a2 style=\"display:none; background-color:#9D6CFF; color:white; width:200px; height:30px; padding-left:5px; border-radius:4px; flex-direction:row; justify-content:space-around; align-items:center;\" onmouseover=\"this.style.backgroundColor='#BA9BF8'\" onmouseout=\"this.style.backgroundColor='#9D6CFF'\" onclick=\"window.commands?.execute('create-mitosheet-from-dataframe-output');\">See Full Dataframe in Mito</div> <script> if (window.commands.hasCommand('create-mitosheet-from-dataframe-output')) document.getElementById('6529d789-a6ad-4d3b-9e8e-346d525302a2').style.display = 'flex' </script> <table border=\"1\" class=\"dataframe\">\n",
       "  <thead>\n",
       "    <tr style=\"text-align: right;\">\n",
       "      <th></th>\n",
       "      <th>permalink</th>\n",
       "      <th>name</th>\n",
       "      <th>homepage_url</th>\n",
       "      <th>category_list</th>\n",
       "      <th>market</th>\n",
       "      <th>funding_total_usd</th>\n",
       "      <th>status</th>\n",
       "      <th>country_code</th>\n",
       "      <th>state_code</th>\n",
       "      <th>region</th>\n",
       "      <th>city</th>\n",
       "      <th>funding_rounds</th>\n",
       "      <th>founded_at</th>\n",
       "      <th>first_funding_at</th>\n",
       "      <th>last_funding_at</th>\n",
       "      <th>Industry_Group</th>\n",
       "      <th>funding_day</th>\n",
       "      <th>funding_range_1_2</th>\n",
       "      <th>company_age</th>\n",
       "    </tr>\n",
       "  </thead>\n",
       "  <tbody>\n",
       "    <tr>\n",
       "      <th>15</th>\n",
       "      <td>/organization/1-mainstream</td>\n",
       "      <td>1 Mainstream</td>\n",
       "      <td>http://www.1mainstream.com</td>\n",
       "      <td>Apps|Cable|Distribution|Software</td>\n",
       "      <td>Apps</td>\n",
       "      <td>5000000.0</td>\n",
       "      <td>success</td>\n",
       "      <td>USA</td>\n",
       "      <td>CA</td>\n",
       "      <td>SF Bay Area</td>\n",
       "      <td>Cupertino</td>\n",
       "      <td>1</td>\n",
       "      <td>2012-03-01</td>\n",
       "      <td>2015-03-17</td>\n",
       "      <td>2015-03-17</td>\n",
       "      <td>Software</td>\n",
       "      <td>1111.0</td>\n",
       "      <td>0.0</td>\n",
       "      <td>10</td>\n",
       "    </tr>\n",
       "    <tr>\n",
       "      <th>20</th>\n",
       "      <td>/organization/1000-markets</td>\n",
       "      <td>1000 Markets</td>\n",
       "      <td>http://www.1000markets.com</td>\n",
       "      <td>Art|E-Commerce|Marketplaces</td>\n",
       "      <td>Art</td>\n",
       "      <td>500000.0</td>\n",
       "      <td>success</td>\n",
       "      <td>USA</td>\n",
       "      <td>WA</td>\n",
       "      <td>Seattle</td>\n",
       "      <td>Seattle</td>\n",
       "      <td>1</td>\n",
       "      <td>2009-01-01</td>\n",
       "      <td>2009-05-15</td>\n",
       "      <td>2009-05-15</td>\n",
       "      <td>Media and Entertainment</td>\n",
       "      <td>134.0</td>\n",
       "      <td>0.0</td>\n",
       "      <td>13</td>\n",
       "    </tr>\n",
       "  </tbody>\n",
       "</table></div>"
      ],
      "text/plain": [
       "                     permalink          name                homepage_url  \\\n",
       "15  /organization/1-mainstream  1 Mainstream  http://www.1mainstream.com   \n",
       "20  /organization/1000-markets  1000 Markets  http://www.1000markets.com   \n",
       "\n",
       "                       category_list market  funding_total_usd   status  \\\n",
       "15  Apps|Cable|Distribution|Software   Apps          5000000.0  success   \n",
       "20       Art|E-Commerce|Marketplaces    Art           500000.0  success   \n",
       "\n",
       "   country_code state_code       region       city  funding_rounds founded_at  \\\n",
       "15          USA         CA  SF Bay Area  Cupertino               1 2012-03-01   \n",
       "20          USA         WA      Seattle    Seattle               1 2009-01-01   \n",
       "\n",
       "   first_funding_at last_funding_at           Industry_Group  funding_day  \\\n",
       "15       2015-03-17      2015-03-17                 Software       1111.0   \n",
       "20       2009-05-15      2009-05-15  Media and Entertainment        134.0   \n",
       "\n",
       "    funding_range_1_2  company_age  \n",
       "15                0.0           10  \n",
       "20                0.0           13  "
      ]
     },
     "execution_count": 18,
     "metadata": {},
     "output_type": "execute_result"
    }
   ],
   "source": [
    "now = pd.to_datetime('now')\n",
    "df1[\"funding_total_usd\"] = df1[\"funding_total_usd\"].fillna(df1[\"funding_total_usd\"].mean())\n",
    "df1['funding_day'] = (df1['first_funding_at'] - df1['founded_at'])/np.timedelta64(1,'D')\n",
    "df1['funding_range_1_2'] = (df1['last_funding_at'] - df1['first_funding_at'])/np.timedelta64(1,'D')\n",
    "df1[\"company_age\"] = df1[\"founded_at\"].apply(lambda x : (pd.datetime.now().year - x.year))\n",
    "df1.head(2)"
   ]
  },
  {
   "cell_type": "code",
   "execution_count": 19,
   "id": "52b2c0a0",
   "metadata": {
    "colab": {
     "base_uri": "https://localhost:8080/"
    },
    "executionInfo": {
     "elapsed": 64,
     "status": "ok",
     "timestamp": 1637833726614,
     "user": {
      "displayName": "Tran Huy Nam",
      "photoUrl": "https://lh3.googleusercontent.com/a-/AOh14GgqMfZGpWEbv6FOhjZxevciY8lZ8ZSpthCFFDe92A=s64",
      "userId": "10623278435832509850"
     },
     "user_tz": -60
    },
    "id": "52b2c0a0",
    "outputId": "a30e27fc-2c7f-4dbf-b93e-28d4d708c421"
   },
   "outputs": [
    {
     "data": {
      "text/plain": [
       "(9542, 19)"
      ]
     },
     "execution_count": 19,
     "metadata": {},
     "output_type": "execute_result"
    }
   ],
   "source": [
    "df1.shape"
   ]
  },
  {
   "cell_type": "code",
   "execution_count": 20,
   "id": "b5d84a8b",
   "metadata": {
    "colab": {
     "base_uri": "https://localhost:8080/"
    },
    "executionInfo": {
     "elapsed": 285,
     "status": "ok",
     "timestamp": 1637833726848,
     "user": {
      "displayName": "Tran Huy Nam",
      "photoUrl": "https://lh3.googleusercontent.com/a-/AOh14GgqMfZGpWEbv6FOhjZxevciY8lZ8ZSpthCFFDe92A=s64",
      "userId": "10623278435832509850"
     },
     "user_tz": -60
    },
    "id": "b5d84a8b",
    "outputId": "5f996a9d-6a9f-4fca-918e-fca137deaae4"
   },
   "outputs": [
    {
     "data": {
      "text/plain": [
       "success    5467\n",
       "failure    4075\n",
       "Name: status, dtype: int64"
      ]
     },
     "execution_count": 20,
     "metadata": {},
     "output_type": "execute_result"
    }
   ],
   "source": [
    "df1[\"status\"].value_counts()"
   ]
  },
  {
   "cell_type": "code",
   "execution_count": 21,
   "id": "1b4afc08",
   "metadata": {
    "colab": {
     "base_uri": "https://localhost:8080/",
     "height": 201
    },
    "executionInfo": {
     "elapsed": 30,
     "status": "ok",
     "timestamp": 1637833726850,
     "user": {
      "displayName": "Tran Huy Nam",
      "photoUrl": "https://lh3.googleusercontent.com/a-/AOh14GgqMfZGpWEbv6FOhjZxevciY8lZ8ZSpthCFFDe92A=s64",
      "userId": "10623278435832509850"
     },
     "user_tz": -60
    },
    "id": "1b4afc08",
    "outputId": "c3b013da-751b-489b-c534-88631655077d"
   },
   "outputs": [
    {
     "data": {
      "text/html": [
       "<div><div id=664851ac-631c-4034-8420-5d4c8675dec4 style=\"display:none; background-color:#9D6CFF; color:white; width:200px; height:30px; padding-left:5px; border-radius:4px; flex-direction:row; justify-content:space-around; align-items:center;\" onmouseover=\"this.style.backgroundColor='#BA9BF8'\" onmouseout=\"this.style.backgroundColor='#9D6CFF'\" onclick=\"window.commands?.execute('create-mitosheet-from-dataframe-output');\">See Full Dataframe in Mito</div> <script> if (window.commands.hasCommand('create-mitosheet-from-dataframe-output')) document.getElementById('664851ac-631c-4034-8420-5d4c8675dec4').style.display = 'flex' </script> <table border=\"1\" class=\"dataframe\">\n",
       "  <thead>\n",
       "    <tr style=\"text-align: right;\">\n",
       "      <th></th>\n",
       "      <th>permalink</th>\n",
       "      <th>name</th>\n",
       "      <th>homepage_url</th>\n",
       "      <th>category_list</th>\n",
       "      <th>market</th>\n",
       "      <th>funding_total_usd</th>\n",
       "      <th>status</th>\n",
       "      <th>country_code</th>\n",
       "      <th>state_code</th>\n",
       "      <th>region</th>\n",
       "      <th>city</th>\n",
       "      <th>funding_rounds</th>\n",
       "      <th>founded_at</th>\n",
       "      <th>first_funding_at</th>\n",
       "      <th>last_funding_at</th>\n",
       "      <th>Industry_Group</th>\n",
       "      <th>funding_day</th>\n",
       "      <th>funding_range_1_2</th>\n",
       "      <th>company_age</th>\n",
       "    </tr>\n",
       "  </thead>\n",
       "  <tbody>\n",
       "    <tr>\n",
       "      <th>15</th>\n",
       "      <td>/organization/1-mainstream</td>\n",
       "      <td>1 Mainstream</td>\n",
       "      <td>http://www.1mainstream.com</td>\n",
       "      <td>Apps|Cable|Distribution|Software</td>\n",
       "      <td>Apps</td>\n",
       "      <td>5000000.0</td>\n",
       "      <td>success</td>\n",
       "      <td>USA</td>\n",
       "      <td>CA</td>\n",
       "      <td>SF Bay Area</td>\n",
       "      <td>Cupertino</td>\n",
       "      <td>1</td>\n",
       "      <td>2012-03-01</td>\n",
       "      <td>2015-03-17</td>\n",
       "      <td>2015-03-17</td>\n",
       "      <td>Software</td>\n",
       "      <td>1111.0</td>\n",
       "      <td>0.0</td>\n",
       "      <td>10</td>\n",
       "    </tr>\n",
       "    <tr>\n",
       "      <th>20</th>\n",
       "      <td>/organization/1000-markets</td>\n",
       "      <td>1000 Markets</td>\n",
       "      <td>http://www.1000markets.com</td>\n",
       "      <td>Art|E-Commerce|Marketplaces</td>\n",
       "      <td>Art</td>\n",
       "      <td>500000.0</td>\n",
       "      <td>success</td>\n",
       "      <td>USA</td>\n",
       "      <td>WA</td>\n",
       "      <td>Seattle</td>\n",
       "      <td>Seattle</td>\n",
       "      <td>1</td>\n",
       "      <td>2009-01-01</td>\n",
       "      <td>2009-05-15</td>\n",
       "      <td>2009-05-15</td>\n",
       "      <td>Media and Entertainment</td>\n",
       "      <td>134.0</td>\n",
       "      <td>0.0</td>\n",
       "      <td>13</td>\n",
       "    </tr>\n",
       "  </tbody>\n",
       "</table></div>"
      ],
      "text/plain": [
       "                     permalink          name                homepage_url  \\\n",
       "15  /organization/1-mainstream  1 Mainstream  http://www.1mainstream.com   \n",
       "20  /organization/1000-markets  1000 Markets  http://www.1000markets.com   \n",
       "\n",
       "                       category_list market  funding_total_usd   status  \\\n",
       "15  Apps|Cable|Distribution|Software   Apps          5000000.0  success   \n",
       "20       Art|E-Commerce|Marketplaces    Art           500000.0  success   \n",
       "\n",
       "   country_code state_code       region       city  funding_rounds founded_at  \\\n",
       "15          USA         CA  SF Bay Area  Cupertino               1 2012-03-01   \n",
       "20          USA         WA      Seattle    Seattle               1 2009-01-01   \n",
       "\n",
       "   first_funding_at last_funding_at           Industry_Group  funding_day  \\\n",
       "15       2015-03-17      2015-03-17                 Software       1111.0   \n",
       "20       2009-05-15      2009-05-15  Media and Entertainment        134.0   \n",
       "\n",
       "    funding_range_1_2  company_age  \n",
       "15                0.0           10  \n",
       "20                0.0           13  "
      ]
     },
     "execution_count": 21,
     "metadata": {},
     "output_type": "execute_result"
    }
   ],
   "source": [
    "df1.head(2)"
   ]
  },
  {
   "cell_type": "code",
   "execution_count": 22,
   "id": "790cebb9",
   "metadata": {
    "colab": {
     "base_uri": "https://localhost:8080/"
    },
    "executionInfo": {
     "elapsed": 30,
     "status": "ok",
     "timestamp": 1637833726853,
     "user": {
      "displayName": "Tran Huy Nam",
      "photoUrl": "https://lh3.googleusercontent.com/a-/AOh14GgqMfZGpWEbv6FOhjZxevciY8lZ8ZSpthCFFDe92A=s64",
      "userId": "10623278435832509850"
     },
     "user_tz": -60
    },
    "id": "790cebb9",
    "outputId": "3209fbb3-fbd8-4496-e406-1fb0bbaa5d16"
   },
   "outputs": [
    {
     "data": {
      "text/plain": [
       "Continent_Name               0\n",
       "Two_Letter_Country_Code      0\n",
       "Three_Letter_Country_Code    0\n",
       "Country_Name                 0\n",
       "dtype: int64"
      ]
     },
     "execution_count": 22,
     "metadata": {},
     "output_type": "execute_result"
    }
   ],
   "source": [
    "url_2 = \"https://raw.githubusercontent.com/huynam1012/Projet_jedha/main/country_cont.csv\"\n",
    "country = pd.read_csv(url_2) # uploading dataset to map countyr code to continent\n",
    "country = country[['Continent_Name', 'Two_Letter_Country_Code', 'Three_Letter_Country_Code', 'Country_Name']]\n",
    "country = country.dropna(how='any',axis=0) \n",
    "country.isnull().sum() # checking if there is null values"
   ]
  },
  {
   "cell_type": "code",
   "execution_count": 23,
   "id": "howl1AzdhlBy",
   "metadata": {
    "colab": {
     "base_uri": "https://localhost:8080/",
     "height": 206
    },
    "executionInfo": {
     "elapsed": 346,
     "status": "ok",
     "timestamp": 1637833727181,
     "user": {
      "displayName": "Tran Huy Nam",
      "photoUrl": "https://lh3.googleusercontent.com/a-/AOh14GgqMfZGpWEbv6FOhjZxevciY8lZ8ZSpthCFFDe92A=s64",
      "userId": "10623278435832509850"
     },
     "user_tz": -60
    },
    "id": "howl1AzdhlBy",
    "outputId": "be464209-aadf-4af2-832a-ff22d2605cc6"
   },
   "outputs": [
    {
     "data": {
      "text/html": [
       "<div><div id=8b2d2dc5-1026-4198-9456-74ca39dd7c10 style=\"display:none; background-color:#9D6CFF; color:white; width:200px; height:30px; padding-left:5px; border-radius:4px; flex-direction:row; justify-content:space-around; align-items:center;\" onmouseover=\"this.style.backgroundColor='#BA9BF8'\" onmouseout=\"this.style.backgroundColor='#9D6CFF'\" onclick=\"window.commands?.execute('create-mitosheet-from-dataframe-output');\">See Full Dataframe in Mito</div> <script> if (window.commands.hasCommand('create-mitosheet-from-dataframe-output')) document.getElementById('8b2d2dc5-1026-4198-9456-74ca39dd7c10').style.display = 'flex' </script> <table border=\"1\" class=\"dataframe\">\n",
       "  <thead>\n",
       "    <tr style=\"text-align: right;\">\n",
       "      <th></th>\n",
       "      <th>country_code</th>\n",
       "      <th>latitude</th>\n",
       "      <th>longitude</th>\n",
       "      <th>country</th>\n",
       "    </tr>\n",
       "  </thead>\n",
       "  <tbody>\n",
       "    <tr>\n",
       "      <th>0</th>\n",
       "      <td>AD</td>\n",
       "      <td>42.546245</td>\n",
       "      <td>1.601554</td>\n",
       "      <td>Andorra</td>\n",
       "    </tr>\n",
       "    <tr>\n",
       "      <th>1</th>\n",
       "      <td>AE</td>\n",
       "      <td>23.424076</td>\n",
       "      <td>53.847818</td>\n",
       "      <td>United Arab Emirates</td>\n",
       "    </tr>\n",
       "    <tr>\n",
       "      <th>2</th>\n",
       "      <td>AF</td>\n",
       "      <td>33.939110</td>\n",
       "      <td>67.709953</td>\n",
       "      <td>Afghanistan</td>\n",
       "    </tr>\n",
       "    <tr>\n",
       "      <th>3</th>\n",
       "      <td>AG</td>\n",
       "      <td>17.060816</td>\n",
       "      <td>-61.796428</td>\n",
       "      <td>Antigua and Barbuda</td>\n",
       "    </tr>\n",
       "    <tr>\n",
       "      <th>4</th>\n",
       "      <td>AI</td>\n",
       "      <td>18.220554</td>\n",
       "      <td>-63.068615</td>\n",
       "      <td>Anguilla</td>\n",
       "    </tr>\n",
       "  </tbody>\n",
       "</table></div>"
      ],
      "text/plain": [
       "  country_code   latitude  longitude               country\n",
       "0           AD  42.546245   1.601554               Andorra\n",
       "1           AE  23.424076  53.847818  United Arab Emirates\n",
       "2           AF  33.939110  67.709953           Afghanistan\n",
       "3           AG  17.060816 -61.796428   Antigua and Barbuda\n",
       "4           AI  18.220554 -63.068615              Anguilla"
      ]
     },
     "execution_count": 23,
     "metadata": {},
     "output_type": "execute_result"
    }
   ],
   "source": [
    "url_3 = \"https://raw.githubusercontent.com/huynam1012/Projet_jedha/main/world_country_and_usa_states_latitude_and_longitude_values.csv\"\n",
    "country1 = pd.read_csv(url_3) # uploading dataset to map countyr code to continent\n",
    "country1 = country1[['country_code', 'latitude','longitude','country']]\n",
    "country1 = country1.dropna(how='any',axis=0) \n",
    "country1.head(5)"
   ]
  },
  {
   "cell_type": "code",
   "execution_count": 24,
   "id": "3f0fdc81",
   "metadata": {
    "colab": {
     "base_uri": "https://localhost:8080/",
     "height": 215
    },
    "executionInfo": {
     "elapsed": 26,
     "status": "ok",
     "timestamp": 1637833727183,
     "user": {
      "displayName": "Tran Huy Nam",
      "photoUrl": "https://lh3.googleusercontent.com/a-/AOh14GgqMfZGpWEbv6FOhjZxevciY8lZ8ZSpthCFFDe92A=s64",
      "userId": "10623278435832509850"
     },
     "user_tz": -60
    },
    "id": "3f0fdc81",
    "outputId": "19148df0-fa15-4bca-b737-cb1be7940119"
   },
   "outputs": [
    {
     "data": {
      "text/html": [
       "<div><div id=e82c14b9-a3db-4037-990c-c2a799853ddb style=\"display:none; background-color:#9D6CFF; color:white; width:200px; height:30px; padding-left:5px; border-radius:4px; flex-direction:row; justify-content:space-around; align-items:center;\" onmouseover=\"this.style.backgroundColor='#BA9BF8'\" onmouseout=\"this.style.backgroundColor='#9D6CFF'\" onclick=\"window.commands?.execute('create-mitosheet-from-dataframe-output');\">See Full Dataframe in Mito</div> <script> if (window.commands.hasCommand('create-mitosheet-from-dataframe-output')) document.getElementById('e82c14b9-a3db-4037-990c-c2a799853ddb').style.display = 'flex' </script> <table border=\"1\" class=\"dataframe\">\n",
       "  <thead>\n",
       "    <tr style=\"text-align: right;\">\n",
       "      <th></th>\n",
       "      <th>permalink</th>\n",
       "      <th>name</th>\n",
       "      <th>homepage_url</th>\n",
       "      <th>category_list</th>\n",
       "      <th>market</th>\n",
       "      <th>funding_total_usd</th>\n",
       "      <th>status</th>\n",
       "      <th>country_code</th>\n",
       "      <th>state_code</th>\n",
       "      <th>region</th>\n",
       "      <th>city</th>\n",
       "      <th>funding_rounds</th>\n",
       "      <th>founded_at</th>\n",
       "      <th>first_funding_at</th>\n",
       "      <th>last_funding_at</th>\n",
       "      <th>Industry_Group</th>\n",
       "      <th>funding_day</th>\n",
       "      <th>funding_range_1_2</th>\n",
       "      <th>company_age</th>\n",
       "      <th>Continent_Name</th>\n",
       "      <th>Two_Letter_Country_Code</th>\n",
       "      <th>Three_Letter_Country_Code</th>\n",
       "      <th>Country_Name</th>\n",
       "    </tr>\n",
       "  </thead>\n",
       "  <tbody>\n",
       "    <tr>\n",
       "      <th>0</th>\n",
       "      <td>/organization/1-mainstream</td>\n",
       "      <td>1 Mainstream</td>\n",
       "      <td>http://www.1mainstream.com</td>\n",
       "      <td>Apps|Cable|Distribution|Software</td>\n",
       "      <td>Apps</td>\n",
       "      <td>5000000.0</td>\n",
       "      <td>success</td>\n",
       "      <td>USA</td>\n",
       "      <td>CA</td>\n",
       "      <td>SF Bay Area</td>\n",
       "      <td>Cupertino</td>\n",
       "      <td>1</td>\n",
       "      <td>2012-03-01</td>\n",
       "      <td>2015-03-17</td>\n",
       "      <td>2015-03-17</td>\n",
       "      <td>Software</td>\n",
       "      <td>1111.0</td>\n",
       "      <td>0.0</td>\n",
       "      <td>10</td>\n",
       "      <td>North America</td>\n",
       "      <td>US</td>\n",
       "      <td>USA</td>\n",
       "      <td>United States of America</td>\n",
       "    </tr>\n",
       "    <tr>\n",
       "      <th>1</th>\n",
       "      <td>/organization/1000-markets</td>\n",
       "      <td>1000 Markets</td>\n",
       "      <td>http://www.1000markets.com</td>\n",
       "      <td>Art|E-Commerce|Marketplaces</td>\n",
       "      <td>Art</td>\n",
       "      <td>500000.0</td>\n",
       "      <td>success</td>\n",
       "      <td>USA</td>\n",
       "      <td>WA</td>\n",
       "      <td>Seattle</td>\n",
       "      <td>Seattle</td>\n",
       "      <td>1</td>\n",
       "      <td>2009-01-01</td>\n",
       "      <td>2009-05-15</td>\n",
       "      <td>2009-05-15</td>\n",
       "      <td>Media and Entertainment</td>\n",
       "      <td>134.0</td>\n",
       "      <td>0.0</td>\n",
       "      <td>13</td>\n",
       "      <td>North America</td>\n",
       "      <td>US</td>\n",
       "      <td>USA</td>\n",
       "      <td>United States of America</td>\n",
       "    </tr>\n",
       "    <tr>\n",
       "      <th>2</th>\n",
       "      <td>/organization/1000memories</td>\n",
       "      <td>1000memories</td>\n",
       "      <td>http://1000memories.com</td>\n",
       "      <td>Curated Web</td>\n",
       "      <td>Curated Web</td>\n",
       "      <td>2535000.0</td>\n",
       "      <td>success</td>\n",
       "      <td>USA</td>\n",
       "      <td>CA</td>\n",
       "      <td>SF Bay Area</td>\n",
       "      <td>San Francisco</td>\n",
       "      <td>2</td>\n",
       "      <td>2010-07-01</td>\n",
       "      <td>2010-01-01</td>\n",
       "      <td>2011-02-16</td>\n",
       "      <td>Internet Services</td>\n",
       "      <td>-181.0</td>\n",
       "      <td>411.0</td>\n",
       "      <td>12</td>\n",
       "      <td>North America</td>\n",
       "      <td>US</td>\n",
       "      <td>USA</td>\n",
       "      <td>United States of America</td>\n",
       "    </tr>\n",
       "  </tbody>\n",
       "</table></div>"
      ],
      "text/plain": [
       "                    permalink          name                homepage_url  \\\n",
       "0  /organization/1-mainstream  1 Mainstream  http://www.1mainstream.com   \n",
       "1  /organization/1000-markets  1000 Markets  http://www.1000markets.com   \n",
       "2  /organization/1000memories  1000memories     http://1000memories.com   \n",
       "\n",
       "                      category_list       market  funding_total_usd   status  \\\n",
       "0  Apps|Cable|Distribution|Software         Apps          5000000.0  success   \n",
       "1       Art|E-Commerce|Marketplaces          Art           500000.0  success   \n",
       "2                       Curated Web  Curated Web          2535000.0  success   \n",
       "\n",
       "  country_code state_code       region           city  funding_rounds  \\\n",
       "0          USA         CA  SF Bay Area      Cupertino               1   \n",
       "1          USA         WA      Seattle        Seattle               1   \n",
       "2          USA         CA  SF Bay Area  San Francisco               2   \n",
       "\n",
       "  founded_at first_funding_at last_funding_at           Industry_Group  \\\n",
       "0 2012-03-01       2015-03-17      2015-03-17                 Software   \n",
       "1 2009-01-01       2009-05-15      2009-05-15  Media and Entertainment   \n",
       "2 2010-07-01       2010-01-01      2011-02-16        Internet Services   \n",
       "\n",
       "   funding_day  funding_range_1_2  company_age Continent_Name  \\\n",
       "0       1111.0                0.0           10  North America   \n",
       "1        134.0                0.0           13  North America   \n",
       "2       -181.0              411.0           12  North America   \n",
       "\n",
       "  Two_Letter_Country_Code Three_Letter_Country_Code              Country_Name  \n",
       "0                      US                       USA  United States of America  \n",
       "1                      US                       USA  United States of America  \n",
       "2                      US                       USA  United States of America  "
      ]
     },
     "execution_count": 24,
     "metadata": {},
     "output_type": "execute_result"
    }
   ],
   "source": [
    "df3 = df1.merge(country, left_on='country_code', right_on='Three_Letter_Country_Code')\n",
    "# merging both datasets and creating new column called continent\n",
    "df3.head(3)"
   ]
  },
  {
   "cell_type": "code",
   "execution_count": 25,
   "id": "GgJ-ZMTNhq-O",
   "metadata": {
    "colab": {
     "base_uri": "https://localhost:8080/",
     "height": 215
    },
    "executionInfo": {
     "elapsed": 25,
     "status": "ok",
     "timestamp": 1637833727184,
     "user": {
      "displayName": "Tran Huy Nam",
      "photoUrl": "https://lh3.googleusercontent.com/a-/AOh14GgqMfZGpWEbv6FOhjZxevciY8lZ8ZSpthCFFDe92A=s64",
      "userId": "10623278435832509850"
     },
     "user_tz": -60
    },
    "id": "GgJ-ZMTNhq-O",
    "outputId": "eba84d7d-c274-43f3-f779-03cd05ecc87e"
   },
   "outputs": [
    {
     "data": {
      "text/html": [
       "<div><div id=ad5ffb3c-569e-4695-8d2c-2f46514a53cd style=\"display:none; background-color:#9D6CFF; color:white; width:200px; height:30px; padding-left:5px; border-radius:4px; flex-direction:row; justify-content:space-around; align-items:center;\" onmouseover=\"this.style.backgroundColor='#BA9BF8'\" onmouseout=\"this.style.backgroundColor='#9D6CFF'\" onclick=\"window.commands?.execute('create-mitosheet-from-dataframe-output');\">See Full Dataframe in Mito</div> <script> if (window.commands.hasCommand('create-mitosheet-from-dataframe-output')) document.getElementById('ad5ffb3c-569e-4695-8d2c-2f46514a53cd').style.display = 'flex' </script> <table border=\"1\" class=\"dataframe\">\n",
       "  <thead>\n",
       "    <tr style=\"text-align: right;\">\n",
       "      <th></th>\n",
       "      <th>permalink</th>\n",
       "      <th>name</th>\n",
       "      <th>homepage_url</th>\n",
       "      <th>category_list</th>\n",
       "      <th>market</th>\n",
       "      <th>funding_total_usd</th>\n",
       "      <th>status</th>\n",
       "      <th>country_code_x</th>\n",
       "      <th>state_code</th>\n",
       "      <th>region</th>\n",
       "      <th>city</th>\n",
       "      <th>funding_rounds</th>\n",
       "      <th>founded_at</th>\n",
       "      <th>first_funding_at</th>\n",
       "      <th>last_funding_at</th>\n",
       "      <th>Industry_Group</th>\n",
       "      <th>funding_day</th>\n",
       "      <th>funding_range_1_2</th>\n",
       "      <th>company_age</th>\n",
       "      <th>Continent_Name</th>\n",
       "      <th>Two_Letter_Country_Code</th>\n",
       "      <th>Three_Letter_Country_Code</th>\n",
       "      <th>Country_Name</th>\n",
       "      <th>country_code_y</th>\n",
       "      <th>latitude</th>\n",
       "      <th>longitude</th>\n",
       "      <th>country</th>\n",
       "    </tr>\n",
       "  </thead>\n",
       "  <tbody>\n",
       "    <tr>\n",
       "      <th>0</th>\n",
       "      <td>/organization/1-mainstream</td>\n",
       "      <td>1 Mainstream</td>\n",
       "      <td>http://www.1mainstream.com</td>\n",
       "      <td>Apps|Cable|Distribution|Software</td>\n",
       "      <td>Apps</td>\n",
       "      <td>5000000.0</td>\n",
       "      <td>success</td>\n",
       "      <td>USA</td>\n",
       "      <td>CA</td>\n",
       "      <td>SF Bay Area</td>\n",
       "      <td>Cupertino</td>\n",
       "      <td>1</td>\n",
       "      <td>2012-03-01</td>\n",
       "      <td>2015-03-17</td>\n",
       "      <td>2015-03-17</td>\n",
       "      <td>Software</td>\n",
       "      <td>1111.0</td>\n",
       "      <td>0.0</td>\n",
       "      <td>10</td>\n",
       "      <td>North America</td>\n",
       "      <td>US</td>\n",
       "      <td>USA</td>\n",
       "      <td>United States of America</td>\n",
       "      <td>US</td>\n",
       "      <td>37.09024</td>\n",
       "      <td>-95.712891</td>\n",
       "      <td>United States</td>\n",
       "    </tr>\n",
       "    <tr>\n",
       "      <th>1</th>\n",
       "      <td>/organization/1000-markets</td>\n",
       "      <td>1000 Markets</td>\n",
       "      <td>http://www.1000markets.com</td>\n",
       "      <td>Art|E-Commerce|Marketplaces</td>\n",
       "      <td>Art</td>\n",
       "      <td>500000.0</td>\n",
       "      <td>success</td>\n",
       "      <td>USA</td>\n",
       "      <td>WA</td>\n",
       "      <td>Seattle</td>\n",
       "      <td>Seattle</td>\n",
       "      <td>1</td>\n",
       "      <td>2009-01-01</td>\n",
       "      <td>2009-05-15</td>\n",
       "      <td>2009-05-15</td>\n",
       "      <td>Media and Entertainment</td>\n",
       "      <td>134.0</td>\n",
       "      <td>0.0</td>\n",
       "      <td>13</td>\n",
       "      <td>North America</td>\n",
       "      <td>US</td>\n",
       "      <td>USA</td>\n",
       "      <td>United States of America</td>\n",
       "      <td>US</td>\n",
       "      <td>37.09024</td>\n",
       "      <td>-95.712891</td>\n",
       "      <td>United States</td>\n",
       "    </tr>\n",
       "    <tr>\n",
       "      <th>2</th>\n",
       "      <td>/organization/1000memories</td>\n",
       "      <td>1000memories</td>\n",
       "      <td>http://1000memories.com</td>\n",
       "      <td>Curated Web</td>\n",
       "      <td>Curated Web</td>\n",
       "      <td>2535000.0</td>\n",
       "      <td>success</td>\n",
       "      <td>USA</td>\n",
       "      <td>CA</td>\n",
       "      <td>SF Bay Area</td>\n",
       "      <td>San Francisco</td>\n",
       "      <td>2</td>\n",
       "      <td>2010-07-01</td>\n",
       "      <td>2010-01-01</td>\n",
       "      <td>2011-02-16</td>\n",
       "      <td>Internet Services</td>\n",
       "      <td>-181.0</td>\n",
       "      <td>411.0</td>\n",
       "      <td>12</td>\n",
       "      <td>North America</td>\n",
       "      <td>US</td>\n",
       "      <td>USA</td>\n",
       "      <td>United States of America</td>\n",
       "      <td>US</td>\n",
       "      <td>37.09024</td>\n",
       "      <td>-95.712891</td>\n",
       "      <td>United States</td>\n",
       "    </tr>\n",
       "  </tbody>\n",
       "</table></div>"
      ],
      "text/plain": [
       "                    permalink          name                homepage_url  \\\n",
       "0  /organization/1-mainstream  1 Mainstream  http://www.1mainstream.com   \n",
       "1  /organization/1000-markets  1000 Markets  http://www.1000markets.com   \n",
       "2  /organization/1000memories  1000memories     http://1000memories.com   \n",
       "\n",
       "                      category_list       market  funding_total_usd   status  \\\n",
       "0  Apps|Cable|Distribution|Software         Apps          5000000.0  success   \n",
       "1       Art|E-Commerce|Marketplaces          Art           500000.0  success   \n",
       "2                       Curated Web  Curated Web          2535000.0  success   \n",
       "\n",
       "  country_code_x state_code       region           city  funding_rounds  \\\n",
       "0            USA         CA  SF Bay Area      Cupertino               1   \n",
       "1            USA         WA      Seattle        Seattle               1   \n",
       "2            USA         CA  SF Bay Area  San Francisco               2   \n",
       "\n",
       "  founded_at first_funding_at last_funding_at           Industry_Group  \\\n",
       "0 2012-03-01       2015-03-17      2015-03-17                 Software   \n",
       "1 2009-01-01       2009-05-15      2009-05-15  Media and Entertainment   \n",
       "2 2010-07-01       2010-01-01      2011-02-16        Internet Services   \n",
       "\n",
       "   funding_day  funding_range_1_2  company_age Continent_Name  \\\n",
       "0       1111.0                0.0           10  North America   \n",
       "1        134.0                0.0           13  North America   \n",
       "2       -181.0              411.0           12  North America   \n",
       "\n",
       "  Two_Letter_Country_Code Three_Letter_Country_Code              Country_Name  \\\n",
       "0                      US                       USA  United States of America   \n",
       "1                      US                       USA  United States of America   \n",
       "2                      US                       USA  United States of America   \n",
       "\n",
       "  country_code_y  latitude  longitude        country  \n",
       "0             US  37.09024 -95.712891  United States  \n",
       "1             US  37.09024 -95.712891  United States  \n",
       "2             US  37.09024 -95.712891  United States  "
      ]
     },
     "execution_count": 25,
     "metadata": {},
     "output_type": "execute_result"
    }
   ],
   "source": [
    "df3a = df3.merge(country1, left_on='Two_Letter_Country_Code', right_on='country_code')\n",
    "# merging both datasets to get latitude and longitude\n",
    "df3a.head(3)"
   ]
  },
  {
   "cell_type": "code",
   "execution_count": 26,
   "id": "jMc5X1NXhqzd",
   "metadata": {
    "colab": {
     "base_uri": "https://localhost:8080/",
     "height": 206
    },
    "executionInfo": {
     "elapsed": 26,
     "status": "ok",
     "timestamp": 1637833727187,
     "user": {
      "displayName": "Tran Huy Nam",
      "photoUrl": "https://lh3.googleusercontent.com/a-/AOh14GgqMfZGpWEbv6FOhjZxevciY8lZ8ZSpthCFFDe92A=s64",
      "userId": "10623278435832509850"
     },
     "user_tz": -60
    },
    "id": "jMc5X1NXhqzd",
    "outputId": "25a144f3-3d7e-4c8b-afe5-92d0071a10d1"
   },
   "outputs": [
    {
     "data": {
      "text/html": [
       "<div><div id=dc926123-4598-4240-8a41-d8df41018275 style=\"display:none; background-color:#9D6CFF; color:white; width:200px; height:30px; padding-left:5px; border-radius:4px; flex-direction:row; justify-content:space-around; align-items:center;\" onmouseover=\"this.style.backgroundColor='#BA9BF8'\" onmouseout=\"this.style.backgroundColor='#9D6CFF'\" onclick=\"window.commands?.execute('create-mitosheet-from-dataframe-output');\">See Full Dataframe in Mito</div> <script> if (window.commands.hasCommand('create-mitosheet-from-dataframe-output')) document.getElementById('dc926123-4598-4240-8a41-d8df41018275').style.display = 'flex' </script> <table border=\"1\" class=\"dataframe\">\n",
       "  <thead>\n",
       "    <tr style=\"text-align: right;\">\n",
       "      <th></th>\n",
       "      <th>country</th>\n",
       "      <th>Two_Letter_Country_Code</th>\n",
       "      <th>Three_Letter_Country_Code</th>\n",
       "      <th>latitude</th>\n",
       "      <th>longitude</th>\n",
       "      <th>count</th>\n",
       "      <th>Country_Name</th>\n",
       "    </tr>\n",
       "  </thead>\n",
       "  <tbody>\n",
       "    <tr>\n",
       "      <th>0</th>\n",
       "      <td>Argentina</td>\n",
       "      <td>AR</td>\n",
       "      <td>ARG</td>\n",
       "      <td>-38.416097</td>\n",
       "      <td>-63.616672</td>\n",
       "      <td>24</td>\n",
       "      <td>24</td>\n",
       "    </tr>\n",
       "    <tr>\n",
       "      <th>1</th>\n",
       "      <td>Australia</td>\n",
       "      <td>AU</td>\n",
       "      <td>AUS</td>\n",
       "      <td>-25.274398</td>\n",
       "      <td>133.775136</td>\n",
       "      <td>62</td>\n",
       "      <td>62</td>\n",
       "    </tr>\n",
       "    <tr>\n",
       "      <th>2</th>\n",
       "      <td>Austria</td>\n",
       "      <td>AT</td>\n",
       "      <td>AUT</td>\n",
       "      <td>47.516231</td>\n",
       "      <td>14.550072</td>\n",
       "      <td>21</td>\n",
       "      <td>21</td>\n",
       "    </tr>\n",
       "    <tr>\n",
       "      <th>3</th>\n",
       "      <td>Bahrain</td>\n",
       "      <td>BH</td>\n",
       "      <td>BHR</td>\n",
       "      <td>25.930414</td>\n",
       "      <td>50.637772</td>\n",
       "      <td>1</td>\n",
       "      <td>1</td>\n",
       "    </tr>\n",
       "    <tr>\n",
       "      <th>4</th>\n",
       "      <td>Belarus</td>\n",
       "      <td>BY</td>\n",
       "      <td>BLR</td>\n",
       "      <td>53.709807</td>\n",
       "      <td>27.953389</td>\n",
       "      <td>1</td>\n",
       "      <td>1</td>\n",
       "    </tr>\n",
       "  </tbody>\n",
       "</table></div>"
      ],
      "text/plain": [
       "     country Two_Letter_Country_Code Three_Letter_Country_Code   latitude  \\\n",
       "0  Argentina                      AR                       ARG -38.416097   \n",
       "1  Australia                      AU                       AUS -25.274398   \n",
       "2    Austria                      AT                       AUT  47.516231   \n",
       "3    Bahrain                      BH                       BHR  25.930414   \n",
       "4    Belarus                      BY                       BLR  53.709807   \n",
       "\n",
       "    longitude  count  Country_Name  \n",
       "0  -63.616672     24            24  \n",
       "1  133.775136     62            62  \n",
       "2   14.550072     21            21  \n",
       "3   50.637772      1             1  \n",
       "4   27.953389      1             1  "
      ]
     },
     "execution_count": 26,
     "metadata": {},
     "output_type": "execute_result"
    }
   ],
   "source": [
    "df_map = df3a.copy()\n",
    "df_map = df_map.groupby([\"country\", \"Two_Letter_Country_Code\", \"Three_Letter_Country_Code\", \"latitude\", \"longitude\"])[[\"Industry_Group\", \"Country_Name\"]].count()\n",
    "df_map = df_map.reset_index()\n",
    "df_map = df_map.rename(columns = {'Industry_Group':'count'})\n",
    "df_map.head()"
   ]
  },
  {
   "cell_type": "code",
   "execution_count": 27,
   "id": "pV7gk0Kch3_J",
   "metadata": {
    "colab": {
     "base_uri": "https://localhost:8080/",
     "height": 817
    },
    "executionInfo": {
     "elapsed": 1257,
     "status": "ok",
     "timestamp": 1637833728419,
     "user": {
      "displayName": "Tran Huy Nam",
      "photoUrl": "https://lh3.googleusercontent.com/a-/AOh14GgqMfZGpWEbv6FOhjZxevciY8lZ8ZSpthCFFDe92A=s64",
      "userId": "10623278435832509850"
     },
     "user_tz": -60
    },
    "id": "pV7gk0Kch3_J",
    "outputId": "e7d46059-120c-4dbb-b385-07f6e760461d"
   },
   "outputs": [
    {
     "data": {
      "application/vnd.plotly.v1+json": {
       "config": {
        "linkText": "Export to plot.ly",
        "plotlyServerURL": "https://plot.ly",
        "showLink": false
       },
       "data": [
        {
         "hovertemplate": "count=%{marker.color}<br>latitude=%{lat}<br>longitude=%{lon}<extra></extra>",
         "lat": [
          -38.416097,
          -25.274398,
          47.516231,
          25.930414,
          53.709807,
          50.503887,
          32.321384,
          -14.235004,
          42.733883,
          56.130366,
          -35.675147,
          35.86166,
          4.570868,
          9.748917,
          45.1,
          49.817492,
          56.26392,
          13.794185,
          58.595272,
          61.92411,
          46.227638,
          42.315407,
          51.165691,
          7.946527,
          39.074208,
          22.396428,
          47.162494,
          64.963051,
          20.593684,
          -0.789275,
          53.41291,
          31.046051,
          41.87194,
          36.204824,
          30.585164,
          -0.023559,
          56.879635,
          33.854721,
          55.169438,
          49.815273,
          41.608635,
          4.210484,
          35.937496,
          23.634501,
          52.132633,
          -40.900557,
          9.081999,
          60.472024,
          30.375321,
          -9.189967,
          12.879721,
          51.919438,
          39.399872,
          61.52401,
          23.885942,
          -4.679574,
          1.352083,
          48.669026,
          46.151241,
          5.152149,
          -30.559482,
          35.907757,
          40.463667,
          60.128161,
          46.818188,
          23.69781,
          15.870032,
          38.963745,
          1.373333,
          48.379433,
          23.424076,
          55.378051,
          37.09024,
          -32.522779,
          14.058324
         ],
         "legendgroup": "",
         "lon": [
          -63.616672,
          133.775136,
          14.550072,
          50.637772,
          27.953389,
          4.469936,
          -64.75737,
          -51.92528,
          25.48583,
          -106.346771,
          -71.542969,
          104.195397,
          -74.297333,
          -83.753428,
          15.2,
          15.472962,
          9.501785,
          -88.89653,
          25.013607,
          25.748151,
          2.213749,
          43.356892,
          10.451526,
          -1.023194,
          21.824312,
          114.109497,
          19.503304,
          -19.020835,
          78.96288,
          113.921327,
          -8.24389,
          34.851612,
          12.56738,
          138.252924,
          36.238414,
          37.906193,
          24.603189,
          35.862285,
          23.881275,
          6.129583,
          21.745275,
          101.975766,
          14.375416,
          -102.552784,
          5.291266,
          174.885971,
          8.675277,
          8.468946,
          69.345116,
          -75.015152,
          121.774017,
          19.145136,
          -8.224454,
          105.318756,
          45.079162,
          55.491977,
          103.819836,
          19.699024,
          14.995463,
          46.199616,
          22.937506,
          127.766922,
          -3.74922,
          18.643501,
          8.227512,
          120.960515,
          100.992541,
          35.243322,
          32.290275,
          31.16558,
          53.847818,
          -3.435973,
          -95.712891,
          -55.765835,
          108.277199
         ],
         "marker": {
          "color": [
           24,
           62,
           21,
           1,
           1,
           28,
           2,
           55,
           5,
           287,
           13,
           120,
           5,
           1,
           1,
           6,
           35,
           1,
           7,
           24,
           144,
           2,
           136,
           1,
           3,
           15,
           3,
           2,
           105,
           9,
           45,
           170,
           32,
           44,
           1,
           1,
           2,
           3,
           3,
           5,
           1,
           10,
           1,
           13,
           51,
           15,
           3,
           14,
           7,
           4,
           5,
           9,
           5,
           224,
           2,
           1,
           44,
           3,
           1,
           1,
           8,
           21,
           76,
           52,
           39,
           2,
           2,
           24,
           1,
           4,
           6,
           392,
           6232,
           2,
           4
          ],
          "coloraxis": "coloraxis",
          "size": [
           24,
           62,
           21,
           1,
           1,
           28,
           2,
           55,
           5,
           287,
           13,
           120,
           5,
           1,
           1,
           6,
           35,
           1,
           7,
           24,
           144,
           2,
           136,
           1,
           3,
           15,
           3,
           2,
           105,
           9,
           45,
           170,
           32,
           44,
           1,
           1,
           2,
           3,
           3,
           5,
           1,
           10,
           1,
           13,
           51,
           15,
           3,
           14,
           7,
           4,
           5,
           9,
           5,
           224,
           2,
           1,
           44,
           3,
           1,
           1,
           8,
           21,
           76,
           52,
           39,
           2,
           2,
           24,
           1,
           4,
           6,
           392,
           6232,
           2,
           4
          ],
          "sizemode": "area",
          "sizeref": 2.4928
         },
         "mode": "markers",
         "name": "",
         "showlegend": false,
         "subplot": "mapbox",
         "type": "scattermapbox"
        }
       ],
       "layout": {
        "coloraxis": {
         "colorbar": {
          "title": {
           "text": "count"
          }
         },
         "colorscale": [
          [
           0,
           "rgb(150,0,90)"
          ],
          [
           0.125,
           "rgb(0,0,200)"
          ],
          [
           0.25,
           "rgb(0,25,255)"
          ],
          [
           0.375,
           "rgb(0,152,255)"
          ],
          [
           0.5,
           "rgb(44,255,150)"
          ],
          [
           0.625,
           "rgb(151,255,0)"
          ],
          [
           0.75,
           "rgb(255,234,0)"
          ],
          [
           0.875,
           "rgb(255,111,0)"
          ],
          [
           1,
           "rgb(255,0,0)"
          ]
         ]
        },
        "height": 800,
        "legend": {
         "itemsizing": "constant",
         "tracegroupgap": 0
        },
        "mapbox": {
         "center": {
          "lat": 28.438413773333334,
          "lon": 24.33864678666667
         },
         "domain": {
          "x": [
           0,
           1
          ],
          "y": [
           0,
           1
          ]
         },
         "style": "carto-positron",
         "zoom": 1
        },
        "margin": {
         "t": 60
        },
        "template": {
         "data": {
          "bar": [
           {
            "error_x": {
             "color": "#2a3f5f"
            },
            "error_y": {
             "color": "#2a3f5f"
            },
            "marker": {
             "line": {
              "color": "#E5ECF6",
              "width": 0.5
             },
             "pattern": {
              "fillmode": "overlay",
              "size": 10,
              "solidity": 0.2
             }
            },
            "type": "bar"
           }
          ],
          "barpolar": [
           {
            "marker": {
             "line": {
              "color": "#E5ECF6",
              "width": 0.5
             },
             "pattern": {
              "fillmode": "overlay",
              "size": 10,
              "solidity": 0.2
             }
            },
            "type": "barpolar"
           }
          ],
          "carpet": [
           {
            "aaxis": {
             "endlinecolor": "#2a3f5f",
             "gridcolor": "white",
             "linecolor": "white",
             "minorgridcolor": "white",
             "startlinecolor": "#2a3f5f"
            },
            "baxis": {
             "endlinecolor": "#2a3f5f",
             "gridcolor": "white",
             "linecolor": "white",
             "minorgridcolor": "white",
             "startlinecolor": "#2a3f5f"
            },
            "type": "carpet"
           }
          ],
          "choropleth": [
           {
            "colorbar": {
             "outlinewidth": 0,
             "ticks": ""
            },
            "type": "choropleth"
           }
          ],
          "contour": [
           {
            "colorbar": {
             "outlinewidth": 0,
             "ticks": ""
            },
            "colorscale": [
             [
              0,
              "#0d0887"
             ],
             [
              0.1111111111111111,
              "#46039f"
             ],
             [
              0.2222222222222222,
              "#7201a8"
             ],
             [
              0.3333333333333333,
              "#9c179e"
             ],
             [
              0.4444444444444444,
              "#bd3786"
             ],
             [
              0.5555555555555556,
              "#d8576b"
             ],
             [
              0.6666666666666666,
              "#ed7953"
             ],
             [
              0.7777777777777778,
              "#fb9f3a"
             ],
             [
              0.8888888888888888,
              "#fdca26"
             ],
             [
              1,
              "#f0f921"
             ]
            ],
            "type": "contour"
           }
          ],
          "contourcarpet": [
           {
            "colorbar": {
             "outlinewidth": 0,
             "ticks": ""
            },
            "type": "contourcarpet"
           }
          ],
          "heatmap": [
           {
            "colorbar": {
             "outlinewidth": 0,
             "ticks": ""
            },
            "colorscale": [
             [
              0,
              "#0d0887"
             ],
             [
              0.1111111111111111,
              "#46039f"
             ],
             [
              0.2222222222222222,
              "#7201a8"
             ],
             [
              0.3333333333333333,
              "#9c179e"
             ],
             [
              0.4444444444444444,
              "#bd3786"
             ],
             [
              0.5555555555555556,
              "#d8576b"
             ],
             [
              0.6666666666666666,
              "#ed7953"
             ],
             [
              0.7777777777777778,
              "#fb9f3a"
             ],
             [
              0.8888888888888888,
              "#fdca26"
             ],
             [
              1,
              "#f0f921"
             ]
            ],
            "type": "heatmap"
           }
          ],
          "heatmapgl": [
           {
            "colorbar": {
             "outlinewidth": 0,
             "ticks": ""
            },
            "colorscale": [
             [
              0,
              "#0d0887"
             ],
             [
              0.1111111111111111,
              "#46039f"
             ],
             [
              0.2222222222222222,
              "#7201a8"
             ],
             [
              0.3333333333333333,
              "#9c179e"
             ],
             [
              0.4444444444444444,
              "#bd3786"
             ],
             [
              0.5555555555555556,
              "#d8576b"
             ],
             [
              0.6666666666666666,
              "#ed7953"
             ],
             [
              0.7777777777777778,
              "#fb9f3a"
             ],
             [
              0.8888888888888888,
              "#fdca26"
             ],
             [
              1,
              "#f0f921"
             ]
            ],
            "type": "heatmapgl"
           }
          ],
          "histogram": [
           {
            "marker": {
             "pattern": {
              "fillmode": "overlay",
              "size": 10,
              "solidity": 0.2
             }
            },
            "type": "histogram"
           }
          ],
          "histogram2d": [
           {
            "colorbar": {
             "outlinewidth": 0,
             "ticks": ""
            },
            "colorscale": [
             [
              0,
              "#0d0887"
             ],
             [
              0.1111111111111111,
              "#46039f"
             ],
             [
              0.2222222222222222,
              "#7201a8"
             ],
             [
              0.3333333333333333,
              "#9c179e"
             ],
             [
              0.4444444444444444,
              "#bd3786"
             ],
             [
              0.5555555555555556,
              "#d8576b"
             ],
             [
              0.6666666666666666,
              "#ed7953"
             ],
             [
              0.7777777777777778,
              "#fb9f3a"
             ],
             [
              0.8888888888888888,
              "#fdca26"
             ],
             [
              1,
              "#f0f921"
             ]
            ],
            "type": "histogram2d"
           }
          ],
          "histogram2dcontour": [
           {
            "colorbar": {
             "outlinewidth": 0,
             "ticks": ""
            },
            "colorscale": [
             [
              0,
              "#0d0887"
             ],
             [
              0.1111111111111111,
              "#46039f"
             ],
             [
              0.2222222222222222,
              "#7201a8"
             ],
             [
              0.3333333333333333,
              "#9c179e"
             ],
             [
              0.4444444444444444,
              "#bd3786"
             ],
             [
              0.5555555555555556,
              "#d8576b"
             ],
             [
              0.6666666666666666,
              "#ed7953"
             ],
             [
              0.7777777777777778,
              "#fb9f3a"
             ],
             [
              0.8888888888888888,
              "#fdca26"
             ],
             [
              1,
              "#f0f921"
             ]
            ],
            "type": "histogram2dcontour"
           }
          ],
          "mesh3d": [
           {
            "colorbar": {
             "outlinewidth": 0,
             "ticks": ""
            },
            "type": "mesh3d"
           }
          ],
          "parcoords": [
           {
            "line": {
             "colorbar": {
              "outlinewidth": 0,
              "ticks": ""
             }
            },
            "type": "parcoords"
           }
          ],
          "pie": [
           {
            "automargin": true,
            "type": "pie"
           }
          ],
          "scatter": [
           {
            "marker": {
             "colorbar": {
              "outlinewidth": 0,
              "ticks": ""
             }
            },
            "type": "scatter"
           }
          ],
          "scatter3d": [
           {
            "line": {
             "colorbar": {
              "outlinewidth": 0,
              "ticks": ""
             }
            },
            "marker": {
             "colorbar": {
              "outlinewidth": 0,
              "ticks": ""
             }
            },
            "type": "scatter3d"
           }
          ],
          "scattercarpet": [
           {
            "marker": {
             "colorbar": {
              "outlinewidth": 0,
              "ticks": ""
             }
            },
            "type": "scattercarpet"
           }
          ],
          "scattergeo": [
           {
            "marker": {
             "colorbar": {
              "outlinewidth": 0,
              "ticks": ""
             }
            },
            "type": "scattergeo"
           }
          ],
          "scattergl": [
           {
            "marker": {
             "colorbar": {
              "outlinewidth": 0,
              "ticks": ""
             }
            },
            "type": "scattergl"
           }
          ],
          "scattermapbox": [
           {
            "marker": {
             "colorbar": {
              "outlinewidth": 0,
              "ticks": ""
             }
            },
            "type": "scattermapbox"
           }
          ],
          "scatterpolar": [
           {
            "marker": {
             "colorbar": {
              "outlinewidth": 0,
              "ticks": ""
             }
            },
            "type": "scatterpolar"
           }
          ],
          "scatterpolargl": [
           {
            "marker": {
             "colorbar": {
              "outlinewidth": 0,
              "ticks": ""
             }
            },
            "type": "scatterpolargl"
           }
          ],
          "scatterternary": [
           {
            "marker": {
             "colorbar": {
              "outlinewidth": 0,
              "ticks": ""
             }
            },
            "type": "scatterternary"
           }
          ],
          "surface": [
           {
            "colorbar": {
             "outlinewidth": 0,
             "ticks": ""
            },
            "colorscale": [
             [
              0,
              "#0d0887"
             ],
             [
              0.1111111111111111,
              "#46039f"
             ],
             [
              0.2222222222222222,
              "#7201a8"
             ],
             [
              0.3333333333333333,
              "#9c179e"
             ],
             [
              0.4444444444444444,
              "#bd3786"
             ],
             [
              0.5555555555555556,
              "#d8576b"
             ],
             [
              0.6666666666666666,
              "#ed7953"
             ],
             [
              0.7777777777777778,
              "#fb9f3a"
             ],
             [
              0.8888888888888888,
              "#fdca26"
             ],
             [
              1,
              "#f0f921"
             ]
            ],
            "type": "surface"
           }
          ],
          "table": [
           {
            "cells": {
             "fill": {
              "color": "#EBF0F8"
             },
             "line": {
              "color": "white"
             }
            },
            "header": {
             "fill": {
              "color": "#C8D4E3"
             },
             "line": {
              "color": "white"
             }
            },
            "type": "table"
           }
          ]
         },
         "layout": {
          "annotationdefaults": {
           "arrowcolor": "#2a3f5f",
           "arrowhead": 0,
           "arrowwidth": 1
          },
          "autotypenumbers": "strict",
          "coloraxis": {
           "colorbar": {
            "outlinewidth": 0,
            "ticks": ""
           }
          },
          "colorscale": {
           "diverging": [
            [
             0,
             "#8e0152"
            ],
            [
             0.1,
             "#c51b7d"
            ],
            [
             0.2,
             "#de77ae"
            ],
            [
             0.3,
             "#f1b6da"
            ],
            [
             0.4,
             "#fde0ef"
            ],
            [
             0.5,
             "#f7f7f7"
            ],
            [
             0.6,
             "#e6f5d0"
            ],
            [
             0.7,
             "#b8e186"
            ],
            [
             0.8,
             "#7fbc41"
            ],
            [
             0.9,
             "#4d9221"
            ],
            [
             1,
             "#276419"
            ]
           ],
           "sequential": [
            [
             0,
             "#0d0887"
            ],
            [
             0.1111111111111111,
             "#46039f"
            ],
            [
             0.2222222222222222,
             "#7201a8"
            ],
            [
             0.3333333333333333,
             "#9c179e"
            ],
            [
             0.4444444444444444,
             "#bd3786"
            ],
            [
             0.5555555555555556,
             "#d8576b"
            ],
            [
             0.6666666666666666,
             "#ed7953"
            ],
            [
             0.7777777777777778,
             "#fb9f3a"
            ],
            [
             0.8888888888888888,
             "#fdca26"
            ],
            [
             1,
             "#f0f921"
            ]
           ],
           "sequentialminus": [
            [
             0,
             "#0d0887"
            ],
            [
             0.1111111111111111,
             "#46039f"
            ],
            [
             0.2222222222222222,
             "#7201a8"
            ],
            [
             0.3333333333333333,
             "#9c179e"
            ],
            [
             0.4444444444444444,
             "#bd3786"
            ],
            [
             0.5555555555555556,
             "#d8576b"
            ],
            [
             0.6666666666666666,
             "#ed7953"
            ],
            [
             0.7777777777777778,
             "#fb9f3a"
            ],
            [
             0.8888888888888888,
             "#fdca26"
            ],
            [
             1,
             "#f0f921"
            ]
           ]
          },
          "colorway": [
           "#636efa",
           "#EF553B",
           "#00cc96",
           "#ab63fa",
           "#FFA15A",
           "#19d3f3",
           "#FF6692",
           "#B6E880",
           "#FF97FF",
           "#FECB52"
          ],
          "font": {
           "color": "#2a3f5f"
          },
          "geo": {
           "bgcolor": "white",
           "lakecolor": "white",
           "landcolor": "#E5ECF6",
           "showlakes": true,
           "showland": true,
           "subunitcolor": "white"
          },
          "hoverlabel": {
           "align": "left"
          },
          "hovermode": "closest",
          "mapbox": {
           "style": "light"
          },
          "paper_bgcolor": "white",
          "plot_bgcolor": "#E5ECF6",
          "polar": {
           "angularaxis": {
            "gridcolor": "white",
            "linecolor": "white",
            "ticks": ""
           },
           "bgcolor": "#E5ECF6",
           "radialaxis": {
            "gridcolor": "white",
            "linecolor": "white",
            "ticks": ""
           }
          },
          "scene": {
           "xaxis": {
            "backgroundcolor": "#E5ECF6",
            "gridcolor": "white",
            "gridwidth": 2,
            "linecolor": "white",
            "showbackground": true,
            "ticks": "",
            "zerolinecolor": "white"
           },
           "yaxis": {
            "backgroundcolor": "#E5ECF6",
            "gridcolor": "white",
            "gridwidth": 2,
            "linecolor": "white",
            "showbackground": true,
            "ticks": "",
            "zerolinecolor": "white"
           },
           "zaxis": {
            "backgroundcolor": "#E5ECF6",
            "gridcolor": "white",
            "gridwidth": 2,
            "linecolor": "white",
            "showbackground": true,
            "ticks": "",
            "zerolinecolor": "white"
           }
          },
          "shapedefaults": {
           "line": {
            "color": "#2a3f5f"
           }
          },
          "ternary": {
           "aaxis": {
            "gridcolor": "white",
            "linecolor": "white",
            "ticks": ""
           },
           "baxis": {
            "gridcolor": "white",
            "linecolor": "white",
            "ticks": ""
           },
           "bgcolor": "#E5ECF6",
           "caxis": {
            "gridcolor": "white",
            "linecolor": "white",
            "ticks": ""
           }
          },
          "title": {
           "x": 0.05
          },
          "xaxis": {
           "automargin": true,
           "gridcolor": "white",
           "linecolor": "white",
           "ticks": "",
           "title": {
            "standoff": 15
           },
           "zerolinecolor": "white",
           "zerolinewidth": 2
          },
          "yaxis": {
           "automargin": true,
           "gridcolor": "white",
           "linecolor": "white",
           "ticks": "",
           "title": {
            "standoff": 15
           },
           "zerolinecolor": "white",
           "zerolinewidth": 2
          }
         }
        }
       }
      }
     },
     "metadata": {},
     "output_type": "display_data"
    }
   ],
   "source": [
    "fig = px.scatter_mapbox(df_map, lat=\"latitude\", lon=\"longitude\",size=\"count\", color=\"count\",\n",
    "                  color_continuous_scale=px.colors.sequential.Rainbow, size_max=50,zoom=1, height=800)\n",
    "\n",
    "fig.update_layout(mapbox_style=\"carto-positron\")\n",
    "iplot(fig)"
   ]
  },
  {
   "cell_type": "markdown",
   "id": "ce9f7af1",
   "metadata": {},
   "source": [
    "![fig4](https://raw.githubusercontent.com/huynam1012/Projet_jedha/main/fig4.png)"
   ]
  },
  {
   "cell_type": "code",
   "execution_count": 28,
   "id": "db50070e",
   "metadata": {
    "colab": {
     "base_uri": "https://localhost:8080/",
     "height": 243
    },
    "executionInfo": {
     "elapsed": 36,
     "status": "ok",
     "timestamp": 1637833728421,
     "user": {
      "displayName": "Tran Huy Nam",
      "photoUrl": "https://lh3.googleusercontent.com/a-/AOh14GgqMfZGpWEbv6FOhjZxevciY8lZ8ZSpthCFFDe92A=s64",
      "userId": "10623278435832509850"
     },
     "user_tz": -60
    },
    "id": "db50070e",
    "outputId": "1af72e8c-ee7b-48bc-83ba-26d8e25b0255"
   },
   "outputs": [
    {
     "data": {
      "text/html": [
       "<div><div id=96ff7aa4-426d-49c2-a396-65962ae486ab style=\"display:none; background-color:#9D6CFF; color:white; width:200px; height:30px; padding-left:5px; border-radius:4px; flex-direction:row; justify-content:space-around; align-items:center;\" onmouseover=\"this.style.backgroundColor='#BA9BF8'\" onmouseout=\"this.style.backgroundColor='#9D6CFF'\" onclick=\"window.commands?.execute('create-mitosheet-from-dataframe-output');\">See Full Dataframe in Mito</div> <script> if (window.commands.hasCommand('create-mitosheet-from-dataframe-output')) document.getElementById('96ff7aa4-426d-49c2-a396-65962ae486ab').style.display = 'flex' </script> <table border=\"1\" class=\"dataframe\">\n",
       "  <thead>\n",
       "    <tr style=\"text-align: right;\">\n",
       "      <th></th>\n",
       "      <th>name</th>\n",
       "      <th>funding_total_usd</th>\n",
       "      <th>status</th>\n",
       "      <th>funding_rounds</th>\n",
       "      <th>Industry_Group</th>\n",
       "      <th>funding_day</th>\n",
       "      <th>funding_range_1_2</th>\n",
       "      <th>company_age</th>\n",
       "      <th>Continent_Name</th>\n",
       "    </tr>\n",
       "  </thead>\n",
       "  <tbody>\n",
       "    <tr>\n",
       "      <th>0</th>\n",
       "      <td>1 Mainstream</td>\n",
       "      <td>5000000.0</td>\n",
       "      <td>success</td>\n",
       "      <td>1</td>\n",
       "      <td>Software</td>\n",
       "      <td>1111.0</td>\n",
       "      <td>0.0</td>\n",
       "      <td>10</td>\n",
       "      <td>North America</td>\n",
       "    </tr>\n",
       "    <tr>\n",
       "      <th>1</th>\n",
       "      <td>1000 Markets</td>\n",
       "      <td>500000.0</td>\n",
       "      <td>success</td>\n",
       "      <td>1</td>\n",
       "      <td>Media and Entertainment</td>\n",
       "      <td>134.0</td>\n",
       "      <td>0.0</td>\n",
       "      <td>13</td>\n",
       "      <td>North America</td>\n",
       "    </tr>\n",
       "    <tr>\n",
       "      <th>2</th>\n",
       "      <td>1000memories</td>\n",
       "      <td>2535000.0</td>\n",
       "      <td>success</td>\n",
       "      <td>2</td>\n",
       "      <td>Internet Services</td>\n",
       "      <td>-181.0</td>\n",
       "      <td>411.0</td>\n",
       "      <td>12</td>\n",
       "      <td>North America</td>\n",
       "    </tr>\n",
       "    <tr>\n",
       "      <th>3</th>\n",
       "      <td>100Plus</td>\n",
       "      <td>1250000.0</td>\n",
       "      <td>success</td>\n",
       "      <td>2</td>\n",
       "      <td>Data and Analytics</td>\n",
       "      <td>47.0</td>\n",
       "      <td>28.0</td>\n",
       "      <td>11</td>\n",
       "      <td>North America</td>\n",
       "    </tr>\n",
       "    <tr>\n",
       "      <th>4</th>\n",
       "      <td>1010data</td>\n",
       "      <td>35000000.0</td>\n",
       "      <td>success</td>\n",
       "      <td>1</td>\n",
       "      <td>Software</td>\n",
       "      <td>3719.0</td>\n",
       "      <td>0.0</td>\n",
       "      <td>22</td>\n",
       "      <td>North America</td>\n",
       "    </tr>\n",
       "  </tbody>\n",
       "</table></div>"
      ],
      "text/plain": [
       "           name  funding_total_usd   status  funding_rounds  \\\n",
       "0  1 Mainstream          5000000.0  success               1   \n",
       "1  1000 Markets           500000.0  success               1   \n",
       "2  1000memories          2535000.0  success               2   \n",
       "3       100Plus          1250000.0  success               2   \n",
       "4      1010data         35000000.0  success               1   \n",
       "\n",
       "            Industry_Group  funding_day  funding_range_1_2  company_age  \\\n",
       "0                 Software       1111.0                0.0           10   \n",
       "1  Media and Entertainment        134.0                0.0           13   \n",
       "2        Internet Services       -181.0              411.0           12   \n",
       "3       Data and Analytics         47.0               28.0           11   \n",
       "4                 Software       3719.0                0.0           22   \n",
       "\n",
       "  Continent_Name  \n",
       "0  North America  \n",
       "1  North America  \n",
       "2  North America  \n",
       "3  North America  \n",
       "4  North America  "
      ]
     },
     "execution_count": 28,
     "metadata": {},
     "output_type": "execute_result"
    }
   ],
   "source": [
    "usefull_cols = ['name', 'funding_total_usd', 'status', 'funding_rounds', 'Industry_Group', 'funding_day', \n",
    "                'funding_range_1_2', 'company_age', 'Continent_Name']\n",
    "df4 = df3[usefull_cols]\n",
    "df4.head(5)"
   ]
  },
  {
   "cell_type": "code",
   "execution_count": 29,
   "id": "db5b47b9",
   "metadata": {
    "executionInfo": {
     "elapsed": 34,
     "status": "ok",
     "timestamp": 1637833728422,
     "user": {
      "displayName": "Tran Huy Nam",
      "photoUrl": "https://lh3.googleusercontent.com/a-/AOh14GgqMfZGpWEbv6FOhjZxevciY8lZ8ZSpthCFFDe92A=s64",
      "userId": "10623278435832509850"
     },
     "user_tz": -60
    },
    "id": "db5b47b9"
   },
   "outputs": [],
   "source": [
    "df4.to_csv(\"data_ML.csv\")"
   ]
  },
  {
   "cell_type": "markdown",
   "id": "6e2acc90",
   "metadata": {
    "id": "6e2acc90"
   },
   "source": [
    "## Data viz"
   ]
  },
  {
   "cell_type": "code",
   "execution_count": 30,
   "id": "b94a6644",
   "metadata": {
    "colab": {
     "base_uri": "https://localhost:8080/",
     "height": 243
    },
    "executionInfo": {
     "elapsed": 35,
     "status": "ok",
     "timestamp": 1637833728424,
     "user": {
      "displayName": "Tran Huy Nam",
      "photoUrl": "https://lh3.googleusercontent.com/a-/AOh14GgqMfZGpWEbv6FOhjZxevciY8lZ8ZSpthCFFDe92A=s64",
      "userId": "10623278435832509850"
     },
     "user_tz": -60
    },
    "id": "b94a6644",
    "outputId": "2c72a8e8-8986-4b9e-e84f-850eb2c92695"
   },
   "outputs": [
    {
     "data": {
      "text/html": [
       "<div><div id=ddfd3553-4f47-4639-9a8f-2da69befa590 style=\"display:none; background-color:#9D6CFF; color:white; width:200px; height:30px; padding-left:5px; border-radius:4px; flex-direction:row; justify-content:space-around; align-items:center;\" onmouseover=\"this.style.backgroundColor='#BA9BF8'\" onmouseout=\"this.style.backgroundColor='#9D6CFF'\" onclick=\"window.commands?.execute('create-mitosheet-from-dataframe-output');\">See Full Dataframe in Mito</div> <script> if (window.commands.hasCommand('create-mitosheet-from-dataframe-output')) document.getElementById('ddfd3553-4f47-4639-9a8f-2da69befa590').style.display = 'flex' </script> <table border=\"1\" class=\"dataframe\">\n",
       "  <thead>\n",
       "    <tr style=\"text-align: right;\">\n",
       "      <th></th>\n",
       "      <th>name</th>\n",
       "      <th>funding_total_usd</th>\n",
       "      <th>status</th>\n",
       "      <th>funding_rounds</th>\n",
       "      <th>Industry_Group</th>\n",
       "      <th>funding_day</th>\n",
       "      <th>funding_range_1_2</th>\n",
       "      <th>company_age</th>\n",
       "      <th>Continent_Name</th>\n",
       "    </tr>\n",
       "  </thead>\n",
       "  <tbody>\n",
       "    <tr>\n",
       "      <th>0</th>\n",
       "      <td>1 Mainstream</td>\n",
       "      <td>5000000.0</td>\n",
       "      <td>success</td>\n",
       "      <td>1</td>\n",
       "      <td>Software</td>\n",
       "      <td>1111.0</td>\n",
       "      <td>0.0</td>\n",
       "      <td>10</td>\n",
       "      <td>North America</td>\n",
       "    </tr>\n",
       "    <tr>\n",
       "      <th>1</th>\n",
       "      <td>1000 Markets</td>\n",
       "      <td>500000.0</td>\n",
       "      <td>success</td>\n",
       "      <td>1</td>\n",
       "      <td>Media and Entertainment</td>\n",
       "      <td>134.0</td>\n",
       "      <td>0.0</td>\n",
       "      <td>13</td>\n",
       "      <td>North America</td>\n",
       "    </tr>\n",
       "    <tr>\n",
       "      <th>2</th>\n",
       "      <td>1000memories</td>\n",
       "      <td>2535000.0</td>\n",
       "      <td>success</td>\n",
       "      <td>2</td>\n",
       "      <td>Internet Services</td>\n",
       "      <td>0.0</td>\n",
       "      <td>411.0</td>\n",
       "      <td>12</td>\n",
       "      <td>North America</td>\n",
       "    </tr>\n",
       "    <tr>\n",
       "      <th>3</th>\n",
       "      <td>100Plus</td>\n",
       "      <td>1250000.0</td>\n",
       "      <td>success</td>\n",
       "      <td>2</td>\n",
       "      <td>Data and Analytics</td>\n",
       "      <td>47.0</td>\n",
       "      <td>28.0</td>\n",
       "      <td>11</td>\n",
       "      <td>North America</td>\n",
       "    </tr>\n",
       "    <tr>\n",
       "      <th>4</th>\n",
       "      <td>1010data</td>\n",
       "      <td>35000000.0</td>\n",
       "      <td>success</td>\n",
       "      <td>1</td>\n",
       "      <td>Software</td>\n",
       "      <td>3719.0</td>\n",
       "      <td>0.0</td>\n",
       "      <td>22</td>\n",
       "      <td>North America</td>\n",
       "    </tr>\n",
       "  </tbody>\n",
       "</table></div>"
      ],
      "text/plain": [
       "           name  funding_total_usd   status  funding_rounds  \\\n",
       "0  1 Mainstream          5000000.0  success               1   \n",
       "1  1000 Markets           500000.0  success               1   \n",
       "2  1000memories          2535000.0  success               2   \n",
       "3       100Plus          1250000.0  success               2   \n",
       "4      1010data         35000000.0  success               1   \n",
       "\n",
       "            Industry_Group  funding_day  funding_range_1_2  company_age  \\\n",
       "0                 Software       1111.0                0.0           10   \n",
       "1  Media and Entertainment        134.0                0.0           13   \n",
       "2        Internet Services          0.0              411.0           12   \n",
       "3       Data and Analytics         47.0               28.0           11   \n",
       "4                 Software       3719.0                0.0           22   \n",
       "\n",
       "  Continent_Name  \n",
       "0  North America  \n",
       "1  North America  \n",
       "2  North America  \n",
       "3  North America  \n",
       "4  North America  "
      ]
     },
     "execution_count": 30,
     "metadata": {},
     "output_type": "execute_result"
    }
   ],
   "source": [
    "df4 = pd.read_csv(\"data_ML.csv\").drop('Unnamed: 0', axis = 'columns')\n",
    "df4[\"funding_day\"] = df4[\"funding_day\"].mask(df4[\"funding_day\"] < 0, 0)\n",
    "df4.head(5)"
   ]
  },
  {
   "cell_type": "code",
   "execution_count": 31,
   "id": "74918249",
   "metadata": {
    "colab": {
     "base_uri": "https://localhost:8080/"
    },
    "executionInfo": {
     "elapsed": 33,
     "status": "ok",
     "timestamp": 1637833728424,
     "user": {
      "displayName": "Tran Huy Nam",
      "photoUrl": "https://lh3.googleusercontent.com/a-/AOh14GgqMfZGpWEbv6FOhjZxevciY8lZ8ZSpthCFFDe92A=s64",
      "userId": "10623278435832509850"
     },
     "user_tz": -60
    },
    "id": "74918249",
    "outputId": "3e60e784-d4e4-4155-d257-1cfd8d3e4e66"
   },
   "outputs": [
    {
     "data": {
      "text/plain": [
       "success    5330\n",
       "failure    3376\n",
       "Name: status, dtype: int64"
      ]
     },
     "execution_count": 31,
     "metadata": {},
     "output_type": "execute_result"
    }
   ],
   "source": [
    "df4[\"status\"].value_counts()"
   ]
  },
  {
   "cell_type": "markdown",
   "id": "fa01a02d",
   "metadata": {
    "id": "fa01a02d"
   },
   "source": [
    "https://www.spglobal.com/marketintelligence/en/documents/112727-gics-mapbook_2018_v3_letter_digitalspreads.pdf"
   ]
  },
  {
   "cell_type": "code",
   "execution_count": 32,
   "id": "f51a6a86",
   "metadata": {
    "executionInfo": {
     "elapsed": 23,
     "status": "ok",
     "timestamp": 1637833728426,
     "user": {
      "displayName": "Tran Huy Nam",
      "photoUrl": "https://lh3.googleusercontent.com/a-/AOh14GgqMfZGpWEbv6FOhjZxevciY8lZ8ZSpthCFFDe92A=s64",
      "userId": "10623278435832509850"
     },
     "user_tz": -60
    },
    "id": "f51a6a86"
   },
   "outputs": [],
   "source": [
    "df4[\"Industry_Group\"] = df4[\"Industry_Group\"].replace([\"Software\", \"Internet Services\", \"Information Technology\", \"Hardware\"], 'Information Technology')\n",
    "df4[\"Industry_Group\"] = df4[\"Industry_Group\"].replace([\"Data and Analytics\",\"Artificial Intelligence\"], 'Data Science')\n",
    "df4[\"Industry_Group\"] = df4[\"Industry_Group\"].replace([\"Science and Engineering\", \"Energy\"], 'Science & Engineering')\n",
    "df4[\"Industry_Group\"] = df4[\"Industry_Group\"].replace([\"Health Care\", \"Biotechnology\"], 'Health Care & Biotechnology')\n",
    "df4[\"Industry_Group\"] = df4[\"Industry_Group\"].replace([\"Administrative Services\", \"Financial Services\", \"Professional Services\"], 'Services')\n",
    "df4[\"Industry_Group\"] = df4[\"Industry_Group\"].replace([\"Gaming\", \"Apps\"], 'Game & Applications')\n",
    "df4[\"Industry_Group\"] = df4[\"Industry_Group\"].replace([\"Food and Beverage\", \"Agriculture and Farming\"], 'Food & Agriculture')\n",
    "df4[\"Industry_Group\"] = df4[\"Industry_Group\"].replace([\"Advertising\", \"Media and Entertainment\", \"Content and Publishing\"], 'Media & Publishing')\n",
    "df4[\"Industry_Group\"] = df4[\"Industry_Group\"].replace([\"Mobile\", \"Consumer Electronics\"], 'Electronics')\n",
    "df4[\"Industry_Group\"] = df4[\"Industry_Group\"].replace([\"Commerce and Shopping\", \"Sales and Marketing\"], 'Commerce & Marketing')\n",
    "df4[\"Industry_Group\"] = df4[\"Industry_Group\"].replace([\"Design\", \"Platforms\"], 'Design & Platforms')\n"
   ]
  },
  {
   "cell_type": "code",
   "execution_count": 33,
   "id": "6e4a8f73",
   "metadata": {
    "colab": {
     "base_uri": "https://localhost:8080/"
    },
    "executionInfo": {
     "elapsed": 75,
     "status": "ok",
     "timestamp": 1637833728832,
     "user": {
      "displayName": "Tran Huy Nam",
      "photoUrl": "https://lh3.googleusercontent.com/a-/AOh14GgqMfZGpWEbv6FOhjZxevciY8lZ8ZSpthCFFDe92A=s64",
      "userId": "10623278435832509850"
     },
     "user_tz": -60
    },
    "id": "6e4a8f73",
    "outputId": "861c0573-f261-4b3a-f1fe-d95b9ea2a775"
   },
   "outputs": [
    {
     "data": {
      "text/plain": [
       "Information Technology             2964\n",
       "Media & Publishing                 1083\n",
       "Health Care & Biotechnology        1050\n",
       "Services                            753\n",
       "Commerce & Marketing                549\n",
       "Electronics                         441\n",
       "Data Science                        328\n",
       "Game & Applications                 275\n",
       "Other                               223\n",
       "Community and Lifestyle             184\n",
       "Privacy and Security                146\n",
       "Education                           104\n",
       "Transportation                       84\n",
       "Design & Platforms                   76\n",
       "Manufacturing                        71\n",
       "Real Estate                          63\n",
       "Consumer Goods                       58\n",
       "Travel and Tourism                   48\n",
       "Science & Engineering                38\n",
       "Clothing and Apparel                 37\n",
       "Sports                               30\n",
       "Events                               30\n",
       "Messaging and Telecommunication      24\n",
       "Food & Agriculture                   22\n",
       "Government and Military               8\n",
       "Sustainability                        8\n",
       "Navigation and Mapping                6\n",
       "Natural Resources                     3\n",
       "Name: Industry_Group, dtype: int64"
      ]
     },
     "execution_count": 33,
     "metadata": {},
     "output_type": "execute_result"
    }
   ],
   "source": [
    "df4[\"Industry_Group\"].value_counts()"
   ]
  },
  {
   "cell_type": "code",
   "execution_count": 34,
   "id": "173d4827",
   "metadata": {
    "colab": {
     "base_uri": "https://localhost:8080/",
     "height": 167
    },
    "executionInfo": {
     "elapsed": 64,
     "status": "ok",
     "timestamp": 1637833728833,
     "user": {
      "displayName": "Tran Huy Nam",
      "photoUrl": "https://lh3.googleusercontent.com/a-/AOh14GgqMfZGpWEbv6FOhjZxevciY8lZ8ZSpthCFFDe92A=s64",
      "userId": "10623278435832509850"
     },
     "user_tz": -60
    },
    "id": "173d4827",
    "outputId": "d58c2668-127e-4fbe-c19c-a3c9c96c86d9"
   },
   "outputs": [
    {
     "data": {
      "text/html": [
       "<div><div id=9b45073c-ef34-40b6-b3d0-032896b1b826 style=\"display:none; background-color:#9D6CFF; color:white; width:200px; height:30px; padding-left:5px; border-radius:4px; flex-direction:row; justify-content:space-around; align-items:center;\" onmouseover=\"this.style.backgroundColor='#BA9BF8'\" onmouseout=\"this.style.backgroundColor='#9D6CFF'\" onclick=\"window.commands?.execute('create-mitosheet-from-dataframe-output');\">See Full Dataframe in Mito</div> <script> if (window.commands.hasCommand('create-mitosheet-from-dataframe-output')) document.getElementById('9b45073c-ef34-40b6-b3d0-032896b1b826').style.display = 'flex' </script> <table border=\"1\" class=\"dataframe\">\n",
       "  <thead>\n",
       "    <tr style=\"text-align: right;\">\n",
       "      <th></th>\n",
       "      <th>name</th>\n",
       "      <th>funding_total_usd</th>\n",
       "      <th>status</th>\n",
       "      <th>funding_rounds</th>\n",
       "      <th>Industry_Group</th>\n",
       "      <th>funding_day</th>\n",
       "      <th>funding_range_1_2</th>\n",
       "      <th>company_age</th>\n",
       "      <th>Continent_Name</th>\n",
       "    </tr>\n",
       "  </thead>\n",
       "  <tbody>\n",
       "    <tr>\n",
       "      <th>0</th>\n",
       "      <td>1 Mainstream</td>\n",
       "      <td>5000000.0</td>\n",
       "      <td>success</td>\n",
       "      <td>1</td>\n",
       "      <td>Information Technology</td>\n",
       "      <td>1111.0</td>\n",
       "      <td>0.0</td>\n",
       "      <td>10</td>\n",
       "      <td>North America</td>\n",
       "    </tr>\n",
       "    <tr>\n",
       "      <th>1</th>\n",
       "      <td>1000 Markets</td>\n",
       "      <td>500000.0</td>\n",
       "      <td>success</td>\n",
       "      <td>1</td>\n",
       "      <td>Media &amp; Publishing</td>\n",
       "      <td>134.0</td>\n",
       "      <td>0.0</td>\n",
       "      <td>13</td>\n",
       "      <td>North America</td>\n",
       "    </tr>\n",
       "  </tbody>\n",
       "</table></div>"
      ],
      "text/plain": [
       "           name  funding_total_usd   status  funding_rounds  \\\n",
       "0  1 Mainstream          5000000.0  success               1   \n",
       "1  1000 Markets           500000.0  success               1   \n",
       "\n",
       "           Industry_Group  funding_day  funding_range_1_2  company_age  \\\n",
       "0  Information Technology       1111.0                0.0           10   \n",
       "1      Media & Publishing        134.0                0.0           13   \n",
       "\n",
       "  Continent_Name  \n",
       "0  North America  \n",
       "1  North America  "
      ]
     },
     "execution_count": 34,
     "metadata": {},
     "output_type": "execute_result"
    }
   ],
   "source": [
    "df4.head(2)"
   ]
  },
  {
   "cell_type": "code",
   "execution_count": 35,
   "id": "680a28a1",
   "metadata": {
    "executionInfo": {
     "elapsed": 63,
     "status": "ok",
     "timestamp": 1637833728834,
     "user": {
      "displayName": "Tran Huy Nam",
      "photoUrl": "https://lh3.googleusercontent.com/a-/AOh14GgqMfZGpWEbv6FOhjZxevciY8lZ8ZSpthCFFDe92A=s64",
      "userId": "10623278435832509850"
     },
     "user_tz": -60
    },
    "id": "680a28a1"
   },
   "outputs": [],
   "source": [
    "df4.to_csv(\"data_ML_avec_outliers.csv\")"
   ]
  },
  {
   "cell_type": "code",
   "execution_count": 36,
   "id": "f6c13b0d",
   "metadata": {
    "executionInfo": {
     "elapsed": 64,
     "status": "ok",
     "timestamp": 1637833728836,
     "user": {
      "displayName": "Tran Huy Nam",
      "photoUrl": "https://lh3.googleusercontent.com/a-/AOh14GgqMfZGpWEbv6FOhjZxevciY8lZ8ZSpthCFFDe92A=s64",
      "userId": "10623278435832509850"
     },
     "user_tz": -60
    },
    "id": "f6c13b0d"
   },
   "outputs": [],
   "source": [
    "cols1 = [\"funding_total_usd\",\"funding_rounds\",\"funding_day\",\"funding_range_1_2\", \"company_age\"]\n",
    "for k in df4[cols1]:\n",
    "    factor = 3 #The optimal value for this parameter can be later determined though the cross-validation \n",
    "    upper_limit = df4[k].mean() + df4[k].std()*factor \n",
    "    lower_limit = df4[k].mean() - df4[k].std()*factor\n",
    "    df4 = df4[(df4[k] < upper_limit) & (df4[k] > lower_limit)]"
   ]
  },
  {
   "cell_type": "code",
   "execution_count": 37,
   "id": "1611892a",
   "metadata": {
    "colab": {
     "base_uri": "https://localhost:8080/"
    },
    "executionInfo": {
     "elapsed": 62,
     "status": "ok",
     "timestamp": 1637833728836,
     "user": {
      "displayName": "Tran Huy Nam",
      "photoUrl": "https://lh3.googleusercontent.com/a-/AOh14GgqMfZGpWEbv6FOhjZxevciY8lZ8ZSpthCFFDe92A=s64",
      "userId": "10623278435832509850"
     },
     "user_tz": -60
    },
    "id": "1611892a",
    "outputId": "5a2ff8ad-8e4b-4d15-cc15-8711dac6a8db"
   },
   "outputs": [
    {
     "data": {
      "text/plain": [
       "success    4839\n",
       "failure    3286\n",
       "Name: status, dtype: int64"
      ]
     },
     "execution_count": 37,
     "metadata": {},
     "output_type": "execute_result"
    }
   ],
   "source": [
    "df4[\"status\"].value_counts(dropna=False)"
   ]
  },
  {
   "cell_type": "code",
   "execution_count": 38,
   "id": "a3faa481",
   "metadata": {
    "executionInfo": {
     "elapsed": 53,
     "status": "ok",
     "timestamp": 1637833728837,
     "user": {
      "displayName": "Tran Huy Nam",
      "photoUrl": "https://lh3.googleusercontent.com/a-/AOh14GgqMfZGpWEbv6FOhjZxevciY8lZ8ZSpthCFFDe92A=s64",
      "userId": "10623278435832509850"
     },
     "user_tz": -60
    },
    "id": "a3faa481"
   },
   "outputs": [],
   "source": [
    "df4.to_csv(\"data_ML_sans_outliers.csv\")"
   ]
  },
  {
   "cell_type": "code",
   "execution_count": 39,
   "id": "1046cfaa",
   "metadata": {
    "colab": {
     "base_uri": "https://localhost:8080/",
     "height": 295
    },
    "executionInfo": {
     "elapsed": 54,
     "status": "ok",
     "timestamp": 1637833728839,
     "user": {
      "displayName": "Tran Huy Nam",
      "photoUrl": "https://lh3.googleusercontent.com/a-/AOh14GgqMfZGpWEbv6FOhjZxevciY8lZ8ZSpthCFFDe92A=s64",
      "userId": "10623278435832509850"
     },
     "user_tz": -60
    },
    "id": "1046cfaa",
    "outputId": "010ceeff-851a-4774-c63c-d7e17cb49937"
   },
   "outputs": [
    {
     "data": {
      "text/html": [
       "<div><div id=d2d2f992-22b6-4722-a6e0-6e4697d3a790 style=\"display:none; background-color:#9D6CFF; color:white; width:200px; height:30px; padding-left:5px; border-radius:4px; flex-direction:row; justify-content:space-around; align-items:center;\" onmouseover=\"this.style.backgroundColor='#BA9BF8'\" onmouseout=\"this.style.backgroundColor='#9D6CFF'\" onclick=\"window.commands?.execute('create-mitosheet-from-dataframe-output');\">See Full Dataframe in Mito</div> <script> if (window.commands.hasCommand('create-mitosheet-from-dataframe-output')) document.getElementById('d2d2f992-22b6-4722-a6e0-6e4697d3a790').style.display = 'flex' </script> <table border=\"1\" class=\"dataframe\">\n",
       "  <thead>\n",
       "    <tr style=\"text-align: right;\">\n",
       "      <th></th>\n",
       "      <th>name</th>\n",
       "      <th>funding_total_usd</th>\n",
       "      <th>status</th>\n",
       "      <th>funding_rounds</th>\n",
       "      <th>Industry_Group</th>\n",
       "      <th>funding_day</th>\n",
       "      <th>funding_range_1_2</th>\n",
       "      <th>company_age</th>\n",
       "      <th>Continent_Name</th>\n",
       "    </tr>\n",
       "  </thead>\n",
       "  <tbody>\n",
       "    <tr>\n",
       "      <th>0</th>\n",
       "      <td>1 Mainstream</td>\n",
       "      <td>5000000.0</td>\n",
       "      <td>success</td>\n",
       "      <td>1</td>\n",
       "      <td>Information Technology</td>\n",
       "      <td>1111.0</td>\n",
       "      <td>0.0</td>\n",
       "      <td>10</td>\n",
       "      <td>North America</td>\n",
       "    </tr>\n",
       "    <tr>\n",
       "      <th>1</th>\n",
       "      <td>1000 Markets</td>\n",
       "      <td>500000.0</td>\n",
       "      <td>success</td>\n",
       "      <td>1</td>\n",
       "      <td>Media &amp; Publishing</td>\n",
       "      <td>134.0</td>\n",
       "      <td>0.0</td>\n",
       "      <td>13</td>\n",
       "      <td>North America</td>\n",
       "    </tr>\n",
       "    <tr>\n",
       "      <th>2</th>\n",
       "      <td>1000memories</td>\n",
       "      <td>2535000.0</td>\n",
       "      <td>success</td>\n",
       "      <td>2</td>\n",
       "      <td>Information Technology</td>\n",
       "      <td>0.0</td>\n",
       "      <td>411.0</td>\n",
       "      <td>12</td>\n",
       "      <td>North America</td>\n",
       "    </tr>\n",
       "    <tr>\n",
       "      <th>3</th>\n",
       "      <td>100Plus</td>\n",
       "      <td>1250000.0</td>\n",
       "      <td>success</td>\n",
       "      <td>2</td>\n",
       "      <td>Data Science</td>\n",
       "      <td>47.0</td>\n",
       "      <td>28.0</td>\n",
       "      <td>11</td>\n",
       "      <td>North America</td>\n",
       "    </tr>\n",
       "    <tr>\n",
       "      <th>4</th>\n",
       "      <td>1010data</td>\n",
       "      <td>35000000.0</td>\n",
       "      <td>success</td>\n",
       "      <td>1</td>\n",
       "      <td>Information Technology</td>\n",
       "      <td>3719.0</td>\n",
       "      <td>0.0</td>\n",
       "      <td>22</td>\n",
       "      <td>North America</td>\n",
       "    </tr>\n",
       "  </tbody>\n",
       "</table></div>"
      ],
      "text/plain": [
       "           name  funding_total_usd   status  funding_rounds  \\\n",
       "0  1 Mainstream          5000000.0  success               1   \n",
       "1  1000 Markets           500000.0  success               1   \n",
       "2  1000memories          2535000.0  success               2   \n",
       "3       100Plus          1250000.0  success               2   \n",
       "4      1010data         35000000.0  success               1   \n",
       "\n",
       "           Industry_Group  funding_day  funding_range_1_2  company_age  \\\n",
       "0  Information Technology       1111.0                0.0           10   \n",
       "1      Media & Publishing        134.0                0.0           13   \n",
       "2  Information Technology          0.0              411.0           12   \n",
       "3            Data Science         47.0               28.0           11   \n",
       "4  Information Technology       3719.0                0.0           22   \n",
       "\n",
       "  Continent_Name  \n",
       "0  North America  \n",
       "1  North America  \n",
       "2  North America  \n",
       "3  North America  \n",
       "4  North America  "
      ]
     },
     "execution_count": 39,
     "metadata": {},
     "output_type": "execute_result"
    }
   ],
   "source": [
    "df_sans_outliers = pd.read_csv(\"data_ML_sans_outliers.csv\").drop('Unnamed: 0', axis = 'columns')\n",
    "df_sans_outliers.head(5)"
   ]
  },
  {
   "cell_type": "code",
   "execution_count": 40,
   "id": "842de810",
   "metadata": {
    "colab": {
     "base_uri": "https://localhost:8080/",
     "height": 295
    },
    "executionInfo": {
     "elapsed": 52,
     "status": "ok",
     "timestamp": 1637833728840,
     "user": {
      "displayName": "Tran Huy Nam",
      "photoUrl": "https://lh3.googleusercontent.com/a-/AOh14GgqMfZGpWEbv6FOhjZxevciY8lZ8ZSpthCFFDe92A=s64",
      "userId": "10623278435832509850"
     },
     "user_tz": -60
    },
    "id": "842de810",
    "outputId": "c9d92f58-c57b-4f7c-cbb8-bf1e8e4dc4fc"
   },
   "outputs": [
    {
     "data": {
      "text/html": [
       "<div><div id=52b04fe7-caa2-4aae-a839-f8982a592fa8 style=\"display:none; background-color:#9D6CFF; color:white; width:200px; height:30px; padding-left:5px; border-radius:4px; flex-direction:row; justify-content:space-around; align-items:center;\" onmouseover=\"this.style.backgroundColor='#BA9BF8'\" onmouseout=\"this.style.backgroundColor='#9D6CFF'\" onclick=\"window.commands?.execute('create-mitosheet-from-dataframe-output');\">See Full Dataframe in Mito</div> <script> if (window.commands.hasCommand('create-mitosheet-from-dataframe-output')) document.getElementById('52b04fe7-caa2-4aae-a839-f8982a592fa8').style.display = 'flex' </script> <table border=\"1\" class=\"dataframe\">\n",
       "  <thead>\n",
       "    <tr style=\"text-align: right;\">\n",
       "      <th></th>\n",
       "      <th>name</th>\n",
       "      <th>funding_total_usd</th>\n",
       "      <th>status</th>\n",
       "      <th>funding_rounds</th>\n",
       "      <th>Industry_Group</th>\n",
       "      <th>funding_day</th>\n",
       "      <th>funding_range_1_2</th>\n",
       "      <th>company_age</th>\n",
       "      <th>Continent_Name</th>\n",
       "    </tr>\n",
       "  </thead>\n",
       "  <tbody>\n",
       "    <tr>\n",
       "      <th>0</th>\n",
       "      <td>1 Mainstream</td>\n",
       "      <td>5000000.0</td>\n",
       "      <td>success</td>\n",
       "      <td>1</td>\n",
       "      <td>Information Technology</td>\n",
       "      <td>1111.0</td>\n",
       "      <td>0.0</td>\n",
       "      <td>10</td>\n",
       "      <td>North America</td>\n",
       "    </tr>\n",
       "    <tr>\n",
       "      <th>1</th>\n",
       "      <td>1000 Markets</td>\n",
       "      <td>500000.0</td>\n",
       "      <td>success</td>\n",
       "      <td>1</td>\n",
       "      <td>Media &amp; Publishing</td>\n",
       "      <td>134.0</td>\n",
       "      <td>0.0</td>\n",
       "      <td>13</td>\n",
       "      <td>North America</td>\n",
       "    </tr>\n",
       "    <tr>\n",
       "      <th>2</th>\n",
       "      <td>1000memories</td>\n",
       "      <td>2535000.0</td>\n",
       "      <td>success</td>\n",
       "      <td>2</td>\n",
       "      <td>Information Technology</td>\n",
       "      <td>0.0</td>\n",
       "      <td>411.0</td>\n",
       "      <td>12</td>\n",
       "      <td>North America</td>\n",
       "    </tr>\n",
       "    <tr>\n",
       "      <th>3</th>\n",
       "      <td>100Plus</td>\n",
       "      <td>1250000.0</td>\n",
       "      <td>success</td>\n",
       "      <td>2</td>\n",
       "      <td>Data Science</td>\n",
       "      <td>47.0</td>\n",
       "      <td>28.0</td>\n",
       "      <td>11</td>\n",
       "      <td>North America</td>\n",
       "    </tr>\n",
       "    <tr>\n",
       "      <th>4</th>\n",
       "      <td>1010data</td>\n",
       "      <td>35000000.0</td>\n",
       "      <td>success</td>\n",
       "      <td>1</td>\n",
       "      <td>Information Technology</td>\n",
       "      <td>3719.0</td>\n",
       "      <td>0.0</td>\n",
       "      <td>22</td>\n",
       "      <td>North America</td>\n",
       "    </tr>\n",
       "  </tbody>\n",
       "</table></div>"
      ],
      "text/plain": [
       "           name  funding_total_usd   status  funding_rounds  \\\n",
       "0  1 Mainstream          5000000.0  success               1   \n",
       "1  1000 Markets           500000.0  success               1   \n",
       "2  1000memories          2535000.0  success               2   \n",
       "3       100Plus          1250000.0  success               2   \n",
       "4      1010data         35000000.0  success               1   \n",
       "\n",
       "           Industry_Group  funding_day  funding_range_1_2  company_age  \\\n",
       "0  Information Technology       1111.0                0.0           10   \n",
       "1      Media & Publishing        134.0                0.0           13   \n",
       "2  Information Technology          0.0              411.0           12   \n",
       "3            Data Science         47.0               28.0           11   \n",
       "4  Information Technology       3719.0                0.0           22   \n",
       "\n",
       "  Continent_Name  \n",
       "0  North America  \n",
       "1  North America  \n",
       "2  North America  \n",
       "3  North America  \n",
       "4  North America  "
      ]
     },
     "execution_count": 40,
     "metadata": {},
     "output_type": "execute_result"
    }
   ],
   "source": [
    "df_avec_outliers = pd.read_csv(\"data_ML_avec_outliers.csv\").drop('Unnamed: 0', axis = 'columns')\n",
    "df_avec_outliers.head(5)"
   ]
  },
  {
   "cell_type": "code",
   "execution_count": 41,
   "id": "967eb049",
   "metadata": {
    "colab": {
     "base_uri": "https://localhost:8080/"
    },
    "executionInfo": {
     "elapsed": 51,
     "status": "ok",
     "timestamp": 1637833728842,
     "user": {
      "displayName": "Tran Huy Nam",
      "photoUrl": "https://lh3.googleusercontent.com/a-/AOh14GgqMfZGpWEbv6FOhjZxevciY8lZ8ZSpthCFFDe92A=s64",
      "userId": "10623278435832509850"
     },
     "user_tz": -60
    },
    "id": "967eb049",
    "outputId": "258ee1ed-2a5c-4d3b-f70e-cb6453b7bb6b"
   },
   "outputs": [
    {
     "name": "stdout",
     "output_type": "stream",
     "text": [
      "(8706, 9)\n",
      "(8125, 9)\n"
     ]
    }
   ],
   "source": [
    "print(df_avec_outliers.shape)\n",
    "print(df_sans_outliers.shape)"
   ]
  },
  {
   "cell_type": "code",
   "execution_count": 42,
   "id": "bbb49105",
   "metadata": {
    "colab": {
     "base_uri": "https://localhost:8080/",
     "height": 343
    },
    "executionInfo": {
     "elapsed": 419,
     "status": "ok",
     "timestamp": 1637833729221,
     "user": {
      "displayName": "Tran Huy Nam",
      "photoUrl": "https://lh3.googleusercontent.com/a-/AOh14GgqMfZGpWEbv6FOhjZxevciY8lZ8ZSpthCFFDe92A=s64",
      "userId": "10623278435832509850"
     },
     "user_tz": -60
    },
    "id": "bbb49105",
    "outputId": "8d0ffa55-b800-417b-f9ca-a27bc107ae51"
   },
   "outputs": [
    {
     "data": {
      "image/png": "[encoded data removed]",
      "text/plain": [
       "<Figure size 432x288 with 1 Axes>"
      ]
     },
     "metadata": {},
     "output_type": "display_data"
    }
   ],
   "source": [
    "explode = (0.05,0.05,0.05,0.05,0.05)\n",
    "plt.pie(df_avec_outliers[\"status\"].value_counts().values, radius = 1.5, labels = df_avec_outliers[\"status\"].value_counts().index, \n",
    "        autopct='%1.1f%%', wedgeprops=dict(width=0.7, edgecolor='w'), startangle=0, pctdistance=0.7,  textprops={'fontsize': 14})\n",
    "plt.title('Statut des start-up',pad=50, fontsize = 15)\n",
    "plt.show()"
   ]
  },
  {
   "cell_type": "code",
   "execution_count": 43,
   "id": "7395bb57",
   "metadata": {
    "colab": {
     "base_uri": "https://localhost:8080/",
     "height": 403
    },
    "executionInfo": {
     "elapsed": 375,
     "status": "ok",
     "timestamp": 1637833729578,
     "user": {
      "displayName": "Tran Huy Nam",
      "photoUrl": "https://lh3.googleusercontent.com/a-/AOh14GgqMfZGpWEbv6FOhjZxevciY8lZ8ZSpthCFFDe92A=s64",
      "userId": "10623278435832509850"
     },
     "user_tz": -60
    },
    "id": "7395bb57",
    "outputId": "df2b581b-30bf-4d50-df10-e979166e9149"
   },
   "outputs": [
    {
     "name": "stderr",
     "output_type": "stream",
     "text": [
      "No handles with labels found to put in legend.\n"
     ]
    },
    {
     "data": {
      "image/png": "[encoded data removed]",
      "text/plain": [
       "<Figure size 240x360 with 1 Axes>"
      ]
     },
     "metadata": {
      "needs_background": "light"
     },
     "output_type": "display_data"
    }
   ],
   "source": [
    "sns.catplot(y ='funding_rounds', x= \"status\", data = df_avec_outliers, aspect=1/1.5)\n",
    "plt.xticks(fontsize = 13, rotation = 0)\n",
    "plt.yticks(fontsize = 13, rotation = 0)\n",
    "plt.xlabel(\"Status\",labelpad = 12, fontsize = 15)\n",
    "plt.ylabel(\"Funding rounds\",labelpad = 12, fontsize = 15)\n",
    "plt.legend(bbox_to_anchor = (0.85, 1), loc = 2, borderaxespad=1, fontsize= 12)\n",
    "plt.show()"
   ]
  },
  {
   "cell_type": "code",
   "execution_count": 44,
   "id": "c03e8f65",
   "metadata": {
    "colab": {
     "base_uri": "https://localhost:8080/",
     "height": 386
    },
    "executionInfo": {
     "elapsed": 422,
     "status": "ok",
     "timestamp": 1637833729991,
     "user": {
      "displayName": "Tran Huy Nam",
      "photoUrl": "https://lh3.googleusercontent.com/a-/AOh14GgqMfZGpWEbv6FOhjZxevciY8lZ8ZSpthCFFDe92A=s64",
      "userId": "10623278435832509850"
     },
     "user_tz": -60
    },
    "id": "c03e8f65",
    "outputId": "07db059a-e8d2-4caa-c75d-a98399c20da8"
   },
   "outputs": [
    {
     "data": {
      "image/png": "[encoded data removed]",
      "text/plain": [
       "<Figure size 240x360 with 1 Axes>"
      ]
     },
     "metadata": {
      "needs_background": "light"
     },
     "output_type": "display_data"
    }
   ],
   "source": [
    "sns.catplot(data= df_avec_outliers, x='status', y = \"funding_total_usd\", kind=\"bar\", aspect=1/1.5)\n",
    "plt.xticks(fontsize = 13)\n",
    "plt.yticks(fontsize = 13)\n",
    "plt.xlabel(\"Status\",labelpad = 13, fontsize = 15)\n",
    "plt.ylabel(\"Total funding (USD)\",labelpad = 13, fontsize = 15)\n",
    "plt.show()"
   ]
  },
  {
   "cell_type": "code",
   "execution_count": 45,
   "id": "b6a2d97f",
   "metadata": {
    "colab": {
     "base_uri": "https://localhost:8080/",
     "height": 295
    },
    "executionInfo": {
     "elapsed": 616,
     "status": "ok",
     "timestamp": 1637833730599,
     "user": {
      "displayName": "Tran Huy Nam",
      "photoUrl": "https://lh3.googleusercontent.com/a-/AOh14GgqMfZGpWEbv6FOhjZxevciY8lZ8ZSpthCFFDe92A=s64",
      "userId": "10623278435832509850"
     },
     "user_tz": -60
    },
    "id": "b6a2d97f",
    "outputId": "e46d0d77-e6e2-48dd-d917-66d803bf284b"
   },
   "outputs": [
    {
     "data": {
      "image/png": "[encoded data removed]",
      "text/plain": [
       "<Figure size 432x288 with 1 Axes>"
      ]
     },
     "metadata": {
      "needs_background": "light"
     },
     "output_type": "display_data"
    }
   ],
   "source": [
    "plt.figure(figsize=(6,4))\n",
    "sns.countplot(y ='Continent_Name', data=df_avec_outliers, order=df_avec_outliers['Continent_Name'].value_counts().iloc[:5].index, \n",
    "                hue = df_avec_outliers[\"status\"])\n",
    "plt.xticks(fontsize = 13, rotation = 0)\n",
    "plt.xlabel(\"Nombre d'entreprises\",labelpad = 12, fontsize = 15)\n",
    "plt.ylabel(\"Continent\",labelpad = 12, fontsize = 15)\n",
    "plt.legend(bbox_to_anchor = (1, 0.9), borderaxespad=1, fontsize= 12)\n",
    "plt.draw()"
   ]
  },
  {
   "cell_type": "code",
   "execution_count": 46,
   "id": "faac566f",
   "metadata": {
    "colab": {
     "base_uri": "https://localhost:8080/",
     "height": 286
    },
    "executionInfo": {
     "elapsed": 31,
     "status": "ok",
     "timestamp": 1637833730600,
     "user": {
      "displayName": "Tran Huy Nam",
      "photoUrl": "https://lh3.googleusercontent.com/a-/AOh14GgqMfZGpWEbv6FOhjZxevciY8lZ8ZSpthCFFDe92A=s64",
      "userId": "10623278435832509850"
     },
     "user_tz": -60
    },
    "id": "faac566f",
    "outputId": "593af10b-b7b5-4888-8ba3-62ed53b845a3"
   },
   "outputs": [
    {
     "data": {
      "image/png": "[encoded data removed]",
      "text/plain": [
       "<Figure size 432x288 with 1 Axes>"
      ]
     },
     "metadata": {
      "needs_background": "light"
     },
     "output_type": "display_data"
    }
   ],
   "source": [
    "plt.figure(figsize=(6,4))\n",
    "sns.countplot(y=df_avec_outliers[\"Industry_Group\"], order = df_avec_outliers['Industry_Group'].value_counts().head(10).index, \n",
    "                hue = df_avec_outliers[\"status\"])\n",
    "plt.xticks(rotation=0, fontsize = 12)\n",
    "plt.yticks(fontsize = 12)\n",
    "plt.xlabel(\"Nombre d'entreprises\", fontsize = 14)\n",
    "plt.ylabel(\"Secteurs d'industrie\", fontsize = 14)\n",
    "plt.legend(bbox_to_anchor = (1, 0.9), borderaxespad=1, fontsize= 12)\n",
    "plt.draw()"
   ]
  },
  {
   "cell_type": "code",
   "execution_count": 47,
   "id": "020c8ead",
   "metadata": {
    "colab": {
     "base_uri": "https://localhost:8080/",
     "height": 322
    },
    "executionInfo": {
     "elapsed": 542,
     "status": "ok",
     "timestamp": 1637833731117,
     "user": {
      "displayName": "Tran Huy Nam",
      "photoUrl": "https://lh3.googleusercontent.com/a-/AOh14GgqMfZGpWEbv6FOhjZxevciY8lZ8ZSpthCFFDe92A=s64",
      "userId": "10623278435832509850"
     },
     "user_tz": -60
    },
    "id": "020c8ead",
    "outputId": "fee46936-cc60-498e-9af7-841e21e10438"
   },
   "outputs": [
    {
     "data": {
      "text/plain": [
       "(-10000000.0, 100000000.0)"
      ]
     },
     "execution_count": 47,
     "metadata": {},
     "output_type": "execute_result"
    },
    {
     "data": {
      "image/png": "[encoded data removed]",
      "text/plain": [
       "<Figure size 432x288 with 1 Axes>"
      ]
     },
     "metadata": {
      "needs_background": "light"
     },
     "output_type": "display_data"
    }
   ],
   "source": [
    "plt.figure(figsize=(6,4))\n",
    "sns.boxplot(data= df_sans_outliers, x=\"status\", y = \"funding_total_usd\", width= 0.5)\n",
    "#sns.stripplot(data= df4, x=\"status\", y = \"funding_total_usd\", size = 10, palette=\"dark\")\n",
    "#plt.title(\"Funding total\", fontsize = 15)\n",
    "plt.xticks(fontsize = 12)\n",
    "plt.yticks(fontsize = 12)\n",
    "plt.xlabel(\"Statut\",labelpad = 12, fontsize = 13)\n",
    "plt.ylabel(\"Financement en total \",labelpad = 12, fontsize = 13)\n",
    "plt.ylim(-1e7, 1e8)"
   ]
  },
  {
   "cell_type": "code",
   "execution_count": 48,
   "id": "7e7d4928",
   "metadata": {
    "colab": {
     "base_uri": "https://localhost:8080/",
     "height": 316
    },
    "executionInfo": {
     "elapsed": 65,
     "status": "ok",
     "timestamp": 1637833731124,
     "user": {
      "displayName": "Tran Huy Nam",
      "photoUrl": "https://lh3.googleusercontent.com/a-/AOh14GgqMfZGpWEbv6FOhjZxevciY8lZ8ZSpthCFFDe92A=s64",
      "userId": "10623278435832509850"
     },
     "user_tz": -60
    },
    "id": "7e7d4928",
    "outputId": "e9d66464-556b-4ee9-d6c4-cbfe6c9cf739"
   },
   "outputs": [
    {
     "data": {
      "text/plain": [
       "(-500.0, 6000.0)"
      ]
     },
     "execution_count": 48,
     "metadata": {},
     "output_type": "execute_result"
    },
    {
     "data": {
      "image/png": "[encoded data removed]",
      "text/plain": [
       "<Figure size 432x288 with 1 Axes>"
      ]
     },
     "metadata": {
      "needs_background": "light"
     },
     "output_type": "display_data"
    }
   ],
   "source": [
    "plt.figure(figsize=(6,4))\n",
    "sns.boxplot(data= df_sans_outliers, x=\"status\", y = \"funding_day\", width= 0.5)\n",
    "plt.xticks(fontsize = 12)\n",
    "plt.yticks(fontsize = 12)\n",
    "plt.xlabel(\"Statut\",labelpad = 12, fontsize = 13)\n",
    "plt.ylabel(\"Premier jour de financement\",labelpad = 12, fontsize = 13)\n",
    "plt.ylim(-500, 6000)"
   ]
  },
  {
   "cell_type": "code",
   "execution_count": 49,
   "id": "7cb95fcf",
   "metadata": {
    "colab": {
     "base_uri": "https://localhost:8080/",
     "height": 316
    },
    "executionInfo": {
     "elapsed": 52,
     "status": "ok",
     "timestamp": 1637833731129,
     "user": {
      "displayName": "Tran Huy Nam",
      "photoUrl": "https://lh3.googleusercontent.com/a-/AOh14GgqMfZGpWEbv6FOhjZxevciY8lZ8ZSpthCFFDe92A=s64",
      "userId": "10623278435832509850"
     },
     "user_tz": -60
    },
    "id": "7cb95fcf",
    "outputId": "d0439922-2c06-4bdb-c956-9c940e6b7add"
   },
   "outputs": [
    {
     "data": {
      "text/plain": [
       "(0.0, 7.0)"
      ]
     },
     "execution_count": 49,
     "metadata": {},
     "output_type": "execute_result"
    },
    {
     "data": {
      "image/png": "[encoded data removed]",
      "text/plain": [
       "<Figure size 432x288 with 1 Axes>"
      ]
     },
     "metadata": {
      "needs_background": "light"
     },
     "output_type": "display_data"
    }
   ],
   "source": [
    "plt.figure(figsize=(6,4))\n",
    "sns.boxplot(data= df_sans_outliers, x=\"status\", y = \"funding_rounds\", width= 0.5)\n",
    "plt.xticks(fontsize = 12)\n",
    "plt.yticks(fontsize = 12)\n",
    "plt.xlabel(\"Statut\",labelpad = 12, fontsize = 13)\n",
    "plt.ylabel(\"Tours de financement\",labelpad = 12, fontsize = 13)\n",
    "plt.ylim(0, 7)"
   ]
  },
  {
   "cell_type": "code",
   "execution_count": 50,
   "id": "5b7c716c",
   "metadata": {
    "colab": {
     "base_uri": "https://localhost:8080/",
     "height": 298
    },
    "executionInfo": {
     "elapsed": 307,
     "status": "ok",
     "timestamp": 1637833731400,
     "user": {
      "displayName": "Tran Huy Nam",
      "photoUrl": "https://lh3.googleusercontent.com/a-/AOh14GgqMfZGpWEbv6FOhjZxevciY8lZ8ZSpthCFFDe92A=s64",
      "userId": "10623278435832509850"
     },
     "user_tz": -60
    },
    "id": "5b7c716c",
    "outputId": "ab68e427-4317-4dac-f5d6-ce07ed291667"
   },
   "outputs": [
    {
     "data": {
      "image/png": "[encoded data removed]",
      "text/plain": [
       "<Figure size 432x288 with 1 Axes>"
      ]
     },
     "metadata": {
      "needs_background": "light"
     },
     "output_type": "display_data"
    }
   ],
   "source": [
    "plt.figure(figsize=(6,4))\n",
    "sns.boxplot(data= df_sans_outliers, x=\"status\", y = \"funding_range_1_2\", width= 0.5)\n",
    "plt.xticks(fontsize = 12)\n",
    "plt.yticks(fontsize = 12)\n",
    "plt.xlabel(\"Statut\",labelpad = 12, fontsize = 13)\n",
    "plt.ylabel(\"Deuxième jour de financement \",labelpad = 12, fontsize = 13)\n",
    "plt.ylim(-100, 3000)\n",
    "plt.show()\n"
   ]
  },
  {
   "cell_type": "code",
   "execution_count": 51,
   "id": "ec1c07d6",
   "metadata": {
    "colab": {
     "base_uri": "https://localhost:8080/",
     "height": 298
    },
    "executionInfo": {
     "elapsed": 30,
     "status": "ok",
     "timestamp": 1637833731405,
     "user": {
      "displayName": "Tran Huy Nam",
      "photoUrl": "https://lh3.googleusercontent.com/a-/AOh14GgqMfZGpWEbv6FOhjZxevciY8lZ8ZSpthCFFDe92A=s64",
      "userId": "10623278435832509850"
     },
     "user_tz": -60
    },
    "id": "ec1c07d6",
    "outputId": "472d585a-5e20-4c42-9bbd-3de32d30a6d2"
   },
   "outputs": [
    {
     "data": {
      "image/png": "[encoded data removed]",
      "text/plain": [
       "<Figure size 432x288 with 1 Axes>"
      ]
     },
     "metadata": {
      "needs_background": "light"
     },
     "output_type": "display_data"
    }
   ],
   "source": [
    "plt.figure(figsize=(6,4))\n",
    "sns.boxplot(data= df_sans_outliers, x=\"status\", y = \"company_age\", width= 0.5)\n",
    "plt.xticks(fontsize = 12)\n",
    "plt.yticks(fontsize = 12)\n",
    "plt.xlabel(\"Statut\",labelpad = 12, fontsize = 13)\n",
    "plt.ylabel(\"L'âge de société\",labelpad = 12, fontsize = 13)\n",
    "plt.ylim(5, 35)\n",
    "plt.show()\n"
   ]
  },
  {
   "cell_type": "code",
   "execution_count": 52,
   "id": "02771563",
   "metadata": {
    "colab": {
     "base_uri": "https://localhost:8080/",
     "height": 313
    },
    "executionInfo": {
     "elapsed": 638,
     "status": "ok",
     "timestamp": 1637834284554,
     "user": {
      "displayName": "Tran Huy Nam",
      "photoUrl": "https://lh3.googleusercontent.com/a-/AOh14GgqMfZGpWEbv6FOhjZxevciY8lZ8ZSpthCFFDe92A=s64",
      "userId": "10623278435832509850"
     },
     "user_tz": -60
    },
    "id": "02771563",
    "outputId": "1a025df8-9181-4dde-9a54-8990f0814a51"
   },
   "outputs": [
    {
     "data": {
      "image/png": "[encoded data removed]",
      "text/plain": [
       "<Figure size 432x288 with 1 Axes>"
      ]
     },
     "metadata": {
      "needs_background": "light"
     },
     "output_type": "display_data"
    }
   ],
   "source": [
    "plt.figure(figsize=(6,4))\n",
    "sns.kdeplot(data=df_sans_outliers, x=\"funding_total_usd\", hue=\"status\", fill=True, common_norm=True, alpha=.5, \n",
    "            linewidth=1, bw_adjust=3.8)\n",
    "plt.xticks(fontsize = 14)\n",
    "plt.yticks(fontsize = 14)\n",
    "plt.xlabel(\"Financement en total\",labelpad = 12, fontsize = 16)\n",
    "plt.ylabel(\"Densité\",labelpad = 12, fontsize = 16)\n",
    "plt.xlim(0, 2e8)\n",
    "plt.ylim(0, 7e-9)\n",
    "plt.show()"
   ]
  },
  {
   "cell_type": "code",
   "execution_count": 53,
   "id": "7ad489e4",
   "metadata": {
    "colab": {
     "base_uri": "https://localhost:8080/",
     "height": 302
    },
    "executionInfo": {
     "elapsed": 737,
     "status": "ok",
     "timestamp": 1637834316125,
     "user": {
      "displayName": "Tran Huy Nam",
      "photoUrl": "https://lh3.googleusercontent.com/a-/AOh14GgqMfZGpWEbv6FOhjZxevciY8lZ8ZSpthCFFDe92A=s64",
      "userId": "10623278435832509850"
     },
     "user_tz": -60
    },
    "id": "7ad489e4",
    "outputId": "360fe6c1-6038-4ad6-c3e8-7b9df5f1f07c"
   },
   "outputs": [
    {
     "data": {
      "image/png": "[encoded data removed]",
      "text/plain": [
       "<Figure size 432x288 with 1 Axes>"
      ]
     },
     "metadata": {
      "needs_background": "light"
     },
     "output_type": "display_data"
    }
   ],
   "source": [
    "plt.figure(figsize=(6,4))\n",
    "sns.kdeplot(data=df_sans_outliers, x=\"funding_rounds\", hue=\"status\", fill=True, common_norm=True, \n",
    "            alpha=.5, linewidth=1, bw_adjust=2.7)\n",
    "plt.xticks(fontsize = 14)\n",
    "plt.yticks(fontsize = 14)\n",
    "plt.xlabel(\"Tours de financement\",labelpad = 12, fontsize = 16)\n",
    "plt.ylabel(\"Densité\",labelpad = 12, fontsize = 16)\n",
    "plt.xlim(0, 8)\n",
    "plt.ylim(0, 0.25)\n",
    "plt.show()"
   ]
  },
  {
   "cell_type": "code",
   "execution_count": 54,
   "id": "4ff1184f",
   "metadata": {
    "colab": {
     "base_uri": "https://localhost:8080/",
     "height": 327
    },
    "executionInfo": {
     "elapsed": 759,
     "status": "ok",
     "timestamp": 1637834358814,
     "user": {
      "displayName": "Tran Huy Nam",
      "photoUrl": "https://lh3.googleusercontent.com/a-/AOh14GgqMfZGpWEbv6FOhjZxevciY8lZ8ZSpthCFFDe92A=s64",
      "userId": "10623278435832509850"
     },
     "user_tz": -60
    },
    "id": "4ff1184f",
    "outputId": "0bb02f39-8161-4b4b-b6e3-5f64a1395321"
   },
   "outputs": [
    {
     "data": {
      "image/png": "[encoded data removed]",
      "text/plain": [
       "<Figure size 432x288 with 1 Axes>"
      ]
     },
     "metadata": {
      "needs_background": "light"
     },
     "output_type": "display_data"
    }
   ],
   "source": [
    "plt.figure(figsize=(6,4))\n",
    "sns.kdeplot(data=df_sans_outliers, x=\"funding_range_1_2\", hue=\"status\", fill=True, common_norm=True, \n",
    "            alpha=.5, linewidth=1, bw_adjust=3)\n",
    "plt.xticks(fontsize = 14)\n",
    "plt.yticks(fontsize = 14)\n",
    "plt.xlabel(\"Délai entre le premier et dernier financement (jours)\",labelpad = 25, fontsize = 16)\n",
    "plt.ylabel(\"Densité\",labelpad = 12, fontsize = 15)\n",
    "plt.xlim(0, 4000)\n",
    "plt.ylim(0, 0.0005)\n",
    "plt.ticklabel_format(axis='both', style='sci', scilimits=(0,0))\n",
    "plt.show()"
   ]
  },
  {
   "cell_type": "code",
   "execution_count": 55,
   "id": "b3d15e88",
   "metadata": {
    "colab": {
     "base_uri": "https://localhost:8080/",
     "height": 303
    },
    "executionInfo": {
     "elapsed": 459,
     "status": "ok",
     "timestamp": 1637834378913,
     "user": {
      "displayName": "Tran Huy Nam",
      "photoUrl": "https://lh3.googleusercontent.com/a-/AOh14GgqMfZGpWEbv6FOhjZxevciY8lZ8ZSpthCFFDe92A=s64",
      "userId": "10623278435832509850"
     },
     "user_tz": -60
    },
    "id": "b3d15e88",
    "outputId": "4373bf6e-028a-4fcc-b1ad-4f9079a5e41a"
   },
   "outputs": [
    {
     "data": {
      "image/png": "[encoded data removed]",
      "text/plain": [
       "<Figure size 432x288 with 1 Axes>"
      ]
     },
     "metadata": {
      "needs_background": "light"
     },
     "output_type": "display_data"
    }
   ],
   "source": [
    "plt.figure(figsize=(6,4))\n",
    "sns.kdeplot(data=df_sans_outliers, x=\"company_age\", hue=\"status\", fill=True, common_norm=True, \n",
    "            alpha=.5, linewidth=1, bw_adjust=2)\n",
    "plt.xticks(fontsize = 14)\n",
    "plt.yticks(fontsize = 14)\n",
    "plt.xlabel(\"L'âge de société\",labelpad = 12, fontsize = 16)\n",
    "plt.ylabel(\"Densité\",labelpad = 12, fontsize = 15)\n",
    "plt.xlim(0, 40)\n",
    "plt.ylim(0, 0.05)\n",
    "plt.show()"
   ]
  },
  {
   "cell_type": "markdown",
   "id": "fb110b8d",
   "metadata": {
    "id": "fb110b8d"
   },
   "source": [
    "# Machine Learning"
   ]
  },
  {
   "cell_type": "code",
   "execution_count": 56,
   "id": "54b6bced",
   "metadata": {
    "executionInfo": {
     "elapsed": 357,
     "status": "ok",
     "timestamp": 1637833733208,
     "user": {
      "displayName": "Tran Huy Nam",
      "photoUrl": "https://lh3.googleusercontent.com/a-/AOh14GgqMfZGpWEbv6FOhjZxevciY8lZ8ZSpthCFFDe92A=s64",
      "userId": "10623278435832509850"
     },
     "user_tz": -60
    },
    "id": "54b6bced"
   },
   "outputs": [],
   "source": [
    "from sklearn.model_selection import train_test_split\n",
    "from sklearn.impute import SimpleImputer\n",
    "from sklearn.preprocessing import  LabelEncoder, OneHotEncoder, StandardScaler\n",
    "from sklearn.compose import ColumnTransformer\n",
    "\n",
    "from sklearn.pipeline import Pipeline\n",
    "\n",
    "from sklearn.linear_model import LogisticRegression\n",
    "from sklearn.tree import DecisionTreeClassifier\n",
    "from sklearn.ensemble import RandomForestClassifier, AdaBoostClassifier, BaggingClassifier, StackingClassifier, VotingClassifier, GradientBoostingClassifier\n",
    "from sklearn.naive_bayes import GaussianNB\n",
    "from sklearn.svm import SVC\n",
    "from sklearn.neighbors import KNeighborsClassifier\n",
    "from xgboost import XGBClassifier\n",
    "\n",
    "\n",
    "from sklearn.model_selection import cross_val_score, GridSearchCV, StratifiedKFold, KFold\n",
    "from sklearn.metrics import accuracy_score, r2_score, f1_score, confusion_matrix, roc_curve, ConfusionMatrixDisplay, RocCurveDisplay\n",
    "from sklearn.metrics import plot_precision_recall_curve, precision_score, recall_score, classification_report\n",
    "from sklearn.metrics import roc_curve, roc_auc_score\n",
    "\n",
    "from sklearn.feature_selection import chi2"
   ]
  },
  {
   "cell_type": "markdown",
   "id": "d71f6fc2",
   "metadata": {
    "id": "d71f6fc2"
   },
   "source": [
    "# Tous ML avec seulement les variables numériques."
   ]
  },
  {
   "cell_type": "code",
   "execution_count": 57,
   "id": "d70a6f96",
   "metadata": {
    "colab": {
     "base_uri": "https://localhost:8080/",
     "height": 295
    },
    "executionInfo": {
     "elapsed": 275,
     "status": "ok",
     "timestamp": 1637833733470,
     "user": {
      "displayName": "Tran Huy Nam",
      "photoUrl": "https://lh3.googleusercontent.com/a-/AOh14GgqMfZGpWEbv6FOhjZxevciY8lZ8ZSpthCFFDe92A=s64",
      "userId": "10623278435832509850"
     },
     "user_tz": -60
    },
    "id": "d70a6f96",
    "outputId": "4c309a9e-d18b-4f17-8d07-63d193109b7a"
   },
   "outputs": [
    {
     "data": {
      "text/html": [
       "<div><div id=c2a1f913-1602-4b50-a749-59df63eb1a48 style=\"display:none; background-color:#9D6CFF; color:white; width:200px; height:30px; padding-left:5px; border-radius:4px; flex-direction:row; justify-content:space-around; align-items:center;\" onmouseover=\"this.style.backgroundColor='#BA9BF8'\" onmouseout=\"this.style.backgroundColor='#9D6CFF'\" onclick=\"window.commands?.execute('create-mitosheet-from-dataframe-output');\">See Full Dataframe in Mito</div> <script> if (window.commands.hasCommand('create-mitosheet-from-dataframe-output')) document.getElementById('c2a1f913-1602-4b50-a749-59df63eb1a48').style.display = 'flex' </script> <table border=\"1\" class=\"dataframe\">\n",
       "  <thead>\n",
       "    <tr style=\"text-align: right;\">\n",
       "      <th></th>\n",
       "      <th>name</th>\n",
       "      <th>funding_total_usd</th>\n",
       "      <th>status</th>\n",
       "      <th>funding_rounds</th>\n",
       "      <th>Industry_Group</th>\n",
       "      <th>funding_day</th>\n",
       "      <th>funding_range_1_2</th>\n",
       "      <th>company_age</th>\n",
       "      <th>Continent_Name</th>\n",
       "    </tr>\n",
       "  </thead>\n",
       "  <tbody>\n",
       "    <tr>\n",
       "      <th>0</th>\n",
       "      <td>1 Mainstream</td>\n",
       "      <td>5000000.0</td>\n",
       "      <td>success</td>\n",
       "      <td>1</td>\n",
       "      <td>Information Technology</td>\n",
       "      <td>1111.0</td>\n",
       "      <td>0.0</td>\n",
       "      <td>10</td>\n",
       "      <td>North America</td>\n",
       "    </tr>\n",
       "    <tr>\n",
       "      <th>1</th>\n",
       "      <td>1000 Markets</td>\n",
       "      <td>500000.0</td>\n",
       "      <td>success</td>\n",
       "      <td>1</td>\n",
       "      <td>Media &amp; Publishing</td>\n",
       "      <td>134.0</td>\n",
       "      <td>0.0</td>\n",
       "      <td>13</td>\n",
       "      <td>North America</td>\n",
       "    </tr>\n",
       "    <tr>\n",
       "      <th>2</th>\n",
       "      <td>1000memories</td>\n",
       "      <td>2535000.0</td>\n",
       "      <td>success</td>\n",
       "      <td>2</td>\n",
       "      <td>Information Technology</td>\n",
       "      <td>0.0</td>\n",
       "      <td>411.0</td>\n",
       "      <td>12</td>\n",
       "      <td>North America</td>\n",
       "    </tr>\n",
       "    <tr>\n",
       "      <th>3</th>\n",
       "      <td>100Plus</td>\n",
       "      <td>1250000.0</td>\n",
       "      <td>success</td>\n",
       "      <td>2</td>\n",
       "      <td>Data Science</td>\n",
       "      <td>47.0</td>\n",
       "      <td>28.0</td>\n",
       "      <td>11</td>\n",
       "      <td>North America</td>\n",
       "    </tr>\n",
       "    <tr>\n",
       "      <th>4</th>\n",
       "      <td>1010data</td>\n",
       "      <td>35000000.0</td>\n",
       "      <td>success</td>\n",
       "      <td>1</td>\n",
       "      <td>Information Technology</td>\n",
       "      <td>3719.0</td>\n",
       "      <td>0.0</td>\n",
       "      <td>22</td>\n",
       "      <td>North America</td>\n",
       "    </tr>\n",
       "  </tbody>\n",
       "</table></div>"
      ],
      "text/plain": [
       "           name  funding_total_usd   status  funding_rounds  \\\n",
       "0  1 Mainstream          5000000.0  success               1   \n",
       "1  1000 Markets           500000.0  success               1   \n",
       "2  1000memories          2535000.0  success               2   \n",
       "3       100Plus          1250000.0  success               2   \n",
       "4      1010data         35000000.0  success               1   \n",
       "\n",
       "           Industry_Group  funding_day  funding_range_1_2  company_age  \\\n",
       "0  Information Technology       1111.0                0.0           10   \n",
       "1      Media & Publishing        134.0                0.0           13   \n",
       "2  Information Technology          0.0              411.0           12   \n",
       "3            Data Science         47.0               28.0           11   \n",
       "4  Information Technology       3719.0                0.0           22   \n",
       "\n",
       "  Continent_Name  \n",
       "0  North America  \n",
       "1  North America  \n",
       "2  North America  \n",
       "3  North America  \n",
       "4  North America  "
      ]
     },
     "execution_count": 57,
     "metadata": {},
     "output_type": "execute_result"
    }
   ],
   "source": [
    "df4 = pd.read_csv(\"data_ML_avec_outliers.csv\").drop('Unnamed: 0', axis = 'columns')\n",
    "df4 = df4.dropna()\n",
    "df4.head(5)"
   ]
  },
  {
   "cell_type": "code",
   "execution_count": 58,
   "id": "c746b8bd",
   "metadata": {
    "colab": {
     "base_uri": "https://localhost:8080/"
    },
    "executionInfo": {
     "elapsed": 45,
     "status": "ok",
     "timestamp": 1637833733472,
     "user": {
      "displayName": "Tran Huy Nam",
      "photoUrl": "https://lh3.googleusercontent.com/a-/AOh14GgqMfZGpWEbv6FOhjZxevciY8lZ8ZSpthCFFDe92A=s64",
      "userId": "10623278435832509850"
     },
     "user_tz": -60
    },
    "id": "c746b8bd",
    "outputId": "22b4be3c-712c-49e2-979e-3a028e739e12"
   },
   "outputs": [
    {
     "name": "stdout",
     "output_type": "stream",
     "text": [
      "<class 'pandas.core.frame.DataFrame'>\n",
      "Int64Index: 8703 entries, 0 to 8705\n",
      "Data columns (total 9 columns):\n",
      " #   Column             Non-Null Count  Dtype  \n",
      "---  ------             --------------  -----  \n",
      " 0   name               8703 non-null   object \n",
      " 1   funding_total_usd  8703 non-null   float64\n",
      " 2   status             8703 non-null   object \n",
      " 3   funding_rounds     8703 non-null   int64  \n",
      " 4   Industry_Group     8703 non-null   object \n",
      " 5   funding_day        8703 non-null   float64\n",
      " 6   funding_range_1_2  8703 non-null   float64\n",
      " 7   company_age        8703 non-null   int64  \n",
      " 8   Continent_Name     8703 non-null   object \n",
      "dtypes: float64(3), int64(2), object(4)\n",
      "memory usage: 679.9+ KB\n"
     ]
    }
   ],
   "source": [
    "df4.info()"
   ]
  },
  {
   "cell_type": "code",
   "execution_count": 59,
   "id": "63a91479",
   "metadata": {
    "colab": {
     "base_uri": "https://localhost:8080/"
    },
    "executionInfo": {
     "elapsed": 33,
     "status": "ok",
     "timestamp": 1637833733475,
     "user": {
      "displayName": "Tran Huy Nam",
      "photoUrl": "https://lh3.googleusercontent.com/a-/AOh14GgqMfZGpWEbv6FOhjZxevciY8lZ8ZSpthCFFDe92A=s64",
      "userId": "10623278435832509850"
     },
     "user_tz": -60
    },
    "id": "63a91479",
    "outputId": "86c2d17a-f185-49a2-eeaa-c67d25d7e52c"
   },
   "outputs": [
    {
     "data": {
      "text/plain": [
       "success    5329\n",
       "failure    3374\n",
       "Name: status, dtype: int64"
      ]
     },
     "execution_count": 59,
     "metadata": {},
     "output_type": "execute_result"
    }
   ],
   "source": [
    "df4[\"status\"].value_counts()"
   ]
  },
  {
   "cell_type": "code",
   "execution_count": 60,
   "id": "e059752c",
   "metadata": {
    "executionInfo": {
     "elapsed": 22,
     "status": "ok",
     "timestamp": 1637833733477,
     "user": {
      "displayName": "Tran Huy Nam",
      "photoUrl": "https://lh3.googleusercontent.com/a-/AOh14GgqMfZGpWEbv6FOhjZxevciY8lZ8ZSpthCFFDe92A=s64",
      "userId": "10623278435832509850"
     },
     "user_tz": -60
    },
    "id": "e059752c"
   },
   "outputs": [],
   "source": [
    "X = df4[[\"funding_total_usd\", \"funding_rounds\",\"company_age\", \"funding_day\", \"funding_range_1_2\"]]\n",
    "y = df4[\"status\"]\n",
    "\n",
    "X_train, X_test, y_train, y_test = train_test_split(X, y, test_size = 0.2, random_state=0, stratify=y)\n",
    "\n",
    "sc_x = StandardScaler()\n",
    "X_train = sc_x.fit_transform(X_train)\n",
    "X_test = sc_x.transform(X_test)\n",
    "\n",
    "# Encode label\n",
    "labelencoder = LabelEncoder()\n",
    "y_train = labelencoder.fit_transform(y_train)\n",
    "y_test = labelencoder.transform(y_test)"
   ]
  },
  {
   "cell_type": "code",
   "execution_count": 61,
   "id": "2d906bbd",
   "metadata": {
    "executionInfo": {
     "elapsed": 20,
     "status": "ok",
     "timestamp": 1637833733479,
     "user": {
      "displayName": "Tran Huy Nam",
      "photoUrl": "https://lh3.googleusercontent.com/a-/AOh14GgqMfZGpWEbv6FOhjZxevciY8lZ8ZSpthCFFDe92A=s64",
      "userId": "10623278435832509850"
     },
     "user_tz": -60
    },
    "id": "2d906bbd"
   },
   "outputs": [],
   "source": [
    "classifiers = []\n",
    "lr = LogisticRegression()\n",
    "rfc = RandomForestClassifier(n_estimators=40)\n",
    "dtc = DecisionTreeClassifier()\n",
    "svm = SVC(kernel='rbf', class_weight='balanced')\n",
    "xgb = XGBClassifier(n_estimators=1, max_depth=3)\n",
    "abc = AdaBoostClassifier(learning_rate=0.05, n_estimators=100)\n",
    "gbc = GradientBoostingClassifier(learning_rate=0.1, n_estimators=100)\n",
    "bag = BaggingClassifier(RandomForestClassifier(),n_estimators=40, random_state=0)\n",
    "knn = KNeighborsClassifier()\n",
    "nb = GaussianNB()\n",
    "\n",
    "\n",
    "classifiers.append(lr)\n",
    "classifiers.append(rfc)\n",
    "classifiers.append(dtc)\n",
    "classifiers.append(svm)\n",
    "classifiers.append(xgb)\n",
    "classifiers.append(abc)\n",
    "classifiers.append(gbc)\n",
    "classifiers.append(bag)\n",
    "classifiers.append(knn)\n",
    "classifiers.append(nb)"
   ]
  },
  {
   "cell_type": "code",
   "execution_count": 62,
   "id": "2d6494cb",
   "metadata": {
    "executionInfo": {
     "elapsed": 305159,
     "status": "ok",
     "timestamp": 1637834038619,
     "user": {
      "displayName": "Tran Huy Nam",
      "photoUrl": "https://lh3.googleusercontent.com/a-/AOh14GgqMfZGpWEbv6FOhjZxevciY8lZ8ZSpthCFFDe92A=s64",
      "userId": "10623278435832509850"
     },
     "user_tz": -60
    },
    "id": "2d6494cb"
   },
   "outputs": [
    {
     "name": "stderr",
     "output_type": "stream",
     "text": [
      "C:\\Users\\Huy Nam TRAN\\anaconda3\\envs\\huynam\\lib\\site-packages\\xgboost\\sklearn.py:1146: UserWarning:\n",
      "\n",
      "The use of label encoder in XGBClassifier is deprecated and will be removed in a future release. To remove this warning, do the following: 1) Pass option use_label_encoder=False when constructing XGBClassifier object; and 2) Encode your labels (y) as integers starting with 0, i.e. 0, 1, 2, ..., [num_class - 1].\n",
      "\n"
     ]
    },
    {
     "name": "stdout",
     "output_type": "stream",
     "text": [
      "[20:39:30] WARNING: ..\\src\\learner.cc:1095: Starting in XGBoost 1.3.0, the default evaluation metric used with the objective 'binary:logistic' was changed from 'error' to 'logloss'. Explicitly set eval_metric if you'd like to restore the old behavior.\n",
      "[20:39:30] WARNING: ..\\src\\learner.cc:1095: Starting in XGBoost 1.3.0, the default evaluation metric used with the objective 'binary:logistic' was changed from 'error' to 'logloss'. Explicitly set eval_metric if you'd like to restore the old behavior.\n",
      "[20:39:30] WARNING: ..\\src\\learner.cc:1095: Starting in XGBoost 1.3.0, the default evaluation metric used with the objective 'binary:logistic' was changed from 'error' to 'logloss'. Explicitly set eval_metric if you'd like to restore the old behavior.\n",
      "[20:39:30] WARNING: ..\\src\\learner.cc:1095: Starting in XGBoost 1.3.0, the default evaluation metric used with the objective 'binary:logistic' was changed from 'error' to 'logloss'. Explicitly set eval_metric if you'd like to restore the old behavior.\n",
      "[20:39:30] WARNING: ..\\src\\learner.cc:1095: Starting in XGBoost 1.3.0, the default evaluation metric used with the objective 'binary:logistic' was changed from 'error' to 'logloss'. Explicitly set eval_metric if you'd like to restore the old behavior.\n",
      "[20:39:30] WARNING: ..\\src\\learner.cc:1095: Starting in XGBoost 1.3.0, the default evaluation metric used with the objective 'binary:logistic' was changed from 'error' to 'logloss'. Explicitly set eval_metric if you'd like to restore the old behavior.\n",
      "[20:39:30] WARNING: ..\\src\\learner.cc:1095: Starting in XGBoost 1.3.0, the default evaluation metric used with the objective 'binary:logistic' was changed from 'error' to 'logloss'. Explicitly set eval_metric if you'd like to restore the old behavior.\n",
      "[20:39:30] WARNING: ..\\src\\learner.cc:1095: Starting in XGBoost 1.3.0, the default evaluation metric used with the objective 'binary:logistic' was changed from 'error' to 'logloss'. Explicitly set eval_metric if you'd like to restore the old behavior.\n",
      "[20:39:30] WARNING: ..\\src\\learner.cc:1095: Starting in XGBoost 1.3.0, the default evaluation metric used with the objective 'binary:logistic' was changed from 'error' to 'logloss'. Explicitly set eval_metric if you'd like to restore the old behavior.\n",
      "[20:39:30] WARNING: ..\\src\\learner.cc:1095: Starting in XGBoost 1.3.0, the default evaluation metric used with the objective 'binary:logistic' was changed from 'error' to 'logloss'. Explicitly set eval_metric if you'd like to restore the old behavior.\n"
     ]
    },
    {
     "name": "stderr",
     "output_type": "stream",
     "text": [
      "C:\\Users\\Huy Nam TRAN\\anaconda3\\envs\\huynam\\lib\\site-packages\\xgboost\\sklearn.py:1146: UserWarning:\n",
      "\n",
      "The use of label encoder in XGBClassifier is deprecated and will be removed in a future release. To remove this warning, do the following: 1) Pass option use_label_encoder=False when constructing XGBClassifier object; and 2) Encode your labels (y) as integers starting with 0, i.e. 0, 1, 2, ..., [num_class - 1].\n",
      "\n",
      "C:\\Users\\Huy Nam TRAN\\anaconda3\\envs\\huynam\\lib\\site-packages\\xgboost\\sklearn.py:1146: UserWarning:\n",
      "\n",
      "The use of label encoder in XGBClassifier is deprecated and will be removed in a future release. To remove this warning, do the following: 1) Pass option use_label_encoder=False when constructing XGBClassifier object; and 2) Encode your labels (y) as integers starting with 0, i.e. 0, 1, 2, ..., [num_class - 1].\n",
      "\n",
      "C:\\Users\\Huy Nam TRAN\\anaconda3\\envs\\huynam\\lib\\site-packages\\xgboost\\sklearn.py:1146: UserWarning:\n",
      "\n",
      "The use of label encoder in XGBClassifier is deprecated and will be removed in a future release. To remove this warning, do the following: 1) Pass option use_label_encoder=False when constructing XGBClassifier object; and 2) Encode your labels (y) as integers starting with 0, i.e. 0, 1, 2, ..., [num_class - 1].\n",
      "\n",
      "C:\\Users\\Huy Nam TRAN\\anaconda3\\envs\\huynam\\lib\\site-packages\\xgboost\\sklearn.py:1146: UserWarning:\n",
      "\n",
      "The use of label encoder in XGBClassifier is deprecated and will be removed in a future release. To remove this warning, do the following: 1) Pass option use_label_encoder=False when constructing XGBClassifier object; and 2) Encode your labels (y) as integers starting with 0, i.e. 0, 1, 2, ..., [num_class - 1].\n",
      "\n",
      "C:\\Users\\Huy Nam TRAN\\anaconda3\\envs\\huynam\\lib\\site-packages\\xgboost\\sklearn.py:1146: UserWarning:\n",
      "\n",
      "The use of label encoder in XGBClassifier is deprecated and will be removed in a future release. To remove this warning, do the following: 1) Pass option use_label_encoder=False when constructing XGBClassifier object; and 2) Encode your labels (y) as integers starting with 0, i.e. 0, 1, 2, ..., [num_class - 1].\n",
      "\n",
      "C:\\Users\\Huy Nam TRAN\\anaconda3\\envs\\huynam\\lib\\site-packages\\xgboost\\sklearn.py:1146: UserWarning:\n",
      "\n",
      "The use of label encoder in XGBClassifier is deprecated and will be removed in a future release. To remove this warning, do the following: 1) Pass option use_label_encoder=False when constructing XGBClassifier object; and 2) Encode your labels (y) as integers starting with 0, i.e. 0, 1, 2, ..., [num_class - 1].\n",
      "\n",
      "C:\\Users\\Huy Nam TRAN\\anaconda3\\envs\\huynam\\lib\\site-packages\\xgboost\\sklearn.py:1146: UserWarning:\n",
      "\n",
      "The use of label encoder in XGBClassifier is deprecated and will be removed in a future release. To remove this warning, do the following: 1) Pass option use_label_encoder=False when constructing XGBClassifier object; and 2) Encode your labels (y) as integers starting with 0, i.e. 0, 1, 2, ..., [num_class - 1].\n",
      "\n",
      "C:\\Users\\Huy Nam TRAN\\anaconda3\\envs\\huynam\\lib\\site-packages\\xgboost\\sklearn.py:1146: UserWarning:\n",
      "\n",
      "The use of label encoder in XGBClassifier is deprecated and will be removed in a future release. To remove this warning, do the following: 1) Pass option use_label_encoder=False when constructing XGBClassifier object; and 2) Encode your labels (y) as integers starting with 0, i.e. 0, 1, 2, ..., [num_class - 1].\n",
      "\n",
      "C:\\Users\\Huy Nam TRAN\\anaconda3\\envs\\huynam\\lib\\site-packages\\xgboost\\sklearn.py:1146: UserWarning:\n",
      "\n",
      "The use of label encoder in XGBClassifier is deprecated and will be removed in a future release. To remove this warning, do the following: 1) Pass option use_label_encoder=False when constructing XGBClassifier object; and 2) Encode your labels (y) as integers starting with 0, i.e. 0, 1, 2, ..., [num_class - 1].\n",
      "\n"
     ]
    }
   ],
   "source": [
    "cv_results = []\n",
    "for classifier in classifiers:\n",
    "    cv_results.append(cross_val_score(classifier, X_train, y_train, cv=10 ,scoring= \"accuracy\"))"
   ]
  },
  {
   "cell_type": "code",
   "execution_count": 63,
   "id": "cfe92709",
   "metadata": {
    "colab": {
     "base_uri": "https://localhost:8080/",
     "height": 363
    },
    "executionInfo": {
     "elapsed": 40,
     "status": "ok",
     "timestamp": 1637834038625,
     "user": {
      "displayName": "Tran Huy Nam",
      "photoUrl": "https://lh3.googleusercontent.com/a-/AOh14GgqMfZGpWEbv6FOhjZxevciY8lZ8ZSpthCFFDe92A=s64",
      "userId": "10623278435832509850"
     },
     "user_tz": -60
    },
    "id": "cfe92709",
    "outputId": "50fd3277-5e1d-4f08-86e0-1331d52e5f4c"
   },
   "outputs": [
    {
     "data": {
      "text/html": [
       "<style type=\"text/css\">\n",
       "#T_f3d8c_row0_col1 {\n",
       "  background-color: #08306b;\n",
       "  color: #f1f1f1;\n",
       "}\n",
       "#T_f3d8c_row1_col1 {\n",
       "  background-color: #083b7c;\n",
       "  color: #f1f1f1;\n",
       "}\n",
       "#T_f3d8c_row2_col1 {\n",
       "  background-color: #084184;\n",
       "  color: #f1f1f1;\n",
       "}\n",
       "#T_f3d8c_row3_col1 {\n",
       "  background-color: #08458a;\n",
       "  color: #f1f1f1;\n",
       "}\n",
       "#T_f3d8c_row4_col1 {\n",
       "  background-color: #084990;\n",
       "  color: #f1f1f1;\n",
       "}\n",
       "#T_f3d8c_row5_col1 {\n",
       "  background-color: #084c95;\n",
       "  color: #f1f1f1;\n",
       "}\n",
       "#T_f3d8c_row6_col1 {\n",
       "  background-color: #0f5aa3;\n",
       "  color: #f1f1f1;\n",
       "}\n",
       "#T_f3d8c_row7_col1 {\n",
       "  background-color: #1967ad;\n",
       "  color: #f1f1f1;\n",
       "}\n",
       "#T_f3d8c_row8_col1 {\n",
       "  background-color: #4f9bcb;\n",
       "  color: #f1f1f1;\n",
       "}\n",
       "#T_f3d8c_row9_col1 {\n",
       "  background-color: #f7fbff;\n",
       "  color: #000000;\n",
       "}\n",
       "</style>\n",
       "<table id=\"T_f3d8c_\">\n",
       "  <thead>\n",
       "    <tr>\n",
       "      <th class=\"blank level0\" >&nbsp;</th>\n",
       "      <th class=\"col_heading level0 col0\" >Algorithm</th>\n",
       "      <th class=\"col_heading level0 col1\" >Accuracy_mean</th>\n",
       "      <th class=\"col_heading level0 col2\" >Std</th>\n",
       "    </tr>\n",
       "  </thead>\n",
       "  <tbody>\n",
       "    <tr>\n",
       "      <th id=\"T_f3d8c_level0_row0\" class=\"row_heading level0 row0\" >6</th>\n",
       "      <td id=\"T_f3d8c_row0_col0\" class=\"data row0 col0\" >Gradient Boosting</td>\n",
       "      <td id=\"T_f3d8c_row0_col1\" class=\"data row0 col1\" >0.743464</td>\n",
       "      <td id=\"T_f3d8c_row0_col2\" class=\"data row0 col2\" >0.014579</td>\n",
       "    </tr>\n",
       "    <tr>\n",
       "      <th id=\"T_f3d8c_level0_row1\" class=\"row_heading level0 row1\" >7</th>\n",
       "      <td id=\"T_f3d8c_row1_col0\" class=\"data row1 col0\" >Bagging Classifier</td>\n",
       "      <td id=\"T_f3d8c_row1_col1\" class=\"data row1 col1\" >0.734272</td>\n",
       "      <td id=\"T_f3d8c_row1_col2\" class=\"data row1 col2\" >0.013586</td>\n",
       "    </tr>\n",
       "    <tr>\n",
       "      <th id=\"T_f3d8c_level0_row2\" class=\"row_heading level0 row2\" >5</th>\n",
       "      <td id=\"T_f3d8c_row2_col0\" class=\"data row2 col0\" >Ada Boost</td>\n",
       "      <td id=\"T_f3d8c_row2_col1\" class=\"data row2 col1\" >0.729962</td>\n",
       "      <td id=\"T_f3d8c_row2_col2\" class=\"data row2 col2\" >0.014253</td>\n",
       "    </tr>\n",
       "    <tr>\n",
       "      <th id=\"T_f3d8c_level0_row3\" class=\"row_heading level0 row3\" >4</th>\n",
       "      <td id=\"T_f3d8c_row3_col0\" class=\"data row3 col0\" >XGBoost</td>\n",
       "      <td id=\"T_f3d8c_row3_col1\" class=\"data row3 col1\" >0.727095</td>\n",
       "      <td id=\"T_f3d8c_row3_col2\" class=\"data row3 col2\" >0.016223</td>\n",
       "    </tr>\n",
       "    <tr>\n",
       "      <th id=\"T_f3d8c_level0_row4\" class=\"row_heading level0 row4\" >1</th>\n",
       "      <td id=\"T_f3d8c_row4_col0\" class=\"data row4 col0\" >Random Forest</td>\n",
       "      <td id=\"T_f3d8c_row4_col1\" class=\"data row4 col1\" >0.723931</td>\n",
       "      <td id=\"T_f3d8c_row4_col2\" class=\"data row4 col2\" >0.014132</td>\n",
       "    </tr>\n",
       "    <tr>\n",
       "      <th id=\"T_f3d8c_level0_row5\" class=\"row_heading level0 row5\" >0</th>\n",
       "      <td id=\"T_f3d8c_row5_col0\" class=\"data row5 col0\" >Logistic Regression</td>\n",
       "      <td id=\"T_f3d8c_row5_col1\" class=\"data row5 col1\" >0.721488</td>\n",
       "      <td id=\"T_f3d8c_row5_col2\" class=\"data row5 col2\" >0.016640</td>\n",
       "    </tr>\n",
       "    <tr>\n",
       "      <th id=\"T_f3d8c_level0_row6\" class=\"row_heading level0 row6\" >3</th>\n",
       "      <td id=\"T_f3d8c_row6_col0\" class=\"data row6 col0\" >Support Vector Machines</td>\n",
       "      <td id=\"T_f3d8c_row6_col1\" class=\"data row6 col1\" >0.710287</td>\n",
       "      <td id=\"T_f3d8c_row6_col2\" class=\"data row6 col2\" >0.015862</td>\n",
       "    </tr>\n",
       "    <tr>\n",
       "      <th id=\"T_f3d8c_level0_row7\" class=\"row_heading level0 row7\" >8</th>\n",
       "      <td id=\"T_f3d8c_row7_col0\" class=\"data row7 col0\" >KNeighbors</td>\n",
       "      <td id=\"T_f3d8c_row7_col1\" class=\"data row7 col1\" >0.700086</td>\n",
       "      <td id=\"T_f3d8c_row7_col2\" class=\"data row7 col2\" >0.015539</td>\n",
       "    </tr>\n",
       "    <tr>\n",
       "      <th id=\"T_f3d8c_level0_row8\" class=\"row_heading level0 row8\" >2</th>\n",
       "      <td id=\"T_f3d8c_row8_col0\" class=\"data row8 col0\" >Decision Tree</td>\n",
       "      <td id=\"T_f3d8c_row8_col1\" class=\"data row8 col1\" >0.658288</td>\n",
       "      <td id=\"T_f3d8c_row8_col2\" class=\"data row8 col2\" >0.014724</td>\n",
       "    </tr>\n",
       "    <tr>\n",
       "      <th id=\"T_f3d8c_level0_row9\" class=\"row_heading level0 row9\" >9</th>\n",
       "      <td id=\"T_f3d8c_row9_col0\" class=\"data row9 col0\" >GaussianNB</td>\n",
       "      <td id=\"T_f3d8c_row9_col1\" class=\"data row9 col1\" >0.539646</td>\n",
       "      <td id=\"T_f3d8c_row9_col2\" class=\"data row9 col2\" >0.015051</td>\n",
       "    </tr>\n",
       "  </tbody>\n",
       "</table>\n"
      ],
      "text/plain": [
       "<pandas.io.formats.style.Styler at 0x18f5d4126a0>"
      ]
     },
     "execution_count": 63,
     "metadata": {},
     "output_type": "execute_result"
    }
   ],
   "source": [
    "results = pd.DataFrame({\"Algorithm\": [\"Logistic Regression\", \"Random Forest\", \"Decision Tree\", \"Support Vector Machines\",\n",
    "                        \"XGBoost\", \"Ada Boost\", \"Gradient Boosting\",\"Bagging Classifier\", \"KNeighbors\", \"GaussianNB\"],\n",
    "             \"Accuracy_mean\": [cv_result.mean() for cv_result in cv_results],\n",
    "             \"Std\": [cv_result.std() for cv_result in cv_results]})\n",
    "\n",
    "results = results.sort_values(by=\"Accuracy_mean\", ascending=False).style.background_gradient(cmap='Blues', subset=['Accuracy_mean'])\n",
    "results"
   ]
  },
  {
   "cell_type": "markdown",
   "id": "_F0KCZQeSgHz",
   "metadata": {
    "id": "_F0KCZQeSgHz"
   },
   "source": [
    "## Gradient Boosting"
   ]
  },
  {
   "cell_type": "code",
   "execution_count": 71,
   "id": "29c6ba86",
   "metadata": {
    "colab": {
     "base_uri": "https://localhost:8080/"
    },
    "executionInfo": {
     "elapsed": 879,
     "status": "ok",
     "timestamp": 1637834039477,
     "user": {
      "displayName": "Tran Huy Nam",
      "photoUrl": "https://lh3.googleusercontent.com/a-/AOh14GgqMfZGpWEbv6FOhjZxevciY8lZ8ZSpthCFFDe92A=s64",
      "userId": "10623278435832509850"
     },
     "user_tz": -60
    },
    "id": "29c6ba86",
    "outputId": "8a712dd7-c7e4-42b4-b8bc-6c3f19ffdd14"
   },
   "outputs": [
    {
     "name": "stdout",
     "output_type": "stream",
     "text": [
      "train score: 0.754 | test score: 0.747\n"
     ]
    }
   ],
   "source": [
    "df4 = pd.read_csv(\"data_ML_avec_outliers.csv\").drop('Unnamed: 0', axis = 'columns')\n",
    "df4 = df4.dropna()\n",
    "\n",
    "X = df4[[\"funding_total_usd\", \"funding_rounds\",\"company_age\", \"funding_day\", \"funding_range_1_2\"]]\n",
    "y = df4[\"status\"]\n",
    "z = df4[\"name\"]\n",
    "\n",
    "X_train, X_test, y_train, y_test, z_train, z_test = train_test_split(X, y, z, test_size = 0.2, random_state=0, stratify=y)\n",
    "\n",
    "sc_x = StandardScaler()\n",
    "X_train = sc_x.fit_transform(X_train)\n",
    "X_test = sc_x.transform(X_test)\n",
    "\n",
    "# Encode label\n",
    "labelencoder = LabelEncoder()\n",
    "y_train = labelencoder.fit_transform(y_train)\n",
    "y_test = labelencoder.transform(y_test)\n",
    "\n",
    "params = {\"n_estimators\": 100, \"learning_rate\": 0.05}\n",
    "\n",
    "gbc = GradientBoostingClassifier(learning_rate=0.05, n_estimators=100)\n",
    "gbc.fit(X_train, y_train)\n",
    "print('train score: {:.3f} | test score: {:.3f}'.format(gbc.score(X_train,y_train),gbc.score(X_test,y_test)))"
   ]
  },
  {
   "cell_type": "code",
   "execution_count": 72,
   "id": "f7cd3602",
   "metadata": {},
   "outputs": [
    {
     "data": {
      "text/plain": [
       "100"
      ]
     },
     "execution_count": 72,
     "metadata": {},
     "output_type": "execute_result"
    }
   ],
   "source": [
    "n_estimators = params[\"n_estimators\"]\n",
    "n_estimators"
   ]
  },
  {
   "cell_type": "code",
   "execution_count": 73,
   "id": "48de1cac",
   "metadata": {},
   "outputs": [
    {
     "name": "stdout",
     "output_type": "stream",
     "text": [
      "The cross-validated accuracy score is : 0.746\n",
      "The standard deviation is : 0.013\n"
     ]
    }
   ],
   "source": [
    "scores_gbc = cross_val_score(gbc, X_train, y_train, cv=10)\n",
    "print('The cross-validated accuracy score is : {:.3f}'.format(scores_gbc.mean()))\n",
    "print('The standard deviation is : {:.3f}'.format(scores_gbc.std()))"
   ]
  },
  {
   "cell_type": "code",
   "execution_count": 74,
   "id": "eccd2225",
   "metadata": {
    "executionInfo": {
     "elapsed": 25,
     "status": "ok",
     "timestamp": 1637834039479,
     "user": {
      "displayName": "Tran Huy Nam",
      "photoUrl": "https://lh3.googleusercontent.com/a-/AOh14GgqMfZGpWEbv6FOhjZxevciY8lZ8ZSpthCFFDe92A=s64",
      "userId": "10623278435832509850"
     },
     "user_tz": -60
    },
    "id": "eccd2225"
   },
   "outputs": [],
   "source": [
    "y_train_pred_gbc = gbc.predict(X_train)\n",
    "y_test_pred_gbc = gbc.predict(X_test)"
   ]
  },
  {
   "cell_type": "code",
   "execution_count": 75,
   "id": "6b22a1d3",
   "metadata": {},
   "outputs": [
    {
     "data": {
      "text/plain": [
       "array([1.31234943, 1.29165801, 1.27273257, 1.25551758, 1.24047584,\n",
       "       1.22634537, 1.21317421, 1.20116169, 1.19011929, 1.17999885,\n",
       "       1.17058814, 1.16236595, 1.15440393, 1.14712738, 1.14002125,\n",
       "       1.13356233, 1.12762183, 1.12224715, 1.11689343, 1.11186154,\n",
       "       1.10727836, 1.10291119, 1.09889654, 1.09489747, 1.09144815,\n",
       "       1.08777921, 1.08517948, 1.08208483, 1.07950769, 1.07694699,\n",
       "       1.07449623, 1.07221327, 1.07016516, 1.0681394 , 1.06639552,\n",
       "       1.0645001 , 1.06301797, 1.0616844 , 1.06024004, 1.05898709,\n",
       "       1.05780827, 1.05660535, 1.05518342, 1.0538715 , 1.05288633,\n",
       "       1.05175543, 1.05085142, 1.05051953, 1.04950172, 1.04864365,\n",
       "       1.04802701, 1.04719446, 1.04654616, 1.04595035, 1.04519006,\n",
       "       1.04487893, 1.04416344, 1.04346319, 1.04352509, 1.04308768,\n",
       "       1.0426716 , 1.04205027, 1.0420882 , 1.04171069, 1.04126796,\n",
       "       1.04102583, 1.04075586, 1.04056598, 1.04053912, 1.03976398,\n",
       "       1.03938709, 1.03941166, 1.03894637, 1.03873602, 1.03892037,\n",
       "       1.03869256, 1.03855061, 1.03834355, 1.03783763, 1.03763674,\n",
       "       1.03707512, 1.0369703 , 1.03665636, 1.0364799 , 1.03637417,\n",
       "       1.03587714, 1.03569141, 1.0356962 , 1.03583284, 1.03578562,\n",
       "       1.03556744, 1.03544691, 1.03527326, 1.03573525, 1.03565642,\n",
       "       1.03548503, 1.03536742, 1.03533938, 1.03504511, 1.03491268])"
      ]
     },
     "execution_count": 75,
     "metadata": {},
     "output_type": "execute_result"
    }
   ],
   "source": [
    "#https://scikit-learn.org/stable/auto_examples/ensemble/plot_gradient_boosting_oob.html#sphx-glr-auto-examples-ensemble-plot-gradient-boosting-oob-py\n",
    "def heldout_score(gbc, X_test, y_test):\n",
    "    \"\"\"compute deviance scores on ``X_test`` and ``y_test``.\"\"\"\n",
    "    test_score = np.zeros((n_estimators,), dtype=np.float64)\n",
    "    for i, y_pred in enumerate(gbc.staged_decision_function(X_test)):\n",
    "        test_score[i] = gbc.loss_(y_test, y_pred)\n",
    "    return test_score\n",
    "\n",
    "test_score = heldout_score(gbc, X_test, y_test)\n",
    "test_score"
   ]
  },
  {
   "cell_type": "code",
   "execution_count": 84,
   "id": "028ae916",
   "metadata": {},
   "outputs": [
    {
     "data": {
      "image/png": "[encoded data removed]",
      "text/plain": [
       "<Figure size 432x288 with 1 Axes>"
      ]
     },
     "metadata": {
      "needs_background": "light"
     },
     "output_type": "display_data"
    }
   ],
   "source": [
    "plt.figure(figsize=(6,4))\n",
    "plt.plot(np.arange(n_estimators) + 1, gbc.train_score_, lw=3, label=\"Training Set Deviance\", color='b')\n",
    "plt.plot(np.arange(n_estimators) + 1, test_score, \"r-\", lw=3, label=\"Test Set Deviance\", color='r')\n",
    "plt.xticks(fontsize = 14)\n",
    "plt.yticks(fontsize = 14)\n",
    "plt.xlabel(\"Nombre d'estimateurs\",labelpad = 12, fontsize = 16)\n",
    "plt.ylabel(\"Déviance du modèle  \",labelpad = 12, fontsize = 15)\n",
    "plt.xlim(0, 100)\n",
    "#plt.ylim(1, 1.35)\n",
    "plt.legend(loc=\"upper right\", fontsize = 15)\n",
    "plt.show()"
   ]
  },
  {
   "cell_type": "code",
   "execution_count": 85,
   "id": "c7e394e4",
   "metadata": {},
   "outputs": [
    {
     "data": {
      "text/plain": [
       "array([ 0,  1,  2,  3,  4,  5,  6,  7,  8,  9, 10, 11, 12, 13, 14, 15, 16,\n",
       "       17, 18, 19, 20, 21, 22, 23, 24, 25, 26, 27, 28, 29, 30, 31, 32, 33,\n",
       "       34, 35, 36, 37, 38, 39, 40, 41, 42, 43, 44, 45, 46, 47, 48, 49, 50,\n",
       "       51, 52, 53, 54, 55, 56, 57, 58, 59, 60, 61, 62, 63, 64, 65, 66, 67,\n",
       "       68, 69, 70, 71, 72, 73, 74, 75, 76, 77, 78, 79, 80, 81, 82, 83, 84,\n",
       "       85, 86, 87, 88, 89, 90, 91, 92, 93, 94, 95, 96, 97, 98, 99])"
      ]
     },
     "execution_count": 85,
     "metadata": {},
     "output_type": "execute_result"
    }
   ],
   "source": [
    "np.arange(n_estimators)"
   ]
  },
  {
   "cell_type": "code",
   "execution_count": 86,
   "id": "i8KcY4q7Vi6I",
   "metadata": {
    "colab": {
     "base_uri": "https://localhost:8080/"
    },
    "executionInfo": {
     "elapsed": 25,
     "status": "ok",
     "timestamp": 1637834039481,
     "user": {
      "displayName": "Tran Huy Nam",
      "photoUrl": "https://lh3.googleusercontent.com/a-/AOh14GgqMfZGpWEbv6FOhjZxevciY8lZ8ZSpthCFFDe92A=s64",
      "userId": "10623278435832509850"
     },
     "user_tz": -60
    },
    "id": "i8KcY4q7Vi6I",
    "outputId": "b1137114-865a-4316-f12d-9051104fcbc3"
   },
   "outputs": [
    {
     "data": {
      "text/plain": [
       "['mymodel.joblib']"
      ]
     },
     "execution_count": 86,
     "metadata": {},
     "output_type": "execute_result"
    }
   ],
   "source": [
    "from joblib import dump,load\n",
    "dump(gbc, 'mymodel.joblib') "
   ]
  },
  {
   "cell_type": "code",
   "execution_count": 87,
   "id": "e63bff39",
   "metadata": {},
   "outputs": [
    {
     "data": {
      "text/plain": [
       "['myscaler.joblib']"
      ]
     },
     "execution_count": 87,
     "metadata": {},
     "output_type": "execute_result"
    }
   ],
   "source": [
    "dump(sc_x, 'myscaler.joblib') "
   ]
  },
  {
   "cell_type": "code",
   "execution_count": 89,
   "id": "b9d80d40",
   "metadata": {
    "colab": {
     "base_uri": "https://localhost:8080/",
     "height": 288
    },
    "executionInfo": {
     "elapsed": 401,
     "status": "ok",
     "timestamp": 1637834097973,
     "user": {
      "displayName": "Tran Huy Nam",
      "photoUrl": "https://lh3.googleusercontent.com/a-/AOh14GgqMfZGpWEbv6FOhjZxevciY8lZ8ZSpthCFFDe92A=s64",
      "userId": "10623278435832509850"
     },
     "user_tz": -60
    },
    "id": "b9d80d40",
    "outputId": "1e896b92-054b-41d6-f6da-a44b9c53f3ba"
   },
   "outputs": [
    {
     "data": {
      "image/png": "[encoded data removed]",
      "text/plain": [
       "<Figure size 288x288 with 2 Axes>"
      ]
     },
     "metadata": {
      "needs_background": "light"
     },
     "output_type": "display_data"
    }
   ],
   "source": [
    "_ , ax = plt.subplots(figsize=(4,4))\n",
    "ax.set_title(\"Confusion Matrix on Train set\", fontdict={'fontsize': 13, 'fontweight': 'medium'})\n",
    "ConfusionMatrixDisplay.from_predictions(y_train, y_train_pred_gbc, ax=ax, normalize = 'true',\n",
    "                                        display_labels=labelencoder.inverse_transform(gbc.classes_))\n",
    "font = {'family' : 'Arial',\n",
    "    'weight' : 'medium',\n",
    "    'size'   : 16}\n",
    "plt.rc('font', **font)\n",
    "plt.show()"
   ]
  },
  {
   "cell_type": "code",
   "execution_count": 90,
   "id": "iEGWgX4AhUgF",
   "metadata": {
    "colab": {
     "base_uri": "https://localhost:8080/",
     "height": 313
    },
    "executionInfo": {
     "elapsed": 342,
     "status": "ok",
     "timestamp": 1637834208278,
     "user": {
      "displayName": "Tran Huy Nam",
      "photoUrl": "https://lh3.googleusercontent.com/a-/AOh14GgqMfZGpWEbv6FOhjZxevciY8lZ8ZSpthCFFDe92A=s64",
      "userId": "10623278435832509850"
     },
     "user_tz": -60
    },
    "id": "iEGWgX4AhUgF",
    "outputId": "918f524a-6ea3-492f-d3a5-9427816cad99"
   },
   "outputs": [
    {
     "data": {
      "image/png": "[encoded data removed]",
      "text/plain": [
       "<Figure size 288x288 with 2 Axes>"
      ]
     },
     "metadata": {
      "needs_background": "light"
     },
     "output_type": "display_data"
    }
   ],
   "source": [
    "_ , ax = plt.subplots(figsize=(4,4))\n",
    "ax.set_title(\"Confusion Matrix on Test set\", fontdict={'fontsize': 13, 'fontweight': 'medium'})\n",
    "ConfusionMatrixDisplay.from_predictions(y_test, y_test_pred_gbc, ax=ax, normalize = 'true',\n",
    "                                        display_labels=labelencoder.inverse_transform(gbc.classes_))\n",
    "font = {'family' : 'Arial',\n",
    "    'weight' : 'medium',\n",
    "    'size'   : 18}\n",
    "plt.rc('font', **font)\n",
    "plt.show()"
   ]
  },
  {
   "cell_type": "code",
   "execution_count": 91,
   "id": "4d5994bc",
   "metadata": {
    "colab": {
     "base_uri": "https://localhost:8080/"
    },
    "executionInfo": {
     "elapsed": 42,
     "status": "ok",
     "timestamp": 1637834039957,
     "user": {
      "displayName": "Tran Huy Nam",
      "photoUrl": "https://lh3.googleusercontent.com/a-/AOh14GgqMfZGpWEbv6FOhjZxevciY8lZ8ZSpthCFFDe92A=s64",
      "userId": "10623278435832509850"
     },
     "user_tz": -60
    },
    "id": "4d5994bc",
    "outputId": "01f5151c-224a-454f-bf75-2f1488f9cbde"
   },
   "outputs": [
    {
     "name": "stdout",
     "output_type": "stream",
     "text": [
      "              precision    recall  f1-score   support\n",
      "\n",
      "     failure       0.72      0.60      0.65      2699\n",
      "     success       0.77      0.85      0.81      4263\n",
      "\n",
      "    accuracy                           0.75      6962\n",
      "   macro avg       0.74      0.73      0.73      6962\n",
      "weighted avg       0.75      0.75      0.75      6962\n",
      "\n"
     ]
    }
   ],
   "source": [
    "print(classification_report(y_train, y_train_pred_gbc,  target_names=labelencoder.inverse_transform(gbc.classes_)))"
   ]
  },
  {
   "cell_type": "code",
   "execution_count": 92,
   "id": "c6334c14",
   "metadata": {},
   "outputs": [
    {
     "data": {
      "text/html": [
       "<div><div id=3a39722f-02f2-4e3f-a4e8-1b037d1dc168 style=\"display:none; background-color:#9D6CFF; color:white; width:200px; height:30px; padding-left:5px; border-radius:4px; flex-direction:row; justify-content:space-around; align-items:center;\" onmouseover=\"this.style.backgroundColor='#BA9BF8'\" onmouseout=\"this.style.backgroundColor='#9D6CFF'\" onclick=\"window.commands?.execute('create-mitosheet-from-dataframe-output');\">See Full Dataframe in Mito</div> <script> if (window.commands.hasCommand('create-mitosheet-from-dataframe-output')) document.getElementById('3a39722f-02f2-4e3f-a4e8-1b037d1dc168').style.display = 'flex' </script> <table border=\"1\" class=\"dataframe\">\n",
       "  <thead>\n",
       "    <tr style=\"text-align: right;\">\n",
       "      <th></th>\n",
       "      <th>precision</th>\n",
       "      <th>recall</th>\n",
       "      <th>f1-score</th>\n",
       "      <th>support</th>\n",
       "    </tr>\n",
       "  </thead>\n",
       "  <tbody>\n",
       "    <tr>\n",
       "      <th>failure</th>\n",
       "      <td>0.72</td>\n",
       "      <td>0.60</td>\n",
       "      <td>0.65</td>\n",
       "      <td>2699.00</td>\n",
       "    </tr>\n",
       "    <tr>\n",
       "      <th>success</th>\n",
       "      <td>0.77</td>\n",
       "      <td>0.85</td>\n",
       "      <td>0.81</td>\n",
       "      <td>4263.00</td>\n",
       "    </tr>\n",
       "    <tr>\n",
       "      <th>accuracy</th>\n",
       "      <td>0.75</td>\n",
       "      <td>0.75</td>\n",
       "      <td>0.75</td>\n",
       "      <td>0.75</td>\n",
       "    </tr>\n",
       "    <tr>\n",
       "      <th>macro avg</th>\n",
       "      <td>0.74</td>\n",
       "      <td>0.73</td>\n",
       "      <td>0.73</td>\n",
       "      <td>6962.00</td>\n",
       "    </tr>\n",
       "    <tr>\n",
       "      <th>weighted avg</th>\n",
       "      <td>0.75</td>\n",
       "      <td>0.75</td>\n",
       "      <td>0.75</td>\n",
       "      <td>6962.00</td>\n",
       "    </tr>\n",
       "  </tbody>\n",
       "</table></div>"
      ],
      "text/plain": [
       "              precision  recall  f1-score  support\n",
       "failure            0.72    0.60      0.65  2699.00\n",
       "success            0.77    0.85      0.81  4263.00\n",
       "accuracy           0.75    0.75      0.75     0.75\n",
       "macro avg          0.74    0.73      0.73  6962.00\n",
       "weighted avg       0.75    0.75      0.75  6962.00"
      ]
     },
     "execution_count": 92,
     "metadata": {},
     "output_type": "execute_result"
    }
   ],
   "source": [
    "train_rep=classification_report(y_train, y_train_pred_gbc, output_dict=True,\n",
    "                                target_names=labelencoder.inverse_transform(gbc.classes_))\n",
    "\n",
    "train_df=round(pd.DataFrame(train_rep).transpose(), 2)\n",
    "train_df.head()"
   ]
  },
  {
   "cell_type": "code",
   "execution_count": 93,
   "id": "faa5d5e9",
   "metadata": {
    "colab": {
     "base_uri": "https://localhost:8080/",
     "height": 206
    },
    "executionInfo": {
     "elapsed": 291,
     "status": "ok",
     "timestamp": 1637834167320,
     "user": {
      "displayName": "Tran Huy Nam",
      "photoUrl": "https://lh3.googleusercontent.com/a-/AOh14GgqMfZGpWEbv6FOhjZxevciY8lZ8ZSpthCFFDe92A=s64",
      "userId": "10623278435832509850"
     },
     "user_tz": -60
    },
    "id": "faa5d5e9",
    "outputId": "85b7b1cb-1fd5-4f59-d328-78ade44b86bd"
   },
   "outputs": [
    {
     "data": {
      "text/html": [
       "<div><div id=2581ac91-d775-464f-9972-0c13b9bd7020 style=\"display:none; background-color:#9D6CFF; color:white; width:200px; height:30px; padding-left:5px; border-radius:4px; flex-direction:row; justify-content:space-around; align-items:center;\" onmouseover=\"this.style.backgroundColor='#BA9BF8'\" onmouseout=\"this.style.backgroundColor='#9D6CFF'\" onclick=\"window.commands?.execute('create-mitosheet-from-dataframe-output');\">See Full Dataframe in Mito</div> <script> if (window.commands.hasCommand('create-mitosheet-from-dataframe-output')) document.getElementById('2581ac91-d775-464f-9972-0c13b9bd7020').style.display = 'flex' </script> <table border=\"1\" class=\"dataframe\">\n",
       "  <thead>\n",
       "    <tr style=\"text-align: right;\">\n",
       "      <th></th>\n",
       "      <th>features</th>\n",
       "      <th>score</th>\n",
       "      <th>percentage</th>\n",
       "    </tr>\n",
       "  </thead>\n",
       "  <tbody>\n",
       "    <tr>\n",
       "      <th>0</th>\n",
       "      <td>Funding total (USD)</td>\n",
       "      <td>0.603176</td>\n",
       "      <td>60.317605</td>\n",
       "    </tr>\n",
       "    <tr>\n",
       "      <th>2</th>\n",
       "      <td>Company age</td>\n",
       "      <td>0.178304</td>\n",
       "      <td>17.830445</td>\n",
       "    </tr>\n",
       "    <tr>\n",
       "      <th>4</th>\n",
       "      <td>Time between first-last funding</td>\n",
       "      <td>0.112706</td>\n",
       "      <td>11.270610</td>\n",
       "    </tr>\n",
       "    <tr>\n",
       "      <th>1</th>\n",
       "      <td>Funding rounds</td>\n",
       "      <td>0.059564</td>\n",
       "      <td>5.956356</td>\n",
       "    </tr>\n",
       "    <tr>\n",
       "      <th>3</th>\n",
       "      <td>Time to get first funding</td>\n",
       "      <td>0.046250</td>\n",
       "      <td>4.624985</td>\n",
       "    </tr>\n",
       "  </tbody>\n",
       "</table></div>"
      ],
      "text/plain": [
       "                          features     score  percentage\n",
       "0              Funding total (USD)  0.603176   60.317605\n",
       "2                      Company age  0.178304   17.830445\n",
       "4  Time between first-last funding  0.112706   11.270610\n",
       "1                   Funding rounds  0.059564    5.956356\n",
       "3        Time to get first funding  0.046250    4.624985"
      ]
     },
     "execution_count": 93,
     "metadata": {},
     "output_type": "execute_result"
    }
   ],
   "source": [
    "feature_importance = pd.DataFrame({\"features\": X.columns, \n",
    "                                   \"score\": gbc.feature_importances_}).sort_values(by=\"score\", ascending=False)\n",
    "\n",
    "feature_importance['features'] = feature_importance['features'].replace({\n",
    "                                                            'funding_total_usd': 'Funding total (USD)',  \n",
    "                                                            'company_age': 'Company age', \n",
    "                                                            'funding_range_1_2': 'Time between first-last funding', \n",
    "                                                            'funding_rounds': 'Funding rounds',\n",
    "                                                            'funding_day': 'Time to get first funding'})\n",
    "\n",
    "feature_importance[\"percentage\"]= (feature_importance[\"score\"]/feature_importance[\"score\"].sum())*100\n",
    "feature_importance    "
   ]
  },
  {
   "cell_type": "code",
   "execution_count": 94,
   "id": "H-wn_5rxhi1F",
   "metadata": {
    "colab": {
     "base_uri": "https://localhost:8080/",
     "height": 351
    },
    "executionInfo": {
     "elapsed": 731,
     "status": "ok",
     "timestamp": 1637834424402,
     "user": {
      "displayName": "Tran Huy Nam",
      "photoUrl": "https://lh3.googleusercontent.com/a-/AOh14GgqMfZGpWEbv6FOhjZxevciY8lZ8ZSpthCFFDe92A=s64",
      "userId": "10623278435832509850"
     },
     "user_tz": -60
    },
    "id": "H-wn_5rxhi1F",
    "outputId": "1d49571b-0341-43b9-f884-f5a7bcfa9163"
   },
   "outputs": [
    {
     "data": {
      "image/png": "[encoded data removed]",
      "text/plain": [
       "<Figure size 720x360 with 1 Axes>"
      ]
     },
     "metadata": {
      "needs_background": "light"
     },
     "output_type": "display_data"
    }
   ],
   "source": [
    "sns.catplot(y ='features', x='percentage',data=feature_importance, kind=\"bar\", aspect=1/0.5)\n",
    "plt.xticks(fontsize = 13, rotation = 0)\n",
    "plt.yticks(fontsize = 13, rotation = 0)\n",
    "plt.xlabel(\"Factors important (%)\",labelpad = 12, fontsize = 14)\n",
    "plt.ylabel(\"Features\",labelpad = 12, fontsize = 15)\n",
    "plt.show()"
   ]
  },
  {
   "cell_type": "code",
   "execution_count": 95,
   "id": "6e268de8",
   "metadata": {
    "colab": {
     "base_uri": "https://localhost:8080/",
     "height": 426
    },
    "executionInfo": {
     "elapsed": 693,
     "status": "ok",
     "timestamp": 1637834433927,
     "user": {
      "displayName": "Tran Huy Nam",
      "photoUrl": "https://lh3.googleusercontent.com/a-/AOh14GgqMfZGpWEbv6FOhjZxevciY8lZ8ZSpthCFFDe92A=s64",
      "userId": "10623278435832509850"
     },
     "user_tz": -60
    },
    "id": "6e268de8",
    "outputId": "d4a9534e-d069-4d2a-c5a8-0aca1e79e669"
   },
   "outputs": [
    {
     "data": {
      "image/png": "[encoded data removed]",
      "text/plain": [
       "<Figure size 576x432 with 1 Axes>"
      ]
     },
     "metadata": {
      "needs_background": "light"
     },
     "output_type": "display_data"
    }
   ],
   "source": [
    "# Visualize ROC curves\n",
    "_ , ax = plt.subplots(figsize = (8,6)) # Get subplot from matplotlib\n",
    "ax.set(title=\"ROC Curve on Train-Test of Gradient Boosting Classifier\") # Set a title that we will add into ConfusionMatrixDisplay\n",
    "RocCurveDisplay.from_estimator(gbc, X_train, y_train, ax=ax, lw=12, name=\"Train\") # RocCurveDisplay from sklearn\n",
    "RocCurveDisplay.from_estimator(gbc, X_test, y_test, ax=ax, lw=5, name=\"Test\") # RocCurveDisplay from sklearn\n",
    "plt.show()"
   ]
  },
  {
   "cell_type": "code",
   "execution_count": 96,
   "id": "a103b4c3",
   "metadata": {
    "executionInfo": {
     "elapsed": 173,
     "status": "ok",
     "timestamp": 1637834040466,
     "user": {
      "displayName": "Tran Huy Nam",
      "photoUrl": "https://lh3.googleusercontent.com/a-/AOh14GgqMfZGpWEbv6FOhjZxevciY8lZ8ZSpthCFFDe92A=s64",
      "userId": "10623278435832509850"
     },
     "user_tz": -60
    },
    "id": "a103b4c3"
   },
   "outputs": [],
   "source": [
    "y_test_prob_gbc = gbc.predict_proba(X_test)\n",
    "y_train_prob_gbc = gbc.predict_proba(X_train)"
   ]
  },
  {
   "cell_type": "code",
   "execution_count": 97,
   "id": "740d3caf",
   "metadata": {
    "colab": {
     "base_uri": "https://localhost:8080/",
     "height": 206
    },
    "executionInfo": {
     "elapsed": 168,
     "status": "ok",
     "timestamp": 1637834040469,
     "user": {
      "displayName": "Tran Huy Nam",
      "photoUrl": "https://lh3.googleusercontent.com/a-/AOh14GgqMfZGpWEbv6FOhjZxevciY8lZ8ZSpthCFFDe92A=s64",
      "userId": "10623278435832509850"
     },
     "user_tz": -60
    },
    "id": "740d3caf",
    "outputId": "cfdf2556-4131-40e6-bceb-2777f6d749f3"
   },
   "outputs": [
    {
     "data": {
      "text/html": [
       "<div><div id=9eba6a01-7981-49a5-be38-5fac2558edcc style=\"display:none; background-color:#9D6CFF; color:white; width:200px; height:30px; padding-left:5px; border-radius:4px; flex-direction:row; justify-content:space-around; align-items:center;\" onmouseover=\"this.style.backgroundColor='#BA9BF8'\" onmouseout=\"this.style.backgroundColor='#9D6CFF'\" onclick=\"window.commands?.execute('create-mitosheet-from-dataframe-output');\">See Full Dataframe in Mito</div> <script> if (window.commands.hasCommand('create-mitosheet-from-dataframe-output')) document.getElementById('9eba6a01-7981-49a5-be38-5fac2558edcc').style.display = 'flex' </script> <table border=\"1\" class=\"dataframe\">\n",
       "  <thead>\n",
       "    <tr style=\"text-align: right;\">\n",
       "      <th></th>\n",
       "      <th>index</th>\n",
       "      <th>name</th>\n",
       "    </tr>\n",
       "  </thead>\n",
       "  <tbody>\n",
       "    <tr>\n",
       "      <th>0</th>\n",
       "      <td>3491</td>\n",
       "      <td>Motionbox</td>\n",
       "    </tr>\n",
       "    <tr>\n",
       "      <th>1</th>\n",
       "      <td>6962</td>\n",
       "      <td>SupportSpace</td>\n",
       "    </tr>\n",
       "    <tr>\n",
       "      <th>2</th>\n",
       "      <td>6902</td>\n",
       "      <td>Kyma Medical Technologies</td>\n",
       "    </tr>\n",
       "    <tr>\n",
       "      <th>3</th>\n",
       "      <td>3156</td>\n",
       "      <td>LVL7 Systems</td>\n",
       "    </tr>\n",
       "    <tr>\n",
       "      <th>4</th>\n",
       "      <td>1725</td>\n",
       "      <td>Empowered Careers</td>\n",
       "    </tr>\n",
       "  </tbody>\n",
       "</table></div>"
      ],
      "text/plain": [
       "   index                       name\n",
       "0   3491                  Motionbox\n",
       "1   6962               SupportSpace\n",
       "2   6902  Kyma Medical Technologies\n",
       "3   3156               LVL7 Systems\n",
       "4   1725          Empowered Careers"
      ]
     },
     "execution_count": 97,
     "metadata": {},
     "output_type": "execute_result"
    }
   ],
   "source": [
    "z_train = z_train.reset_index()\n",
    "z_train.head()"
   ]
  },
  {
   "cell_type": "code",
   "execution_count": 98,
   "id": "455f5436",
   "metadata": {
    "colab": {
     "base_uri": "https://localhost:8080/",
     "height": 226
    },
    "executionInfo": {
     "elapsed": 182,
     "status": "ok",
     "timestamp": 1637834040493,
     "user": {
      "displayName": "Tran Huy Nam",
      "photoUrl": "https://lh3.googleusercontent.com/a-/AOh14GgqMfZGpWEbv6FOhjZxevciY8lZ8ZSpthCFFDe92A=s64",
      "userId": "10623278435832509850"
     },
     "user_tz": -60
    },
    "id": "455f5436",
    "outputId": "cb704897-591d-4227-ac88-878c64dc475e"
   },
   "outputs": [
    {
     "data": {
      "text/html": [
       "<div><div id=602cf80e-6a00-4dea-b81e-b1ba3bb5a6f6 style=\"display:none; background-color:#9D6CFF; color:white; width:200px; height:30px; padding-left:5px; border-radius:4px; flex-direction:row; justify-content:space-around; align-items:center;\" onmouseover=\"this.style.backgroundColor='#BA9BF8'\" onmouseout=\"this.style.backgroundColor='#9D6CFF'\" onclick=\"window.commands?.execute('create-mitosheet-from-dataframe-output');\">See Full Dataframe in Mito</div> <script> if (window.commands.hasCommand('create-mitosheet-from-dataframe-output')) document.getElementById('602cf80e-6a00-4dea-b81e-b1ba3bb5a6f6').style.display = 'flex' </script> <table border=\"1\" class=\"dataframe\">\n",
       "  <thead>\n",
       "    <tr style=\"text-align: right;\">\n",
       "      <th></th>\n",
       "      <th>funding_total_usd</th>\n",
       "      <th>funding_rounds</th>\n",
       "      <th>company_age</th>\n",
       "      <th>funding_day</th>\n",
       "      <th>funding_range_1_2</th>\n",
       "      <th>proba</th>\n",
       "      <th>status</th>\n",
       "      <th>prediction</th>\n",
       "      <th>difference</th>\n",
       "    </tr>\n",
       "  </thead>\n",
       "  <tbody>\n",
       "    <tr>\n",
       "      <th>0</th>\n",
       "      <td>17200000.0</td>\n",
       "      <td>3.0</td>\n",
       "      <td>16.0</td>\n",
       "      <td>243.0</td>\n",
       "      <td>866.0</td>\n",
       "      <td>0.817372</td>\n",
       "      <td>success</td>\n",
       "      <td>success</td>\n",
       "      <td>True</td>\n",
       "    </tr>\n",
       "    <tr>\n",
       "      <th>1</th>\n",
       "      <td>36250000.0</td>\n",
       "      <td>4.0</td>\n",
       "      <td>16.0</td>\n",
       "      <td>53.0</td>\n",
       "      <td>1725.0</td>\n",
       "      <td>0.828668</td>\n",
       "      <td>failure</td>\n",
       "      <td>success</td>\n",
       "      <td>False</td>\n",
       "    </tr>\n",
       "    <tr>\n",
       "      <th>2</th>\n",
       "      <td>10000000.0</td>\n",
       "      <td>1.0</td>\n",
       "      <td>14.0</td>\n",
       "      <td>2106.0</td>\n",
       "      <td>0.0</td>\n",
       "      <td>0.553158</td>\n",
       "      <td>success</td>\n",
       "      <td>success</td>\n",
       "      <td>True</td>\n",
       "    </tr>\n",
       "    <tr>\n",
       "      <th>3</th>\n",
       "      <td>49300000.0</td>\n",
       "      <td>3.0</td>\n",
       "      <td>23.0</td>\n",
       "      <td>1364.0</td>\n",
       "      <td>868.0</td>\n",
       "      <td>0.844144</td>\n",
       "      <td>success</td>\n",
       "      <td>success</td>\n",
       "      <td>True</td>\n",
       "    </tr>\n",
       "    <tr>\n",
       "      <th>4</th>\n",
       "      <td>19391496.0</td>\n",
       "      <td>2.0</td>\n",
       "      <td>11.0</td>\n",
       "      <td>22.0</td>\n",
       "      <td>743.0</td>\n",
       "      <td>0.737639</td>\n",
       "      <td>success</td>\n",
       "      <td>success</td>\n",
       "      <td>True</td>\n",
       "    </tr>\n",
       "  </tbody>\n",
       "</table></div>"
      ],
      "text/plain": [
       "   funding_total_usd  funding_rounds  company_age  funding_day  \\\n",
       "0         17200000.0             3.0         16.0        243.0   \n",
       "1         36250000.0             4.0         16.0         53.0   \n",
       "2         10000000.0             1.0         14.0       2106.0   \n",
       "3         49300000.0             3.0         23.0       1364.0   \n",
       "4         19391496.0             2.0         11.0         22.0   \n",
       "\n",
       "   funding_range_1_2     proba   status prediction  difference  \n",
       "0              866.0  0.817372  success    success        True  \n",
       "1             1725.0  0.828668  failure    success       False  \n",
       "2                0.0  0.553158  success    success        True  \n",
       "3              868.0  0.844144  success    success        True  \n",
       "4              743.0  0.737639  success    success        True  "
      ]
     },
     "execution_count": 98,
     "metadata": {},
     "output_type": "execute_result"
    }
   ],
   "source": [
    "df8 = pd.DataFrame(sc_x.inverse_transform(X_train), columns = [\"funding_total_usd\", \"funding_rounds\",\"company_age\", \"funding_day\", \"funding_range_1_2\"])\n",
    "df8[\"proba\"] = gbc.predict_proba(X_train)[:,1]\n",
    "df8[\"status\"] = labelencoder.inverse_transform(y_train).tolist()\n",
    "df8[\"prediction\"] = labelencoder.inverse_transform(y_train_pred_gbc).tolist()\n",
    "df8[\"difference\"] = np.where(df8[\"status\"] == df8[\"prediction\"], True, False)\n",
    "df8.head(5)"
   ]
  },
  {
   "cell_type": "code",
   "execution_count": 99,
   "id": "e6192ddd",
   "metadata": {
    "colab": {
     "base_uri": "https://localhost:8080/"
    },
    "executionInfo": {
     "elapsed": 191,
     "status": "ok",
     "timestamp": 1637834040504,
     "user": {
      "displayName": "Tran Huy Nam",
      "photoUrl": "https://lh3.googleusercontent.com/a-/AOh14GgqMfZGpWEbv6FOhjZxevciY8lZ8ZSpthCFFDe92A=s64",
      "userId": "10623278435832509850"
     },
     "user_tz": -60
    },
    "id": "e6192ddd",
    "outputId": "d80143d9-eb92-46f2-d37b-ca55da28aece"
   },
   "outputs": [
    {
     "data": {
      "text/plain": [
       "True     75.4%\n",
       "False    24.6%\n",
       "Name: difference, dtype: object"
      ]
     },
     "execution_count": 99,
     "metadata": {},
     "output_type": "execute_result"
    }
   ],
   "source": [
    "df8[\"difference\"].value_counts(normalize=True).mul(100).round(1).astype(str) + '%'"
   ]
  },
  {
   "cell_type": "code",
   "execution_count": 100,
   "id": "ivAU4xQxOlU1",
   "metadata": {
    "colab": {
     "base_uri": "https://localhost:8080/",
     "height": 487
    },
    "executionInfo": {
     "elapsed": 187,
     "status": "ok",
     "timestamp": 1637834040507,
     "user": {
      "displayName": "Tran Huy Nam",
      "photoUrl": "https://lh3.googleusercontent.com/a-/AOh14GgqMfZGpWEbv6FOhjZxevciY8lZ8ZSpthCFFDe92A=s64",
      "userId": "10623278435832509850"
     },
     "user_tz": -60
    },
    "id": "ivAU4xQxOlU1",
    "outputId": "e42be6d7-95ad-41a2-ba96-5b1d8f8b56d2"
   },
   "outputs": [
    {
     "data": {
      "text/html": [
       "<div><div id=d9387779-7e1c-4347-bee8-50098bd70af5 style=\"display:none; background-color:#9D6CFF; color:white; width:200px; height:30px; padding-left:5px; border-radius:4px; flex-direction:row; justify-content:space-around; align-items:center;\" onmouseover=\"this.style.backgroundColor='#BA9BF8'\" onmouseout=\"this.style.backgroundColor='#9D6CFF'\" onclick=\"window.commands?.execute('create-mitosheet-from-dataframe-output');\">See Full Dataframe in Mito</div> <script> if (window.commands.hasCommand('create-mitosheet-from-dataframe-output')) document.getElementById('d9387779-7e1c-4347-bee8-50098bd70af5').style.display = 'flex' </script> <table border=\"1\" class=\"dataframe\">\n",
       "  <thead>\n",
       "    <tr style=\"text-align: right;\">\n",
       "      <th></th>\n",
       "      <th>funding_total_usd</th>\n",
       "      <th>funding_rounds</th>\n",
       "      <th>company_age</th>\n",
       "      <th>funding_day</th>\n",
       "      <th>funding_range_1_2</th>\n",
       "      <th>proba</th>\n",
       "      <th>status</th>\n",
       "      <th>prediction</th>\n",
       "      <th>difference</th>\n",
       "      <th>name</th>\n",
       "    </tr>\n",
       "  </thead>\n",
       "  <tbody>\n",
       "    <tr>\n",
       "      <th>0</th>\n",
       "      <td>17200000.0</td>\n",
       "      <td>3.0</td>\n",
       "      <td>16.0</td>\n",
       "      <td>243.0</td>\n",
       "      <td>866.0</td>\n",
       "      <td>0.817372</td>\n",
       "      <td>success</td>\n",
       "      <td>success</td>\n",
       "      <td>True</td>\n",
       "      <td>Motionbox</td>\n",
       "    </tr>\n",
       "    <tr>\n",
       "      <th>1</th>\n",
       "      <td>36250000.0</td>\n",
       "      <td>4.0</td>\n",
       "      <td>16.0</td>\n",
       "      <td>53.0</td>\n",
       "      <td>1725.0</td>\n",
       "      <td>0.828668</td>\n",
       "      <td>failure</td>\n",
       "      <td>success</td>\n",
       "      <td>False</td>\n",
       "      <td>SupportSpace</td>\n",
       "    </tr>\n",
       "    <tr>\n",
       "      <th>2</th>\n",
       "      <td>10000000.0</td>\n",
       "      <td>1.0</td>\n",
       "      <td>14.0</td>\n",
       "      <td>2106.0</td>\n",
       "      <td>0.0</td>\n",
       "      <td>0.553158</td>\n",
       "      <td>success</td>\n",
       "      <td>success</td>\n",
       "      <td>True</td>\n",
       "      <td>Kyma Medical Technologies</td>\n",
       "    </tr>\n",
       "    <tr>\n",
       "      <th>3</th>\n",
       "      <td>49300000.0</td>\n",
       "      <td>3.0</td>\n",
       "      <td>23.0</td>\n",
       "      <td>1364.0</td>\n",
       "      <td>868.0</td>\n",
       "      <td>0.844144</td>\n",
       "      <td>success</td>\n",
       "      <td>success</td>\n",
       "      <td>True</td>\n",
       "      <td>LVL7 Systems</td>\n",
       "    </tr>\n",
       "    <tr>\n",
       "      <th>4</th>\n",
       "      <td>19391496.0</td>\n",
       "      <td>2.0</td>\n",
       "      <td>11.0</td>\n",
       "      <td>22.0</td>\n",
       "      <td>743.0</td>\n",
       "      <td>0.737639</td>\n",
       "      <td>success</td>\n",
       "      <td>success</td>\n",
       "      <td>True</td>\n",
       "      <td>Empowered Careers</td>\n",
       "    </tr>\n",
       "    <tr>\n",
       "      <th>5</th>\n",
       "      <td>2000000.0</td>\n",
       "      <td>2.0</td>\n",
       "      <td>12.0</td>\n",
       "      <td>455.0</td>\n",
       "      <td>1059.0</td>\n",
       "      <td>0.646583</td>\n",
       "      <td>failure</td>\n",
       "      <td>success</td>\n",
       "      <td>False</td>\n",
       "      <td>Hopscotch</td>\n",
       "    </tr>\n",
       "    <tr>\n",
       "      <th>6</th>\n",
       "      <td>50000000.0</td>\n",
       "      <td>1.0</td>\n",
       "      <td>17.0</td>\n",
       "      <td>2658.0</td>\n",
       "      <td>0.0</td>\n",
       "      <td>0.663142</td>\n",
       "      <td>failure</td>\n",
       "      <td>success</td>\n",
       "      <td>False</td>\n",
       "      <td>Sotmarket</td>\n",
       "    </tr>\n",
       "    <tr>\n",
       "      <th>7</th>\n",
       "      <td>7000000.0</td>\n",
       "      <td>1.0</td>\n",
       "      <td>21.0</td>\n",
       "      <td>1506.0</td>\n",
       "      <td>0.0</td>\n",
       "      <td>0.795676</td>\n",
       "      <td>success</td>\n",
       "      <td>success</td>\n",
       "      <td>True</td>\n",
       "      <td>Similarity Systems</td>\n",
       "    </tr>\n",
       "    <tr>\n",
       "      <th>8</th>\n",
       "      <td>650000.0</td>\n",
       "      <td>1.0</td>\n",
       "      <td>22.0</td>\n",
       "      <td>0.0</td>\n",
       "      <td>0.0</td>\n",
       "      <td>0.354919</td>\n",
       "      <td>failure</td>\n",
       "      <td>failure</td>\n",
       "      <td>True</td>\n",
       "      <td>Sidustar International, Inc.</td>\n",
       "    </tr>\n",
       "    <tr>\n",
       "      <th>9</th>\n",
       "      <td>28100000.0</td>\n",
       "      <td>3.0</td>\n",
       "      <td>16.0</td>\n",
       "      <td>546.0</td>\n",
       "      <td>1324.0</td>\n",
       "      <td>0.817372</td>\n",
       "      <td>success</td>\n",
       "      <td>success</td>\n",
       "      <td>True</td>\n",
       "      <td>Cooliris</td>\n",
       "    </tr>\n",
       "  </tbody>\n",
       "</table></div>"
      ],
      "text/plain": [
       "   funding_total_usd  funding_rounds  company_age  funding_day  \\\n",
       "0         17200000.0             3.0         16.0        243.0   \n",
       "1         36250000.0             4.0         16.0         53.0   \n",
       "2         10000000.0             1.0         14.0       2106.0   \n",
       "3         49300000.0             3.0         23.0       1364.0   \n",
       "4         19391496.0             2.0         11.0         22.0   \n",
       "5          2000000.0             2.0         12.0        455.0   \n",
       "6         50000000.0             1.0         17.0       2658.0   \n",
       "7          7000000.0             1.0         21.0       1506.0   \n",
       "8           650000.0             1.0         22.0          0.0   \n",
       "9         28100000.0             3.0         16.0        546.0   \n",
       "\n",
       "   funding_range_1_2     proba   status prediction  difference  \\\n",
       "0              866.0  0.817372  success    success        True   \n",
       "1             1725.0  0.828668  failure    success       False   \n",
       "2                0.0  0.553158  success    success        True   \n",
       "3              868.0  0.844144  success    success        True   \n",
       "4              743.0  0.737639  success    success        True   \n",
       "5             1059.0  0.646583  failure    success       False   \n",
       "6                0.0  0.663142  failure    success       False   \n",
       "7                0.0  0.795676  success    success        True   \n",
       "8                0.0  0.354919  failure    failure        True   \n",
       "9             1324.0  0.817372  success    success        True   \n",
       "\n",
       "                           name  \n",
       "0                     Motionbox  \n",
       "1                  SupportSpace  \n",
       "2     Kyma Medical Technologies  \n",
       "3                  LVL7 Systems  \n",
       "4             Empowered Careers  \n",
       "5                     Hopscotch  \n",
       "6                     Sotmarket  \n",
       "7            Similarity Systems  \n",
       "8  Sidustar International, Inc.  \n",
       "9                      Cooliris  "
      ]
     },
     "execution_count": 100,
     "metadata": {},
     "output_type": "execute_result"
    }
   ],
   "source": [
    "df9 = pd.concat([df8, z_train], axis=1)\n",
    "del df9['index']\n",
    "df9.head(10)"
   ]
  },
  {
   "cell_type": "code",
   "execution_count": 101,
   "id": "a2b4a693",
   "metadata": {
    "executionInfo": {
     "elapsed": 188,
     "status": "ok",
     "timestamp": 1637834040510,
     "user": {
      "displayName": "Tran Huy Nam",
      "photoUrl": "https://lh3.googleusercontent.com/a-/AOh14GgqMfZGpWEbv6FOhjZxevciY8lZ8ZSpthCFFDe92A=s64",
      "userId": "10623278435832509850"
     },
     "user_tz": -60
    },
    "id": "a2b4a693"
   },
   "outputs": [],
   "source": [
    "df9.to_csv(\"prediction_train_data_gbc.csv\")"
   ]
  },
  {
   "cell_type": "code",
   "execution_count": 102,
   "id": "tnfQExJuOlU3",
   "metadata": {
    "colab": {
     "base_uri": "https://localhost:8080/",
     "height": 226
    },
    "executionInfo": {
     "elapsed": 189,
     "status": "ok",
     "timestamp": 1637834040512,
     "user": {
      "displayName": "Tran Huy Nam",
      "photoUrl": "https://lh3.googleusercontent.com/a-/AOh14GgqMfZGpWEbv6FOhjZxevciY8lZ8ZSpthCFFDe92A=s64",
      "userId": "10623278435832509850"
     },
     "user_tz": -60
    },
    "id": "tnfQExJuOlU3",
    "outputId": "c4b8e362-cb3d-40cd-baa2-113b1c64747a"
   },
   "outputs": [
    {
     "data": {
      "text/html": [
       "<div><div id=4ca4d51e-c98b-4159-a732-730760568e0a style=\"display:none; background-color:#9D6CFF; color:white; width:200px; height:30px; padding-left:5px; border-radius:4px; flex-direction:row; justify-content:space-around; align-items:center;\" onmouseover=\"this.style.backgroundColor='#BA9BF8'\" onmouseout=\"this.style.backgroundColor='#9D6CFF'\" onclick=\"window.commands?.execute('create-mitosheet-from-dataframe-output');\">See Full Dataframe in Mito</div> <script> if (window.commands.hasCommand('create-mitosheet-from-dataframe-output')) document.getElementById('4ca4d51e-c98b-4159-a732-730760568e0a').style.display = 'flex' </script> <table border=\"1\" class=\"dataframe\">\n",
       "  <thead>\n",
       "    <tr style=\"text-align: right;\">\n",
       "      <th></th>\n",
       "      <th>funding_total_usd</th>\n",
       "      <th>funding_rounds</th>\n",
       "      <th>company_age</th>\n",
       "      <th>funding_day</th>\n",
       "      <th>funding_range_1_2</th>\n",
       "      <th>proba</th>\n",
       "      <th>status</th>\n",
       "      <th>prediction</th>\n",
       "      <th>difference</th>\n",
       "    </tr>\n",
       "  </thead>\n",
       "  <tbody>\n",
       "    <tr>\n",
       "      <th>0</th>\n",
       "      <td>38730470.0</td>\n",
       "      <td>1.0</td>\n",
       "      <td>10.0</td>\n",
       "      <td>0.0</td>\n",
       "      <td>0.0</td>\n",
       "      <td>0.342297</td>\n",
       "      <td>failure</td>\n",
       "      <td>failure</td>\n",
       "      <td>True</td>\n",
       "    </tr>\n",
       "    <tr>\n",
       "      <th>1</th>\n",
       "      <td>7998800.0</td>\n",
       "      <td>2.0</td>\n",
       "      <td>23.0</td>\n",
       "      <td>2496.0</td>\n",
       "      <td>1477.0</td>\n",
       "      <td>0.832454</td>\n",
       "      <td>success</td>\n",
       "      <td>success</td>\n",
       "      <td>True</td>\n",
       "    </tr>\n",
       "    <tr>\n",
       "      <th>2</th>\n",
       "      <td>38730470.0</td>\n",
       "      <td>2.0</td>\n",
       "      <td>14.0</td>\n",
       "      <td>823.0</td>\n",
       "      <td>210.0</td>\n",
       "      <td>0.649106</td>\n",
       "      <td>success</td>\n",
       "      <td>success</td>\n",
       "      <td>True</td>\n",
       "    </tr>\n",
       "    <tr>\n",
       "      <th>3</th>\n",
       "      <td>2150000.0</td>\n",
       "      <td>3.0</td>\n",
       "      <td>13.0</td>\n",
       "      <td>617.0</td>\n",
       "      <td>682.0</td>\n",
       "      <td>0.695926</td>\n",
       "      <td>success</td>\n",
       "      <td>success</td>\n",
       "      <td>True</td>\n",
       "    </tr>\n",
       "    <tr>\n",
       "      <th>4</th>\n",
       "      <td>500000.0</td>\n",
       "      <td>1.0</td>\n",
       "      <td>12.0</td>\n",
       "      <td>0.0</td>\n",
       "      <td>0.0</td>\n",
       "      <td>0.218807</td>\n",
       "      <td>failure</td>\n",
       "      <td>failure</td>\n",
       "      <td>True</td>\n",
       "    </tr>\n",
       "  </tbody>\n",
       "</table></div>"
      ],
      "text/plain": [
       "   funding_total_usd  funding_rounds  company_age  funding_day  \\\n",
       "0         38730470.0             1.0         10.0          0.0   \n",
       "1          7998800.0             2.0         23.0       2496.0   \n",
       "2         38730470.0             2.0         14.0        823.0   \n",
       "3          2150000.0             3.0         13.0        617.0   \n",
       "4           500000.0             1.0         12.0          0.0   \n",
       "\n",
       "   funding_range_1_2     proba   status prediction  difference  \n",
       "0                0.0  0.342297  failure    failure        True  \n",
       "1             1477.0  0.832454  success    success        True  \n",
       "2              210.0  0.649106  success    success        True  \n",
       "3              682.0  0.695926  success    success        True  \n",
       "4                0.0  0.218807  failure    failure        True  "
      ]
     },
     "execution_count": 102,
     "metadata": {},
     "output_type": "execute_result"
    }
   ],
   "source": [
    "df8 = pd.DataFrame(sc_x.inverse_transform(X_test), columns = [\"funding_total_usd\", \"funding_rounds\",\"company_age\", \"funding_day\", \"funding_range_1_2\"])\n",
    "df8[\"proba\"] = gbc.predict_proba(X_test)[:,1]\n",
    "df8[\"status\"] = labelencoder.inverse_transform(y_test).tolist()\n",
    "df8[\"prediction\"] = labelencoder.inverse_transform(y_test_pred_gbc).tolist()\n",
    "df8[\"difference\"] = np.where(df8[\"status\"] == df8[\"prediction\"], True, False)\n",
    "df8.head(5)"
   ]
  },
  {
   "cell_type": "code",
   "execution_count": 103,
   "id": "1d575d8e",
   "metadata": {
    "colab": {
     "base_uri": "https://localhost:8080/"
    },
    "executionInfo": {
     "elapsed": 188,
     "status": "ok",
     "timestamp": 1637834040514,
     "user": {
      "displayName": "Tran Huy Nam",
      "photoUrl": "https://lh3.googleusercontent.com/a-/AOh14GgqMfZGpWEbv6FOhjZxevciY8lZ8ZSpthCFFDe92A=s64",
      "userId": "10623278435832509850"
     },
     "user_tz": -60
    },
    "id": "1d575d8e",
    "outputId": "4ba6ac27-5e8b-4d37-83c8-e2975da69c6c"
   },
   "outputs": [
    {
     "data": {
      "text/plain": [
       "True     74.7%\n",
       "False    25.3%\n",
       "Name: difference, dtype: object"
      ]
     },
     "execution_count": 103,
     "metadata": {},
     "output_type": "execute_result"
    }
   ],
   "source": [
    "df8[\"difference\"].value_counts(normalize=True).mul(100).round(1).astype(str) + '%'"
   ]
  },
  {
   "cell_type": "code",
   "execution_count": 104,
   "id": "ab8a1470",
   "metadata": {
    "colab": {
     "base_uri": "https://localhost:8080/",
     "height": 206
    },
    "executionInfo": {
     "elapsed": 180,
     "status": "ok",
     "timestamp": 1637834040517,
     "user": {
      "displayName": "Tran Huy Nam",
      "photoUrl": "https://lh3.googleusercontent.com/a-/AOh14GgqMfZGpWEbv6FOhjZxevciY8lZ8ZSpthCFFDe92A=s64",
      "userId": "10623278435832509850"
     },
     "user_tz": -60
    },
    "id": "ab8a1470",
    "outputId": "77e64d10-3059-4f0f-f048-efaa89b28d3a"
   },
   "outputs": [
    {
     "data": {
      "text/html": [
       "<div><div id=db7d21d4-9604-4a80-a359-47edd03151e8 style=\"display:none; background-color:#9D6CFF; color:white; width:200px; height:30px; padding-left:5px; border-radius:4px; flex-direction:row; justify-content:space-around; align-items:center;\" onmouseover=\"this.style.backgroundColor='#BA9BF8'\" onmouseout=\"this.style.backgroundColor='#9D6CFF'\" onclick=\"window.commands?.execute('create-mitosheet-from-dataframe-output');\">See Full Dataframe in Mito</div> <script> if (window.commands.hasCommand('create-mitosheet-from-dataframe-output')) document.getElementById('db7d21d4-9604-4a80-a359-47edd03151e8').style.display = 'flex' </script> <table border=\"1\" class=\"dataframe\">\n",
       "  <thead>\n",
       "    <tr style=\"text-align: right;\">\n",
       "      <th></th>\n",
       "      <th>index</th>\n",
       "      <th>name</th>\n",
       "    </tr>\n",
       "  </thead>\n",
       "  <tbody>\n",
       "    <tr>\n",
       "      <th>0</th>\n",
       "      <td>1967</td>\n",
       "      <td>Fliggo</td>\n",
       "    </tr>\n",
       "    <tr>\n",
       "      <th>1</th>\n",
       "      <td>4156</td>\n",
       "      <td>Planet Payment</td>\n",
       "    </tr>\n",
       "    <tr>\n",
       "      <th>2</th>\n",
       "      <td>6704</td>\n",
       "      <td>Jigsee</td>\n",
       "    </tr>\n",
       "    <tr>\n",
       "      <th>3</th>\n",
       "      <td>936</td>\n",
       "      <td>CalmSea</td>\n",
       "    </tr>\n",
       "    <tr>\n",
       "      <th>4</th>\n",
       "      <td>4731</td>\n",
       "      <td>Second Half Playbook</td>\n",
       "    </tr>\n",
       "  </tbody>\n",
       "</table></div>"
      ],
      "text/plain": [
       "   index                  name\n",
       "0   1967                Fliggo\n",
       "1   4156        Planet Payment\n",
       "2   6704                Jigsee\n",
       "3    936               CalmSea\n",
       "4   4731  Second Half Playbook"
      ]
     },
     "execution_count": 104,
     "metadata": {},
     "output_type": "execute_result"
    }
   ],
   "source": [
    "z_test = z_test.reset_index()\n",
    "z_test.head()"
   ]
  },
  {
   "cell_type": "code",
   "execution_count": 105,
   "id": "cc8bb63f",
   "metadata": {
    "colab": {
     "base_uri": "https://localhost:8080/",
     "height": 418
    },
    "executionInfo": {
     "elapsed": 433,
     "status": "ok",
     "timestamp": 1637834040771,
     "user": {
      "displayName": "Tran Huy Nam",
      "photoUrl": "https://lh3.googleusercontent.com/a-/AOh14GgqMfZGpWEbv6FOhjZxevciY8lZ8ZSpthCFFDe92A=s64",
      "userId": "10623278435832509850"
     },
     "user_tz": -60
    },
    "id": "cc8bb63f",
    "outputId": "97cc3b1f-295b-4a9a-e1be-88450e4e529b"
   },
   "outputs": [
    {
     "data": {
      "text/html": [
       "<div><div id=4955c64f-e983-43bc-82df-d07567beb8a2 style=\"display:none; background-color:#9D6CFF; color:white; width:200px; height:30px; padding-left:5px; border-radius:4px; flex-direction:row; justify-content:space-around; align-items:center;\" onmouseover=\"this.style.backgroundColor='#BA9BF8'\" onmouseout=\"this.style.backgroundColor='#9D6CFF'\" onclick=\"window.commands?.execute('create-mitosheet-from-dataframe-output');\">See Full Dataframe in Mito</div> <script> if (window.commands.hasCommand('create-mitosheet-from-dataframe-output')) document.getElementById('4955c64f-e983-43bc-82df-d07567beb8a2').style.display = 'flex' </script> <table border=\"1\" class=\"dataframe\">\n",
       "  <thead>\n",
       "    <tr style=\"text-align: right;\">\n",
       "      <th></th>\n",
       "      <th>funding_total_usd</th>\n",
       "      <th>funding_rounds</th>\n",
       "      <th>company_age</th>\n",
       "      <th>funding_day</th>\n",
       "      <th>funding_range_1_2</th>\n",
       "      <th>proba</th>\n",
       "      <th>status</th>\n",
       "      <th>prediction</th>\n",
       "      <th>difference</th>\n",
       "      <th>name</th>\n",
       "    </tr>\n",
       "  </thead>\n",
       "  <tbody>\n",
       "    <tr>\n",
       "      <th>0</th>\n",
       "      <td>38730470.0</td>\n",
       "      <td>1.0</td>\n",
       "      <td>10.0</td>\n",
       "      <td>0.0</td>\n",
       "      <td>0.0</td>\n",
       "      <td>0.342297</td>\n",
       "      <td>failure</td>\n",
       "      <td>failure</td>\n",
       "      <td>True</td>\n",
       "      <td>Fliggo</td>\n",
       "    </tr>\n",
       "    <tr>\n",
       "      <th>1</th>\n",
       "      <td>7998800.0</td>\n",
       "      <td>2.0</td>\n",
       "      <td>23.0</td>\n",
       "      <td>2496.0</td>\n",
       "      <td>1477.0</td>\n",
       "      <td>0.832454</td>\n",
       "      <td>success</td>\n",
       "      <td>success</td>\n",
       "      <td>True</td>\n",
       "      <td>Planet Payment</td>\n",
       "    </tr>\n",
       "    <tr>\n",
       "      <th>2</th>\n",
       "      <td>38730470.0</td>\n",
       "      <td>2.0</td>\n",
       "      <td>14.0</td>\n",
       "      <td>823.0</td>\n",
       "      <td>210.0</td>\n",
       "      <td>0.649106</td>\n",
       "      <td>success</td>\n",
       "      <td>success</td>\n",
       "      <td>True</td>\n",
       "      <td>Jigsee</td>\n",
       "    </tr>\n",
       "    <tr>\n",
       "      <th>3</th>\n",
       "      <td>2150000.0</td>\n",
       "      <td>3.0</td>\n",
       "      <td>13.0</td>\n",
       "      <td>617.0</td>\n",
       "      <td>682.0</td>\n",
       "      <td>0.695926</td>\n",
       "      <td>success</td>\n",
       "      <td>success</td>\n",
       "      <td>True</td>\n",
       "      <td>CalmSea</td>\n",
       "    </tr>\n",
       "    <tr>\n",
       "      <th>4</th>\n",
       "      <td>500000.0</td>\n",
       "      <td>1.0</td>\n",
       "      <td>12.0</td>\n",
       "      <td>0.0</td>\n",
       "      <td>0.0</td>\n",
       "      <td>0.218807</td>\n",
       "      <td>failure</td>\n",
       "      <td>failure</td>\n",
       "      <td>True</td>\n",
       "      <td>Second Half Playbook</td>\n",
       "    </tr>\n",
       "    <tr>\n",
       "      <th>5</th>\n",
       "      <td>905000.0</td>\n",
       "      <td>1.0</td>\n",
       "      <td>13.0</td>\n",
       "      <td>397.0</td>\n",
       "      <td>0.0</td>\n",
       "      <td>0.370012</td>\n",
       "      <td>failure</td>\n",
       "      <td>failure</td>\n",
       "      <td>True</td>\n",
       "      <td>DwellGreen</td>\n",
       "    </tr>\n",
       "    <tr>\n",
       "      <th>6</th>\n",
       "      <td>12050000.0</td>\n",
       "      <td>2.0</td>\n",
       "      <td>18.0</td>\n",
       "      <td>442.0</td>\n",
       "      <td>835.0</td>\n",
       "      <td>0.725627</td>\n",
       "      <td>failure</td>\n",
       "      <td>success</td>\n",
       "      <td>False</td>\n",
       "      <td>Transparency Software</td>\n",
       "    </tr>\n",
       "    <tr>\n",
       "      <th>7</th>\n",
       "      <td>23084124.0</td>\n",
       "      <td>4.0</td>\n",
       "      <td>17.0</td>\n",
       "      <td>30.0</td>\n",
       "      <td>1818.0</td>\n",
       "      <td>0.872798</td>\n",
       "      <td>success</td>\n",
       "      <td>success</td>\n",
       "      <td>True</td>\n",
       "      <td>Qype</td>\n",
       "    </tr>\n",
       "    <tr>\n",
       "      <th>8</th>\n",
       "      <td>33000000.0</td>\n",
       "      <td>4.0</td>\n",
       "      <td>22.0</td>\n",
       "      <td>305.0</td>\n",
       "      <td>2464.0</td>\n",
       "      <td>0.905423</td>\n",
       "      <td>success</td>\n",
       "      <td>success</td>\n",
       "      <td>True</td>\n",
       "      <td>Compete</td>\n",
       "    </tr>\n",
       "    <tr>\n",
       "      <th>9</th>\n",
       "      <td>43179.0</td>\n",
       "      <td>1.0</td>\n",
       "      <td>15.0</td>\n",
       "      <td>63.0</td>\n",
       "      <td>0.0</td>\n",
       "      <td>0.154654</td>\n",
       "      <td>failure</td>\n",
       "      <td>failure</td>\n",
       "      <td>True</td>\n",
       "      <td>YourTeamOnline</td>\n",
       "    </tr>\n",
       "  </tbody>\n",
       "</table></div>"
      ],
      "text/plain": [
       "   funding_total_usd  funding_rounds  company_age  funding_day  \\\n",
       "0         38730470.0             1.0         10.0          0.0   \n",
       "1          7998800.0             2.0         23.0       2496.0   \n",
       "2         38730470.0             2.0         14.0        823.0   \n",
       "3          2150000.0             3.0         13.0        617.0   \n",
       "4           500000.0             1.0         12.0          0.0   \n",
       "5           905000.0             1.0         13.0        397.0   \n",
       "6         12050000.0             2.0         18.0        442.0   \n",
       "7         23084124.0             4.0         17.0         30.0   \n",
       "8         33000000.0             4.0         22.0        305.0   \n",
       "9            43179.0             1.0         15.0         63.0   \n",
       "\n",
       "   funding_range_1_2     proba   status prediction  difference  \\\n",
       "0                0.0  0.342297  failure    failure        True   \n",
       "1             1477.0  0.832454  success    success        True   \n",
       "2              210.0  0.649106  success    success        True   \n",
       "3              682.0  0.695926  success    success        True   \n",
       "4                0.0  0.218807  failure    failure        True   \n",
       "5                0.0  0.370012  failure    failure        True   \n",
       "6              835.0  0.725627  failure    success       False   \n",
       "7             1818.0  0.872798  success    success        True   \n",
       "8             2464.0  0.905423  success    success        True   \n",
       "9                0.0  0.154654  failure    failure        True   \n",
       "\n",
       "                    name  \n",
       "0                 Fliggo  \n",
       "1         Planet Payment  \n",
       "2                 Jigsee  \n",
       "3                CalmSea  \n",
       "4   Second Half Playbook  \n",
       "5             DwellGreen  \n",
       "6  Transparency Software  \n",
       "7                   Qype  \n",
       "8                Compete  \n",
       "9         YourTeamOnline  "
      ]
     },
     "execution_count": 105,
     "metadata": {},
     "output_type": "execute_result"
    }
   ],
   "source": [
    "df9 = pd.concat([df8, z_test], axis=1)\n",
    "del df9['index']\n",
    "df9.head(10)"
   ]
  },
  {
   "cell_type": "code",
   "execution_count": 106,
   "id": "fe3bf673",
   "metadata": {
    "executionInfo": {
     "elapsed": 27,
     "status": "ok",
     "timestamp": 1637834040774,
     "user": {
      "displayName": "Tran Huy Nam",
      "photoUrl": "https://lh3.googleusercontent.com/a-/AOh14GgqMfZGpWEbv6FOhjZxevciY8lZ8ZSpthCFFDe92A=s64",
      "userId": "10623278435832509850"
     },
     "user_tz": -60
    },
    "id": "fe3bf673"
   },
   "outputs": [],
   "source": [
    "df9.to_csv(\"prediction_test_data_gbc.csv\")"
   ]
  },
  {
   "cell_type": "code",
   "execution_count": 107,
   "id": "a28d3112",
   "metadata": {
    "executionInfo": {
     "elapsed": 29,
     "status": "ok",
     "timestamp": 1637834040777,
     "user": {
      "displayName": "Tran Huy Nam",
      "photoUrl": "https://lh3.googleusercontent.com/a-/AOh14GgqMfZGpWEbv6FOhjZxevciY8lZ8ZSpthCFFDe92A=s64",
      "userId": "10623278435832509850"
     },
     "user_tz": -60
    },
    "id": "a28d3112"
   },
   "outputs": [],
   "source": [
    "df4['Industry_Group'] = labelencoder.fit_transform(df4['Industry_Group'] )\n",
    "df4[\"status\"] = labelencoder.fit_transform(df4[\"status\"])\n",
    "df4['Continent_Name'] = labelencoder.fit_transform(df4['Continent_Name'])\n",
    "df4['Industry_Group'] = labelencoder.fit_transform(df4['Industry_Group'])"
   ]
  },
  {
   "cell_type": "code",
   "execution_count": 108,
   "id": "0f06f0e4",
   "metadata": {
    "colab": {
     "base_uri": "https://localhost:8080/",
     "height": 632
    },
    "executionInfo": {
     "elapsed": 675,
     "status": "ok",
     "timestamp": 1637834041425,
     "user": {
      "displayName": "Tran Huy Nam",
      "photoUrl": "https://lh3.googleusercontent.com/a-/AOh14GgqMfZGpWEbv6FOhjZxevciY8lZ8ZSpthCFFDe92A=s64",
      "userId": "10623278435832509850"
     },
     "user_tz": -60
    },
    "id": "0f06f0e4",
    "outputId": "44a5d39d-b4ed-4903-bb34-b3686822b9ad"
   },
   "outputs": [
    {
     "data": {
      "image/png": "[encoded data removed]",
      "text/plain": [
       "<Figure size 864x576 with 2 Axes>"
      ]
     },
     "metadata": {
      "needs_background": "light"
     },
     "output_type": "display_data"
    }
   ],
   "source": [
    "plt.figure(figsize = (12,8))\n",
    "sns.heatmap(df4.corr(),cmap='coolwarm',annot=True,linewidths=.5)\n",
    "plt.show()"
   ]
  },
  {
   "cell_type": "code",
   "execution_count": null,
   "id": "83728a5c",
   "metadata": {
    "executionInfo": {
     "elapsed": 90,
     "status": "ok",
     "timestamp": 1637834041426,
     "user": {
      "displayName": "Tran Huy Nam",
      "photoUrl": "https://lh3.googleusercontent.com/a-/AOh14GgqMfZGpWEbv6FOhjZxevciY8lZ8ZSpthCFFDe92A=s64",
      "userId": "10623278435832509850"
     },
     "user_tz": -60
    },
    "id": "83728a5c"
   },
   "outputs": [],
   "source": []
  }
 ],
 "metadata": {
  "colab": {
   "collapsed_sections": [],
   "name": "Projet final_EDA_ML_2021123.ipynb",
   "provenance": [],
   "toc_visible": true
  },
  "kernelspec": {
   "display_name": "Python 3",
   "language": "python",
   "name": "python3"
  },
  "language_info": {
   "codemirror_mode": {
    "name": "ipython",
    "version": 3
   },
   "file_extension": ".py",
   "mimetype": "text/x-python",
   "name": "python",
   "nbconvert_exporter": "python",
   "pygments_lexer": "ipython3",
   "version": "3.8.8"
  },
  "toc": {
   "base_numbering": 1,
   "nav_menu": {},
   "number_sections": true,
   "sideBar": true,
   "skip_h1_title": false,
   "title_cell": "Table of Contents",
   "title_sidebar": "Contents",
   "toc_cell": false,
   "toc_position": {},
   "toc_section_display": true,
   "toc_window_display": false
  },
  "varInspector": {
   "cols": {
    "lenName": 16,
    "lenType": 16,
    "lenVar": 40
   },
   "kernels_config": {
    "python": {
     "delete_cmd_postfix": "",
     "delete_cmd_prefix": "del ",
     "library": "var_list.py",
     "varRefreshCmd": "print(var_dic_list())"
    },
    "r": {
     "delete_cmd_postfix": ") ",
     "delete_cmd_prefix": "rm(",
     "library": "var_list.r",
     "varRefreshCmd": "cat(var_dic_list()) "
    }
   },
   "types_to_exclude": [
    "module",
    "function",
    "builtin_function_or_method",
    "instance",
    "_Feature"
   ],
   "window_display": false
  }
 },
 "nbformat": 4,
 "nbformat_minor": 5
}
