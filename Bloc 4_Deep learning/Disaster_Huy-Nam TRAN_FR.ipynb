{
  "cells": [
    {
      "cell_type": "markdown",
      "metadata": {
        "id": "PXBwt-azuDKH"
      },
      "source": [
        "# Projet - Real or Not? NLP with Disaster Tweets\n",
        "\n",
        "## Project description \n",
        "\n",
        "Competition - https://www.kaggle.com/c/nlp-getting-started\n",
        "\n",
        "\n",
        "Importer de données\n",
        "\n",
        "Deep Learning\n",
        "  * Word Embedding\n",
        "  * Recurrent Neural Networks\n",
        "  * Encoder Decoder\n",
        "  * Attention is All You Need\n",
        "\n",
        "* Conclusion\n"
      ]
    },
    {
      "cell_type": "markdown",
      "metadata": {
        "id": "0XSr15-OoCjM"
      },
      "source": [
        "## Importer de données "
      ]
    },
    {
      "cell_type": "code",
      "execution_count": 1,
      "metadata": {
        "colab": {
          "base_uri": "https://localhost:8080/",
          "height": 36
        },
        "id": "R-xVUh3DuDKP",
        "outputId": "a0e6bf9f-b8e9-4dad-cfb0-6762db83aa0e"
      },
      "outputs": [
        {
          "data": {
            "text/plain": [
              "'2.6.0'"
            ]
          },
          "execution_count": 1,
          "metadata": {},
          "output_type": "execute_result"
        }
      ],
      "source": [
        "import re\n",
        "import numpy as np\n",
        "import pandas as pd\n",
        "import matplotlib.pyplot as plt\n",
        "import seaborn as sns\n",
        "import tensorflow as tf \n",
        "import os\n",
        "import io\n",
        "import json\n",
        "import warnings\n",
        "warnings.filterwarnings('ignore')\n",
        "tf.__version__"
      ]
    },
    {
      "cell_type": "code",
      "execution_count": 2,
      "metadata": {
        "id": "iI3BAFAJuDKT"
      },
      "outputs": [],
      "source": [
        "import spacy\n",
        "#!python -m spacy download en_core_web_sm -q\n",
        "import en_core_web_sm\n",
        "nlp = en_core_web_sm.load()\n",
        "from spacy.lang.en.stop_words import STOP_WORDS"
      ]
    },
    {
      "cell_type": "code",
      "execution_count": 3,
      "metadata": {
        "colab": {
          "base_uri": "https://localhost:8080/",
          "height": 112
        },
        "id": "FNfK9sO6uDKV",
        "outputId": "c8d8028f-4397-4c2a-cb00-a0961f483e53"
      },
      "outputs": [
        {
          "data": {
            "text/html": [
              "<div><div id=39eb1fb4-d321-4987-8718-0efd35c2e044 style=\"display:none; background-color:#9D6CFF; color:white; width:200px; height:30px; padding-left:5px; border-radius:4px; flex-direction:row; justify-content:space-around; align-items:center;\" onmouseover=\"this.style.backgroundColor='#BA9BF8'\" onmouseout=\"this.style.backgroundColor='#9D6CFF'\" onclick=\"window.commands?.execute('create-mitosheet-from-dataframe-output');\">See Full Dataframe in Mito</div> <script> if (window.commands.hasCommand('create-mitosheet-from-dataframe-output')) document.getElementById('39eb1fb4-d321-4987-8718-0efd35c2e044').style.display = 'flex' </script> <table border=\"1\" class=\"dataframe\">\n",
              "  <thead>\n",
              "    <tr style=\"text-align: right;\">\n",
              "      <th></th>\n",
              "      <th>id</th>\n",
              "      <th>keyword</th>\n",
              "      <th>location</th>\n",
              "      <th>text</th>\n",
              "      <th>target</th>\n",
              "    </tr>\n",
              "  </thead>\n",
              "  <tbody>\n",
              "    <tr>\n",
              "      <th>0</th>\n",
              "      <td>1</td>\n",
              "      <td>NaN</td>\n",
              "      <td>NaN</td>\n",
              "      <td>Our Deeds are the Reason of this #earthquake May ALLAH Forgive us all</td>\n",
              "      <td>1</td>\n",
              "    </tr>\n",
              "    <tr>\n",
              "      <th>1</th>\n",
              "      <td>4</td>\n",
              "      <td>NaN</td>\n",
              "      <td>NaN</td>\n",
              "      <td>Forest fire near La Ronge Sask. Canada</td>\n",
              "      <td>1</td>\n",
              "    </tr>\n",
              "  </tbody>\n",
              "</table></div>"
            ],
            "text/plain": [
              "   id keyword location                                               text  \\\n",
              "0   1     NaN      NaN  Our Deeds are the Reason of this #earthquake M...   \n",
              "1   4     NaN      NaN             Forest fire near La Ronge Sask. Canada   \n",
              "\n",
              "   target  \n",
              "0       1  \n",
              "1       1  "
            ]
          },
          "execution_count": 3,
          "metadata": {},
          "output_type": "execute_result"
        }
      ],
      "source": [
        "url_train = \"https://raw.githubusercontent.com/huynam1012/Projet_jedha/main/train.csv\"\n",
        "train = pd.read_csv(url_train)\n",
        "train.head(2)"
      ]
    },
    {
      "cell_type": "code",
      "execution_count": 4,
      "metadata": {
        "colab": {
          "base_uri": "https://localhost:8080/",
          "height": 379
        },
        "id": "kXu_63XczB4e",
        "outputId": "c3c41ac2-4e15-40ad-b905-82bb44fcf3b9"
      },
      "outputs": [
        {
          "data": {
            "image/png": "[encoded data removed]",
            "text/plain": [
              "<Figure size 720x432 with 2 Axes>"
            ]
          },
          "metadata": {
            "needs_background": "light"
          },
          "output_type": "display_data"
        }
      ],
      "source": [
        "plt.figure(figsize=(10,6))\n",
        "sns.heatmap(train.isnull())\n",
        "plt.show()"
      ]
    },
    {
      "cell_type": "code",
      "execution_count": 5,
      "metadata": {},
      "outputs": [
        {
          "data": {
            "text/html": [
              "<div><div id=0e5ff6a6-f185-4f5a-afcd-266af5984c6d style=\"display:none; background-color:#9D6CFF; color:white; width:200px; height:30px; padding-left:5px; border-radius:4px; flex-direction:row; justify-content:space-around; align-items:center;\" onmouseover=\"this.style.backgroundColor='#BA9BF8'\" onmouseout=\"this.style.backgroundColor='#9D6CFF'\" onclick=\"window.commands?.execute('create-mitosheet-from-dataframe-output');\">See Full Dataframe in Mito</div> <script> if (window.commands.hasCommand('create-mitosheet-from-dataframe-output')) document.getElementById('0e5ff6a6-f185-4f5a-afcd-266af5984c6d').style.display = 'flex' </script> <table border=\"1\" class=\"dataframe\">\n",
              "  <thead>\n",
              "    <tr style=\"text-align: right;\">\n",
              "      <th></th>\n",
              "      <th>index</th>\n",
              "      <th>percent</th>\n",
              "    </tr>\n",
              "  </thead>\n",
              "  <tbody>\n",
              "    <tr>\n",
              "      <th>0</th>\n",
              "      <td>0</td>\n",
              "      <td>57.034021</td>\n",
              "    </tr>\n",
              "    <tr>\n",
              "      <th>1</th>\n",
              "      <td>1</td>\n",
              "      <td>42.965979</td>\n",
              "    </tr>\n",
              "  </tbody>\n",
              "</table></div>"
            ],
            "text/plain": [
              "   index    percent\n",
              "0      0  57.034021\n",
              "1      1  42.965979"
            ]
          },
          "execution_count": 5,
          "metadata": {},
          "output_type": "execute_result"
        }
      ],
      "source": [
        "train1 = train[\"target\"].value_counts(normalize=True)\n",
        "train1 = train1.mul(100)\n",
        "train1 = train1.rename(\"percent\").reset_index()\n",
        "train1.head()"
      ]
    },
    {
      "cell_type": "code",
      "execution_count": 6,
      "metadata": {
        "colab": {
          "base_uri": "https://localhost:8080/",
          "height": 279
        },
        "id": "0uV07pkah4RZ",
        "outputId": "4dd506d8-e258-4462-c5a4-a84fcc4f2043"
      },
      "outputs": [
        {
          "data": {
            "image/png": "[encoded data removed]",
            "text/plain": [
              "<Figure size 360x360 with 1 Axes>"
            ]
          },
          "metadata": {
            "needs_background": "light"
          },
          "output_type": "display_data"
        }
      ],
      "source": [
        "g = sns.catplot(data=train1, x=\"index\", y=\"percent\", kind = \"bar\")\n",
        "g.set_xticklabels([\"Pas un désastre\", \"Un vrai désastre\"])\n",
        "for p in g.ax.patches:\n",
        "    txt = str(p.get_height().round(1)) + '%'\n",
        "    txt_x = p.get_x() + 0.3\n",
        "    txt_y = p.get_height()+0.5\n",
        "    g.ax.text(txt_x,txt_y,txt)\n",
        "plt.xticks(fontsize = 12)\n",
        "plt.yticks(fontsize = 12)\n",
        "plt.xlabel(\"Cibler\",labelpad = 12, fontsize = 13)\n",
        "plt.ylabel(\"Pourcentage de Tweets\",labelpad = 12, fontsize = 13)\n",
        "plt.show()"
      ]
    },
    {
      "cell_type": "markdown",
      "metadata": {
        "id": "vNft2go6uDKd"
      },
      "source": [
        "## Word Embedding"
      ]
    },
    {
      "cell_type": "markdown",
      "metadata": {
        "id": "2LoROlz5ND9S"
      },
      "source": [
        "If we used traditional DNNs, then we would typically have to encode our input text into a vector of fixed length using techniques like BOW, Word2Vec, etc."
      ]
    },
    {
      "cell_type": "markdown",
      "metadata": {
        "id": "7AzctoGvSVYa"
      },
      "source": [
        "https://www.kaggle.com/colinmorris/embedding-layers\n",
        "\n",
        "https://gdcoder.com/what-is-an-embedding-layer/\n",
        "\n",
        "https://towardsdatascience.com/mastering-word-embeddings-in-10-minutes-with-tensorflow-41e25da6aa54"
      ]
    },
    {
      "cell_type": "markdown",
      "metadata": {
        "id": "JRW9OGHv9cup"
      },
      "source": [
        "can only be used as the first layer in a model\n",
        "\n",
        "input dimension has to be equal to the number of unique words, usually if zero maps to a word, one can leave input_dim=len(vocabularly) otherwise input_dim=len(vocabularly)+1"
      ]
    },
    {
      "cell_type": "markdown",
      "metadata": {
        "id": "UcrRai3TazdI"
      },
      "source": [
        "### Embedding"
      ]
    },
    {
      "cell_type": "code",
      "execution_count": 7,
      "metadata": {
        "colab": {
          "base_uri": "https://localhost:8080/",
          "height": 206
        },
        "id": "CWvalvakjVg2",
        "outputId": "c34b80fd-2681-4d6c-a278-988f443c2b39"
      },
      "outputs": [
        {
          "data": {
            "text/html": [
              "<div><div id=39b5cc93-0f64-45a2-a341-02ff7b8f8332 style=\"display:none; background-color:#9D6CFF; color:white; width:200px; height:30px; padding-left:5px; border-radius:4px; flex-direction:row; justify-content:space-around; align-items:center;\" onmouseover=\"this.style.backgroundColor='#BA9BF8'\" onmouseout=\"this.style.backgroundColor='#9D6CFF'\" onclick=\"window.commands?.execute('create-mitosheet-from-dataframe-output');\">See Full Dataframe in Mito</div> <script> if (window.commands.hasCommand('create-mitosheet-from-dataframe-output')) document.getElementById('39b5cc93-0f64-45a2-a341-02ff7b8f8332').style.display = 'flex' </script> <table border=\"1\" class=\"dataframe\">\n",
              "  <thead>\n",
              "    <tr style=\"text-align: right;\">\n",
              "      <th></th>\n",
              "      <th>text</th>\n",
              "      <th>target</th>\n",
              "    </tr>\n",
              "  </thead>\n",
              "  <tbody>\n",
              "    <tr>\n",
              "      <th>0</th>\n",
              "      <td>Our Deeds are the Reason of this #earthquake May ALLAH Forgive us all</td>\n",
              "      <td>1</td>\n",
              "    </tr>\n",
              "    <tr>\n",
              "      <th>1</th>\n",
              "      <td>Forest fire near La Ronge Sask. Canada</td>\n",
              "      <td>1</td>\n",
              "    </tr>\n",
              "  </tbody>\n",
              "</table></div>"
            ],
            "text/plain": [
              "                                                text  target\n",
              "0  Our Deeds are the Reason of this #earthquake M...       1\n",
              "1             Forest fire near La Ronge Sask. Canada       1"
            ]
          },
          "execution_count": 7,
          "metadata": {},
          "output_type": "execute_result"
        }
      ],
      "source": [
        "url_train = \"https://raw.githubusercontent.com/huynam1012/Projet_jedha/main/train.csv\"\n",
        "train = pd.read_csv(url_train)\n",
        "train = train[[\"text\", \"target\"]]\n",
        "train.head(2)"
      ]
    },
    {
      "cell_type": "code",
      "execution_count": 8,
      "metadata": {
        "colab": {
          "base_uri": "https://localhost:8080/",
          "height": 112
        },
        "id": "qhbLAs1ujVbG",
        "outputId": "d757dcec-16bf-4dc5-9f0d-62da1e477f9e"
      },
      "outputs": [
        {
          "data": {
            "text/html": [
              "<div><div id=a7945808-f953-45d2-b135-d6d0348ef28c style=\"display:none; background-color:#9D6CFF; color:white; width:200px; height:30px; padding-left:5px; border-radius:4px; flex-direction:row; justify-content:space-around; align-items:center;\" onmouseover=\"this.style.backgroundColor='#BA9BF8'\" onmouseout=\"this.style.backgroundColor='#9D6CFF'\" onclick=\"window.commands?.execute('create-mitosheet-from-dataframe-output');\">See Full Dataframe in Mito</div> <script> if (window.commands.hasCommand('create-mitosheet-from-dataframe-output')) document.getElementById('a7945808-f953-45d2-b135-d6d0348ef28c').style.display = 'flex' </script> <table border=\"1\" class=\"dataframe\">\n",
              "  <thead>\n",
              "    <tr style=\"text-align: right;\">\n",
              "      <th></th>\n",
              "      <th>text</th>\n",
              "      <th>target</th>\n",
              "      <th>text_clean</th>\n",
              "    </tr>\n",
              "  </thead>\n",
              "  <tbody>\n",
              "    <tr>\n",
              "      <th>0</th>\n",
              "      <td>Our Deeds are the Reason of this #earthquake May ALLAH Forgive us all</td>\n",
              "      <td>1</td>\n",
              "      <td>deed reason earthquake allah forgive</td>\n",
              "    </tr>\n",
              "    <tr>\n",
              "      <th>1</th>\n",
              "      <td>Forest fire near La Ronge Sask. Canada</td>\n",
              "      <td>1</td>\n",
              "      <td>forest fire near la ronge sask canada</td>\n",
              "    </tr>\n",
              "  </tbody>\n",
              "</table></div>"
            ],
            "text/plain": [
              "                                                text  target  \\\n",
              "0  Our Deeds are the Reason of this #earthquake M...       1   \n",
              "1             Forest fire near La Ronge Sask. Canada       1   \n",
              "\n",
              "                              text_clean  \n",
              "0   deed reason earthquake allah forgive  \n",
              "1  forest fire near la ronge sask canada  "
            ]
          },
          "execution_count": 8,
          "metadata": {},
          "output_type": "execute_result"
        }
      ],
      "source": [
        "train[\"text_clean\"] = train[\"text\"].apply(lambda x:''.join(ch for ch in x if ch.isalnum() or ch==\" \"))\n",
        "train[\"text_clean\"] = train[\"text_clean\"].apply(lambda x: x.replace(\" +\",\" \").lower().strip())\n",
        "train[\"text_clean\"] = train[\"text_clean\"].apply(lambda x: \" \".join([token.lemma_ for token in nlp(x) if (token.lemma_ not in STOP_WORDS) & (token.text not in STOP_WORDS)]))\n",
        "train.head(2)"
      ]
    },
    {
      "cell_type": "code",
      "execution_count": 9,
      "metadata": {
        "colab": {
          "base_uri": "https://localhost:8080/"
        },
        "id": "_AsSTsjaVEvT",
        "outputId": "4d29be70-e29e-4118-92ed-46bfd630a510"
      },
      "outputs": [
        {
          "data": {
            "text/plain": [
              "{0: 2.1482989623013267, 1: 2.8517010376986733}"
            ]
          },
          "execution_count": 9,
          "metadata": {},
          "output_type": "execute_result"
        }
      ],
      "source": [
        "weight = dict(1/(train[\"target\"].value_counts())/(sum(1/train[\"target\"].value_counts()))*5)\n",
        "weight"
      ]
    },
    {
      "cell_type": "code",
      "execution_count": 10,
      "metadata": {
        "id": "Cei91A9ElU7f"
      },
      "outputs": [],
      "source": [
        "tokenizer_text = tf.keras.preprocessing.text.Tokenizer(num_words=300,\n",
        "                                                        filters='!\"#$%&()*+,-./:;<=>?@[\\\\]^_`{|}~\\t\\n',\n",
        "                                                        lower=True, split=' ', char_level=False, oov_token=None,\n",
        "                                                        document_count=0)"
      ]
    },
    {
      "cell_type": "code",
      "execution_count": 11,
      "metadata": {
        "colab": {
          "base_uri": "https://localhost:8080/",
          "height": 112
        },
        "id": "dQKmdwcglUz9",
        "outputId": "cc11e316-f3c7-4a69-8001-611662a149ff"
      },
      "outputs": [
        {
          "data": {
            "text/html": [
              "<div><div id=c1bcd072-391a-4384-a159-d4c9d528784b style=\"display:none; background-color:#9D6CFF; color:white; width:200px; height:30px; padding-left:5px; border-radius:4px; flex-direction:row; justify-content:space-around; align-items:center;\" onmouseover=\"this.style.backgroundColor='#BA9BF8'\" onmouseout=\"this.style.backgroundColor='#9D6CFF'\" onclick=\"window.commands?.execute('create-mitosheet-from-dataframe-output');\">See Full Dataframe in Mito</div> <script> if (window.commands.hasCommand('create-mitosheet-from-dataframe-output')) document.getElementById('c1bcd072-391a-4384-a159-d4c9d528784b').style.display = 'flex' </script> <table border=\"1\" class=\"dataframe\">\n",
              "  <thead>\n",
              "    <tr style=\"text-align: right;\">\n",
              "      <th></th>\n",
              "      <th>text</th>\n",
              "      <th>target</th>\n",
              "      <th>text_clean</th>\n",
              "      <th>text_encoded</th>\n",
              "      <th>len_text</th>\n",
              "    </tr>\n",
              "  </thead>\n",
              "  <tbody>\n",
              "    <tr>\n",
              "      <th>0</th>\n",
              "      <td>Our Deeds are the Reason of this #earthquake May ALLAH Forgive us all</td>\n",
              "      <td>1</td>\n",
              "      <td>deed reason earthquake allah forgive</td>\n",
              "      <td>[174]</td>\n",
              "      <td>1</td>\n",
              "    </tr>\n",
              "    <tr>\n",
              "      <th>1</th>\n",
              "      <td>Forest fire near La Ronge Sask. Canada</td>\n",
              "      <td>1</td>\n",
              "      <td>forest fire near la ronge sask canada</td>\n",
              "      <td>[119, 4, 162]</td>\n",
              "      <td>3</td>\n",
              "    </tr>\n",
              "  </tbody>\n",
              "</table></div>"
            ],
            "text/plain": [
              "                                                text  target  \\\n",
              "0  Our Deeds are the Reason of this #earthquake M...       1   \n",
              "1             Forest fire near La Ronge Sask. Canada       1   \n",
              "\n",
              "                              text_clean   text_encoded  len_text  \n",
              "0   deed reason earthquake allah forgive          [174]         1  \n",
              "1  forest fire near la ronge sask canada  [119, 4, 162]         3  "
            ]
          },
          "execution_count": 11,
          "metadata": {},
          "output_type": "execute_result"
        }
      ],
      "source": [
        "tokenizer_text.fit_on_texts(train[\"text_clean\"])\n",
        "train[\"text_encoded\"] = tokenizer_text.texts_to_sequences(train[\"text_clean\"])\n",
        "train[\"len_text\"] = train[\"text_encoded\"].apply(lambda x: len(x))\n",
        "train = train[train[\"len_text\"]!=0]\n",
        "train.head(2)"
      ]
    },
    {
      "cell_type": "code",
      "execution_count": 12,
      "metadata": {
        "colab": {
          "base_uri": "https://localhost:8080/"
        },
        "id": "FTKYr7jzJPaI",
        "outputId": "b18b0b99-0654-4598-a4f9-7db43ef53b20"
      },
      "outputs": [
        {
          "data": {
            "text/plain": [
              "20283"
            ]
          },
          "execution_count": 12,
          "metadata": {},
          "output_type": "execute_result"
        }
      ],
      "source": [
        "len(tokenizer_text.word_index)"
      ]
    },
    {
      "cell_type": "markdown",
      "metadata": {
        "id": "LLoUQMEub6ew"
      },
      "source": [
        "Padding est une forme particulière de masquage dans lequel les étapes sont masquées au début ou à la fin d'une séquence. Le bourrage vient de la nécessité d'encoder les données de séquence en lots contigus : pour que toutes les séquences d'un lot correspondent à une longueur standard donnée, il est nécessaire de bourrer ou de tronquer certaines séquences.\n",
        "\n",
        "pad either before or after each sequence. "
      ]
    },
    {
      "cell_type": "code",
      "execution_count": 13,
      "metadata": {
        "colab": {
          "base_uri": "https://localhost:8080/"
        },
        "id": "wWoq9XO4jVXj",
        "outputId": "7e4aef91-10e5-42cf-896f-5ce15a0acdb7"
      },
      "outputs": [
        {
          "data": {
            "text/plain": [
              "array([[174,   0,   0, ...,   0,   0,   0],\n",
              "       [119,   4, 162, ...,   0,   0,   0],\n",
              "       [298, 187, 285, ...,   0,   0,   0],\n",
              "       ...,\n",
              "       [  6,   0,   0, ...,   0,   0,   0],\n",
              "       [ 25,  90,  45, ...,   0,   0,   0],\n",
              "       [102,  28, 129, ...,   0,   0,   0]])"
            ]
          },
          "execution_count": 13,
          "metadata": {},
          "output_type": "execute_result"
        }
      ],
      "source": [
        "#Padding means adding values before and after Tensor values.\n",
        "train_pad = tf.keras.preprocessing.sequence.pad_sequences(train[\"text_encoded\"], padding='post')\n",
        "train_pad"
      ]
    },
    {
      "cell_type": "code",
      "execution_count": 14,
      "metadata": {
        "colab": {
          "base_uri": "https://localhost:8080/"
        },
        "id": "3rHt2fZvpW1P",
        "outputId": "3e9386df-a1fe-4130-9742-35d5e2c44659"
      },
      "outputs": [
        {
          "data": {
            "text/plain": [
              "<TensorSliceDataset shapes: ((13,), ()), types: (tf.int32, tf.int64)>"
            ]
          },
          "execution_count": 14,
          "metadata": {},
          "output_type": "execute_result"
        }
      ],
      "source": [
        "train_ds = tf.data.Dataset.from_tensor_slices((train_pad, train[\"target\"].values))\n",
        "train_ds"
      ]
    },
    {
      "cell_type": "code",
      "execution_count": 15,
      "metadata": {
        "id": "X9PocZibpAsD"
      },
      "outputs": [],
      "source": [
        "TAKE_SIZE = int(0.8*train.shape[0])\n",
        "\n",
        "train_data = train_ds.take(TAKE_SIZE).shuffle(TAKE_SIZE)\n",
        "train_data = train_data.batch(32)\n",
        "\n",
        "val_data = train_ds.skip(TAKE_SIZE)\n",
        "val_data = val_data.batch(32)"
      ]
    },
    {
      "cell_type": "code",
      "execution_count": 16,
      "metadata": {
        "colab": {
          "base_uri": "https://localhost:8080/"
        },
        "id": "NWscVkBgpAoW",
        "outputId": "2272a389-408c-4d27-de2f-3c3535dcd115"
      },
      "outputs": [
        {
          "name": "stdout",
          "output_type": "stream",
          "text": [
            "tf.Tensor(\n",
            "[[ 21  12   0   0   0   0   0   0   0   0   0   0   0]\n",
            " [155   0   0   0   0   0   0   0   0   0   0   0   0]\n",
            " [ 49 134  99 173   0   0   0   0   0   0   0   0   0]\n",
            " [  1 231 289 135   0   0   0   0   0   0   0   0   0]\n",
            " [  4 153   0   0   0   0   0   0   0   0   0   0   0]\n",
            " [143 195 135 206   0   0   0   0   0   0   0   0   0]\n",
            " [  6  78  80   0   0   0   0   0   0   0   0   0   0]\n",
            " [193  70 265 254  59   0   0   0   0   0   0   0   0]\n",
            " [284   3   1   0   0   0   0   0   0   0   0   0   0]\n",
            " [ 26 232  47 239   0   0   0   0   0   0   0   0   0]\n",
            " [ 62   0   0   0   0   0   0   0   0   0   0   0   0]\n",
            " [ 76   5  31  76 241   1   0   0   0   0   0   0   0]\n",
            " [ 26   0   0   0   0   0   0   0   0   0   0   0   0]\n",
            " [ 10  57  93   0   0   0   0   0   0   0   0   0   0]\n",
            " [  2 248 114  28   0   0   0   0   0   0   0   0   0]\n",
            " [ 42   0   0   0   0   0   0   0   0   0   0   0   0]\n",
            " [216   0   0   0   0   0   0   0   0   0   0   0   0]\n",
            " [ 27  27 150  89   0   0   0   0   0   0   0   0   0]\n",
            " [ 12  60 111 234  51 181   0   0   0   0   0   0   0]\n",
            " [233   0   0   0   0   0   0   0   0   0   0   0   0]\n",
            " [113   0   0   0   0   0   0   0   0   0   0   0   0]\n",
            " [  7 116   0   0   0   0   0   0   0   0   0   0   0]\n",
            " [ 38 253   0   0   0   0   0   0   0   0   0   0   0]\n",
            " [175  20 196 242  45   0   0   0   0   0   0   0   0]\n",
            " [ 35 162 111 240   0   0   0   0   0   0   0   0   0]\n",
            " [ 44 202   0   0   0   0   0   0   0   0   0   0   0]\n",
            " [ 37  90  31   0   0   0   0   0   0   0   0   0   0]\n",
            " [172 151   0   0   0   0   0   0   0   0   0   0   0]\n",
            " [  1  83  50   0   0   0   0   0   0   0   0   0   0]\n",
            " [ 59  78   0   0   0   0   0   0   0   0   0   0   0]\n",
            " [ 59   0   0   0   0   0   0   0   0   0   0   0   0]\n",
            " [ 40   0   0   0   0   0   0   0   0   0   0   0   0]], shape=(32, 13), dtype=int32) tf.Tensor([1 0 0 0 1 1 0 1 0 0 0 1 1 0 0 0 0 0 1 1 1 0 1 0 1 0 1 0 1 1 1 0], shape=(32,), dtype=int64)\n"
          ]
        }
      ],
      "source": [
        "for text, target in train_data.take(1):\n",
        "  print(text, target)"
      ]
    },
    {
      "cell_type": "code",
      "execution_count": 17,
      "metadata": {},
      "outputs": [
        {
          "data": {
            "text/plain": [
              "TensorShape([32, 13])"
            ]
          },
          "execution_count": 17,
          "metadata": {},
          "output_type": "execute_result"
        }
      ],
      "source": [
        "text.shape"
      ]
    },
    {
      "cell_type": "code",
      "execution_count": 18,
      "metadata": {
        "colab": {
          "base_uri": "https://localhost:8080/"
        },
        "id": "LomAsO9ljVPp",
        "outputId": "05d672b4-0e2c-47b4-cf1c-f1a3bee1206c"
      },
      "outputs": [
        {
          "data": {
            "text/plain": [
              "20283"
            ]
          },
          "execution_count": 18,
          "metadata": {},
          "output_type": "execute_result"
        }
      ],
      "source": [
        "vocab_size = len(tokenizer_text.word_index)\n",
        "vocab_size"
      ]
    },
    {
      "cell_type": "code",
      "execution_count": 19,
      "metadata": {
        "colab": {
          "base_uri": "https://localhost:8080/"
        },
        "id": "3aZitgl6Mlrx",
        "outputId": "487d3d4e-6bb5-4003-8ab3-81f31c770a0a"
      },
      "outputs": [
        {
          "name": "stdout",
          "output_type": "stream",
          "text": [
            "Model: \"sequential\"\n",
            "_________________________________________________________________\n",
            "Layer (type)                 Output Shape              Param #   \n",
            "=================================================================\n",
            "embedding (Embedding)        (None, 13, 64)            1298176   \n",
            "_________________________________________________________________\n",
            "global_average_pooling1d (Gl (None, 64)                0         \n",
            "_________________________________________________________________\n",
            "dense (Dense)                (None, 32)                2080      \n",
            "_________________________________________________________________\n",
            "dense_1 (Dense)              (None, 16)                528       \n",
            "_________________________________________________________________\n",
            "dense_2 (Dense)              (None, 1)                 17        \n",
            "=================================================================\n",
            "Total params: 1,300,801\n",
            "Trainable params: 1,300,801\n",
            "Non-trainable params: 0\n",
            "_________________________________________________________________\n"
          ]
        }
      ],
      "source": [
        "model_embedding = tf.keras.Sequential([\n",
        "                # Couche d'Input Word Embedding           \n",
        "                tf.keras.layers.Embedding(input_dim=vocab_size+1, output_dim=64, input_shape=[text.shape[1],],\n",
        "                                            name=\"embedding\"),\n",
        "                #tf.keras.layers.Conv1D(140, 3, activation='relu', strides=1),\n",
        "\n",
        "                # Gobal average pooling\n",
        "                tf.keras.layers.GlobalAveragePooling1D(),\n",
        "\n",
        "                # Couche Dense classique\n",
        "                tf.keras.layers.Dense(32, activation='relu'),\n",
        "                tf.keras.layers.Dense(16, activation='relu'),\n",
        "\n",
        "                # Couche de sortie avec le nombre de neurones en sortie égale au nombre de classe avec fonction softmax\n",
        "                tf.keras.layers.Dense(1, activation=\"sigmoid\")\n",
        "])\n",
        "model_embedding.summary()"
      ]
    },
    {
      "cell_type": "code",
      "execution_count": 20,
      "metadata": {
        "colab": {
          "base_uri": "https://localhost:8080/",
          "height": 564
        },
        "id": "OTnavTG7gAOZ",
        "outputId": "e186173f-f8c5-4bd0-8437-fda485439bcf"
      },
      "outputs": [
        {
          "data": {
            "image/png": "[encoded data removed]",
            "text/plain": [
              "<IPython.core.display.Image object>"
            ]
          },
          "execution_count": 20,
          "metadata": {},
          "output_type": "execute_result"
        }
      ],
      "source": [
        "tf.keras.utils.plot_model(\n",
        "    model_embedding, show_shapes=False, show_layer_names=True\n",
        ")"
      ]
    },
    {
      "cell_type": "code",
      "execution_count": 21,
      "metadata": {
        "id": "p-tsDNeLDPrp"
      },
      "outputs": [],
      "source": [
        "model_embedding.compile(optimizer=tf.keras.optimizers.Adam(learning_rate=0.0005),\n",
        "                            loss=tf.keras.losses.BinaryCrossentropy(),\n",
        "                            metrics=[tf.keras.metrics.BinaryAccuracy()])"
      ]
    },
    {
      "cell_type": "code",
      "execution_count": 22,
      "metadata": {
        "colab": {
          "base_uri": "https://localhost:8080/"
        },
        "id": "nsfnthb9g7NI",
        "outputId": "70184a3b-a040-43fe-e94f-059326b1c95f"
      },
      "outputs": [
        {
          "name": "stdout",
          "output_type": "stream",
          "text": [
            "Epoch 1/20\n",
            "178/178 [==============================] - 3s 15ms/step - loss: 1.6640 - binary_accuracy: 0.6341 - val_loss: 0.6373 - val_binary_accuracy: 0.7707\n",
            "Epoch 2/20\n",
            "178/178 [==============================] - 3s 14ms/step - loss: 1.3564 - binary_accuracy: 0.7586 - val_loss: 0.5065 - val_binary_accuracy: 0.7496\n",
            "Epoch 3/20\n",
            "178/178 [==============================] - 3s 14ms/step - loss: 1.1966 - binary_accuracy: 0.7758 - val_loss: 0.5112 - val_binary_accuracy: 0.7222\n",
            "Epoch 4/20\n",
            "178/178 [==============================] - 3s 14ms/step - loss: 1.1682 - binary_accuracy: 0.7804 - val_loss: 0.5531 - val_binary_accuracy: 0.6948\n",
            "Epoch 5/20\n",
            "178/178 [==============================] - 2s 14ms/step - loss: 1.1614 - binary_accuracy: 0.7790 - val_loss: 0.5318 - val_binary_accuracy: 0.7096\n",
            "Epoch 6/20\n",
            "178/178 [==============================] - 3s 14ms/step - loss: 1.1483 - binary_accuracy: 0.7851 - val_loss: 0.5380 - val_binary_accuracy: 0.7060\n",
            "Epoch 7/20\n",
            "178/178 [==============================] - 2s 14ms/step - loss: 1.1437 - binary_accuracy: 0.7872 - val_loss: 0.5674 - val_binary_accuracy: 0.6927\n",
            "Epoch 8/20\n",
            "178/178 [==============================] - 3s 14ms/step - loss: 1.1431 - binary_accuracy: 0.7853 - val_loss: 0.5593 - val_binary_accuracy: 0.6983\n",
            "Epoch 9/20\n",
            "178/178 [==============================] - 2s 14ms/step - loss: 1.1402 - binary_accuracy: 0.7862 - val_loss: 0.5730 - val_binary_accuracy: 0.6941\n",
            "Epoch 10/20\n",
            "178/178 [==============================] - 3s 15ms/step - loss: 1.1402 - binary_accuracy: 0.7874 - val_loss: 0.5428 - val_binary_accuracy: 0.7103\n",
            "Epoch 11/20\n",
            "178/178 [==============================] - 2s 14ms/step - loss: 1.1326 - binary_accuracy: 0.7890 - val_loss: 0.5567 - val_binary_accuracy: 0.6997\n",
            "Epoch 12/20\n",
            "178/178 [==============================] - 3s 14ms/step - loss: 1.1368 - binary_accuracy: 0.7855 - val_loss: 0.5692 - val_binary_accuracy: 0.6934\n",
            "Epoch 13/20\n",
            "178/178 [==============================] - 3s 14ms/step - loss: 1.1304 - binary_accuracy: 0.7902 - val_loss: 0.5631 - val_binary_accuracy: 0.7025\n",
            "Epoch 14/20\n",
            "178/178 [==============================] - 3s 14ms/step - loss: 1.1323 - binary_accuracy: 0.7872 - val_loss: 0.5675 - val_binary_accuracy: 0.7032\n",
            "Epoch 15/20\n",
            "178/178 [==============================] - 3s 14ms/step - loss: 1.1315 - binary_accuracy: 0.7872 - val_loss: 0.5671 - val_binary_accuracy: 0.7032\n",
            "Epoch 16/20\n",
            "178/178 [==============================] - 3s 14ms/step - loss: 1.1233 - binary_accuracy: 0.7930 - val_loss: 0.5647 - val_binary_accuracy: 0.7075\n",
            "Epoch 17/20\n",
            "178/178 [==============================] - 3s 14ms/step - loss: 1.1296 - binary_accuracy: 0.7842 - val_loss: 0.6256 - val_binary_accuracy: 0.6772\n",
            "Epoch 18/20\n",
            "178/178 [==============================] - 3s 14ms/step - loss: 1.1291 - binary_accuracy: 0.7900 - val_loss: 0.5589 - val_binary_accuracy: 0.7131\n",
            "Epoch 19/20\n",
            "178/178 [==============================] - 3s 14ms/step - loss: 1.1235 - binary_accuracy: 0.7904 - val_loss: 0.5772 - val_binary_accuracy: 0.7011\n",
            "Epoch 20/20\n",
            "178/178 [==============================] - 3s 14ms/step - loss: 1.1209 - binary_accuracy: 0.7916 - val_loss: 0.5916 - val_binary_accuracy: 0.6941\n"
          ]
        }
      ],
      "source": [
        "history_embedding = model_embedding.fit(train_data, \n",
        "                                        epochs=20, \n",
        "                                        validation_data=val_data,\n",
        "                                        class_weight=weight)"
      ]
    },
    {
      "cell_type": "code",
      "execution_count": 23,
      "metadata": {
        "colab": {
          "base_uri": "https://localhost:8080/"
        },
        "id": "oN4CjkP8r0Oc",
        "outputId": "551fa71a-82dd-4abe-a755-4deec95a3473"
      },
      "outputs": [
        {
          "data": {
            "text/plain": [
              "dict_keys(['loss', 'binary_accuracy', 'val_loss', 'val_binary_accuracy'])"
            ]
          },
          "execution_count": 23,
          "metadata": {},
          "output_type": "execute_result"
        }
      ],
      "source": [
        "history_embedding.history.keys()"
      ]
    },
    {
      "cell_type": "code",
      "execution_count": 24,
      "metadata": {
        "colab": {
          "base_uri": "https://localhost:8080/",
          "height": 279
        },
        "id": "FX2fRFqQg7Ko",
        "outputId": "95ee111e-2510-47c6-f855-2085109f053b"
      },
      "outputs": [
        {
          "data": {
            "image/png": "[encoded data removed]",
            "text/plain": [
              "<Figure size 432x288 with 1 Axes>"
            ]
          },
          "metadata": {
            "needs_background": "light"
          },
          "output_type": "display_data"
        }
      ],
      "source": [
        "# Visualization of the training process on the loss function \n",
        "plt.plot(history_embedding.history[\"loss\"], color=\"b\", label='train')\n",
        "plt.plot(history_embedding.history[\"val_loss\"], color=\"r\", label='validation')\n",
        "plt.ylabel(\"Loss\", fontsize = 13)\n",
        "plt.xlabel(\"Epochs\", fontsize = 13)\n",
        "plt.legend(fontsize= 12)\n",
        "plt.show()"
      ]
    },
    {
      "cell_type": "code",
      "execution_count": 25,
      "metadata": {
        "colab": {
          "base_uri": "https://localhost:8080/",
          "height": 279
        },
        "id": "fAttADIsg7Hu",
        "outputId": "25ca1557-fa82-4f3d-eddb-d38218e1d17d"
      },
      "outputs": [
        {
          "data": {
            "image/png": "[encoded data removed]",
            "text/plain": [
              "<Figure size 432x288 with 1 Axes>"
            ]
          },
          "metadata": {
            "needs_background": "light"
          },
          "output_type": "display_data"
        }
      ],
      "source": [
        "# Visualization of accuracy training \n",
        "plt.plot(history_embedding.history[\"binary_accuracy\"], color=\"b\", label='train')\n",
        "plt.plot(history_embedding.history[\"val_binary_accuracy\"], color=\"r\", label='validation')\n",
        "plt.ylabel(\"Accuracy\", fontsize = 13)\n",
        "plt.xlabel(\"Epochs\", fontsize = 13)\n",
        "plt.legend(fontsize= 12)\n",
        "plt.show()"
      ]
    },
    {
      "cell_type": "code",
      "execution_count": 26,
      "metadata": {
        "id": "qGZTjg2qu8G5"
      },
      "outputs": [],
      "source": [
        "model_embedding.save(\"embedding.h5\")\n",
        "json.dump(model_embedding.history.history, open(\"embedding.json\", 'w'))"
      ]
    },
    {
      "cell_type": "code",
      "execution_count": 27,
      "metadata": {},
      "outputs": [],
      "source": [
        "embedding = json.load(open(\"embedding.json\", 'r'))"
      ]
    },
    {
      "cell_type": "code",
      "execution_count": 28,
      "metadata": {},
      "outputs": [
        {
          "data": {
            "image/png": "[encoded data removed]",
            "text/plain": [
              "<Figure size 432x288 with 1 Axes>"
            ]
          },
          "metadata": {
            "needs_background": "light"
          },
          "output_type": "display_data"
        }
      ],
      "source": [
        "plt.plot(embedding[\"loss\"], color=\"b\", label='train')\n",
        "plt.plot(embedding[\"val_loss\"], color=\"r\", label='validation')\n",
        "plt.ylabel(\"Loss\", fontsize = 13)\n",
        "plt.xlabel(\"Epochs\", fontsize = 13)\n",
        "plt.legend(fontsize = 12)\n",
        "plt.show()"
      ]
    },
    {
      "cell_type": "code",
      "execution_count": 29,
      "metadata": {
        "colab": {
          "base_uri": "https://localhost:8080/",
          "height": 112
        },
        "id": "kt9dQcK9WC4Y",
        "outputId": "56ddc452-a6b6-4bed-e1ea-b7a830e27a5f"
      },
      "outputs": [
        {
          "data": {
            "text/html": [
              "<div><div id=c9875333-07eb-429f-8c5a-30c308105c01 style=\"display:none; background-color:#9D6CFF; color:white; width:200px; height:30px; padding-left:5px; border-radius:4px; flex-direction:row; justify-content:space-around; align-items:center;\" onmouseover=\"this.style.backgroundColor='#BA9BF8'\" onmouseout=\"this.style.backgroundColor='#9D6CFF'\" onclick=\"window.commands?.execute('create-mitosheet-from-dataframe-output');\">See Full Dataframe in Mito</div> <script> if (window.commands.hasCommand('create-mitosheet-from-dataframe-output')) document.getElementById('c9875333-07eb-429f-8c5a-30c308105c01').style.display = 'flex' </script> <table border=\"1\" class=\"dataframe\">\n",
              "  <thead>\n",
              "    <tr style=\"text-align: right;\">\n",
              "      <th></th>\n",
              "      <th>text</th>\n",
              "    </tr>\n",
              "  </thead>\n",
              "  <tbody>\n",
              "    <tr>\n",
              "      <th>0</th>\n",
              "      <td>Just happened a terrible car crash</td>\n",
              "    </tr>\n",
              "    <tr>\n",
              "      <th>1</th>\n",
              "      <td>Heard about #earthquake is different cities, stay safe everyone.</td>\n",
              "    </tr>\n",
              "  </tbody>\n",
              "</table></div>"
            ],
            "text/plain": [
              "                                                text\n",
              "0                 Just happened a terrible car crash\n",
              "1  Heard about #earthquake is different cities, s..."
            ]
          },
          "execution_count": 29,
          "metadata": {},
          "output_type": "execute_result"
        }
      ],
      "source": [
        "url_test = \"https://raw.githubusercontent.com/huynam1012/Projet_jedha/main/test.csv\"\n",
        "test = pd.read_csv(url_test)\n",
        "test = test[[\"text\"]]\n",
        "test.head(2)"
      ]
    },
    {
      "cell_type": "code",
      "execution_count": 30,
      "metadata": {
        "colab": {
          "base_uri": "https://localhost:8080/",
          "height": 112
        },
        "id": "hXLEvNEMWCyF",
        "outputId": "c05fac1b-7d64-4f18-9289-359b50f1bb7f"
      },
      "outputs": [
        {
          "data": {
            "text/html": [
              "<div><div id=6e49fcb1-9b61-42fb-8c92-d0986e0d911a style=\"display:none; background-color:#9D6CFF; color:white; width:200px; height:30px; padding-left:5px; border-radius:4px; flex-direction:row; justify-content:space-around; align-items:center;\" onmouseover=\"this.style.backgroundColor='#BA9BF8'\" onmouseout=\"this.style.backgroundColor='#9D6CFF'\" onclick=\"window.commands?.execute('create-mitosheet-from-dataframe-output');\">See Full Dataframe in Mito</div> <script> if (window.commands.hasCommand('create-mitosheet-from-dataframe-output')) document.getElementById('6e49fcb1-9b61-42fb-8c92-d0986e0d911a').style.display = 'flex' </script> <table border=\"1\" class=\"dataframe\">\n",
              "  <thead>\n",
              "    <tr style=\"text-align: right;\">\n",
              "      <th></th>\n",
              "      <th>text</th>\n",
              "      <th>text_clean</th>\n",
              "    </tr>\n",
              "  </thead>\n",
              "  <tbody>\n",
              "    <tr>\n",
              "      <th>0</th>\n",
              "      <td>Just happened a terrible car crash</td>\n",
              "      <td>happen terrible car crash</td>\n",
              "    </tr>\n",
              "    <tr>\n",
              "      <th>1</th>\n",
              "      <td>Heard about #earthquake is different cities, stay safe everyone.</td>\n",
              "      <td>hear earthquake different city stay safe</td>\n",
              "    </tr>\n",
              "  </tbody>\n",
              "</table></div>"
            ],
            "text/plain": [
              "                                                text  \\\n",
              "0                 Just happened a terrible car crash   \n",
              "1  Heard about #earthquake is different cities, s...   \n",
              "\n",
              "                                 text_clean  \n",
              "0                 happen terrible car crash  \n",
              "1  hear earthquake different city stay safe  "
            ]
          },
          "execution_count": 30,
          "metadata": {},
          "output_type": "execute_result"
        }
      ],
      "source": [
        "test[\"text_clean\"] = test[\"text\"].apply(lambda x:''.join(ch for ch in x if ch.isalnum() or ch==\" \"))\n",
        "test[\"text_clean\"] = test[\"text_clean\"].apply(lambda x: x.replace(\" +\",\" \").lower().strip())\n",
        "test[\"text_clean\"] = test[\"text_clean\"].apply(lambda x: \" \".join([token.lemma_ for token in nlp(x) if (token.lemma_ not in STOP_WORDS) & (token.text not in STOP_WORDS)]))\n",
        "test.head(2)"
      ]
    },
    {
      "cell_type": "code",
      "execution_count": 31,
      "metadata": {
        "colab": {
          "base_uri": "https://localhost:8080/",
          "height": 206
        },
        "id": "R3chcDumWCub",
        "outputId": "df887150-6182-44b0-8140-19c1475f535e"
      },
      "outputs": [
        {
          "data": {
            "text/html": [
              "<div><div id=4c13aa33-e994-484e-8cc6-9cecfd6e09d4 style=\"display:none; background-color:#9D6CFF; color:white; width:200px; height:30px; padding-left:5px; border-radius:4px; flex-direction:row; justify-content:space-around; align-items:center;\" onmouseover=\"this.style.backgroundColor='#BA9BF8'\" onmouseout=\"this.style.backgroundColor='#9D6CFF'\" onclick=\"window.commands?.execute('create-mitosheet-from-dataframe-output');\">See Full Dataframe in Mito</div> <script> if (window.commands.hasCommand('create-mitosheet-from-dataframe-output')) document.getElementById('4c13aa33-e994-484e-8cc6-9cecfd6e09d4').style.display = 'flex' </script> <table border=\"1\" class=\"dataframe\">\n",
              "  <thead>\n",
              "    <tr style=\"text-align: right;\">\n",
              "      <th></th>\n",
              "      <th>text</th>\n",
              "      <th>text_clean</th>\n",
              "      <th>text_encoded</th>\n",
              "    </tr>\n",
              "  </thead>\n",
              "  <tbody>\n",
              "    <tr>\n",
              "      <th>0</th>\n",
              "      <td>Just happened a terrible car crash</td>\n",
              "      <td>happen terrible car crash</td>\n",
              "      <td>[149, 47, 16]</td>\n",
              "    </tr>\n",
              "    <tr>\n",
              "      <th>1</th>\n",
              "      <td>Heard about #earthquake is different cities, stay safe everyone.</td>\n",
              "      <td>hear earthquake different city stay safe</td>\n",
              "      <td>[101, 181, 133]</td>\n",
              "    </tr>\n",
              "  </tbody>\n",
              "</table></div>"
            ],
            "text/plain": [
              "                                                text  \\\n",
              "0                 Just happened a terrible car crash   \n",
              "1  Heard about #earthquake is different cities, s...   \n",
              "\n",
              "                                 text_clean     text_encoded  \n",
              "0                 happen terrible car crash    [149, 47, 16]  \n",
              "1  hear earthquake different city stay safe  [101, 181, 133]  "
            ]
          },
          "execution_count": 31,
          "metadata": {},
          "output_type": "execute_result"
        }
      ],
      "source": [
        "tokenizer_text.fit_on_texts(test[\"text_clean\"])\n",
        "test[\"text_encoded\"] = tokenizer_text.texts_to_sequences(test[\"text_clean\"])\n",
        "test.head(2)"
      ]
    },
    {
      "cell_type": "code",
      "execution_count": 32,
      "metadata": {
        "colab": {
          "base_uri": "https://localhost:8080/"
        },
        "id": "Lo19cB3CWOaL",
        "outputId": "c850dad6-c9c9-439e-f106-bb9505634de9"
      },
      "outputs": [
        {
          "data": {
            "text/plain": [
              "(3263, 14)"
            ]
          },
          "execution_count": 32,
          "metadata": {},
          "output_type": "execute_result"
        }
      ],
      "source": [
        "test_pad = tf.keras.preprocessing.sequence.pad_sequences(test[\"text_encoded\"], padding='post')\n",
        "test_pad.shape"
      ]
    },
    {
      "cell_type": "code",
      "execution_count": 33,
      "metadata": {
        "colab": {
          "base_uri": "https://localhost:8080/",
          "height": 622
        },
        "id": "cJvc1BoBcaL_",
        "outputId": "9b870081-3ba9-4e0a-fa11-2a285614421f"
      },
      "outputs": [
        {
          "name": "stderr",
          "output_type": "stream",
          "text": [
            "Model was constructed with shape (None, 13) for input KerasTensor(type_spec=TensorSpec(shape=(None, 13), dtype=tf.float32, name='embedding_input'), name='embedding_input', description=\"created by layer 'embedding_input'\"), but it was called on an input with incompatible shape (None, 14).\n"
          ]
        },
        {
          "data": {
            "text/plain": [
              "(3263, 1)"
            ]
          },
          "execution_count": 33,
          "metadata": {},
          "output_type": "execute_result"
        }
      ],
      "source": [
        "prediction = model_embedding.predict(test_pad)\n",
        "prediction.shape"
      ]
    },
    {
      "cell_type": "code",
      "execution_count": 34,
      "metadata": {
        "colab": {
          "base_uri": "https://localhost:8080/",
          "height": 622
        },
        "id": "OLolT-ZhWOPV",
        "outputId": "439c8abb-a1d8-4e1e-b874-fa029dd0a753"
      },
      "outputs": [
        {
          "data": {
            "text/html": [
              "<div><div id=cc3e97aa-7440-4a5c-a524-07306fa5ecd7 style=\"display:none; background-color:#9D6CFF; color:white; width:200px; height:30px; padding-left:5px; border-radius:4px; flex-direction:row; justify-content:space-around; align-items:center;\" onmouseover=\"this.style.backgroundColor='#BA9BF8'\" onmouseout=\"this.style.backgroundColor='#9D6CFF'\" onclick=\"window.commands?.execute('create-mitosheet-from-dataframe-output');\">See Full Dataframe in Mito</div> <script> if (window.commands.hasCommand('create-mitosheet-from-dataframe-output')) document.getElementById('cc3e97aa-7440-4a5c-a524-07306fa5ecd7').style.display = 'flex' </script> <table border=\"1\" class=\"dataframe\">\n",
              "  <thead>\n",
              "    <tr style=\"text-align: right;\">\n",
              "      <th></th>\n",
              "      <th>id</th>\n",
              "      <th>target</th>\n",
              "    </tr>\n",
              "  </thead>\n",
              "  <tbody>\n",
              "    <tr>\n",
              "      <th>0</th>\n",
              "      <td>0</td>\n",
              "      <td>0</td>\n",
              "    </tr>\n",
              "    <tr>\n",
              "      <th>1</th>\n",
              "      <td>2</td>\n",
              "      <td>0</td>\n",
              "    </tr>\n",
              "    <tr>\n",
              "      <th>2</th>\n",
              "      <td>3</td>\n",
              "      <td>1</td>\n",
              "    </tr>\n",
              "    <tr>\n",
              "      <th>3</th>\n",
              "      <td>9</td>\n",
              "      <td>0</td>\n",
              "    </tr>\n",
              "    <tr>\n",
              "      <th>4</th>\n",
              "      <td>11</td>\n",
              "      <td>0</td>\n",
              "    </tr>\n",
              "  </tbody>\n",
              "</table></div>"
            ],
            "text/plain": [
              "   id  target\n",
              "0   0       0\n",
              "1   2       0\n",
              "2   3       1\n",
              "3   9       0\n",
              "4  11       0"
            ]
          },
          "execution_count": 34,
          "metadata": {},
          "output_type": "execute_result"
        }
      ],
      "source": [
        "url_submission = \"https://raw.githubusercontent.com/huynam1012/Projet_jedha/main/sample_submission.csv\"\n",
        "submission = pd.read_csv(url_submission)\n",
        "submission[\"target\"] = prediction\n",
        "submission[\"target\"] = submission[\"target\"].apply(lambda x : 0 if x <= 0.5 else 1)\n",
        "submission.head(5)"
      ]
    },
    {
      "cell_type": "markdown",
      "metadata": {
        "id": "wX7NzBnYnEyb"
      },
      "source": [
        "## Recurrent Neural Networks"
      ]
    },
    {
      "cell_type": "markdown",
      "metadata": {
        "id": "RuN5EZGnrv6P"
      },
      "source": [
        "### SimpleRNN"
      ]
    },
    {
      "cell_type": "code",
      "execution_count": 35,
      "metadata": {
        "colab": {
          "base_uri": "https://localhost:8080/",
          "height": 112
        },
        "id": "Rnx-3TSafZEx",
        "outputId": "6076e1a6-a2c0-4120-8d89-946a463b4851"
      },
      "outputs": [],
      "source": [
        "url_train = \"https://raw.githubusercontent.com/huynam1012/Projet_jedha/main/train.csv\"\n",
        "train = pd.read_csv(url_train)\n",
        "train = train[[\"text\", \"target\"]]\n",
        "\n",
        "train[\"text_clean\"] = train[\"text\"].apply(lambda x:''.join(ch for ch in x if ch.isalnum() or ch==\" \"))\n",
        "train[\"text_clean\"] = train[\"text_clean\"].apply(lambda x: x.replace(\" +\",\" \").lower().strip())\n",
        "train[\"text_clean\"] = train[\"text_clean\"].apply(lambda x: \" \".join([token.lemma_ for token in nlp(x) if (token.lemma_ not in STOP_WORDS) & (token.text not in STOP_WORDS)]))\n",
        "\n",
        "weight = dict(1/(train[\"target\"].value_counts())/(sum(1/train[\"target\"].value_counts()))*5)"
      ]
    },
    {
      "cell_type": "code",
      "execution_count": 36,
      "metadata": {
        "colab": {
          "base_uri": "https://localhost:8080/",
          "height": 112
        },
        "id": "P4QUEboPfY7W",
        "outputId": "770e5645-88f4-483e-c4fe-5892277c8a12"
      },
      "outputs": [
        {
          "data": {
            "text/html": [
              "<div><div id=4aeaa853-da89-4317-8d4c-7e29600dd724 style=\"display:none; background-color:#9D6CFF; color:white; width:200px; height:30px; padding-left:5px; border-radius:4px; flex-direction:row; justify-content:space-around; align-items:center;\" onmouseover=\"this.style.backgroundColor='#BA9BF8'\" onmouseout=\"this.style.backgroundColor='#9D6CFF'\" onclick=\"window.commands?.execute('create-mitosheet-from-dataframe-output');\">See Full Dataframe in Mito</div> <script> if (window.commands.hasCommand('create-mitosheet-from-dataframe-output')) document.getElementById('4aeaa853-da89-4317-8d4c-7e29600dd724').style.display = 'flex' </script> <table border=\"1\" class=\"dataframe\">\n",
              "  <thead>\n",
              "    <tr style=\"text-align: right;\">\n",
              "      <th></th>\n",
              "      <th>text</th>\n",
              "      <th>target</th>\n",
              "      <th>text_clean</th>\n",
              "      <th>text_encoded</th>\n",
              "      <th>len_text</th>\n",
              "    </tr>\n",
              "  </thead>\n",
              "  <tbody>\n",
              "    <tr>\n",
              "      <th>0</th>\n",
              "      <td>Our Deeds are the Reason of this #earthquake May ALLAH Forgive us all</td>\n",
              "      <td>1</td>\n",
              "      <td>deed reason earthquake allah forgive</td>\n",
              "      <td>[174]</td>\n",
              "      <td>1</td>\n",
              "    </tr>\n",
              "    <tr>\n",
              "      <th>1</th>\n",
              "      <td>Forest fire near La Ronge Sask. Canada</td>\n",
              "      <td>1</td>\n",
              "      <td>forest fire near la ronge sask canada</td>\n",
              "      <td>[119, 4, 162]</td>\n",
              "      <td>3</td>\n",
              "    </tr>\n",
              "  </tbody>\n",
              "</table></div>"
            ],
            "text/plain": [
              "                                                text  target  \\\n",
              "0  Our Deeds are the Reason of this #earthquake M...       1   \n",
              "1             Forest fire near La Ronge Sask. Canada       1   \n",
              "\n",
              "                              text_clean   text_encoded  len_text  \n",
              "0   deed reason earthquake allah forgive          [174]         1  \n",
              "1  forest fire near la ronge sask canada  [119, 4, 162]         3  "
            ]
          },
          "execution_count": 36,
          "metadata": {},
          "output_type": "execute_result"
        }
      ],
      "source": [
        "tokenizer_text = tf.keras.preprocessing.text.Tokenizer(num_words=300,\n",
        "                                                        filters='!\"#$%&()*+,-./:;<=>?@[\\\\]^_`{|}~\\t\\n',\n",
        "                                                        lower=True, split=' ', char_level=False, oov_token=None,\n",
        "                                                        document_count=0)\n",
        "\n",
        "tokenizer_text.fit_on_texts(train[\"text_clean\"])\n",
        "train[\"text_encoded\"] = tokenizer_text.texts_to_sequences(train[\"text_clean\"])\n",
        "train[\"len_text\"] = train[\"text_encoded\"].apply(lambda x: len(x))\n",
        "train = train[train[\"len_text\"]!=0]\n",
        "train.head(2)"
      ]
    },
    {
      "cell_type": "code",
      "execution_count": 37,
      "metadata": {},
      "outputs": [
        {
          "data": {
            "text/plain": [
              "20283"
            ]
          },
          "execution_count": 37,
          "metadata": {},
          "output_type": "execute_result"
        }
      ],
      "source": [
        "len(tokenizer_text.word_index)"
      ]
    },
    {
      "cell_type": "code",
      "execution_count": 38,
      "metadata": {
        "colab": {
          "base_uri": "https://localhost:8080/"
        },
        "id": "nEYhQAWhhK6t",
        "outputId": "6283bf41-7bbd-41b8-e06a-d38c5e4a7497"
      },
      "outputs": [],
      "source": [
        "#Padding means adding values before and after Tensor values.\n",
        "train_pad = tf.keras.preprocessing.sequence.pad_sequences(train[\"text_encoded\"], padding='post')\n",
        "train_ds = tf.data.Dataset.from_tensor_slices((train_pad, train[\"target\"].values))"
      ]
    },
    {
      "cell_type": "code",
      "execution_count": 39,
      "metadata": {
        "id": "gEdTGAd5fY37"
      },
      "outputs": [],
      "source": [
        "TAKE_SIZE = int(0.8*train.shape[0])\n",
        "\n",
        "train_data = train_ds.take(TAKE_SIZE).shuffle(TAKE_SIZE)\n",
        "train_data = train_data.batch(32)\n",
        "\n",
        "val_data = train_ds.skip(TAKE_SIZE)\n",
        "val_data = val_data.batch(32)"
      ]
    },
    {
      "cell_type": "code",
      "execution_count": 40,
      "metadata": {
        "colab": {
          "base_uri": "https://localhost:8080/"
        },
        "id": "2Vfigf_Iharf",
        "outputId": "5d827de2-0ce8-47b0-d777-321af426f7dd"
      },
      "outputs": [
        {
          "name": "stdout",
          "output_type": "stream",
          "text": [
            "tf.Tensor(\n",
            "[[  1  60   0   0   0   0   0   0   0   0   0   0   0]\n",
            " [164  26  60 157   0   0   0   0   0   0   0   0   0]\n",
            " [149   0   0   0   0   0   0   0   0   0   0   0   0]\n",
            " [121   0   0   0   0   0   0   0   0   0   0   0   0]\n",
            " [156 190   0   0   0   0   0   0   0   0   0   0   0]\n",
            " [136  80   0   0   0   0   0   0   0   0   0   0   0]\n",
            " [101  64 295  12 177 258   0   0   0   0   0   0   0]\n",
            " [  3 126  36   0   0   0   0   0   0   0   0   0   0]\n",
            " [120 279 260  48 290  60   0   0   0   0   0   0   0]\n",
            " [  3   0   0   0   0   0   0   0   0   0   0   0   0]\n",
            " [ 88   1  43   0   0   0   0   0   0   0   0   0   0]\n",
            " [  5  89  28 259  49   0   0   0   0   0   0   0   0]\n",
            " [ 22   0   0   0   0   0   0   0   0   0   0   0   0]\n",
            " [195 299   0   0   0   0   0   0   0   0   0   0   0]\n",
            " [179   0   0   0   0   0   0   0   0   0   0   0   0]\n",
            " [ 64 157   0   0   0   0   0   0   0   0   0   0   0]\n",
            " [ 21  21  25 170  13 179 250  21   0   0   0   0   0]\n",
            " [ 59  50  78  90   0   0   0   0   0   0   0   0   0]\n",
            " [ 21   0   0   0   0   0   0   0   0   0   0   0   0]\n",
            " [158  67 159 104   0   0   0   0   0   0   0   0   0]\n",
            " [ 64  24   2  30  81   0   0   0   0   0   0   0   0]\n",
            " [ 95   0   0   0   0   0   0   0   0   0   0   0   0]\n",
            " [  3  98  41  56   0   0   0   0   0   0   0   0   0]\n",
            " [  2 196   2  17  63 225  19   0   0   0   0   0   0]\n",
            " [ 18  81  23   0   0   0   0   0   0   0   0   0   0]\n",
            " [ 56  37  51   0   0   0   0   0   0   0   0   0   0]\n",
            " [ 36 110 203   0   0   0   0   0   0   0   0   0   0]\n",
            " [ 52   2 112 116  95   0   0   0   0   0   0   0   0]\n",
            " [234  82 113   0   0   0   0   0   0   0   0   0   0]\n",
            " [ 38 253   0   0   0   0   0   0   0   0   0   0   0]\n",
            " [ 14 136   0   0   0   0   0   0   0   0   0   0   0]\n",
            " [ 51  51   0   0   0   0   0   0   0   0   0   0   0]], shape=(32, 13), dtype=int32) tf.Tensor([0 0 1 0 1 1 1 0 0 0 0 0 1 0 0 0 1 1 1 1 0 0 1 1 0 1 1 0 1 1 0 0], shape=(32,), dtype=int64)\n"
          ]
        }
      ],
      "source": [
        "for text, target in train_data.take(1):\n",
        "  print(text, target)"
      ]
    },
    {
      "cell_type": "code",
      "execution_count": 41,
      "metadata": {
        "colab": {
          "base_uri": "https://localhost:8080/"
        },
        "id": "LVIzRPXihaoe",
        "outputId": "b7c6d6b2-8ff7-40ab-af43-cebff60c72e8"
      },
      "outputs": [
        {
          "data": {
            "text/plain": [
              "20283"
            ]
          },
          "execution_count": 41,
          "metadata": {},
          "output_type": "execute_result"
        }
      ],
      "source": [
        "vocab_size = len(tokenizer_text.word_index)\n",
        "vocab_size"
      ]
    },
    {
      "cell_type": "code",
      "execution_count": 42,
      "metadata": {
        "colab": {
          "base_uri": "https://localhost:8080/"
        },
        "id": "BT3osW8hnhGy",
        "outputId": "f4e4da8c-5e70-46a0-8e29-e06b091a09a9"
      },
      "outputs": [
        {
          "name": "stdout",
          "output_type": "stream",
          "text": [
            "Model: \"sequential_1\"\n",
            "_________________________________________________________________\n",
            "Layer (type)                 Output Shape              Param #   \n",
            "=================================================================\n",
            "embedding (Embedding)        (None, 13, 64)            1298176   \n",
            "_________________________________________________________________\n",
            "simple_rnn (SimpleRNN)       (None, 13, 64)            8256      \n",
            "_________________________________________________________________\n",
            "simple_rnn_1 (SimpleRNN)     (None, 13, 32)            3104      \n",
            "_________________________________________________________________\n",
            "dense_3 (Dense)              (None, 13, 32)            1056      \n",
            "_________________________________________________________________\n",
            "dense_4 (Dense)              (None, 13, 16)            528       \n",
            "_________________________________________________________________\n",
            "dense_5 (Dense)              (None, 13, 1)             17        \n",
            "=================================================================\n",
            "Total params: 1,311,137\n",
            "Trainable params: 1,311,137\n",
            "Non-trainable params: 0\n",
            "_________________________________________________________________\n"
          ]
        }
      ],
      "source": [
        "model_srnn = tf.keras.Sequential([\n",
        "                # Couche d'Input Word Embedding           \n",
        "                tf.keras.layers.Embedding(input_dim=vocab_size+1, output_dim=64, input_shape=[text.shape[1],],\n",
        "                                            name=\"embedding\"),\n",
        "                \n",
        "                tf.keras.layers.SimpleRNN(units=64, return_sequences=True),\n",
        "                tf.keras.layers.SimpleRNN(units=32, return_sequences=True),\n",
        "\n",
        "                # Couche Dense classique\n",
        "                tf.keras.layers.Dense(32, activation='relu'),\n",
        "                tf.keras.layers.Dense(16, activation='relu'),\n",
        "\n",
        "                # Couche de sortie avec le nombre de neurones en sortie égale au nombre de classe avec fonction softmax\n",
        "                tf.keras.layers.Dense(1, activation=\"sigmoid\")\n",
        "])\n",
        "model_srnn.summary()"
      ]
    },
    {
      "cell_type": "code",
      "execution_count": 43,
      "metadata": {},
      "outputs": [
        {
          "data": {
            "image/png": "[encoded data removed]",
            "text/plain": [
              "<IPython.core.display.Image object>"
            ]
          },
          "execution_count": 43,
          "metadata": {},
          "output_type": "execute_result"
        }
      ],
      "source": [
        "tf.keras.utils.plot_model(\n",
        "    model_srnn, show_shapes=False, show_layer_names=True\n",
        ")"
      ]
    },
    {
      "cell_type": "code",
      "execution_count": 44,
      "metadata": {
        "id": "JfW4Md_IsXl0"
      },
      "outputs": [],
      "source": [
        "model_srnn.compile(optimizer=tf.keras.optimizers.Adam(learning_rate=0.0005),\n",
        "                            loss=tf.keras.losses.BinaryCrossentropy(),\n",
        "                            metrics=[tf.keras.metrics.BinaryAccuracy()])"
      ]
    },
    {
      "cell_type": "code",
      "execution_count": 45,
      "metadata": {
        "colab": {
          "base_uri": "https://localhost:8080/",
          "height": 1000
        },
        "id": "1K8gl2n7sXji",
        "outputId": "bef135c3-e0fe-4e5e-bfa9-4b995096cdf1"
      },
      "outputs": [
        {
          "name": "stdout",
          "output_type": "stream",
          "text": [
            "Epoch 1/20\n",
            "178/178 [==============================] - 5s 19ms/step - loss: 1.5058 - binary_accuracy: 0.6742 - val_loss: 0.5660 - val_binary_accuracy: 0.7085\n",
            "Epoch 2/20\n",
            "178/178 [==============================] - 3s 16ms/step - loss: 1.2818 - binary_accuracy: 0.7645 - val_loss: 0.5530 - val_binary_accuracy: 0.7111\n",
            "Epoch 3/20\n",
            "178/178 [==============================] - 3s 17ms/step - loss: 1.2301 - binary_accuracy: 0.7758 - val_loss: 0.5697 - val_binary_accuracy: 0.7027\n",
            "Epoch 4/20\n",
            "178/178 [==============================] - 3s 16ms/step - loss: 1.2026 - binary_accuracy: 0.7834 - val_loss: 0.5898 - val_binary_accuracy: 0.6875\n",
            "Epoch 5/20\n",
            "178/178 [==============================] - 3s 17ms/step - loss: 1.1924 - binary_accuracy: 0.7804 - val_loss: 0.5841 - val_binary_accuracy: 0.6916\n",
            "Epoch 6/20\n",
            "178/178 [==============================] - 3s 17ms/step - loss: 1.1654 - binary_accuracy: 0.7850 - val_loss: 0.6359 - val_binary_accuracy: 0.6828\n",
            "Epoch 7/20\n",
            "178/178 [==============================] - 3s 16ms/step - loss: 1.1562 - binary_accuracy: 0.7884 - val_loss: 0.7041 - val_binary_accuracy: 0.6815\n",
            "Epoch 8/20\n",
            "178/178 [==============================] - 3s 17ms/step - loss: 1.1339 - binary_accuracy: 0.7915 - val_loss: 0.6239 - val_binary_accuracy: 0.6800\n",
            "Epoch 9/20\n",
            "178/178 [==============================] - 3s 16ms/step - loss: 1.1316 - binary_accuracy: 0.7921 - val_loss: 0.7030 - val_binary_accuracy: 0.6863\n",
            "Epoch 10/20\n",
            "178/178 [==============================] - 3s 17ms/step - loss: 1.1192 - binary_accuracy: 0.7955 - val_loss: 0.7128 - val_binary_accuracy: 0.6866\n",
            "Epoch 11/20\n",
            "178/178 [==============================] - 3s 16ms/step - loss: 1.1205 - binary_accuracy: 0.7948 - val_loss: 0.7568 - val_binary_accuracy: 0.6831\n",
            "Epoch 12/20\n",
            "178/178 [==============================] - 3s 20ms/step - loss: 1.1113 - binary_accuracy: 0.7958 - val_loss: 0.7176 - val_binary_accuracy: 0.6792\n",
            "Epoch 13/20\n",
            "178/178 [==============================] - 3s 17ms/step - loss: 1.1048 - binary_accuracy: 0.7973 - val_loss: 0.7436 - val_binary_accuracy: 0.6745\n",
            "Epoch 14/20\n",
            "178/178 [==============================] - 3s 17ms/step - loss: 1.0904 - binary_accuracy: 0.8017 - val_loss: 0.7631 - val_binary_accuracy: 0.6639\n",
            "Epoch 15/20\n",
            "178/178 [==============================] - 3s 16ms/step - loss: 1.0789 - binary_accuracy: 0.8026 - val_loss: 0.8035 - val_binary_accuracy: 0.6656\n",
            "Epoch 16/20\n",
            "178/178 [==============================] - 3s 17ms/step - loss: 1.0750 - binary_accuracy: 0.8027 - val_loss: 0.7642 - val_binary_accuracy: 0.6712\n",
            "Epoch 17/20\n",
            "178/178 [==============================] - 3s 18ms/step - loss: 1.0703 - binary_accuracy: 0.8014 - val_loss: 0.7433 - val_binary_accuracy: 0.6835\n",
            "Epoch 18/20\n",
            "178/178 [==============================] - 3s 17ms/step - loss: 1.0656 - binary_accuracy: 0.8058 - val_loss: 0.7806 - val_binary_accuracy: 0.6881\n",
            "Epoch 19/20\n",
            "178/178 [==============================] - 3s 17ms/step - loss: 1.0590 - binary_accuracy: 0.8035 - val_loss: 0.7805 - val_binary_accuracy: 0.6707\n",
            "Epoch 20/20\n",
            "178/178 [==============================] - 3s 16ms/step - loss: 1.0590 - binary_accuracy: 0.8036 - val_loss: 0.8500 - val_binary_accuracy: 0.6707\n"
          ]
        }
      ],
      "source": [
        "history_srnn = model_srnn.fit(train_data, epochs=20, validation_data=val_data, class_weight=weight)"
      ]
    },
    {
      "cell_type": "code",
      "execution_count": 46,
      "metadata": {
        "colab": {
          "base_uri": "https://localhost:8080/"
        },
        "id": "FBivOf-VtM-D",
        "outputId": "589a6cb2-c973-476f-e7c1-c4325b4d7611"
      },
      "outputs": [
        {
          "data": {
            "text/plain": [
              "dict_keys(['loss', 'binary_accuracy', 'val_loss', 'val_binary_accuracy'])"
            ]
          },
          "execution_count": 46,
          "metadata": {},
          "output_type": "execute_result"
        }
      ],
      "source": [
        "history_srnn.history.keys()"
      ]
    },
    {
      "cell_type": "code",
      "execution_count": 47,
      "metadata": {},
      "outputs": [
        {
          "data": {
            "image/png": "[encoded data removed]",
            "text/plain": [
              "<Figure size 432x288 with 1 Axes>"
            ]
          },
          "metadata": {
            "needs_background": "light"
          },
          "output_type": "display_data"
        }
      ],
      "source": [
        "# Visualization of the training process on the loss function \n",
        "plt.plot(history_srnn.history[\"loss\"], color=\"b\")\n",
        "plt.plot(history_srnn.history[\"val_loss\"], color=\"r\")\n",
        "plt.ylabel(\"loss\")\n",
        "plt.xlabel(\"Epochs\")\n",
        "plt.show()"
      ]
    },
    {
      "cell_type": "code",
      "execution_count": 48,
      "metadata": {},
      "outputs": [
        {
          "data": {
            "image/png": "[encoded data removed]",
            "text/plain": [
              "<Figure size 432x288 with 1 Axes>"
            ]
          },
          "metadata": {
            "needs_background": "light"
          },
          "output_type": "display_data"
        }
      ],
      "source": [
        "# Visualization of accuracy training \n",
        "plt.plot(history_srnn.history[\"binary_accuracy\"], color=\"b\")\n",
        "plt.plot(history_srnn.history[\"val_binary_accuracy\"], color=\"r\")\n",
        "plt.ylabel(\"accuracy\")\n",
        "plt.xlabel(\"Epochs\")\n",
        "plt.show()"
      ]
    },
    {
      "cell_type": "code",
      "execution_count": 49,
      "metadata": {
        "id": "hXBtKibSsXgj"
      },
      "outputs": [],
      "source": [
        "model_srnn.save(\"srnn.h5\")\n",
        "json.dump(model_srnn.history.history, open(\"srnn.json\", 'w'))\n",
        "\n",
        "srnn = json.load(open(\"srnn.json\", 'r'))"
      ]
    },
    {
      "cell_type": "code",
      "execution_count": 50,
      "metadata": {},
      "outputs": [
        {
          "data": {
            "text/html": [
              "<div><div id=5a9e3d13-9fcb-410b-8287-59c6610c6c0d style=\"display:none; background-color:#9D6CFF; color:white; width:200px; height:30px; padding-left:5px; border-radius:4px; flex-direction:row; justify-content:space-around; align-items:center;\" onmouseover=\"this.style.backgroundColor='#BA9BF8'\" onmouseout=\"this.style.backgroundColor='#9D6CFF'\" onclick=\"window.commands?.execute('create-mitosheet-from-dataframe-output');\">See Full Dataframe in Mito</div> <script> if (window.commands.hasCommand('create-mitosheet-from-dataframe-output')) document.getElementById('5a9e3d13-9fcb-410b-8287-59c6610c6c0d').style.display = 'flex' </script> <table border=\"1\" class=\"dataframe\">\n",
              "  <thead>\n",
              "    <tr style=\"text-align: right;\">\n",
              "      <th></th>\n",
              "      <th>text</th>\n",
              "      <th>text_clean</th>\n",
              "      <th>text_encoded</th>\n",
              "    </tr>\n",
              "  </thead>\n",
              "  <tbody>\n",
              "    <tr>\n",
              "      <th>0</th>\n",
              "      <td>Just happened a terrible car crash</td>\n",
              "      <td>happen terrible car crash</td>\n",
              "      <td>[149, 47, 16]</td>\n",
              "    </tr>\n",
              "    <tr>\n",
              "      <th>1</th>\n",
              "      <td>Heard about #earthquake is different cities, stay safe everyone.</td>\n",
              "      <td>hear earthquake different city stay safe</td>\n",
              "      <td>[101, 181, 133]</td>\n",
              "    </tr>\n",
              "    <tr>\n",
              "      <th>2</th>\n",
              "      <td>there is a forest fire at spot pond, geese are fleeing across the street, I cannot save them all</td>\n",
              "      <td>forest fire spot pond geese flee street save</td>\n",
              "      <td>[94, 3, 99]</td>\n",
              "    </tr>\n",
              "    <tr>\n",
              "      <th>3</th>\n",
              "      <td>Apocalypse lighting. #Spokane #wildfires</td>\n",
              "      <td>apocalypse light spokane wildfire</td>\n",
              "      <td>[297, 258, 75]</td>\n",
              "    </tr>\n",
              "    <tr>\n",
              "      <th>4</th>\n",
              "      <td>Typhoon Soudelor kills 28 in China and Taiwan</td>\n",
              "      <td>typhoon soudelor kill 28 china taiwan</td>\n",
              "      <td>[11]</td>\n",
              "    </tr>\n",
              "  </tbody>\n",
              "</table></div>"
            ],
            "text/plain": [
              "                                                text  \\\n",
              "0                 Just happened a terrible car crash   \n",
              "1  Heard about #earthquake is different cities, s...   \n",
              "2  there is a forest fire at spot pond, geese are...   \n",
              "3           Apocalypse lighting. #Spokane #wildfires   \n",
              "4      Typhoon Soudelor kills 28 in China and Taiwan   \n",
              "\n",
              "                                     text_clean     text_encoded  \n",
              "0                     happen terrible car crash    [149, 47, 16]  \n",
              "1      hear earthquake different city stay safe  [101, 181, 133]  \n",
              "2  forest fire spot pond geese flee street save      [94, 3, 99]  \n",
              "3             apocalypse light spokane wildfire   [297, 258, 75]  \n",
              "4         typhoon soudelor kill 28 china taiwan             [11]  "
            ]
          },
          "execution_count": 50,
          "metadata": {},
          "output_type": "execute_result"
        }
      ],
      "source": [
        "url_test = \"https://raw.githubusercontent.com/huynam1012/Projet_jedha/main/test.csv\"\n",
        "test = pd.read_csv(url_test)\n",
        "test = test[[\"text\"]]\n",
        "\n",
        "test[\"text_clean\"] = test[\"text\"].apply(lambda x:''.join(ch for ch in x if ch.isalnum() or ch==\" \"))\n",
        "test[\"text_clean\"] = test[\"text_clean\"].apply(lambda x: x.replace(\" +\",\" \").lower().strip())\n",
        "test[\"text_clean\"] = test[\"text_clean\"].apply(lambda x: \" \".join([token.lemma_ for token in nlp(x) if (token.lemma_ not in STOP_WORDS) & (token.text not in STOP_WORDS)]))\n",
        "\n",
        "tokenizer_text.fit_on_texts(test[\"text_clean\"])\n",
        "test[\"text_encoded\"] = tokenizer_text.texts_to_sequences(test[\"text_clean\"])\n",
        "test.head()"
      ]
    },
    {
      "cell_type": "code",
      "execution_count": 51,
      "metadata": {},
      "outputs": [
        {
          "data": {
            "text/plain": [
              "(3263, 14)"
            ]
          },
          "execution_count": 51,
          "metadata": {},
          "output_type": "execute_result"
        }
      ],
      "source": [
        "test_pad = tf.keras.preprocessing.sequence.pad_sequences(test[\"text_encoded\"], padding='post')\n",
        "test_pad.shape"
      ]
    },
    {
      "cell_type": "code",
      "execution_count": 52,
      "metadata": {},
      "outputs": [
        {
          "name": "stderr",
          "output_type": "stream",
          "text": [
            "Model was constructed with shape (None, 13) for input KerasTensor(type_spec=TensorSpec(shape=(None, 13), dtype=tf.float32, name='embedding_input'), name='embedding_input', description=\"created by layer 'embedding_input'\"), but it was called on an input with incompatible shape (None, 14).\n"
          ]
        },
        {
          "data": {
            "text/plain": [
              "(3263, 14, 1)"
            ]
          },
          "execution_count": 52,
          "metadata": {},
          "output_type": "execute_result"
        }
      ],
      "source": [
        "prediction = model_srnn.predict(test_pad)\n",
        "prediction.shape"
      ]
    },
    {
      "cell_type": "code",
      "execution_count": 53,
      "metadata": {},
      "outputs": [
        {
          "data": {
            "text/plain": [
              "(3263, 14)"
            ]
          },
          "execution_count": 53,
          "metadata": {},
          "output_type": "execute_result"
        }
      ],
      "source": [
        "prediction = prediction.reshape(3263, 14)\n",
        "prediction.shape"
      ]
    },
    {
      "cell_type": "code",
      "execution_count": 54,
      "metadata": {},
      "outputs": [
        {
          "data": {
            "text/html": [
              "<div><div id=e89961a4-fd25-46c4-b252-54ae0391c24b style=\"display:none; background-color:#9D6CFF; color:white; width:200px; height:30px; padding-left:5px; border-radius:4px; flex-direction:row; justify-content:space-around; align-items:center;\" onmouseover=\"this.style.backgroundColor='#BA9BF8'\" onmouseout=\"this.style.backgroundColor='#9D6CFF'\" onclick=\"window.commands?.execute('create-mitosheet-from-dataframe-output');\">See Full Dataframe in Mito</div> <script> if (window.commands.hasCommand('create-mitosheet-from-dataframe-output')) document.getElementById('e89961a4-fd25-46c4-b252-54ae0391c24b').style.display = 'flex' </script> <table border=\"1\" class=\"dataframe\">\n",
              "  <thead>\n",
              "    <tr style=\"text-align: right;\">\n",
              "      <th></th>\n",
              "      <th>id</th>\n",
              "      <th>target</th>\n",
              "    </tr>\n",
              "  </thead>\n",
              "  <tbody>\n",
              "    <tr>\n",
              "      <th>0</th>\n",
              "      <td>0</td>\n",
              "      <td>0</td>\n",
              "    </tr>\n",
              "    <tr>\n",
              "      <th>1</th>\n",
              "      <td>2</td>\n",
              "      <td>1</td>\n",
              "    </tr>\n",
              "    <tr>\n",
              "      <th>2</th>\n",
              "      <td>3</td>\n",
              "      <td>0</td>\n",
              "    </tr>\n",
              "    <tr>\n",
              "      <th>3</th>\n",
              "      <td>9</td>\n",
              "      <td>1</td>\n",
              "    </tr>\n",
              "    <tr>\n",
              "      <th>4</th>\n",
              "      <td>11</td>\n",
              "      <td>0</td>\n",
              "    </tr>\n",
              "  </tbody>\n",
              "</table></div>"
            ],
            "text/plain": [
              "   id  target\n",
              "0   0       0\n",
              "1   2       1\n",
              "2   3       0\n",
              "3   9       1\n",
              "4  11       0"
            ]
          },
          "execution_count": 54,
          "metadata": {},
          "output_type": "execute_result"
        }
      ],
      "source": [
        "url_submission = \"https://raw.githubusercontent.com/huynam1012/Projet_jedha/main/sample_submission.csv\"\n",
        "submission = pd.read_csv(url_submission)\n",
        "submission[\"target\"] = prediction\n",
        "submission[\"target\"] = submission[\"target\"].apply(lambda x : 0 if x <= 0.5 else 1)\n",
        "submission.head(5)"
      ]
    },
    {
      "cell_type": "code",
      "execution_count": null,
      "metadata": {},
      "outputs": [],
      "source": []
    },
    {
      "cell_type": "markdown",
      "metadata": {
        "id": "oxp5BX4abdTJ"
      },
      "source": [
        "### Gru"
      ]
    },
    {
      "cell_type": "code",
      "execution_count": 55,
      "metadata": {
        "id": "Li_GRd3GDwjw"
      },
      "outputs": [],
      "source": [
        "url_train = \"https://raw.githubusercontent.com/huynam1012/Projet_jedha/main/train.csv\"\n",
        "train = pd.read_csv(url_train)\n",
        "train = train[[\"text\", \"target\"]]\n",
        "\n",
        "train[\"text_clean\"] = train[\"text\"].apply(lambda x:''.join(ch for ch in x if ch.isalnum() or ch==\" \"))\n",
        "train[\"text_clean\"] = train[\"text_clean\"].apply(lambda x: x.replace(\" +\",\" \").lower().strip())\n",
        "train[\"text_clean\"] = train[\"text_clean\"].apply(lambda x: \" \".join([token.lemma_ for token in nlp(x) if (token.lemma_ not in STOP_WORDS) & (token.text not in STOP_WORDS)]))\n",
        "\n",
        "weight = dict(1/(train[\"target\"].value_counts())/(sum(1/train[\"target\"].value_counts()))*5)"
      ]
    },
    {
      "cell_type": "code",
      "execution_count": 56,
      "metadata": {
        "id": "R5UAzqtzDwgn"
      },
      "outputs": [],
      "source": [
        "tokenizer_text = tf.keras.preprocessing.text.Tokenizer(num_words=300,\n",
        "                                                        filters='!\"#$%&()*+,-./:;<=>?@[\\\\]^_`{|}~\\t\\n',\n",
        "                                                        lower=True, split=' ', char_level=False, oov_token=None,\n",
        "                                                        document_count=0)\n",
        "\n",
        "tokenizer_text.fit_on_texts(train[\"text_clean\"])\n",
        "train[\"text_encoded\"] = tokenizer_text.texts_to_sequences(train[\"text_clean\"])\n",
        "train[\"len_text\"] = train[\"text_encoded\"].apply(lambda x: len(x))\n",
        "train = train[train[\"len_text\"]!=0]"
      ]
    },
    {
      "cell_type": "code",
      "execution_count": 57,
      "metadata": {
        "id": "-FT2KLVtDwdc"
      },
      "outputs": [
        {
          "data": {
            "text/plain": [
              "20283"
            ]
          },
          "execution_count": 57,
          "metadata": {},
          "output_type": "execute_result"
        }
      ],
      "source": [
        "len(tokenizer_text.word_index)"
      ]
    },
    {
      "cell_type": "code",
      "execution_count": 58,
      "metadata": {
        "id": "gbwk3I0aDwaX"
      },
      "outputs": [],
      "source": [
        "train_pad = tf.keras.preprocessing.sequence.pad_sequences(train[\"text_encoded\"], padding='post')\n",
        "train_ds = tf.data.Dataset.from_tensor_slices((train_pad, train[\"target\"].values))"
      ]
    },
    {
      "cell_type": "code",
      "execution_count": 59,
      "metadata": {},
      "outputs": [],
      "source": [
        "TAKE_SIZE = int(0.8*train.shape[0])\n",
        "\n",
        "train_data = train_ds.take(TAKE_SIZE).shuffle(TAKE_SIZE)\n",
        "train_data = train_data.batch(32)\n",
        "\n",
        "val_data = train_ds.skip(TAKE_SIZE)\n",
        "val_data = val_data.batch(32)"
      ]
    },
    {
      "cell_type": "code",
      "execution_count": 60,
      "metadata": {},
      "outputs": [
        {
          "name": "stdout",
          "output_type": "stream",
          "text": [
            "tf.Tensor(\n",
            "[[ 25 121 172   0   0   0   0   0   0   0   0   0   0]\n",
            " [181   3 207 230 211   0   0   0   0   0   0   0   0]\n",
            " [ 70  90   0   0   0   0   0   0   0   0   0   0   0]\n",
            " [214  14   0   0   0   0   0   0   0   0   0   0   0]\n",
            " [ 29  48 266 180  65   0   0   0   0   0   0   0   0]\n",
            " [  9 110 218 192   0   0   0   0   0   0   0   0   0]\n",
            " [ 20 100   0   0   0   0   0   0   0   0   0   0   0]\n",
            " [ 83  69   0   0   0   0   0   0   0   0   0   0   0]\n",
            " [  7 116   0   0   0   0   0   0   0   0   0   0   0]\n",
            " [ 62   2 296 171  81 171   2 288 228  35  40   0   0]\n",
            " [179   0   0   0   0   0   0   0   0   0   0   0   0]\n",
            " [242 131 102   8  45   0   0   0   0   0   0   0   0]\n",
            " [229  94  85   0   0   0   0   0   0   0   0   0   0]\n",
            " [181  17  32  44   0   0   0   0   0   0   0   0   0]\n",
            " [ 67 104  56  16   0   0   0   0   0   0   0   0   0]\n",
            " [192  50 114 172   0   0   0   0   0   0   0   0   0]\n",
            " [ 81 252   0   0   0   0   0   0   0   0   0   0   0]\n",
            " [ 32  85   4   0   0   0   0   0   0   0   0   0   0]\n",
            " [  3 224   8 106 117   0   0   0   0   0   0   0   0]\n",
            " [  5  87 176   4   0   0   0   0   0   0   0   0   0]\n",
            " [106 200 137   0   0   0   0   0   0   0   0   0   0]\n",
            " [108 198  14   0   0   0   0   0   0   0   0   0   0]\n",
            " [244  23 159  18 158  55  47   0   0   0   0   0   0]\n",
            " [ 50 132   4   0   0   0   0   0   0   0   0   0   0]\n",
            " [ 83  37  97   0   0   0   0   0   0   0   0   0   0]\n",
            " [  1  14   0   0   0   0   0   0   0   0   0   0   0]\n",
            " [147   0   0   0   0   0   0   0   0   0   0   0   0]\n",
            " [102  28 129  36  69   0   0   0   0   0   0   0   0]\n",
            " [111  83   0   0   0   0   0   0   0   0   0   0   0]\n",
            " [ 31 140  31 270 132 246 140   0   0   0   0   0   0]\n",
            " [284  68   0   0   0   0   0   0   0   0   0   0   0]\n",
            " [ 62   1 144   0   0   0   0   0   0   0   0   0   0]], shape=(32, 13), dtype=int32) tf.Tensor([1 1 0 0 0 0 0 1 0 1 0 1 1 1 1 1 0 1 0 1 1 1 1 1 1 0 1 1 0 1 1 0], shape=(32,), dtype=int64)\n"
          ]
        }
      ],
      "source": [
        "for text, target in train_data.take(1):\n",
        "  print(text, target)"
      ]
    },
    {
      "cell_type": "code",
      "execution_count": 61,
      "metadata": {},
      "outputs": [
        {
          "data": {
            "text/plain": [
              "20283"
            ]
          },
          "execution_count": 61,
          "metadata": {},
          "output_type": "execute_result"
        }
      ],
      "source": [
        "vocab_size = len(tokenizer_text.word_index)\n",
        "vocab_size"
      ]
    },
    {
      "cell_type": "code",
      "execution_count": 62,
      "metadata": {},
      "outputs": [
        {
          "name": "stdout",
          "output_type": "stream",
          "text": [
            "Model: \"sequential_2\"\n",
            "_________________________________________________________________\n",
            "Layer (type)                 Output Shape              Param #   \n",
            "=================================================================\n",
            "embedding (Embedding)        (None, 13, 64)            1298176   \n",
            "_________________________________________________________________\n",
            "gru (GRU)                    (None, 13, 64)            24960     \n",
            "_________________________________________________________________\n",
            "gru_1 (GRU)                  (None, 13, 32)            9408      \n",
            "_________________________________________________________________\n",
            "dense_6 (Dense)              (None, 13, 32)            1056      \n",
            "_________________________________________________________________\n",
            "dense_7 (Dense)              (None, 13, 16)            528       \n",
            "_________________________________________________________________\n",
            "dense_8 (Dense)              (None, 13, 1)             17        \n",
            "=================================================================\n",
            "Total params: 1,334,145\n",
            "Trainable params: 1,334,145\n",
            "Non-trainable params: 0\n",
            "_________________________________________________________________\n"
          ]
        }
      ],
      "source": [
        "model_gru = tf.keras.Sequential([\n",
        "                # Couche d'Input Word Embedding           \n",
        "                tf.keras.layers.Embedding(input_dim=vocab_size+1, output_dim=64, input_shape=[text.shape[1],],\n",
        "                                            name=\"embedding\"),\n",
        "                \n",
        "                tf.keras.layers.GRU(units=64, return_sequences=True),\n",
        "                tf.keras.layers.GRU(units=32, return_sequences=True),\n",
        "\n",
        "                # Couche Dense classique\n",
        "                tf.keras.layers.Dense(32, activation='relu'),\n",
        "                tf.keras.layers.Dense(16, activation='relu'),\n",
        "\n",
        "                # Couche de sortie avec le nombre de neurones en sortie égale au nombre de classe avec fonction softmax\n",
        "                tf.keras.layers.Dense(1, activation=\"sigmoid\")\n",
        "])\n",
        "model_gru.summary()"
      ]
    },
    {
      "cell_type": "code",
      "execution_count": 63,
      "metadata": {},
      "outputs": [
        {
          "data": {
            "image/png": "[encoded data removed]",
            "text/plain": [
              "<IPython.core.display.Image object>"
            ]
          },
          "execution_count": 63,
          "metadata": {},
          "output_type": "execute_result"
        }
      ],
      "source": [
        "tf.keras.utils.plot_model(\n",
        "    model_gru, show_shapes=False, show_layer_names=True\n",
        ")"
      ]
    },
    {
      "cell_type": "code",
      "execution_count": 64,
      "metadata": {},
      "outputs": [],
      "source": [
        "model_gru.compile(optimizer=tf.keras.optimizers.Adam(learning_rate=0.0005),\n",
        "                            loss=tf.keras.losses.BinaryCrossentropy(),\n",
        "                            metrics=[tf.keras.metrics.BinaryAccuracy()])"
      ]
    },
    {
      "cell_type": "code",
      "execution_count": 65,
      "metadata": {},
      "outputs": [
        {
          "name": "stdout",
          "output_type": "stream",
          "text": [
            "Epoch 1/20\n",
            "178/178 [==============================] - 8s 27ms/step - loss: 1.5447 - binary_accuracy: 0.6101 - val_loss: 0.5511 - val_binary_accuracy: 0.7172\n",
            "Epoch 2/20\n",
            "178/178 [==============================] - 4s 23ms/step - loss: 1.2696 - binary_accuracy: 0.7595 - val_loss: 0.5400 - val_binary_accuracy: 0.7235\n",
            "Epoch 3/20\n",
            "178/178 [==============================] - 4s 23ms/step - loss: 1.2247 - binary_accuracy: 0.7710 - val_loss: 0.5467 - val_binary_accuracy: 0.7170\n",
            "Epoch 4/20\n",
            "178/178 [==============================] - 4s 24ms/step - loss: 1.2123 - binary_accuracy: 0.7721 - val_loss: 0.5926 - val_binary_accuracy: 0.6904\n",
            "Epoch 5/20\n",
            "178/178 [==============================] - 4s 23ms/step - loss: 1.1998 - binary_accuracy: 0.7786 - val_loss: 0.5898 - val_binary_accuracy: 0.6893\n",
            "Epoch 6/20\n",
            "178/178 [==============================] - 4s 23ms/step - loss: 1.1926 - binary_accuracy: 0.7803 - val_loss: 0.5811 - val_binary_accuracy: 0.6838\n",
            "Epoch 7/20\n",
            "178/178 [==============================] - 4s 23ms/step - loss: 1.1910 - binary_accuracy: 0.7798 - val_loss: 0.5779 - val_binary_accuracy: 0.6883\n",
            "Epoch 8/20\n",
            "178/178 [==============================] - 4s 23ms/step - loss: 1.1884 - binary_accuracy: 0.7798 - val_loss: 0.6018 - val_binary_accuracy: 0.6831\n",
            "Epoch 9/20\n",
            "178/178 [==============================] - 4s 22ms/step - loss: 1.1855 - binary_accuracy: 0.7814 - val_loss: 0.5944 - val_binary_accuracy: 0.6884\n",
            "Epoch 10/20\n",
            "178/178 [==============================] - 4s 23ms/step - loss: 1.1765 - binary_accuracy: 0.7848 - val_loss: 0.6009 - val_binary_accuracy: 0.6986\n",
            "Epoch 11/20\n",
            "178/178 [==============================] - 4s 24ms/step - loss: 1.1805 - binary_accuracy: 0.7860 - val_loss: 0.5930 - val_binary_accuracy: 0.6852\n",
            "Epoch 12/20\n",
            "178/178 [==============================] - 4s 24ms/step - loss: 1.1724 - binary_accuracy: 0.7856 - val_loss: 0.5907 - val_binary_accuracy: 0.6944\n",
            "Epoch 13/20\n",
            "178/178 [==============================] - 4s 24ms/step - loss: 1.1664 - binary_accuracy: 0.7859 - val_loss: 0.5891 - val_binary_accuracy: 0.6903\n",
            "Epoch 14/20\n",
            "178/178 [==============================] - 4s 24ms/step - loss: 1.1562 - binary_accuracy: 0.7900 - val_loss: 0.6427 - val_binary_accuracy: 0.6891\n",
            "Epoch 15/20\n",
            "178/178 [==============================] - 4s 24ms/step - loss: 1.1480 - binary_accuracy: 0.7926 - val_loss: 0.6296 - val_binary_accuracy: 0.6927\n",
            "Epoch 16/20\n",
            "178/178 [==============================] - 4s 24ms/step - loss: 1.1347 - binary_accuracy: 0.7950 - val_loss: 0.6679 - val_binary_accuracy: 0.6967\n",
            "Epoch 17/20\n",
            "178/178 [==============================] - 4s 24ms/step - loss: 1.1270 - binary_accuracy: 0.7970 - val_loss: 0.6395 - val_binary_accuracy: 0.7093\n",
            "Epoch 18/20\n",
            "178/178 [==============================] - 4s 24ms/step - loss: 1.1185 - binary_accuracy: 0.7987 - val_loss: 0.6446 - val_binary_accuracy: 0.7065\n",
            "Epoch 19/20\n",
            "178/178 [==============================] - 4s 25ms/step - loss: 1.1114 - binary_accuracy: 0.8013 - val_loss: 0.7023 - val_binary_accuracy: 0.7016\n",
            "Epoch 20/20\n",
            "178/178 [==============================] - 4s 25ms/step - loss: 1.1072 - binary_accuracy: 0.7999 - val_loss: 0.7069 - val_binary_accuracy: 0.7022\n"
          ]
        }
      ],
      "source": [
        "history_gru = model_gru.fit(train_data, epochs=20, validation_data=val_data, class_weight=weight)"
      ]
    },
    {
      "cell_type": "code",
      "execution_count": 66,
      "metadata": {},
      "outputs": [
        {
          "data": {
            "text/plain": [
              "dict_keys(['loss', 'binary_accuracy', 'val_loss', 'val_binary_accuracy'])"
            ]
          },
          "execution_count": 66,
          "metadata": {},
          "output_type": "execute_result"
        }
      ],
      "source": [
        "history_gru.history.keys()"
      ]
    },
    {
      "cell_type": "code",
      "execution_count": 67,
      "metadata": {},
      "outputs": [
        {
          "data": {
            "image/png": "[encoded data removed]",
            "text/plain": [
              "<Figure size 432x288 with 1 Axes>"
            ]
          },
          "metadata": {
            "needs_background": "light"
          },
          "output_type": "display_data"
        }
      ],
      "source": [
        "# Visualization of the training process on the loss function \n",
        "plt.plot(history_gru.history[\"loss\"], color=\"b\")\n",
        "plt.plot(history_gru.history[\"val_loss\"], color=\"r\")\n",
        "plt.ylabel(\"loss\")\n",
        "plt.xlabel(\"Epochs\")\n",
        "plt.show()"
      ]
    },
    {
      "cell_type": "code",
      "execution_count": 68,
      "metadata": {},
      "outputs": [
        {
          "data": {
            "image/png": "[encoded data removed]",
            "text/plain": [
              "<Figure size 432x288 with 1 Axes>"
            ]
          },
          "metadata": {
            "needs_background": "light"
          },
          "output_type": "display_data"
        }
      ],
      "source": [
        "# Visualization of accuracy training \n",
        "plt.plot(history_gru.history[\"binary_accuracy\"], color=\"b\")\n",
        "plt.plot(history_gru.history[\"val_binary_accuracy\"], color=\"r\")\n",
        "plt.ylabel(\"accuracy\")\n",
        "plt.xlabel(\"Epochs\")\n",
        "plt.show()"
      ]
    },
    {
      "cell_type": "code",
      "execution_count": 69,
      "metadata": {},
      "outputs": [],
      "source": [
        "model_gru.save(\"gru.h5\")\n",
        "json.dump(model_gru.history.history, open(\"gru.json\", 'w'))\n",
        "\n",
        "gru = json.load(open(\"gru.json\", 'r'))"
      ]
    },
    {
      "cell_type": "code",
      "execution_count": 70,
      "metadata": {},
      "outputs": [
        {
          "data": {
            "text/html": [
              "<div><div id=a7a8f1af-9f5d-4f0a-8d89-e9fffbb765d7 style=\"display:none; background-color:#9D6CFF; color:white; width:200px; height:30px; padding-left:5px; border-radius:4px; flex-direction:row; justify-content:space-around; align-items:center;\" onmouseover=\"this.style.backgroundColor='#BA9BF8'\" onmouseout=\"this.style.backgroundColor='#9D6CFF'\" onclick=\"window.commands?.execute('create-mitosheet-from-dataframe-output');\">See Full Dataframe in Mito</div> <script> if (window.commands.hasCommand('create-mitosheet-from-dataframe-output')) document.getElementById('a7a8f1af-9f5d-4f0a-8d89-e9fffbb765d7').style.display = 'flex' </script> <table border=\"1\" class=\"dataframe\">\n",
              "  <thead>\n",
              "    <tr style=\"text-align: right;\">\n",
              "      <th></th>\n",
              "      <th>text</th>\n",
              "      <th>text_clean</th>\n",
              "      <th>text_encoded</th>\n",
              "    </tr>\n",
              "  </thead>\n",
              "  <tbody>\n",
              "    <tr>\n",
              "      <th>0</th>\n",
              "      <td>Just happened a terrible car crash</td>\n",
              "      <td>happen terrible car crash</td>\n",
              "      <td>[149, 47, 16]</td>\n",
              "    </tr>\n",
              "    <tr>\n",
              "      <th>1</th>\n",
              "      <td>Heard about #earthquake is different cities, stay safe everyone.</td>\n",
              "      <td>hear earthquake different city stay safe</td>\n",
              "      <td>[101, 181, 133]</td>\n",
              "    </tr>\n",
              "    <tr>\n",
              "      <th>2</th>\n",
              "      <td>there is a forest fire at spot pond, geese are fleeing across the street, I cannot save them all</td>\n",
              "      <td>forest fire spot pond geese flee street save</td>\n",
              "      <td>[94, 3, 99]</td>\n",
              "    </tr>\n",
              "    <tr>\n",
              "      <th>3</th>\n",
              "      <td>Apocalypse lighting. #Spokane #wildfires</td>\n",
              "      <td>apocalypse light spokane wildfire</td>\n",
              "      <td>[297, 258, 75]</td>\n",
              "    </tr>\n",
              "    <tr>\n",
              "      <th>4</th>\n",
              "      <td>Typhoon Soudelor kills 28 in China and Taiwan</td>\n",
              "      <td>typhoon soudelor kill 28 china taiwan</td>\n",
              "      <td>[11]</td>\n",
              "    </tr>\n",
              "  </tbody>\n",
              "</table></div>"
            ],
            "text/plain": [
              "                                                text  \\\n",
              "0                 Just happened a terrible car crash   \n",
              "1  Heard about #earthquake is different cities, s...   \n",
              "2  there is a forest fire at spot pond, geese are...   \n",
              "3           Apocalypse lighting. #Spokane #wildfires   \n",
              "4      Typhoon Soudelor kills 28 in China and Taiwan   \n",
              "\n",
              "                                     text_clean     text_encoded  \n",
              "0                     happen terrible car crash    [149, 47, 16]  \n",
              "1      hear earthquake different city stay safe  [101, 181, 133]  \n",
              "2  forest fire spot pond geese flee street save      [94, 3, 99]  \n",
              "3             apocalypse light spokane wildfire   [297, 258, 75]  \n",
              "4         typhoon soudelor kill 28 china taiwan             [11]  "
            ]
          },
          "execution_count": 70,
          "metadata": {},
          "output_type": "execute_result"
        }
      ],
      "source": [
        "url_test = \"https://raw.githubusercontent.com/huynam1012/Projet_jedha/main/test.csv\"\n",
        "test = pd.read_csv(url_test)\n",
        "test = test[[\"text\"]]\n",
        "\n",
        "test[\"text_clean\"] = test[\"text\"].apply(lambda x:''.join(ch for ch in x if ch.isalnum() or ch==\" \"))\n",
        "test[\"text_clean\"] = test[\"text_clean\"].apply(lambda x: x.replace(\" +\",\" \").lower().strip())\n",
        "test[\"text_clean\"] = test[\"text_clean\"].apply(lambda x: \" \".join([token.lemma_ for token in nlp(x) if (token.lemma_ not in STOP_WORDS) & (token.text not in STOP_WORDS)]))\n",
        "\n",
        "tokenizer_text.fit_on_texts(test[\"text_clean\"])\n",
        "test[\"text_encoded\"] = tokenizer_text.texts_to_sequences(test[\"text_clean\"])\n",
        "test.head()"
      ]
    },
    {
      "cell_type": "code",
      "execution_count": 71,
      "metadata": {},
      "outputs": [
        {
          "data": {
            "text/plain": [
              "array([[149,  47,  16, ...,   0,   0,   0],\n",
              "       [101, 181, 133, ...,   0,   0,   0],\n",
              "       [ 94,   3,  99, ...,   0,   0,   0],\n",
              "       ...,\n",
              "       [  0,   0,   0, ...,   0,   0,   0],\n",
              "       [166, 208,   0, ...,   0,   0,   0],\n",
              "       [ 15,  63,   0, ...,   0,   0,   0]])"
            ]
          },
          "execution_count": 71,
          "metadata": {},
          "output_type": "execute_result"
        }
      ],
      "source": [
        "test_pad = tf.keras.preprocessing.sequence.pad_sequences(test[\"text_encoded\"], padding='post')\n",
        "test_pad"
      ]
    },
    {
      "cell_type": "code",
      "execution_count": 72,
      "metadata": {},
      "outputs": [
        {
          "name": "stderr",
          "output_type": "stream",
          "text": [
            "Model was constructed with shape (None, 13) for input KerasTensor(type_spec=TensorSpec(shape=(None, 13), dtype=tf.float32, name='embedding_input'), name='embedding_input', description=\"created by layer 'embedding_input'\"), but it was called on an input with incompatible shape (None, 14).\n"
          ]
        },
        {
          "data": {
            "text/plain": [
              "(3263, 14, 1)"
            ]
          },
          "execution_count": 72,
          "metadata": {},
          "output_type": "execute_result"
        }
      ],
      "source": [
        "prediction = model_gru.predict(test_pad)\n",
        "prediction.shape"
      ]
    },
    {
      "cell_type": "code",
      "execution_count": 73,
      "metadata": {},
      "outputs": [
        {
          "data": {
            "text/plain": [
              "(3263, 14)"
            ]
          },
          "execution_count": 73,
          "metadata": {},
          "output_type": "execute_result"
        }
      ],
      "source": [
        "prediction = prediction.reshape(3263, 14)\n",
        "prediction.shape"
      ]
    },
    {
      "cell_type": "code",
      "execution_count": 74,
      "metadata": {},
      "outputs": [
        {
          "data": {
            "text/html": [
              "<div><div id=c629fda6-d160-4e45-a218-aa2f6cba9181 style=\"display:none; background-color:#9D6CFF; color:white; width:200px; height:30px; padding-left:5px; border-radius:4px; flex-direction:row; justify-content:space-around; align-items:center;\" onmouseover=\"this.style.backgroundColor='#BA9BF8'\" onmouseout=\"this.style.backgroundColor='#9D6CFF'\" onclick=\"window.commands?.execute('create-mitosheet-from-dataframe-output');\">See Full Dataframe in Mito</div> <script> if (window.commands.hasCommand('create-mitosheet-from-dataframe-output')) document.getElementById('c629fda6-d160-4e45-a218-aa2f6cba9181').style.display = 'flex' </script> <table border=\"1\" class=\"dataframe\">\n",
              "  <thead>\n",
              "    <tr style=\"text-align: right;\">\n",
              "      <th></th>\n",
              "      <th>id</th>\n",
              "      <th>target</th>\n",
              "    </tr>\n",
              "  </thead>\n",
              "  <tbody>\n",
              "    <tr>\n",
              "      <th>0</th>\n",
              "      <td>0</td>\n",
              "      <td>0</td>\n",
              "    </tr>\n",
              "    <tr>\n",
              "      <th>1</th>\n",
              "      <td>2</td>\n",
              "      <td>1</td>\n",
              "    </tr>\n",
              "    <tr>\n",
              "      <th>2</th>\n",
              "      <td>3</td>\n",
              "      <td>1</td>\n",
              "    </tr>\n",
              "    <tr>\n",
              "      <th>3</th>\n",
              "      <td>9</td>\n",
              "      <td>0</td>\n",
              "    </tr>\n",
              "    <tr>\n",
              "      <th>4</th>\n",
              "      <td>11</td>\n",
              "      <td>0</td>\n",
              "    </tr>\n",
              "  </tbody>\n",
              "</table></div>"
            ],
            "text/plain": [
              "   id  target\n",
              "0   0       0\n",
              "1   2       1\n",
              "2   3       1\n",
              "3   9       0\n",
              "4  11       0"
            ]
          },
          "execution_count": 74,
          "metadata": {},
          "output_type": "execute_result"
        }
      ],
      "source": [
        "url_submission = \"https://raw.githubusercontent.com/huynam1012/Projet_jedha/main/sample_submission.csv\"\n",
        "submission = pd.read_csv(url_submission)\n",
        "submission[\"target\"] = prediction\n",
        "submission[\"target\"] = submission[\"target\"].apply(lambda x : 0 if x <= 0.5 else 1)\n",
        "submission.head(5)"
      ]
    },
    {
      "cell_type": "markdown",
      "metadata": {},
      "source": [
        "### LSTM"
      ]
    },
    {
      "cell_type": "code",
      "execution_count": 75,
      "metadata": {},
      "outputs": [],
      "source": [
        "url_train = \"https://raw.githubusercontent.com/huynam1012/Projet_jedha/main/train.csv\"\n",
        "train = pd.read_csv(url_train)\n",
        "train = train[[\"text\", \"target\"]]\n",
        "\n",
        "train[\"text_clean\"] = train[\"text\"].apply(lambda x:''.join(ch for ch in x if ch.isalnum() or ch==\" \"))\n",
        "train[\"text_clean\"] = train[\"text_clean\"].apply(lambda x: x.replace(\" +\",\" \").lower().strip())\n",
        "train[\"text_clean\"] = train[\"text_clean\"].apply(lambda x: \" \".join([token.lemma_ for token in nlp(x) if (token.lemma_ not in STOP_WORDS) & (token.text not in STOP_WORDS)]))\n",
        "\n",
        "weight = dict(1/(train[\"target\"].value_counts())/(sum(1/train[\"target\"].value_counts()))*5)"
      ]
    },
    {
      "cell_type": "code",
      "execution_count": 76,
      "metadata": {},
      "outputs": [
        {
          "data": {
            "text/html": [
              "<div><div id=9d69848e-64f8-40d0-875e-54cdb646b74c style=\"display:none; background-color:#9D6CFF; color:white; width:200px; height:30px; padding-left:5px; border-radius:4px; flex-direction:row; justify-content:space-around; align-items:center;\" onmouseover=\"this.style.backgroundColor='#BA9BF8'\" onmouseout=\"this.style.backgroundColor='#9D6CFF'\" onclick=\"window.commands?.execute('create-mitosheet-from-dataframe-output');\">See Full Dataframe in Mito</div> <script> if (window.commands.hasCommand('create-mitosheet-from-dataframe-output')) document.getElementById('9d69848e-64f8-40d0-875e-54cdb646b74c').style.display = 'flex' </script> <table border=\"1\" class=\"dataframe\">\n",
              "  <thead>\n",
              "    <tr style=\"text-align: right;\">\n",
              "      <th></th>\n",
              "      <th>text</th>\n",
              "      <th>target</th>\n",
              "      <th>text_clean</th>\n",
              "      <th>text_encoded</th>\n",
              "      <th>len_text</th>\n",
              "    </tr>\n",
              "  </thead>\n",
              "  <tbody>\n",
              "    <tr>\n",
              "      <th>0</th>\n",
              "      <td>Our Deeds are the Reason of this #earthquake May ALLAH Forgive us all</td>\n",
              "      <td>1</td>\n",
              "      <td>deed reason earthquake allah forgive</td>\n",
              "      <td>[174]</td>\n",
              "      <td>1</td>\n",
              "    </tr>\n",
              "    <tr>\n",
              "      <th>1</th>\n",
              "      <td>Forest fire near La Ronge Sask. Canada</td>\n",
              "      <td>1</td>\n",
              "      <td>forest fire near la ronge sask canada</td>\n",
              "      <td>[119, 4, 162]</td>\n",
              "      <td>3</td>\n",
              "    </tr>\n",
              "  </tbody>\n",
              "</table></div>"
            ],
            "text/plain": [
              "                                                text  target  \\\n",
              "0  Our Deeds are the Reason of this #earthquake M...       1   \n",
              "1             Forest fire near La Ronge Sask. Canada       1   \n",
              "\n",
              "                              text_clean   text_encoded  len_text  \n",
              "0   deed reason earthquake allah forgive          [174]         1  \n",
              "1  forest fire near la ronge sask canada  [119, 4, 162]         3  "
            ]
          },
          "execution_count": 76,
          "metadata": {},
          "output_type": "execute_result"
        }
      ],
      "source": [
        "tokenizer_text = tf.keras.preprocessing.text.Tokenizer(num_words=300,\n",
        "                                                        filters='!\"#$%&()*+,-./:;<=>?@[\\\\]^_`{|}~\\t\\n',\n",
        "                                                        lower=True, split=' ', char_level=False, oov_token=None,\n",
        "                                                        document_count=0)\n",
        "\n",
        "tokenizer_text.fit_on_texts(train[\"text_clean\"])\n",
        "train[\"text_encoded\"] = tokenizer_text.texts_to_sequences(train[\"text_clean\"])\n",
        "train[\"len_text\"] = train[\"text_encoded\"].apply(lambda x: len(x))\n",
        "train = train[train[\"len_text\"]!=0]\n",
        "train.head(2)"
      ]
    },
    {
      "cell_type": "code",
      "execution_count": 77,
      "metadata": {},
      "outputs": [
        {
          "data": {
            "text/plain": [
              "20283"
            ]
          },
          "execution_count": 77,
          "metadata": {},
          "output_type": "execute_result"
        }
      ],
      "source": [
        "len(tokenizer_text.word_index)"
      ]
    },
    {
      "cell_type": "code",
      "execution_count": 78,
      "metadata": {},
      "outputs": [],
      "source": [
        "train_pad = tf.keras.preprocessing.sequence.pad_sequences(train[\"text_encoded\"], padding='post')\n",
        "train_ds = tf.data.Dataset.from_tensor_slices((train_pad, train[\"target\"].values))"
      ]
    },
    {
      "cell_type": "code",
      "execution_count": 79,
      "metadata": {},
      "outputs": [],
      "source": [
        "TAKE_SIZE = int(0.8*train.shape[0])\n",
        "\n",
        "train_data = train_ds.take(TAKE_SIZE).shuffle(TAKE_SIZE)\n",
        "train_data = train_data.batch(32)\n",
        "\n",
        "val_data = train_ds.skip(TAKE_SIZE)\n",
        "val_data = val_data.batch(32)"
      ]
    },
    {
      "cell_type": "code",
      "execution_count": 80,
      "metadata": {},
      "outputs": [
        {
          "name": "stdout",
          "output_type": "stream",
          "text": [
            "tf.Tensor(\n",
            "[[  3  89   0   0   0   0   0   0   0   0   0   0   0]\n",
            " [ 61   0   0   0   0   0   0   0   0   0   0   0   0]\n",
            " [ 27 111 161 237   0   0   0   0   0   0   0   0   0]\n",
            " [ 37 271  98  41  98 244  76  37   0   0   0   0   0]\n",
            " [252   0   0   0   0   0   0   0   0   0   0   0   0]\n",
            " [ 51 250 152   0   0   0   0   0   0   0   0   0   0]\n",
            " [268 153   0   0   0   0   0   0   0   0   0   0   0]\n",
            " [  2  75   0   0   0   0   0   0   0   0   0   0   0]\n",
            " [ 21  13  97   5  26  41   0   0   0   0   0   0   0]\n",
            " [233   0   0   0   0   0   0   0   0   0   0   0   0]\n",
            " [150  20 295   1   0   0   0   0   0   0   0   0   0]\n",
            " [  4   0   0   0   0   0   0   0   0   0   0   0   0]\n",
            " [ 59   0   0   0   0   0   0   0   0   0   0   0   0]\n",
            " [  8   0   0   0   0   0   0   0   0   0   0   0   0]\n",
            " [ 29  13   0   0   0   0   0   0   0   0   0   0   0]\n",
            " [137 292 245   0   0   0   0   0   0   0   0   0   0]\n",
            " [ 87  61  48 118  31  83  26   0   0   0   0   0   0]\n",
            " [  5   0   0   0   0   0   0   0   0   0   0   0   0]\n",
            " [122 271 162   0   0   0   0   0   0   0   0   0   0]\n",
            " [133  88   0   0   0   0   0   0   0   0   0   0   0]\n",
            " [252   0   0   0   0   0   0   0   0   0   0   0   0]\n",
            " [110 203   0   0   0   0   0   0   0   0   0   0   0]\n",
            " [259 155 282   0   0   0   0   0   0   0   0   0   0]\n",
            " [ 46   0   0   0   0   0   0   0   0   0   0   0   0]\n",
            " [  2  11   0   0   0   0   0   0   0   0   0   0   0]\n",
            " [ 13  66 114   0   0   0   0   0   0   0   0   0   0]\n",
            " [ 17  19   0   0   0   0   0   0   0   0   0   0   0]\n",
            " [236 229 242  48 223   0   0   0   0   0   0   0   0]\n",
            " [193 139 105 161  15   0   0   0   0   0   0   0   0]\n",
            " [ 36  23   1   0   0   0   0   0   0   0   0   0   0]\n",
            " [269 109  85 291  39 104 206   0   0   0   0   0   0]\n",
            " [ 78   0   0   0   0   0   0   0   0   0   0   0   0]], shape=(32, 13), dtype=int32) tf.Tensor([0 1 0 1 1 0 1 0 0 0 0 1 1 0 1 0 1 0 1 0 1 1 0 0 0 1 1 1 1 1 1 0], shape=(32,), dtype=int64)\n"
          ]
        }
      ],
      "source": [
        "for text, target in train_data.take(1):\n",
        "  print(text, target)"
      ]
    },
    {
      "cell_type": "code",
      "execution_count": 81,
      "metadata": {},
      "outputs": [
        {
          "data": {
            "text/plain": [
              "20283"
            ]
          },
          "execution_count": 81,
          "metadata": {},
          "output_type": "execute_result"
        }
      ],
      "source": [
        "vocab_size = len(tokenizer_text.word_index)\n",
        "vocab_size"
      ]
    },
    {
      "cell_type": "code",
      "execution_count": 82,
      "metadata": {},
      "outputs": [
        {
          "name": "stdout",
          "output_type": "stream",
          "text": [
            "Model: \"sequential_3\"\n",
            "_________________________________________________________________\n",
            "Layer (type)                 Output Shape              Param #   \n",
            "=================================================================\n",
            "embedding (Embedding)        (None, 13, 64)            1298176   \n",
            "_________________________________________________________________\n",
            "lstm (LSTM)                  (None, 13, 64)            33024     \n",
            "_________________________________________________________________\n",
            "lstm_1 (LSTM)                (None, 13, 32)            12416     \n",
            "_________________________________________________________________\n",
            "dense_9 (Dense)              (None, 13, 32)            1056      \n",
            "_________________________________________________________________\n",
            "dense_10 (Dense)             (None, 13, 16)            528       \n",
            "_________________________________________________________________\n",
            "dense_11 (Dense)             (None, 13, 1)             17        \n",
            "=================================================================\n",
            "Total params: 1,345,217\n",
            "Trainable params: 1,345,217\n",
            "Non-trainable params: 0\n",
            "_________________________________________________________________\n"
          ]
        }
      ],
      "source": [
        "model_lstm = tf.keras.Sequential([\n",
        "                # Couche d'Input Word Embedding           \n",
        "                tf.keras.layers.Embedding(input_dim=vocab_size+1, output_dim=64, input_shape=[text.shape[1],],\n",
        "                                            name=\"embedding\"),\n",
        "                \n",
        "                tf.keras.layers.LSTM(units=64, return_sequences=True),\n",
        "                tf.keras.layers.LSTM(units=32, return_sequences=True),\n",
        "\n",
        "                # Couche Dense classique\n",
        "                tf.keras.layers.Dense(32, activation='relu'),\n",
        "                tf.keras.layers.Dense(16, activation='relu'),                \n",
        "\n",
        "                # Couche de sortie avec le nombre de neurones en sortie égale au nombre de classe avec fonction softmax\n",
        "                tf.keras.layers.Dense(1, activation=\"sigmoid\")\n",
        "])\n",
        "model_lstm.summary()"
      ]
    },
    {
      "cell_type": "code",
      "execution_count": 83,
      "metadata": {},
      "outputs": [
        {
          "data": {
            "image/png": "[encoded data removed]",
            "text/plain": [
              "<IPython.core.display.Image object>"
            ]
          },
          "execution_count": 83,
          "metadata": {},
          "output_type": "execute_result"
        }
      ],
      "source": [
        "tf.keras.utils.plot_model(\n",
        "    model_lstm, show_shapes=False, show_layer_names=True\n",
        ")"
      ]
    },
    {
      "cell_type": "code",
      "execution_count": 84,
      "metadata": {},
      "outputs": [],
      "source": [
        "model_lstm.compile(optimizer=tf.keras.optimizers.Adam(learning_rate=0.0005),\n",
        "                            loss=tf.keras.losses.BinaryCrossentropy(),\n",
        "                            metrics=[tf.keras.metrics.BinaryAccuracy()])"
      ]
    },
    {
      "cell_type": "code",
      "execution_count": 85,
      "metadata": {},
      "outputs": [
        {
          "name": "stdout",
          "output_type": "stream",
          "text": [
            "Epoch 1/20\n",
            "178/178 [==============================] - 8s 26ms/step - loss: 1.5271 - binary_accuracy: 0.6809 - val_loss: 0.5587 - val_binary_accuracy: 0.7241\n",
            "Epoch 2/20\n",
            "178/178 [==============================] - 4s 22ms/step - loss: 1.2865 - binary_accuracy: 0.7679 - val_loss: 0.5486 - val_binary_accuracy: 0.7105\n",
            "Epoch 3/20\n",
            "178/178 [==============================] - 4s 22ms/step - loss: 1.2370 - binary_accuracy: 0.7741 - val_loss: 0.5533 - val_binary_accuracy: 0.7038\n",
            "Epoch 4/20\n",
            "178/178 [==============================] - 4s 22ms/step - loss: 1.2202 - binary_accuracy: 0.7764 - val_loss: 0.5885 - val_binary_accuracy: 0.6866\n",
            "Epoch 5/20\n",
            "178/178 [==============================] - 4s 22ms/step - loss: 1.2050 - binary_accuracy: 0.7767 - val_loss: 0.5634 - val_binary_accuracy: 0.7005\n",
            "Epoch 6/20\n",
            "178/178 [==============================] - 4s 22ms/step - loss: 1.1933 - binary_accuracy: 0.7815 - val_loss: 0.5929 - val_binary_accuracy: 0.6857\n",
            "Epoch 7/20\n",
            "178/178 [==============================] - 4s 23ms/step - loss: 1.1802 - binary_accuracy: 0.7830 - val_loss: 0.6097 - val_binary_accuracy: 0.6807\n",
            "Epoch 8/20\n",
            "178/178 [==============================] - 4s 23ms/step - loss: 1.1659 - binary_accuracy: 0.7841 - val_loss: 0.5982 - val_binary_accuracy: 0.6946\n",
            "Epoch 9/20\n",
            "178/178 [==============================] - 4s 22ms/step - loss: 1.1548 - binary_accuracy: 0.7855 - val_loss: 0.6256 - val_binary_accuracy: 0.6821\n",
            "Epoch 10/20\n",
            "178/178 [==============================] - 4s 22ms/step - loss: 1.1461 - binary_accuracy: 0.7857 - val_loss: 0.6030 - val_binary_accuracy: 0.6878\n",
            "Epoch 11/20\n",
            "178/178 [==============================] - 4s 23ms/step - loss: 1.1362 - binary_accuracy: 0.7890 - val_loss: 0.6345 - val_binary_accuracy: 0.6918\n",
            "Epoch 12/20\n",
            "178/178 [==============================] - 4s 23ms/step - loss: 1.1306 - binary_accuracy: 0.7890 - val_loss: 0.6400 - val_binary_accuracy: 0.6948\n",
            "Epoch 13/20\n",
            "178/178 [==============================] - 4s 22ms/step - loss: 1.1220 - binary_accuracy: 0.7870 - val_loss: 0.6409 - val_binary_accuracy: 0.6979\n",
            "Epoch 14/20\n",
            "178/178 [==============================] - 4s 22ms/step - loss: 1.1198 - binary_accuracy: 0.7884 - val_loss: 0.7070 - val_binary_accuracy: 0.7014\n",
            "Epoch 15/20\n",
            "178/178 [==============================] - 4s 22ms/step - loss: 1.1163 - binary_accuracy: 0.7907 - val_loss: 0.6588 - val_binary_accuracy: 0.7025\n",
            "Epoch 16/20\n",
            "178/178 [==============================] - 4s 23ms/step - loss: 1.1111 - binary_accuracy: 0.7891 - val_loss: 0.7244 - val_binary_accuracy: 0.7033\n",
            "Epoch 17/20\n",
            "178/178 [==============================] - 4s 23ms/step - loss: 1.1058 - binary_accuracy: 0.7898 - val_loss: 0.7905 - val_binary_accuracy: 0.7017\n",
            "Epoch 18/20\n",
            "178/178 [==============================] - 4s 23ms/step - loss: 1.0988 - binary_accuracy: 0.7924 - val_loss: 0.7427 - val_binary_accuracy: 0.7068\n",
            "Epoch 19/20\n",
            "178/178 [==============================] - 4s 23ms/step - loss: 1.0959 - binary_accuracy: 0.7939 - val_loss: 0.7602 - val_binary_accuracy: 0.7148\n",
            "Epoch 20/20\n",
            "178/178 [==============================] - 4s 22ms/step - loss: 1.0935 - binary_accuracy: 0.7921 - val_loss: 0.7486 - val_binary_accuracy: 0.7088\n"
          ]
        }
      ],
      "source": [
        "history_lstm = model_lstm.fit(train_data, epochs=20, validation_data=val_data, class_weight=weight)"
      ]
    },
    {
      "cell_type": "code",
      "execution_count": 86,
      "metadata": {},
      "outputs": [
        {
          "data": {
            "text/plain": [
              "dict_keys(['loss', 'binary_accuracy', 'val_loss', 'val_binary_accuracy'])"
            ]
          },
          "execution_count": 86,
          "metadata": {},
          "output_type": "execute_result"
        }
      ],
      "source": [
        "history_lstm.history.keys()"
      ]
    },
    {
      "cell_type": "code",
      "execution_count": 87,
      "metadata": {},
      "outputs": [
        {
          "data": {
            "image/png": "[encoded data removed]",
            "text/plain": [
              "<Figure size 432x288 with 1 Axes>"
            ]
          },
          "metadata": {
            "needs_background": "light"
          },
          "output_type": "display_data"
        }
      ],
      "source": [
        "# Visualization of the training process on the loss function \n",
        "plt.plot(history_lstm.history[\"loss\"], color=\"b\")\n",
        "plt.plot(history_lstm.history[\"val_loss\"], color=\"r\")\n",
        "plt.ylabel(\"loss\")\n",
        "plt.xlabel(\"Epochs\")\n",
        "plt.show()"
      ]
    },
    {
      "cell_type": "code",
      "execution_count": 88,
      "metadata": {},
      "outputs": [
        {
          "data": {
            "image/png": "[encoded data removed]",
            "text/plain": [
              "<Figure size 432x288 with 1 Axes>"
            ]
          },
          "metadata": {
            "needs_background": "light"
          },
          "output_type": "display_data"
        }
      ],
      "source": [
        "# Visualization of accuracy training \n",
        "plt.plot(history_lstm.history[\"binary_accuracy\"], color=\"b\")\n",
        "plt.plot(history_lstm.history[\"val_binary_accuracy\"], color=\"r\")\n",
        "plt.ylabel(\"accuracy\")\n",
        "plt.xlabel(\"Epochs\")\n",
        "plt.show()"
      ]
    },
    {
      "cell_type": "code",
      "execution_count": 89,
      "metadata": {},
      "outputs": [],
      "source": [
        "model_lstm.save(\"lstm.h5\")\n",
        "json.dump(model_lstm.history.history, open(\"lstm.json\", 'w'))"
      ]
    },
    {
      "cell_type": "code",
      "execution_count": 90,
      "metadata": {},
      "outputs": [],
      "source": [
        "lstm = json.load(open(\"lstm.json\", 'r'))"
      ]
    },
    {
      "cell_type": "code",
      "execution_count": 91,
      "metadata": {},
      "outputs": [
        {
          "data": {
            "text/html": [
              "<div><div id=6a8fb8af-ea3d-437f-92d0-bafc749f12ad style=\"display:none; background-color:#9D6CFF; color:white; width:200px; height:30px; padding-left:5px; border-radius:4px; flex-direction:row; justify-content:space-around; align-items:center;\" onmouseover=\"this.style.backgroundColor='#BA9BF8'\" onmouseout=\"this.style.backgroundColor='#9D6CFF'\" onclick=\"window.commands?.execute('create-mitosheet-from-dataframe-output');\">See Full Dataframe in Mito</div> <script> if (window.commands.hasCommand('create-mitosheet-from-dataframe-output')) document.getElementById('6a8fb8af-ea3d-437f-92d0-bafc749f12ad').style.display = 'flex' </script> <table border=\"1\" class=\"dataframe\">\n",
              "  <thead>\n",
              "    <tr style=\"text-align: right;\">\n",
              "      <th></th>\n",
              "      <th>text</th>\n",
              "      <th>text_clean</th>\n",
              "      <th>text_encoded</th>\n",
              "    </tr>\n",
              "  </thead>\n",
              "  <tbody>\n",
              "    <tr>\n",
              "      <th>0</th>\n",
              "      <td>Just happened a terrible car crash</td>\n",
              "      <td>happen terrible car crash</td>\n",
              "      <td>[149, 47, 16]</td>\n",
              "    </tr>\n",
              "    <tr>\n",
              "      <th>1</th>\n",
              "      <td>Heard about #earthquake is different cities, stay safe everyone.</td>\n",
              "      <td>hear earthquake different city stay safe</td>\n",
              "      <td>[101, 181, 133]</td>\n",
              "    </tr>\n",
              "  </tbody>\n",
              "</table></div>"
            ],
            "text/plain": [
              "                                                text  \\\n",
              "0                 Just happened a terrible car crash   \n",
              "1  Heard about #earthquake is different cities, s...   \n",
              "\n",
              "                                 text_clean     text_encoded  \n",
              "0                 happen terrible car crash    [149, 47, 16]  \n",
              "1  hear earthquake different city stay safe  [101, 181, 133]  "
            ]
          },
          "execution_count": 91,
          "metadata": {},
          "output_type": "execute_result"
        }
      ],
      "source": [
        "url_test = \"https://raw.githubusercontent.com/huynam1012/Projet_jedha/main/test.csv\"\n",
        "test = pd.read_csv(url_test)\n",
        "test = test[[\"text\"]]\n",
        "\n",
        "test[\"text_clean\"] = test[\"text\"].apply(lambda x:''.join(ch for ch in x if ch.isalnum() or ch==\" \"))\n",
        "test[\"text_clean\"] = test[\"text_clean\"].apply(lambda x: x.replace(\" +\",\" \").lower().strip())\n",
        "test[\"text_clean\"] = test[\"text_clean\"].apply(lambda x: \" \".join([token.lemma_ for token in nlp(x) if (token.lemma_ not in STOP_WORDS) & (token.text not in STOP_WORDS)]))\n",
        "\n",
        "tokenizer_text.fit_on_texts(test[\"text_clean\"])\n",
        "test[\"text_encoded\"] = tokenizer_text.texts_to_sequences(test[\"text_clean\"])\n",
        "test.head(2)"
      ]
    },
    {
      "cell_type": "code",
      "execution_count": 92,
      "metadata": {},
      "outputs": [
        {
          "data": {
            "text/plain": [
              "array([[149,  47,  16, ...,   0,   0,   0],\n",
              "       [101, 181, 133, ...,   0,   0,   0],\n",
              "       [ 94,   3,  99, ...,   0,   0,   0],\n",
              "       ...,\n",
              "       [  0,   0,   0, ...,   0,   0,   0],\n",
              "       [166, 208,   0, ...,   0,   0,   0],\n",
              "       [ 15,  63,   0, ...,   0,   0,   0]])"
            ]
          },
          "execution_count": 92,
          "metadata": {},
          "output_type": "execute_result"
        }
      ],
      "source": [
        "test_pad = tf.keras.preprocessing.sequence.pad_sequences(test[\"text_encoded\"], padding='post')\n",
        "test_pad"
      ]
    },
    {
      "cell_type": "code",
      "execution_count": 93,
      "metadata": {},
      "outputs": [
        {
          "name": "stderr",
          "output_type": "stream",
          "text": [
            "Model was constructed with shape (None, 13) for input KerasTensor(type_spec=TensorSpec(shape=(None, 13), dtype=tf.float32, name='embedding_input'), name='embedding_input', description=\"created by layer 'embedding_input'\"), but it was called on an input with incompatible shape (None, 14).\n"
          ]
        },
        {
          "data": {
            "text/plain": [
              "(3263, 14)"
            ]
          },
          "execution_count": 93,
          "metadata": {},
          "output_type": "execute_result"
        }
      ],
      "source": [
        "prediction = model_lstm.predict(test_pad)\n",
        "prediction = prediction.reshape(3263, 14)\n",
        "prediction.shape"
      ]
    },
    {
      "cell_type": "code",
      "execution_count": 94,
      "metadata": {},
      "outputs": [
        {
          "data": {
            "text/html": [
              "<div><div id=77b1688f-ba1f-40eb-b1ca-c80587dcb4c7 style=\"display:none; background-color:#9D6CFF; color:white; width:200px; height:30px; padding-left:5px; border-radius:4px; flex-direction:row; justify-content:space-around; align-items:center;\" onmouseover=\"this.style.backgroundColor='#BA9BF8'\" onmouseout=\"this.style.backgroundColor='#9D6CFF'\" onclick=\"window.commands?.execute('create-mitosheet-from-dataframe-output');\">See Full Dataframe in Mito</div> <script> if (window.commands.hasCommand('create-mitosheet-from-dataframe-output')) document.getElementById('77b1688f-ba1f-40eb-b1ca-c80587dcb4c7').style.display = 'flex' </script> <table border=\"1\" class=\"dataframe\">\n",
              "  <thead>\n",
              "    <tr style=\"text-align: right;\">\n",
              "      <th></th>\n",
              "      <th>id</th>\n",
              "      <th>target</th>\n",
              "    </tr>\n",
              "  </thead>\n",
              "  <tbody>\n",
              "    <tr>\n",
              "      <th>0</th>\n",
              "      <td>0</td>\n",
              "      <td>0</td>\n",
              "    </tr>\n",
              "    <tr>\n",
              "      <th>1</th>\n",
              "      <td>2</td>\n",
              "      <td>1</td>\n",
              "    </tr>\n",
              "    <tr>\n",
              "      <th>2</th>\n",
              "      <td>3</td>\n",
              "      <td>1</td>\n",
              "    </tr>\n",
              "    <tr>\n",
              "      <th>3</th>\n",
              "      <td>9</td>\n",
              "      <td>0</td>\n",
              "    </tr>\n",
              "    <tr>\n",
              "      <th>4</th>\n",
              "      <td>11</td>\n",
              "      <td>0</td>\n",
              "    </tr>\n",
              "  </tbody>\n",
              "</table></div>"
            ],
            "text/plain": [
              "   id  target\n",
              "0   0       0\n",
              "1   2       1\n",
              "2   3       1\n",
              "3   9       0\n",
              "4  11       0"
            ]
          },
          "execution_count": 94,
          "metadata": {},
          "output_type": "execute_result"
        }
      ],
      "source": [
        "url_submission = \"https://raw.githubusercontent.com/huynam1012/Projet_jedha/main/sample_submission.csv\"\n",
        "submission = pd.read_csv(url_submission)\n",
        "submission[\"target\"] = prediction\n",
        "submission[\"target\"] = submission[\"target\"].apply(lambda x : 0 if x <= 0.5 else 1)\n",
        "submission.head(5)"
      ]
    },
    {
      "cell_type": "code",
      "execution_count": null,
      "metadata": {},
      "outputs": [],
      "source": []
    },
    {
      "cell_type": "markdown",
      "metadata": {
        "id": "NXYymL-JuDKh"
      },
      "source": [
        "## Encoder decoder"
      ]
    },
    {
      "cell_type": "markdown",
      "metadata": {
        "id": "RT4TbwscMup2"
      },
      "source": [
        "Here our input is a sequence of words and output is a single number between 0 and 1."
      ]
    },
    {
      "cell_type": "markdown",
      "metadata": {
        "id": "WmVdl432PZKN"
      },
      "source": [
        "* Encoder: The encoder processes each token in the input-sequence. It tries to cram all the information about the input-sequence into a vector of fixed length i.e. the ‘context vector’. After going through all the tokens, the encoder passes this vector onto the decoder.\n",
        "* Context vector: The vector is built in such a way that it's expected to encapsulate the whole meaning of the input-sequence and help the decoder make accurate predictions. We will see later that this is the final internal states of our encoder block.\n",
        "* Decoder: The decoder reads the context vector and tries to predict the target-sequence token by token."
      ]
    },
    {
      "cell_type": "markdown",
      "metadata": {
        "id": "hhsKgaPPQZQv"
      },
      "source": [
        "* The input-sequence in both the decoder and the encoder is passed through an embedding layer to reduce the dimensions of the input word vectors because in practice, the one-hot-encoded vectors can be very large and the embedded vectors are a much better representation of words."
      ]
    },
    {
      "cell_type": "code",
      "execution_count": 95,
      "metadata": {
        "colab": {
          "base_uri": "https://localhost:8080/",
          "height": 206
        },
        "id": "_ZySpfAGu1qS",
        "outputId": "c997e4b8-2483-4f37-faca-8b6f36c01351"
      },
      "outputs": [
        {
          "data": {
            "text/html": [
              "<div><div id=78c299c7-7523-459d-88cc-35e959019388 style=\"display:none; background-color:#9D6CFF; color:white; width:200px; height:30px; padding-left:5px; border-radius:4px; flex-direction:row; justify-content:space-around; align-items:center;\" onmouseover=\"this.style.backgroundColor='#BA9BF8'\" onmouseout=\"this.style.backgroundColor='#9D6CFF'\" onclick=\"window.commands?.execute('create-mitosheet-from-dataframe-output');\">See Full Dataframe in Mito</div> <script> if (window.commands.hasCommand('create-mitosheet-from-dataframe-output')) document.getElementById('78c299c7-7523-459d-88cc-35e959019388').style.display = 'flex' </script> <table border=\"1\" class=\"dataframe\">\n",
              "  <thead>\n",
              "    <tr style=\"text-align: right;\">\n",
              "      <th></th>\n",
              "      <th>text</th>\n",
              "      <th>target</th>\n",
              "    </tr>\n",
              "  </thead>\n",
              "  <tbody>\n",
              "    <tr>\n",
              "      <th>0</th>\n",
              "      <td>Our Deeds are the Reason of this #earthquake May ALLAH Forgive us all</td>\n",
              "      <td>1</td>\n",
              "    </tr>\n",
              "    <tr>\n",
              "      <th>1</th>\n",
              "      <td>Forest fire near La Ronge Sask. Canada</td>\n",
              "      <td>1</td>\n",
              "    </tr>\n",
              "    <tr>\n",
              "      <th>2</th>\n",
              "      <td>All residents asked to 'shelter in place' are being notified by officers. No other evacuation or shelter in place orders are expected</td>\n",
              "      <td>1</td>\n",
              "    </tr>\n",
              "    <tr>\n",
              "      <th>3</th>\n",
              "      <td>13,000 people receive #wildfires evacuation orders in California</td>\n",
              "      <td>1</td>\n",
              "    </tr>\n",
              "    <tr>\n",
              "      <th>4</th>\n",
              "      <td>Just got sent this photo from Ruby #Alaska as smoke from #wildfires pours into a school</td>\n",
              "      <td>1</td>\n",
              "    </tr>\n",
              "  </tbody>\n",
              "</table></div>"
            ],
            "text/plain": [
              "                                                text target\n",
              "0  Our Deeds are the Reason of this #earthquake M...      1\n",
              "1             Forest fire near La Ronge Sask. Canada      1\n",
              "2  All residents asked to 'shelter in place' are ...      1\n",
              "3  13,000 people receive #wildfires evacuation or...      1\n",
              "4  Just got sent this photo from Ruby #Alaska as ...      1"
            ]
          },
          "execution_count": 95,
          "metadata": {},
          "output_type": "execute_result"
        }
      ],
      "source": [
        "url_train = \"https://raw.githubusercontent.com/huynam1012/Projet_jedha/main/train.csv\"\n",
        "train = pd.read_csv(url_train)\n",
        "train = train[[\"text\", \"target\"]]\n",
        "train[\"target\"] = train[\"target\"].astype(str)\n",
        "train.head(5)"
      ]
    },
    {
      "cell_type": "code",
      "execution_count": 96,
      "metadata": {
        "colab": {
          "base_uri": "https://localhost:8080/",
          "height": 206
        },
        "id": "mHFD7c-iuDKh",
        "outputId": "0f5ebf4e-6d1b-4cf4-eb24-d91d96df21b7"
      },
      "outputs": [
        {
          "data": {
            "text/html": [
              "<div><div id=cb0f2f4b-6fc8-49fb-b0d4-3c82ee7ca60d style=\"display:none; background-color:#9D6CFF; color:white; width:200px; height:30px; padding-left:5px; border-radius:4px; flex-direction:row; justify-content:space-around; align-items:center;\" onmouseover=\"this.style.backgroundColor='#BA9BF8'\" onmouseout=\"this.style.backgroundColor='#9D6CFF'\" onclick=\"window.commands?.execute('create-mitosheet-from-dataframe-output');\">See Full Dataframe in Mito</div> <script> if (window.commands.hasCommand('create-mitosheet-from-dataframe-output')) document.getElementById('cb0f2f4b-6fc8-49fb-b0d4-3c82ee7ca60d').style.display = 'flex' </script> <table border=\"1\" class=\"dataframe\">\n",
              "  <thead>\n",
              "    <tr style=\"text-align: right;\">\n",
              "      <th></th>\n",
              "      <th>text</th>\n",
              "      <th>target</th>\n",
              "      <th>padded_target</th>\n",
              "    </tr>\n",
              "  </thead>\n",
              "  <tbody>\n",
              "    <tr>\n",
              "      <th>0</th>\n",
              "      <td>Our Deeds are the Reason of this #earthquake May ALLAH Forgive us all</td>\n",
              "      <td>1</td>\n",
              "      <td>&lt;start&gt; 1</td>\n",
              "    </tr>\n",
              "    <tr>\n",
              "      <th>1</th>\n",
              "      <td>Forest fire near La Ronge Sask. Canada</td>\n",
              "      <td>1</td>\n",
              "      <td>&lt;start&gt; 1</td>\n",
              "    </tr>\n",
              "    <tr>\n",
              "      <th>2</th>\n",
              "      <td>All residents asked to 'shelter in place' are being notified by officers. No other evacuation or shelter in place orders are expected</td>\n",
              "      <td>1</td>\n",
              "      <td>&lt;start&gt; 1</td>\n",
              "    </tr>\n",
              "    <tr>\n",
              "      <th>3</th>\n",
              "      <td>13,000 people receive #wildfires evacuation orders in California</td>\n",
              "      <td>1</td>\n",
              "      <td>&lt;start&gt; 1</td>\n",
              "    </tr>\n",
              "    <tr>\n",
              "      <th>4</th>\n",
              "      <td>Just got sent this photo from Ruby #Alaska as smoke from #wildfires pours into a school</td>\n",
              "      <td>1</td>\n",
              "      <td>&lt;start&gt; 1</td>\n",
              "    </tr>\n",
              "  </tbody>\n",
              "</table></div>"
            ],
            "text/plain": [
              "                                                text target padded_target\n",
              "0  Our Deeds are the Reason of this #earthquake M...      1     <start> 1\n",
              "1             Forest fire near La Ronge Sask. Canada      1     <start> 1\n",
              "2  All residents asked to 'shelter in place' are ...      1     <start> 1\n",
              "3  13,000 people receive #wildfires evacuation or...      1     <start> 1\n",
              "4  Just got sent this photo from Ruby #Alaska as ...      1     <start> 1"
            ]
          },
          "execution_count": 96,
          "metadata": {},
          "output_type": "execute_result"
        }
      ],
      "source": [
        "train[\"padded_target\"] = train.iloc[:,1].apply(lambda x: \"<start> \"+x)\n",
        "train.head(5)"
      ]
    },
    {
      "cell_type": "code",
      "execution_count": 97,
      "metadata": {
        "id": "cy4hYkDMuDKi"
      },
      "outputs": [],
      "source": [
        "tokenizer_text = tf.keras.preprocessing.text.Tokenizer(num_words=300,\n",
        "                                                        filters='!\"#$%&()*+,-./:;<=>?@[\\\\]^_`{|}~\\t\\n',\n",
        "                                                        lower=True, split=' ', char_level=False, oov_token=None,\n",
        "                                                        document_count=0)\n",
        "\n",
        "#the maximum number of words to keep, based on word frequency. Only the most common num_words-1 words will be kept. \n",
        "tokenizer_target = tf.keras.preprocessing.text.Tokenizer(num_words=4,\n",
        "                                                            filters='!\"#$%&()*+,-./:;<=>?@[\\\\]^_`{|}~\\t\\n',\n",
        "                                                            lower=True, split=' ', char_level=False, oov_token=None,\n",
        "                                                            document_count=0)"
      ]
    },
    {
      "cell_type": "code",
      "execution_count": 98,
      "metadata": {
        "id": "3D_S1KAwuDKi"
      },
      "outputs": [],
      "source": [
        "tokenizer_text.fit_on_texts(train[\"text\"])\n",
        "tokenizer_target.fit_on_texts(train[\"padded_target\"])"
      ]
    },
    {
      "cell_type": "code",
      "execution_count": 99,
      "metadata": {
        "colab": {
          "base_uri": "https://localhost:8080/",
          "height": 191
        },
        "id": "Fe88PJ_ouDKi",
        "outputId": "825207e8-7834-4151-95c9-5983284391f5"
      },
      "outputs": [
        {
          "data": {
            "text/html": [
              "<div><div id=09b18b39-2844-49be-998d-ab61394ce87b style=\"display:none; background-color:#9D6CFF; color:white; width:200px; height:30px; padding-left:5px; border-radius:4px; flex-direction:row; justify-content:space-around; align-items:center;\" onmouseover=\"this.style.backgroundColor='#BA9BF8'\" onmouseout=\"this.style.backgroundColor='#9D6CFF'\" onclick=\"window.commands?.execute('create-mitosheet-from-dataframe-output');\">See Full Dataframe in Mito</div> <script> if (window.commands.hasCommand('create-mitosheet-from-dataframe-output')) document.getElementById('09b18b39-2844-49be-998d-ab61394ce87b').style.display = 'flex' </script> <table border=\"1\" class=\"dataframe\">\n",
              "  <thead>\n",
              "    <tr style=\"text-align: right;\">\n",
              "      <th></th>\n",
              "      <th>text</th>\n",
              "      <th>target</th>\n",
              "      <th>padded_target</th>\n",
              "      <th>text_indices</th>\n",
              "      <th>target_indices</th>\n",
              "      <th>padded_target_indices</th>\n",
              "    </tr>\n",
              "  </thead>\n",
              "  <tbody>\n",
              "    <tr>\n",
              "      <th>0</th>\n",
              "      <td>Our Deeds are the Reason of this #earthquake May ALLAH Forgive us all</td>\n",
              "      <td>1</td>\n",
              "      <td>&lt;start&gt; 1</td>\n",
              "      <td>[119, 24, 4, 8, 21, 263, 138, 89, 40]</td>\n",
              "      <td>[3]</td>\n",
              "      <td>[1, 3]</td>\n",
              "    </tr>\n",
              "    <tr>\n",
              "      <th>1</th>\n",
              "      <td>Forest fire near La Ronge Sask. Canada</td>\n",
              "      <td>1</td>\n",
              "      <td>&lt;start&gt; 1</td>\n",
              "      <td>[189, 45, 229]</td>\n",
              "      <td>[3]</td>\n",
              "      <td>[1, 3]</td>\n",
              "    </tr>\n",
              "  </tbody>\n",
              "</table></div>"
            ],
            "text/plain": [
              "                                                text target padded_target  \\\n",
              "0  Our Deeds are the Reason of this #earthquake M...      1     <start> 1   \n",
              "1             Forest fire near La Ronge Sask. Canada      1     <start> 1   \n",
              "\n",
              "                            text_indices target_indices padded_target_indices  \n",
              "0  [119, 24, 4, 8, 21, 263, 138, 89, 40]            [3]                [1, 3]  \n",
              "1                         [189, 45, 229]            [3]                [1, 3]  "
            ]
          },
          "execution_count": 99,
          "metadata": {},
          "output_type": "execute_result"
        }
      ],
      "source": [
        "train[\"text_indices\"] = tokenizer_text.texts_to_sequences(train[\"text\"])\n",
        "train[\"target_indices\"] = tokenizer_target.texts_to_sequences(train[\"target\"])\n",
        "train[\"padded_target_indices\"] = tokenizer_target.texts_to_sequences(train[\"padded_target\"])\n",
        "train.head(2)"
      ]
    },
    {
      "cell_type": "code",
      "execution_count": 100,
      "metadata": {
        "colab": {
          "base_uri": "https://localhost:8080/"
        },
        "id": "Xw-GBvf5aHGL",
        "outputId": "21e1c2ca-a707-4730-f872-14e92359e4dd"
      },
      "outputs": [
        {
          "data": {
            "text/plain": [
              "22700"
            ]
          },
          "execution_count": 100,
          "metadata": {},
          "output_type": "execute_result"
        }
      ],
      "source": [
        "len(tokenizer_text.word_index)"
      ]
    },
    {
      "cell_type": "code",
      "execution_count": 101,
      "metadata": {
        "colab": {
          "base_uri": "https://localhost:8080/"
        },
        "id": "2jMaoSY7XaQX",
        "outputId": "5f4409e9-da80-48b0-9679-e91c69e6c6e0"
      },
      "outputs": [
        {
          "data": {
            "text/plain": [
              "{'start': 1, '0': 2, '1': 3}"
            ]
          },
          "execution_count": 101,
          "metadata": {},
          "output_type": "execute_result"
        }
      ],
      "source": [
        "tokenizer_target.word_index"
      ]
    },
    {
      "cell_type": "code",
      "execution_count": 102,
      "metadata": {
        "colab": {
          "base_uri": "https://localhost:8080/"
        },
        "id": "7lNLsDR5uDKj",
        "outputId": "880576f9-0fad-4c82-9da8-00403eb5e4cd"
      },
      "outputs": [
        {
          "data": {
            "text/plain": [
              "3"
            ]
          },
          "execution_count": 102,
          "metadata": {},
          "output_type": "execute_result"
        }
      ],
      "source": [
        "len(tokenizer_target.word_index)"
      ]
    },
    {
      "cell_type": "code",
      "execution_count": 103,
      "metadata": {
        "colab": {
          "base_uri": "https://localhost:8080/",
          "height": 615
        },
        "id": "3cpPSkZjuDKj",
        "outputId": "48c81f63-c2a0-4cdb-b2d0-63a65693ccff"
      },
      "outputs": [
        {
          "data": {
            "text/html": [
              "<div><div id=e248e982-0355-41c7-8853-8a476035f2c5 style=\"display:none; background-color:#9D6CFF; color:white; width:200px; height:30px; padding-left:5px; border-radius:4px; flex-direction:row; justify-content:space-around; align-items:center;\" onmouseover=\"this.style.backgroundColor='#BA9BF8'\" onmouseout=\"this.style.backgroundColor='#9D6CFF'\" onclick=\"window.commands?.execute('create-mitosheet-from-dataframe-output');\">See Full Dataframe in Mito</div> <script> if (window.commands.hasCommand('create-mitosheet-from-dataframe-output')) document.getElementById('e248e982-0355-41c7-8853-8a476035f2c5').style.display = 'flex' </script> <table border=\"1\" class=\"dataframe\">\n",
              "  <thead>\n",
              "    <tr style=\"text-align: right;\">\n",
              "      <th></th>\n",
              "      <th>text</th>\n",
              "      <th>target</th>\n",
              "      <th>padded_target</th>\n",
              "      <th>text_indices</th>\n",
              "      <th>target_indices</th>\n",
              "      <th>padded_target_indices</th>\n",
              "      <th>padded_target_indices_clean</th>\n",
              "    </tr>\n",
              "  </thead>\n",
              "  <tbody>\n",
              "    <tr>\n",
              "      <th>0</th>\n",
              "      <td>Our Deeds are the Reason of this #earthquake May ALLAH Forgive us all</td>\n",
              "      <td>1</td>\n",
              "      <td>&lt;start&gt; 1</td>\n",
              "      <td>[119, 24, 4, 8, 21, 263, 138, 89, 40]</td>\n",
              "      <td>[3]</td>\n",
              "      <td>[1, 3]</td>\n",
              "      <td>[1]</td>\n",
              "    </tr>\n",
              "    <tr>\n",
              "      <th>1</th>\n",
              "      <td>Forest fire near La Ronge Sask. Canada</td>\n",
              "      <td>1</td>\n",
              "      <td>&lt;start&gt; 1</td>\n",
              "      <td>[189, 45, 229]</td>\n",
              "      <td>[3]</td>\n",
              "      <td>[1, 3]</td>\n",
              "      <td>[1]</td>\n",
              "    </tr>\n",
              "    <tr>\n",
              "      <th>2</th>\n",
              "      <td>All residents asked to 'shelter in place' are being notified by officers. No other evacuation or shelter in place orders are expected</td>\n",
              "      <td>1</td>\n",
              "      <td>&lt;start&gt; 1</td>\n",
              "      <td>[40, 7, 6, 24, 136, 20, 39, 256, 57, 6, 24]</td>\n",
              "      <td>[3]</td>\n",
              "      <td>[1, 3]</td>\n",
              "      <td>[1]</td>\n",
              "    </tr>\n",
              "    <tr>\n",
              "      <th>3</th>\n",
              "      <td>13,000 people receive #wildfires evacuation orders in California</td>\n",
              "      <td>1</td>\n",
              "      <td>&lt;start&gt; 1</td>\n",
              "      <td>[59, 256, 6, 96]</td>\n",
              "      <td>[3]</td>\n",
              "      <td>[1, 3]</td>\n",
              "      <td>[1]</td>\n",
              "    </tr>\n",
              "    <tr>\n",
              "      <th>4</th>\n",
              "      <td>Just got sent this photo from Ruby #Alaska as smoke from #wildfires pours into a school</td>\n",
              "      <td>1</td>\n",
              "      <td>&lt;start&gt; 1</td>\n",
              "      <td>[34, 100, 21, 22, 30, 271, 22, 69, 5, 187]</td>\n",
              "      <td>[3]</td>\n",
              "      <td>[1, 3]</td>\n",
              "      <td>[1]</td>\n",
              "    </tr>\n",
              "  </tbody>\n",
              "</table></div>"
            ],
            "text/plain": [
              "                                                text target padded_target  \\\n",
              "0  Our Deeds are the Reason of this #earthquake M...      1     <start> 1   \n",
              "1             Forest fire near La Ronge Sask. Canada      1     <start> 1   \n",
              "2  All residents asked to 'shelter in place' are ...      1     <start> 1   \n",
              "3  13,000 people receive #wildfires evacuation or...      1     <start> 1   \n",
              "4  Just got sent this photo from Ruby #Alaska as ...      1     <start> 1   \n",
              "\n",
              "                                  text_indices target_indices  \\\n",
              "0        [119, 24, 4, 8, 21, 263, 138, 89, 40]            [3]   \n",
              "1                               [189, 45, 229]            [3]   \n",
              "2  [40, 7, 6, 24, 136, 20, 39, 256, 57, 6, 24]            [3]   \n",
              "3                             [59, 256, 6, 96]            [3]   \n",
              "4   [34, 100, 21, 22, 30, 271, 22, 69, 5, 187]            [3]   \n",
              "\n",
              "  padded_target_indices padded_target_indices_clean  \n",
              "0                [1, 3]                         [1]  \n",
              "1                [1, 3]                         [1]  \n",
              "2                [1, 3]                         [1]  \n",
              "3                [1, 3]                         [1]  \n",
              "4                [1, 3]                         [1]  "
            ]
          },
          "execution_count": 103,
          "metadata": {},
          "output_type": "execute_result"
        }
      ],
      "source": [
        "train[\"padded_target_indices_clean\"] = train[\"padded_target_indices\"].apply(lambda x: x[:-1])\n",
        "train.head()"
      ]
    },
    {
      "cell_type": "code",
      "execution_count": 104,
      "metadata": {
        "id": "ZvIuqgTNuDKk"
      },
      "outputs": [],
      "source": [
        "# Use of Keras to create token sequences of the same length\n",
        "padded_text_indices = tf.keras.preprocessing.sequence.pad_sequences(train[\"text_indices\"], padding=\"post\")\n",
        "padded_target_indices = tf.keras.preprocessing.sequence.pad_sequences(train[\"target_indices\"], padding=\"post\")\n",
        "teacher_forcing_target = tf.keras.preprocessing.sequence.pad_sequences(train[\"padded_target_indices_clean\"], padding=\"post\")"
      ]
    },
    {
      "cell_type": "code",
      "execution_count": 105,
      "metadata": {
        "colab": {
          "base_uri": "https://localhost:8080/"
        },
        "id": "4m7UIwNfuDKk",
        "outputId": "45970305-1128-4be9-c0d1-48f11eb1ad81"
      },
      "outputs": [
        {
          "data": {
            "text/plain": [
              "(7613, 26)"
            ]
          },
          "execution_count": 105,
          "metadata": {},
          "output_type": "execute_result"
        }
      ],
      "source": [
        "padded_text_indices.shape"
      ]
    },
    {
      "cell_type": "code",
      "execution_count": 106,
      "metadata": {
        "colab": {
          "base_uri": "https://localhost:8080/"
        },
        "id": "CgNKMApeduQI",
        "outputId": "b74c01e1-4535-4466-d683-05a998667192"
      },
      "outputs": [
        {
          "data": {
            "text/plain": [
              "(7613, 1)"
            ]
          },
          "execution_count": 106,
          "metadata": {},
          "output_type": "execute_result"
        }
      ],
      "source": [
        "padded_target_indices.shape"
      ]
    },
    {
      "cell_type": "code",
      "execution_count": 107,
      "metadata": {
        "colab": {
          "base_uri": "https://localhost:8080/"
        },
        "id": "lgejRKCguDKl",
        "outputId": "ac081e41-32b9-40cc-9b67-13d0b8be32d6"
      },
      "outputs": [
        {
          "data": {
            "text/plain": [
              "(7613, 1)"
            ]
          },
          "execution_count": 107,
          "metadata": {},
          "output_type": "execute_result"
        }
      ],
      "source": [
        "teacher_forcing_target.shape"
      ]
    },
    {
      "cell_type": "markdown",
      "metadata": {},
      "source": [
        "> train_test_split with sklearn"
      ]
    },
    {
      "cell_type": "code",
      "execution_count": 108,
      "metadata": {
        "id": "EXC5NCxhuDKl"
      },
      "outputs": [],
      "source": [
        "from sklearn.model_selection import train_test_split\n",
        "target_train, target_val, text_train, text_val, teacher_train, teacher_val =  train_test_split(padded_target_indices,\n",
        "                                                                                   padded_text_indices,\n",
        "                                                                                   teacher_forcing_target,\n",
        "                                                                                   test_size=0.2)"
      ]
    },
    {
      "cell_type": "code",
      "execution_count": 109,
      "metadata": {
        "colab": {
          "base_uri": "https://localhost:8080/"
        },
        "id": "GNcSg8SmeLDx",
        "outputId": "74b724f3-9622-4f76-d498-1a336d3c4c99"
      },
      "outputs": [
        {
          "data": {
            "text/plain": [
              "(6090, 26)"
            ]
          },
          "execution_count": 109,
          "metadata": {},
          "output_type": "execute_result"
        }
      ],
      "source": [
        "text_train.shape"
      ]
    },
    {
      "cell_type": "code",
      "execution_count": 110,
      "metadata": {
        "colab": {
          "base_uri": "https://localhost:8080/"
        },
        "id": "UtCbZjhreQ_i",
        "outputId": "ea930c8c-d086-4cee-d7a6-7e952c48284c"
      },
      "outputs": [
        {
          "data": {
            "text/plain": [
              "(6090, 1)"
            ]
          },
          "execution_count": 110,
          "metadata": {},
          "output_type": "execute_result"
        }
      ],
      "source": [
        "target_train.shape"
      ]
    },
    {
      "cell_type": "code",
      "execution_count": 111,
      "metadata": {
        "colab": {
          "base_uri": "https://localhost:8080/"
        },
        "id": "4EgFUw5_eVkt",
        "outputId": "fadbdeec-2ef9-4274-b67c-5be5ff908d1a"
      },
      "outputs": [
        {
          "data": {
            "text/plain": [
              "(6090, 1)"
            ]
          },
          "execution_count": 111,
          "metadata": {},
          "output_type": "execute_result"
        }
      ],
      "source": [
        "teacher_train.shape"
      ]
    },
    {
      "cell_type": "code",
      "execution_count": 112,
      "metadata": {
        "id": "ZKf7Tw7IuDKm"
      },
      "outputs": [],
      "source": [
        "n_lstm = 64\n",
        "n_embed = 128\n",
        "text_len = padded_text_indices.shape[1]\n",
        "target_len = padded_target_indices.shape[1]\n",
        "vocab_size_text = len(tokenizer_text.word_index)\n",
        "vocab_size_target = len(tokenizer_target.word_index)"
      ]
    },
    {
      "cell_type": "code",
      "execution_count": 113,
      "metadata": {
        "colab": {
          "base_uri": "https://localhost:8080/"
        },
        "id": "-h5IX8O4uDKm",
        "outputId": "9da7ab38-ff49-400a-a92a-96c8f12d00be"
      },
      "outputs": [
        {
          "data": {
            "text/plain": [
              "26"
            ]
          },
          "execution_count": 113,
          "metadata": {},
          "output_type": "execute_result"
        }
      ],
      "source": [
        "text_len"
      ]
    },
    {
      "cell_type": "code",
      "execution_count": 114,
      "metadata": {
        "colab": {
          "base_uri": "https://localhost:8080/"
        },
        "id": "d04JKqNDeqAJ",
        "outputId": "32b69b77-6c05-4df5-bdeb-7e006f24797e"
      },
      "outputs": [
        {
          "data": {
            "text/plain": [
              "1"
            ]
          },
          "execution_count": 114,
          "metadata": {},
          "output_type": "execute_result"
        }
      ],
      "source": [
        "target_len"
      ]
    },
    {
      "cell_type": "code",
      "execution_count": 115,
      "metadata": {
        "id": "M4EK_KFiuDKm"
      },
      "outputs": [],
      "source": [
        "# encorder text\n",
        "encoder_input = tf.keras.Input(shape=(text_len))\n",
        "encoder_embed = tf.keras.layers.Embedding(input_dim=vocab_size_text+1, output_dim=n_embed)\n",
        "encoder_lstm = tf.keras.layers.LSTM(n_lstm, return_state=True)\n",
        "\n",
        "encoder_embed_ouput = encoder_embed(encoder_input)\n",
        "encoder_output = encoder_lstm(encoder_embed_ouput)\n",
        "\n",
        "encoder = tf.keras.Model(inputs = encoder_input, outputs = encoder_output)"
      ]
    },
    {
      "cell_type": "code",
      "execution_count": 116,
      "metadata": {
        "colab": {
          "base_uri": "https://localhost:8080/"
        },
        "id": "j3J_Iu2muDKm",
        "outputId": "0c99f58e-ca00-4b02-911b-839903fd5196"
      },
      "outputs": [
        {
          "data": {
            "text/plain": [
              "[<tf.Tensor: shape=(6090, 64), dtype=float32, numpy=\n",
              " array([[ 0.01066365,  0.03389977, -0.02621304, ..., -0.01305587,\n",
              "         -0.04044696,  0.00361188],\n",
              "        [ 0.01176159,  0.03601053, -0.02878214, ..., -0.0127019 ,\n",
              "         -0.04036213,  0.00313721],\n",
              "        [ 0.01192052,  0.03622124, -0.0291597 , ..., -0.01265279,\n",
              "         -0.04027905,  0.00308907],\n",
              "        ...,\n",
              "        [ 0.01122139,  0.03388819, -0.02612916, ..., -0.01337933,\n",
              "         -0.04118439,  0.00336571],\n",
              "        [ 0.009514  ,  0.03214344, -0.02379894, ..., -0.0136982 ,\n",
              "         -0.04145564,  0.00352858],\n",
              "        [ 0.00929591,  0.03292777, -0.02443781, ..., -0.01335967,\n",
              "         -0.04097494,  0.00358718]], dtype=float32)>,\n",
              " <tf.Tensor: shape=(6090, 64), dtype=float32, numpy=\n",
              " array([[ 0.01066365,  0.03389977, -0.02621304, ..., -0.01305587,\n",
              "         -0.04044696,  0.00361188],\n",
              "        [ 0.01176159,  0.03601053, -0.02878214, ..., -0.0127019 ,\n",
              "         -0.04036213,  0.00313721],\n",
              "        [ 0.01192052,  0.03622124, -0.0291597 , ..., -0.01265279,\n",
              "         -0.04027905,  0.00308907],\n",
              "        ...,\n",
              "        [ 0.01122139,  0.03388819, -0.02612916, ..., -0.01337933,\n",
              "         -0.04118439,  0.00336571],\n",
              "        [ 0.009514  ,  0.03214344, -0.02379894, ..., -0.0136982 ,\n",
              "         -0.04145564,  0.00352858],\n",
              "        [ 0.00929591,  0.03292777, -0.02443781, ..., -0.01335967,\n",
              "         -0.04097494,  0.00358718]], dtype=float32)>,\n",
              " <tf.Tensor: shape=(6090, 64), dtype=float32, numpy=\n",
              " array([[ 0.02138888,  0.06765546, -0.05192728, ..., -0.02614732,\n",
              "         -0.08017311,  0.00725807],\n",
              "        [ 0.02359137,  0.07188008, -0.05702805, ..., -0.02543809,\n",
              "         -0.07997366,  0.0063035 ],\n",
              "        [ 0.02391042,  0.07230416, -0.05777594, ..., -0.02534114,\n",
              "         -0.07980741,  0.00620671],\n",
              "        ...,\n",
              "        [ 0.02250586,  0.06762475, -0.05176018, ..., -0.02679509,\n",
              "         -0.08164814,  0.00676303],\n",
              "        [ 0.01907971,  0.06414247, -0.04714461, ..., -0.02741958,\n",
              "         -0.08220478,  0.00708855],\n",
              "        [ 0.01864107,  0.06570895, -0.04841472, ..., -0.02674052,\n",
              "         -0.08123748,  0.00720699]], dtype=float32)>]"
            ]
          },
          "execution_count": 116,
          "metadata": {},
          "output_type": "execute_result"
        }
      ],
      "source": [
        "encoder(text_train)"
      ]
    },
    {
      "cell_type": "code",
      "execution_count": 117,
      "metadata": {
        "id": "L_kf_2wTuDKn"
      },
      "outputs": [],
      "source": [
        "decoder_input = tf.keras.Input(shape=(target_len))\n",
        "decoder_embed = tf.keras.layers.Embedding(input_dim=vocab_size_target+1, \n",
        "                                          output_dim=n_embed)\n",
        "decoder_lstm = tf.keras.layers.LSTM(n_lstm, return_sequences=True, return_state=True)\n",
        "decoder_pred = tf.keras.layers.Dense(vocab_size_target+1, activation=\"softmax\") #sigmoid, softmax\n",
        "\n",
        "decoder_embed_output = decoder_embed(decoder_input) # teacher forcing happens here\n",
        "# the decoder input is actually the padded target we created earlier, remember\n",
        "# if target is: [91, 47, 89, 21, 62]\n",
        "# the decoder input will be: [0, 91, 47, 89, 21]\n",
        "decoder_lstm_output, _, _ = decoder_lstm(decoder_embed_output, initial_state=encoder_output[1:])\n",
        "# in the step described above the decoder receives the encoder state as its\n",
        "# initial state.\n",
        "decoder_output = decoder_pred(decoder_lstm_output)\n",
        "# then the dense layer will convert the vector representation for each element\n",
        "# in the sequence into a probability distribution across all possible tokens\n",
        "# in the vocabulary!\n",
        "\n",
        "decoder = tf.keras.Model(inputs = [encoder_input,decoder_input], outputs = decoder_output)\n",
        "# all we need to do is put the model together using the input output framework!"
      ]
    },
    {
      "cell_type": "code",
      "execution_count": 118,
      "metadata": {
        "colab": {
          "base_uri": "https://localhost:8080/",
          "height": 419
        },
        "id": "m1jyoOk6uDKn",
        "outputId": "da7d755e-b621-43a3-e15a-41bef7dd0bb4"
      },
      "outputs": [
        {
          "data": {
            "text/plain": [
              "<tf.Tensor: shape=(6090, 1, 4), dtype=float32, numpy=\n",
              "array([[[0.25633323, 0.24885665, 0.24721105, 0.24759905]],\n",
              "\n",
              "       [[0.2562709 , 0.2488396 , 0.24710777, 0.24778181]],\n",
              "\n",
              "       [[0.256249  , 0.24880806, 0.24713361, 0.24780934]],\n",
              "\n",
              "       ...,\n",
              "\n",
              "       [[0.25633645, 0.24880783, 0.24723607, 0.24761969]],\n",
              "\n",
              "       [[0.256479  , 0.24907158, 0.24707307, 0.24737643]],\n",
              "\n",
              "       [[0.25638393, 0.24910046, 0.24707602, 0.24743952]]], dtype=float32)>"
            ]
          },
          "execution_count": 118,
          "metadata": {},
          "output_type": "execute_result"
        }
      ],
      "source": [
        "decoder([text_train,teacher_train])"
      ]
    },
    {
      "cell_type": "code",
      "execution_count": 119,
      "metadata": {
        "id": "kUO8U7kwfjWz"
      },
      "outputs": [],
      "source": [
        "decoder_state_input_h = tf.keras.Input(shape=(n_lstm,))\n",
        "decoder_state_input_c = tf.keras.Input(shape=(n_lstm,))\n",
        "decoder_states_inputs = [decoder_state_input_h, decoder_state_input_c]\n",
        "# at the first step of the inference, these input will be respectively the\n",
        "# hidden state and C state of the encoder model\n",
        "# for following steps, they will become the hidden and C state from the decoder\n",
        "# itself since the input sequence is unknown we will have to predict step by step\n",
        "# using a loop\n",
        "\n",
        "decoder_input_inf = tf.keras.Input(shape=(1))\n",
        "decoder_embed_output = decoder_embed(decoder_input_inf)\n",
        "# the decoder input here is of shape 1 because we will feed the elements in the \n",
        "# sequence one by one\n",
        "\n",
        "decoder_outputs, state_h, state_c = decoder_lstm(decoder_embed_output, initial_state=decoder_states_inputs)\n",
        "# the lstm layer works in the same way, the output from the embedding is used\n",
        "# and the decoder state is used as described above\n",
        "\n",
        "decoder_states = [state_h, state_c]\n",
        "# we store the lstm states in a specific object as we'll have to use them as \n",
        "# initial state for the next inference step\n",
        "\n",
        "decoder_outputs = decoder_pred(decoder_outputs)\n",
        "# the lstm output is then converted to a probability distribution over the\n",
        "# target vocabulary\n",
        "\n",
        "decoder_inf = tf.keras.Model(inputs = [decoder_input_inf, decoder_states_inputs], \n",
        "                     outputs = [decoder_outputs, decoder_states])\n",
        "# Finally we wrap up the model building by setting up the inputs and outputs"
      ]
    },
    {
      "cell_type": "code",
      "execution_count": 120,
      "metadata": {},
      "outputs": [
        {
          "name": "stdout",
          "output_type": "stream",
          "text": [
            "Model: \"model_1\"\n",
            "__________________________________________________________________________________________________\n",
            "Layer (type)                    Output Shape         Param #     Connected to                     \n",
            "==================================================================================================\n",
            "input_1 (InputLayer)            [(None, 26)]         0                                            \n",
            "__________________________________________________________________________________________________\n",
            "input_2 (InputLayer)            [(None, 1)]          0                                            \n",
            "__________________________________________________________________________________________________\n",
            "embedding (Embedding)           (None, 26, 128)      2905728     input_1[0][0]                    \n",
            "__________________________________________________________________________________________________\n",
            "embedding_1 (Embedding)         (None, 1, 128)       512         input_2[0][0]                    \n",
            "__________________________________________________________________________________________________\n",
            "lstm_2 (LSTM)                   [(None, 64), (None,  49408       embedding[0][0]                  \n",
            "__________________________________________________________________________________________________\n",
            "lstm_3 (LSTM)                   [(None, 1, 64), (Non 49408       embedding_1[0][0]                \n",
            "                                                                 lstm_2[0][1]                     \n",
            "                                                                 lstm_2[0][2]                     \n",
            "__________________________________________________________________________________________________\n",
            "dense_12 (Dense)                (None, 1, 4)         260         lstm_3[0][0]                     \n",
            "==================================================================================================\n",
            "Total params: 3,005,316\n",
            "Trainable params: 3,005,316\n",
            "Non-trainable params: 0\n",
            "__________________________________________________________________________________________________\n"
          ]
        }
      ],
      "source": [
        "decoder.summary()"
      ]
    },
    {
      "cell_type": "code",
      "execution_count": 121,
      "metadata": {
        "id": "KovsieT5uDKo"
      },
      "outputs": [],
      "source": [
        "decoder.compile(\n",
        "    optimizer=tf.keras.optimizers.Adam(learning_rate=0.0005),\n",
        "    loss=tf.keras.losses.SparseCategoricalCrossentropy(),\n",
        "    metrics=[tf.keras.metrics.SparseCategoricalAccuracy()])"
      ]
    },
    {
      "cell_type": "code",
      "execution_count": 122,
      "metadata": {
        "colab": {
          "base_uri": "https://localhost:8080/",
          "height": 466
        },
        "id": "f6YMEqmvf-09",
        "outputId": "7d119b65-3276-437f-a89e-5a51388bfccf"
      },
      "outputs": [
        {
          "data": {
            "image/png": "[encoded data removed]",
            "text/plain": [
              "<IPython.core.display.Image object>"
            ]
          },
          "execution_count": 122,
          "metadata": {},
          "output_type": "execute_result"
        }
      ],
      "source": [
        "tf.keras.utils.plot_model(\n",
        "    decoder, show_shapes=False, show_layer_names=True\n",
        ")"
      ]
    },
    {
      "cell_type": "code",
      "execution_count": 123,
      "metadata": {
        "colab": {
          "base_uri": "https://localhost:8080/",
          "height": 1000
        },
        "id": "FJBFfk0VuDKo",
        "outputId": "ee981f0b-4f60-4d82-d6f0-da3d8ef9f3e6"
      },
      "outputs": [
        {
          "name": "stdout",
          "output_type": "stream",
          "text": [
            "Epoch 1/20\n",
            "191/191 [==============================] - 12s 44ms/step - loss: 0.7445 - sparse_categorical_accuracy: 0.5680 - val_loss: 0.6303 - val_sparse_categorical_accuracy: 0.6835\n",
            "Epoch 2/20\n",
            "191/191 [==============================] - 7s 39ms/step - loss: 0.5508 - sparse_categorical_accuracy: 0.7361 - val_loss: 0.5280 - val_sparse_categorical_accuracy: 0.7485\n",
            "Epoch 3/20\n",
            "191/191 [==============================] - 8s 40ms/step - loss: 0.5007 - sparse_categorical_accuracy: 0.7706 - val_loss: 0.5245 - val_sparse_categorical_accuracy: 0.7492\n",
            "Epoch 4/20\n",
            "191/191 [==============================] - 8s 40ms/step - loss: 0.4965 - sparse_categorical_accuracy: 0.7744 - val_loss: 0.5412 - val_sparse_categorical_accuracy: 0.7485\n",
            "Epoch 5/20\n",
            "191/191 [==============================] - 8s 41ms/step - loss: 0.4848 - sparse_categorical_accuracy: 0.7816 - val_loss: 0.5146 - val_sparse_categorical_accuracy: 0.7557\n",
            "Epoch 6/20\n",
            "191/191 [==============================] - 8s 40ms/step - loss: 0.4793 - sparse_categorical_accuracy: 0.7821 - val_loss: 0.5161 - val_sparse_categorical_accuracy: 0.7571\n",
            "Epoch 7/20\n",
            "191/191 [==============================] - 8s 40ms/step - loss: 0.4735 - sparse_categorical_accuracy: 0.7867 - val_loss: 0.5307 - val_sparse_categorical_accuracy: 0.7466\n",
            "Epoch 8/20\n",
            "191/191 [==============================] - 8s 40ms/step - loss: 0.4718 - sparse_categorical_accuracy: 0.7857 - val_loss: 0.5123 - val_sparse_categorical_accuracy: 0.7603\n",
            "Epoch 9/20\n",
            "191/191 [==============================] - 8s 41ms/step - loss: 0.4682 - sparse_categorical_accuracy: 0.7880 - val_loss: 0.5413 - val_sparse_categorical_accuracy: 0.7374\n",
            "Epoch 10/20\n",
            "191/191 [==============================] - 8s 40ms/step - loss: 0.4641 - sparse_categorical_accuracy: 0.7897 - val_loss: 0.5187 - val_sparse_categorical_accuracy: 0.7505\n",
            "Epoch 11/20\n",
            "191/191 [==============================] - 8s 41ms/step - loss: 0.4573 - sparse_categorical_accuracy: 0.7959 - val_loss: 0.5129 - val_sparse_categorical_accuracy: 0.7590\n",
            "Epoch 12/20\n",
            "191/191 [==============================] - 8s 40ms/step - loss: 0.4565 - sparse_categorical_accuracy: 0.7969 - val_loss: 0.5136 - val_sparse_categorical_accuracy: 0.7663\n",
            "Epoch 13/20\n",
            "191/191 [==============================] - 8s 42ms/step - loss: 0.4475 - sparse_categorical_accuracy: 0.8025 - val_loss: 0.5406 - val_sparse_categorical_accuracy: 0.7577\n",
            "Epoch 14/20\n",
            "191/191 [==============================] - 8s 41ms/step - loss: 0.4419 - sparse_categorical_accuracy: 0.8033 - val_loss: 0.5321 - val_sparse_categorical_accuracy: 0.7590\n",
            "Epoch 15/20\n",
            "191/191 [==============================] - 8s 40ms/step - loss: 0.4388 - sparse_categorical_accuracy: 0.8053 - val_loss: 0.5459 - val_sparse_categorical_accuracy: 0.7525\n",
            "Epoch 16/20\n",
            "191/191 [==============================] - 8s 40ms/step - loss: 0.4330 - sparse_categorical_accuracy: 0.8076 - val_loss: 0.5553 - val_sparse_categorical_accuracy: 0.7590\n",
            "Epoch 17/20\n",
            "191/191 [==============================] - 8s 40ms/step - loss: 0.4292 - sparse_categorical_accuracy: 0.8087 - val_loss: 0.5420 - val_sparse_categorical_accuracy: 0.7617\n",
            "Epoch 18/20\n",
            "191/191 [==============================] - 8s 40ms/step - loss: 0.4300 - sparse_categorical_accuracy: 0.8100 - val_loss: 0.5292 - val_sparse_categorical_accuracy: 0.7643\n",
            "Epoch 19/20\n",
            "191/191 [==============================] - 8s 40ms/step - loss: 0.4231 - sparse_categorical_accuracy: 0.8089 - val_loss: 0.5720 - val_sparse_categorical_accuracy: 0.7584\n",
            "Epoch 20/20\n",
            "191/191 [==============================] - 8s 40ms/step - loss: 0.4154 - sparse_categorical_accuracy: 0.8167 - val_loss: 0.5518 - val_sparse_categorical_accuracy: 0.7564\n"
          ]
        }
      ],
      "source": [
        "history_deco = decoder.fit(x=[text_train, teacher_train], y=target_train, epochs=20, \n",
        "                validation_data=([text_val, teacher_val], target_val))"
      ]
    },
    {
      "cell_type": "code",
      "execution_count": 124,
      "metadata": {},
      "outputs": [
        {
          "data": {
            "text/plain": [
              "dict_keys(['loss', 'sparse_categorical_accuracy', 'val_loss', 'val_sparse_categorical_accuracy'])"
            ]
          },
          "execution_count": 124,
          "metadata": {},
          "output_type": "execute_result"
        }
      ],
      "source": [
        "history_deco.history.keys()"
      ]
    },
    {
      "cell_type": "code",
      "execution_count": 125,
      "metadata": {},
      "outputs": [
        {
          "data": {
            "image/png": "[encoded data removed]",
            "text/plain": [
              "<Figure size 432x288 with 1 Axes>"
            ]
          },
          "metadata": {
            "needs_background": "light"
          },
          "output_type": "display_data"
        }
      ],
      "source": [
        "plt.plot(history_deco.history[\"loss\"], color=\"b\", label='train')\n",
        "plt.plot(history_deco.history[\"val_loss\"], color=\"r\", label='validation')\n",
        "plt.ylabel(\"Loss\")\n",
        "plt.xlabel(\"Epochs\")\n",
        "plt.legend()\n",
        "plt.show()"
      ]
    },
    {
      "cell_type": "code",
      "execution_count": 126,
      "metadata": {},
      "outputs": [
        {
          "data": {
            "image/png": "[encoded data removed]",
            "text/plain": [
              "<Figure size 432x288 with 1 Axes>"
            ]
          },
          "metadata": {
            "needs_background": "light"
          },
          "output_type": "display_data"
        }
      ],
      "source": [
        "plt.plot(history_deco.history['sparse_categorical_accuracy'], color=\"b\", label='train',)\n",
        "plt.plot(history_deco.history['val_sparse_categorical_accuracy'], color=\"r\", label='validation')\n",
        "plt.ylabel(\"accuracy\")\n",
        "plt.xlabel(\"Epochs\")\n",
        "plt.legend()\n",
        "plt.show()"
      ]
    },
    {
      "cell_type": "code",
      "execution_count": 127,
      "metadata": {},
      "outputs": [],
      "source": [
        "decoder.save(\"encoder-decoder.h5\")\n",
        "json.dump(decoder.history.history, open(\"encoder-decoder.json\", 'w'))\n",
        "\n",
        "encoder_decoder = json.load(open(\"encoder-decoder.json\", 'r'))"
      ]
    },
    {
      "cell_type": "code",
      "execution_count": 128,
      "metadata": {},
      "outputs": [
        {
          "name": "stdout",
          "output_type": "stream",
          "text": [
            "pred: [3]\n",
            "true: [2]\n",
            "\n",
            "\n",
            "pred: [3]\n",
            "true: [3]\n",
            "\n",
            "\n",
            "pred: [3]\n",
            "true: [2]\n",
            "\n",
            "\n",
            "pred: [3]\n",
            "true: [2]\n",
            "\n",
            "\n",
            "pred: [3]\n",
            "true: [3]\n",
            "\n",
            "\n",
            "pred: [3]\n",
            "true: [2]\n",
            "\n",
            "\n",
            "pred: [3]\n",
            "true: [3]\n",
            "\n",
            "\n",
            "pred: [3]\n",
            "true: [2]\n",
            "\n",
            "\n",
            "pred: [3]\n",
            "true: [3]\n",
            "\n",
            "\n",
            "pred: [3]\n",
            "true: [3]\n",
            "\n",
            "\n"
          ]
        }
      ],
      "source": [
        "enc_input = target_val\n",
        "#classic encoder input\n",
        "\n",
        "dec_input = tf.ones(shape=(len(target_val),1))\n",
        "# the first decoder input is the special token 0\n",
        "\n",
        "enc_out, state_h_inf, state_c_inf = encoder(enc_input)\n",
        "# we compute once and for all the encoder output and the encoder\n",
        "# h state and c state\n",
        "\n",
        "dec_state = [state_h_inf, state_c_inf]\n",
        "# The encoder h state and c state will serve as initial states for the\n",
        "# decoder\n",
        "\n",
        "pred = []  # we'll store the predictions in here\n",
        "\n",
        "# we loop over the expected length of the target, but actually the loop can run\n",
        "# for as many steps as we wish, which is the advantage of the encoder decoder\n",
        "# architecture\n",
        "for i in range(target_len):\n",
        "    dec_out, dec_state = decoder_inf([dec_input, dec_state])\n",
        "    # the decoder state is updated and we get the first prediction probability \n",
        "    # vector\n",
        "    decoded_out = tf.argmax(dec_out, axis=-1)\n",
        "    # we decode the softmax vector into and index\n",
        "    pred.append(decoded_out) # update the prediction list\n",
        "    dec_input = decoded_out # the previous pred will be used as the new input\n",
        "\n",
        "pred = tf.concat(pred, axis=-1).numpy()\n",
        "for i in range(10):\n",
        "    print(\"pred:\", pred[i,:])\n",
        "    print(\"true:\", target_val[i,:])\n",
        "    print(\"\\n\")"
      ]
    },
    {
      "cell_type": "code",
      "execution_count": 129,
      "metadata": {
        "id": "HVoRKwsriKNZ"
      },
      "outputs": [
        {
          "name": "stdout",
          "output_type": "stream",
          "text": [
            "true: 0\n",
            "pred 1\n",
            "\n",
            "\n",
            "true: 1\n",
            "pred 1\n",
            "\n",
            "\n",
            "true: 0\n",
            "pred 1\n",
            "\n",
            "\n",
            "true: 0\n",
            "pred 1\n",
            "\n",
            "\n",
            "true: 1\n",
            "pred 1\n",
            "\n",
            "\n",
            "true: 0\n",
            "pred 1\n",
            "\n",
            "\n",
            "true: 1\n",
            "pred 1\n",
            "\n",
            "\n",
            "true: 0\n",
            "pred 1\n",
            "\n",
            "\n",
            "true: 1\n",
            "pred 1\n",
            "\n",
            "\n",
            "true: 1\n",
            "pred 1\n",
            "\n",
            "\n"
          ]
        }
      ],
      "source": [
        "y_sample = tokenizer_target.sequences_to_texts(target_val)[:10]\n",
        "pred_sample = tokenizer_target.sequences_to_texts(pred)[:10]\n",
        "\n",
        "for i, j in zip(y_sample,pred_sample):\n",
        "    print(\"true:\", i)\n",
        "    print(\"pred\", j)\n",
        "    print(\"\\n\")"
      ]
    },
    {
      "cell_type": "markdown",
      "metadata": {
        "id": "G7omyLK_kVHF"
      },
      "source": [
        "## Attention is All You Need"
      ]
    },
    {
      "cell_type": "code",
      "execution_count": 130,
      "metadata": {},
      "outputs": [
        {
          "data": {
            "text/html": [
              "<div><div id=80922e2b-562a-4a92-af17-2186f58e4a56 style=\"display:none; background-color:#9D6CFF; color:white; width:200px; height:30px; padding-left:5px; border-radius:4px; flex-direction:row; justify-content:space-around; align-items:center;\" onmouseover=\"this.style.backgroundColor='#BA9BF8'\" onmouseout=\"this.style.backgroundColor='#9D6CFF'\" onclick=\"window.commands?.execute('create-mitosheet-from-dataframe-output');\">See Full Dataframe in Mito</div> <script> if (window.commands.hasCommand('create-mitosheet-from-dataframe-output')) document.getElementById('80922e2b-562a-4a92-af17-2186f58e4a56').style.display = 'flex' </script> <table border=\"1\" class=\"dataframe\">\n",
              "  <thead>\n",
              "    <tr style=\"text-align: right;\">\n",
              "      <th></th>\n",
              "      <th>text</th>\n",
              "      <th>target</th>\n",
              "    </tr>\n",
              "  </thead>\n",
              "  <tbody>\n",
              "    <tr>\n",
              "      <th>0</th>\n",
              "      <td>Our Deeds are the Reason of this #earthquake May ALLAH Forgive us all</td>\n",
              "      <td>1</td>\n",
              "    </tr>\n",
              "    <tr>\n",
              "      <th>1</th>\n",
              "      <td>Forest fire near La Ronge Sask. Canada</td>\n",
              "      <td>1</td>\n",
              "    </tr>\n",
              "    <tr>\n",
              "      <th>2</th>\n",
              "      <td>All residents asked to 'shelter in place' are being notified by officers. No other evacuation or shelter in place orders are expected</td>\n",
              "      <td>1</td>\n",
              "    </tr>\n",
              "    <tr>\n",
              "      <th>3</th>\n",
              "      <td>13,000 people receive #wildfires evacuation orders in California</td>\n",
              "      <td>1</td>\n",
              "    </tr>\n",
              "    <tr>\n",
              "      <th>4</th>\n",
              "      <td>Just got sent this photo from Ruby #Alaska as smoke from #wildfires pours into a school</td>\n",
              "      <td>1</td>\n",
              "    </tr>\n",
              "  </tbody>\n",
              "</table></div>"
            ],
            "text/plain": [
              "                                                text target\n",
              "0  Our Deeds are the Reason of this #earthquake M...      1\n",
              "1             Forest fire near La Ronge Sask. Canada      1\n",
              "2  All residents asked to 'shelter in place' are ...      1\n",
              "3  13,000 people receive #wildfires evacuation or...      1\n",
              "4  Just got sent this photo from Ruby #Alaska as ...      1"
            ]
          },
          "execution_count": 130,
          "metadata": {},
          "output_type": "execute_result"
        }
      ],
      "source": [
        "url_train = \"https://raw.githubusercontent.com/huynam1012/Projet_jedha/main/train.csv\"\n",
        "train = pd.read_csv(url_train)\n",
        "train = train[[\"text\", \"target\"]]\n",
        "train[\"target\"] = train[\"target\"].astype(str)\n",
        "train.head(5)"
      ]
    },
    {
      "cell_type": "code",
      "execution_count": 131,
      "metadata": {},
      "outputs": [],
      "source": [
        "# Add a <start> and <end> token \n",
        "def begin_end_sentence(sentence):\n",
        "    sentence = \"<start> \"+ sentence + \" <end>\"\n",
        "    return sentence"
      ]
    },
    {
      "cell_type": "code",
      "execution_count": 132,
      "metadata": {},
      "outputs": [
        {
          "data": {
            "text/html": [
              "<div><div id=bb7b8f96-4afd-4d34-a4dd-4a4342202e35 style=\"display:none; background-color:#9D6CFF; color:white; width:200px; height:30px; padding-left:5px; border-radius:4px; flex-direction:row; justify-content:space-around; align-items:center;\" onmouseover=\"this.style.backgroundColor='#BA9BF8'\" onmouseout=\"this.style.backgroundColor='#9D6CFF'\" onclick=\"window.commands?.execute('create-mitosheet-from-dataframe-output');\">See Full Dataframe in Mito</div> <script> if (window.commands.hasCommand('create-mitosheet-from-dataframe-output')) document.getElementById('bb7b8f96-4afd-4d34-a4dd-4a4342202e35').style.display = 'flex' </script> <table border=\"1\" class=\"dataframe\">\n",
              "  <thead>\n",
              "    <tr style=\"text-align: right;\">\n",
              "      <th></th>\n",
              "      <th>text</th>\n",
              "      <th>target</th>\n",
              "    </tr>\n",
              "  </thead>\n",
              "  <tbody>\n",
              "    <tr>\n",
              "      <th>0</th>\n",
              "      <td>&lt;start&gt; Our Deeds are the Reason of this #earthquake May ALLAH Forgive us all &lt;end&gt;</td>\n",
              "      <td>&lt;start&gt; 1 &lt;end&gt;</td>\n",
              "    </tr>\n",
              "    <tr>\n",
              "      <th>1</th>\n",
              "      <td>&lt;start&gt; Forest fire near La Ronge Sask. Canada &lt;end&gt;</td>\n",
              "      <td>&lt;start&gt; 1 &lt;end&gt;</td>\n",
              "    </tr>\n",
              "    <tr>\n",
              "      <th>2</th>\n",
              "      <td>&lt;start&gt; All residents asked to 'shelter in place' are being notified by officers. No other evacuation or shelter in place orders are expected &lt;end&gt;</td>\n",
              "      <td>&lt;start&gt; 1 &lt;end&gt;</td>\n",
              "    </tr>\n",
              "    <tr>\n",
              "      <th>3</th>\n",
              "      <td>&lt;start&gt; 13,000 people receive #wildfires evacuation orders in California  &lt;end&gt;</td>\n",
              "      <td>&lt;start&gt; 1 &lt;end&gt;</td>\n",
              "    </tr>\n",
              "    <tr>\n",
              "      <th>4</th>\n",
              "      <td>&lt;start&gt; Just got sent this photo from Ruby #Alaska as smoke from #wildfires pours into a school  &lt;end&gt;</td>\n",
              "      <td>&lt;start&gt; 1 &lt;end&gt;</td>\n",
              "    </tr>\n",
              "  </tbody>\n",
              "</table></div>"
            ],
            "text/plain": [
              "                                                text           target\n",
              "0  <start> Our Deeds are the Reason of this #eart...  <start> 1 <end>\n",
              "1  <start> Forest fire near La Ronge Sask. Canada...  <start> 1 <end>\n",
              "2  <start> All residents asked to 'shelter in pla...  <start> 1 <end>\n",
              "3  <start> 13,000 people receive #wildfires evacu...  <start> 1 <end>\n",
              "4  <start> Just got sent this photo from Ruby #Al...  <start> 1 <end>"
            ]
          },
          "execution_count": 132,
          "metadata": {},
          "output_type": "execute_result"
        }
      ],
      "source": [
        "# Add <start> and <end> token\n",
        "train[\"text\"] = train[\"text\"].apply(lambda x: begin_end_sentence(x))\n",
        "train[\"target\"] = train[\"target\"].apply(lambda x: begin_end_sentence(x))\n",
        "train.head(5)"
      ]
    },
    {
      "cell_type": "code",
      "execution_count": 133,
      "metadata": {},
      "outputs": [],
      "source": [
        "# Import of each text and target\n",
        "import en_core_web_md\n",
        "nlp_text = en_core_web_md.load()\n",
        "nlp_target = en_core_web_md.load()"
      ]
    },
    {
      "cell_type": "code",
      "execution_count": 134,
      "metadata": {},
      "outputs": [],
      "source": [
        "# Add <start> & <end> special case\n",
        "from spacy.symbols import ORTH\n",
        "\n",
        "start_case = [{ORTH:\"<start>\"}]\n",
        "end_case = [{ORTH: \"<end>\"}]\n",
        "\n",
        "nlp_text.tokenizer.add_special_case(\"<start>\", start_case)\n",
        "nlp_text.tokenizer.add_special_case(\"<end>\", end_case)\n",
        "\n",
        "nlp_target.tokenizer.add_special_case(\"<start>\", start_case)\n",
        "nlp_target.tokenizer.add_special_case(\"<end>\", end_case)"
      ]
    },
    {
      "cell_type": "code",
      "execution_count": 135,
      "metadata": {},
      "outputs": [
        {
          "data": {
            "text/plain": [
              "'<start> Our Deeds are the Reason of this #earthquake May ALLAH Forgive us all <end>'"
            ]
          },
          "execution_count": 135,
          "metadata": {},
          "output_type": "execute_result"
        }
      ],
      "source": [
        "train[\"text\"].to_list()[0]"
      ]
    },
    {
      "cell_type": "code",
      "execution_count": 136,
      "metadata": {},
      "outputs": [],
      "source": [
        "text_corpus = \" \".join(train[\"text\"].to_list())\n",
        "target_corpus = \" \".join(train[\"target\"].to_list())"
      ]
    },
    {
      "cell_type": "code",
      "execution_count": 137,
      "metadata": {},
      "outputs": [
        {
          "data": {
            "text/plain": [
              "'<start> Our Deeds are the Reason of this #earthquake May ALLAH Forgive us all <end> <start> Forest f'"
            ]
          },
          "execution_count": 137,
          "metadata": {},
          "output_type": "execute_result"
        }
      ],
      "source": [
        "text_corpus[0:100]"
      ]
    },
    {
      "cell_type": "code",
      "execution_count": 138,
      "metadata": {},
      "outputs": [],
      "source": [
        "nlp_text.max_length = len(text_corpus)\n",
        "nlp_target.max_length = len(target_corpus)\n",
        "\n",
        "text_train = nlp_text(text_corpus)\n",
        "target_train = nlp_target(target_corpus)"
      ]
    },
    {
      "cell_type": "code",
      "execution_count": 139,
      "metadata": {},
      "outputs": [
        {
          "data": {
            "text/html": [
              "<div><div id=7c1660e6-e724-4344-af15-8c5ca1f5e794 style=\"display:none; background-color:#9D6CFF; color:white; width:200px; height:30px; padding-left:5px; border-radius:4px; flex-direction:row; justify-content:space-around; align-items:center;\" onmouseover=\"this.style.backgroundColor='#BA9BF8'\" onmouseout=\"this.style.backgroundColor='#9D6CFF'\" onclick=\"window.commands?.execute('create-mitosheet-from-dataframe-output');\">See Full Dataframe in Mito</div> <script> if (window.commands.hasCommand('create-mitosheet-from-dataframe-output')) document.getElementById('7c1660e6-e724-4344-af15-8c5ca1f5e794').style.display = 'flex' </script> <table border=\"1\" class=\"dataframe\">\n",
              "  <thead>\n",
              "    <tr style=\"text-align: right;\">\n",
              "      <th></th>\n",
              "      <th>text</th>\n",
              "      <th>target</th>\n",
              "      <th>text_tokens</th>\n",
              "      <th>target_tokens</th>\n",
              "    </tr>\n",
              "  </thead>\n",
              "  <tbody>\n",
              "    <tr>\n",
              "      <th>0</th>\n",
              "      <td>&lt;start&gt; Our Deeds are the Reason of this #earthquake May ALLAH Forgive us all &lt;end&gt;</td>\n",
              "      <td>&lt;start&gt; 1 &lt;end&gt;</td>\n",
              "      <td>(&lt;start&gt;, Our, Deeds, are, the, Reason, of, this, #, earthquake, May, ALLAH, Forgive, us, all, &lt;end&gt;)</td>\n",
              "      <td>(&lt;start&gt;, 1, &lt;end&gt;)</td>\n",
              "    </tr>\n",
              "    <tr>\n",
              "      <th>1</th>\n",
              "      <td>&lt;start&gt; Forest fire near La Ronge Sask. Canada &lt;end&gt;</td>\n",
              "      <td>&lt;start&gt; 1 &lt;end&gt;</td>\n",
              "      <td>(&lt;start&gt;, Forest, fire, near, La, Ronge, Sask, ., Canada, &lt;end&gt;)</td>\n",
              "      <td>(&lt;start&gt;, 1, &lt;end&gt;)</td>\n",
              "    </tr>\n",
              "    <tr>\n",
              "      <th>2</th>\n",
              "      <td>&lt;start&gt; All residents asked to 'shelter in place' are being notified by officers. No other evacuation or shelter in place orders are expected &lt;end&gt;</td>\n",
              "      <td>&lt;start&gt; 1 &lt;end&gt;</td>\n",
              "      <td>(&lt;start&gt;, All, residents, asked, to, ', shelter, in, place, ', are, being, notified, by, officers, ., No, other, evacuation, or, shelter, in, place, orders, are, expected, &lt;end&gt;)</td>\n",
              "      <td>(&lt;start&gt;, 1, &lt;end&gt;)</td>\n",
              "    </tr>\n",
              "    <tr>\n",
              "      <th>3</th>\n",
              "      <td>&lt;start&gt; 13,000 people receive #wildfires evacuation orders in California  &lt;end&gt;</td>\n",
              "      <td>&lt;start&gt; 1 &lt;end&gt;</td>\n",
              "      <td>(&lt;start&gt;, 13,000, people, receive, #, wildfires, evacuation, orders, in, California,  , &lt;end&gt;)</td>\n",
              "      <td>(&lt;start&gt;, 1, &lt;end&gt;)</td>\n",
              "    </tr>\n",
              "    <tr>\n",
              "      <th>4</th>\n",
              "      <td>&lt;start&gt; Just got sent this photo from Ruby #Alaska as smoke from #wildfires pours into a school  &lt;end&gt;</td>\n",
              "      <td>&lt;start&gt; 1 &lt;end&gt;</td>\n",
              "      <td>(&lt;start&gt;, Just, got, sent, this, photo, from, Ruby, #, Alaska, as, smoke, from, #, wildfires, pours, into, a, school,  , &lt;end&gt;)</td>\n",
              "      <td>(&lt;start&gt;, 1, &lt;end&gt;)</td>\n",
              "    </tr>\n",
              "  </tbody>\n",
              "</table></div>"
            ],
            "text/plain": [
              "                                                text           target  \\\n",
              "0  <start> Our Deeds are the Reason of this #eart...  <start> 1 <end>   \n",
              "1  <start> Forest fire near La Ronge Sask. Canada...  <start> 1 <end>   \n",
              "2  <start> All residents asked to 'shelter in pla...  <start> 1 <end>   \n",
              "3  <start> 13,000 people receive #wildfires evacu...  <start> 1 <end>   \n",
              "4  <start> Just got sent this photo from Ruby #Al...  <start> 1 <end>   \n",
              "\n",
              "                                         text_tokens        target_tokens  \n",
              "0  (<start>, Our, Deeds, are, the, Reason, of, th...  (<start>, 1, <end>)  \n",
              "1  (<start>, Forest, fire, near, La, Ronge, Sask,...  (<start>, 1, <end>)  \n",
              "2  (<start>, All, residents, asked, to, ', shelte...  (<start>, 1, <end>)  \n",
              "3  (<start>, 13,000, people, receive, #, wildfire...  (<start>, 1, <end>)  \n",
              "4  (<start>, Just, got, sent, this, photo, from, ...  (<start>, 1, <end>)  "
            ]
          },
          "execution_count": 139,
          "metadata": {},
          "output_type": "execute_result"
        }
      ],
      "source": [
        "# Tokenization of each sentence via spacy \n",
        "train[\"text_tokens\"] = train[\"text\"].apply(lambda x: nlp_text.tokenizer(x))\n",
        "train[\"target_tokens\"] = train[\"target\"].apply(lambda x: nlp_target.tokenizer(x))\n",
        "train.head(5)"
      ]
    },
    {
      "cell_type": "code",
      "execution_count": 140,
      "metadata": {},
      "outputs": [
        {
          "name": "stdout",
          "output_type": "stream",
          "text": [
            "4\n"
          ]
        }
      ],
      "source": [
        "# Creation of a set() that will take all the unique tokens from our keyword corpus\n",
        "target_tokens = [token.text for token in target_train]\n",
        "target_vocabulary_set= set(target_tokens)\n",
        "target_vocab_size = len(target_vocabulary_set)\n",
        "print(target_vocab_size)"
      ]
    },
    {
      "cell_type": "code",
      "execution_count": 141,
      "metadata": {},
      "outputs": [
        {
          "data": {
            "text/plain": [
              "['<start>', '1', '<end>', '<start>', '1']"
            ]
          },
          "execution_count": 141,
          "metadata": {},
          "output_type": "execute_result"
        }
      ],
      "source": [
        "target_tokens[:5]"
      ]
    },
    {
      "cell_type": "code",
      "execution_count": 142,
      "metadata": {},
      "outputs": [
        {
          "data": {
            "text/plain": [
              "['1', '0', '<end>', '<start>']"
            ]
          },
          "execution_count": 142,
          "metadata": {},
          "output_type": "execute_result"
        }
      ],
      "source": [
        "[word for word in target_vocabulary_set][:5]"
      ]
    },
    {
      "cell_type": "code",
      "execution_count": 143,
      "metadata": {},
      "outputs": [
        {
          "name": "stdout",
          "output_type": "stream",
          "text": [
            "26710\n"
          ]
        }
      ],
      "source": [
        "text_tokens = [token.text for token in text_train]\n",
        "text_vocabulary_set= set(text_tokens)\n",
        "text_vocab_size = len(text_vocabulary_set)\n",
        "print(text_vocab_size)"
      ]
    },
    {
      "cell_type": "code",
      "execution_count": 144,
      "metadata": {},
      "outputs": [],
      "source": [
        "# Creation of an id for each token\n",
        "all_target_tokens = {}\n",
        "for i,target_token in enumerate(target_vocabulary_set):\n",
        "    all_target_tokens[target_token] = i+1 # On prend à i+1 pour laisser la valeur 0 pour la création des padded_sequences\n",
        "\n",
        "all_text_tokens = {}\n",
        "for i, text_token in enumerate(text_vocabulary_set):\n",
        "    all_text_tokens[text_token] = i+1"
      ]
    },
    {
      "cell_type": "code",
      "execution_count": 145,
      "metadata": {},
      "outputs": [],
      "source": [
        "# Creation of functions that will create a vector of indices for each of the token sequences\n",
        "def target_tokens_to_index(tokens):\n",
        "    indices = []\n",
        "    for token in tokens:\n",
        "        indices.append(all_target_tokens[token.text])\n",
        "  \n",
        "    return indices\n",
        "\n",
        "def text_tokens_to_index(tokens):\n",
        "    indices = []\n",
        "    for token in tokens:\n",
        "        indices.append(all_text_tokens[token.text])\n",
        "    \n",
        "    return indices"
      ]
    },
    {
      "cell_type": "code",
      "execution_count": 146,
      "metadata": {},
      "outputs": [
        {
          "data": {
            "text/html": [
              "<div><div id=cb35ff50-ec74-4d7a-aa2a-87d7bd42cd5c style=\"display:none; background-color:#9D6CFF; color:white; width:200px; height:30px; padding-left:5px; border-radius:4px; flex-direction:row; justify-content:space-around; align-items:center;\" onmouseover=\"this.style.backgroundColor='#BA9BF8'\" onmouseout=\"this.style.backgroundColor='#9D6CFF'\" onclick=\"window.commands?.execute('create-mitosheet-from-dataframe-output');\">See Full Dataframe in Mito</div> <script> if (window.commands.hasCommand('create-mitosheet-from-dataframe-output')) document.getElementById('cb35ff50-ec74-4d7a-aa2a-87d7bd42cd5c').style.display = 'flex' </script> <table border=\"1\" class=\"dataframe\">\n",
              "  <thead>\n",
              "    <tr style=\"text-align: right;\">\n",
              "      <th></th>\n",
              "      <th>text</th>\n",
              "      <th>target</th>\n",
              "      <th>text_tokens</th>\n",
              "      <th>target_tokens</th>\n",
              "      <th>text_indices</th>\n",
              "      <th>target_indices</th>\n",
              "    </tr>\n",
              "  </thead>\n",
              "  <tbody>\n",
              "    <tr>\n",
              "      <th>0</th>\n",
              "      <td>&lt;start&gt; Our Deeds are the Reason of this #earthquake May ALLAH Forgive us all &lt;end&gt;</td>\n",
              "      <td>&lt;start&gt; 1 &lt;end&gt;</td>\n",
              "      <td>(&lt;start&gt;, Our, Deeds, are, the, Reason, of, this, #, earthquake, May, ALLAH, Forgive, us, all, &lt;end&gt;)</td>\n",
              "      <td>(&lt;start&gt;, 1, &lt;end&gt;)</td>\n",
              "      <td>[4307, 11818, 12676, 21426, 13661, 2353, 24454, 26219, 4308, 10274, 26325, 14045, 16294, 7049, 25620, 22229]</td>\n",
              "      <td>[4, 1, 3]</td>\n",
              "    </tr>\n",
              "    <tr>\n",
              "      <th>1</th>\n",
              "      <td>&lt;start&gt; Forest fire near La Ronge Sask. Canada &lt;end&gt;</td>\n",
              "      <td>&lt;start&gt; 1 &lt;end&gt;</td>\n",
              "      <td>(&lt;start&gt;, Forest, fire, near, La, Ronge, Sask, ., Canada, &lt;end&gt;)</td>\n",
              "      <td>(&lt;start&gt;, 1, &lt;end&gt;)</td>\n",
              "      <td>[4307, 6196, 21655, 2105, 16543, 25204, 12277, 21933, 21770, 22229]</td>\n",
              "      <td>[4, 1, 3]</td>\n",
              "    </tr>\n",
              "    <tr>\n",
              "      <th>2</th>\n",
              "      <td>&lt;start&gt; All residents asked to 'shelter in place' are being notified by officers. No other evacuation or shelter in place orders are expected &lt;end&gt;</td>\n",
              "      <td>&lt;start&gt; 1 &lt;end&gt;</td>\n",
              "      <td>(&lt;start&gt;, All, residents, asked, to, ', shelter, in, place, ', are, being, notified, by, officers, ., No, other, evacuation, or, shelter, in, place, orders, are, expected, &lt;end&gt;)</td>\n",
              "      <td>(&lt;start&gt;, 1, &lt;end&gt;)</td>\n",
              "      <td>[4307, 7190, 1509, 10931, 2935, 14498, 18011, 19256, 14093, 14498, 21426, 5584, 21676, 10743, 23719, 21933, 12859, 26446, 4220, 14069, 18011, 19256, 14093, 16822, 21426, 3514, 22229]</td>\n",
              "      <td>[4, 1, 3]</td>\n",
              "    </tr>\n",
              "    <tr>\n",
              "      <th>3</th>\n",
              "      <td>&lt;start&gt; 13,000 people receive #wildfires evacuation orders in California  &lt;end&gt;</td>\n",
              "      <td>&lt;start&gt; 1 &lt;end&gt;</td>\n",
              "      <td>(&lt;start&gt;, 13,000, people, receive, #, wildfires, evacuation, orders, in, California,  , &lt;end&gt;)</td>\n",
              "      <td>(&lt;start&gt;, 1, &lt;end&gt;)</td>\n",
              "      <td>[4307, 10850, 18575, 4544, 4308, 10535, 4220, 16822, 19256, 8501, 12805, 22229]</td>\n",
              "      <td>[4, 1, 3]</td>\n",
              "    </tr>\n",
              "    <tr>\n",
              "      <th>4</th>\n",
              "      <td>&lt;start&gt; Just got sent this photo from Ruby #Alaska as smoke from #wildfires pours into a school  &lt;end&gt;</td>\n",
              "      <td>&lt;start&gt; 1 &lt;end&gt;</td>\n",
              "      <td>(&lt;start&gt;, Just, got, sent, this, photo, from, Ruby, #, Alaska, as, smoke, from, #, wildfires, pours, into, a, school,  , &lt;end&gt;)</td>\n",
              "      <td>(&lt;start&gt;, 1, &lt;end&gt;)</td>\n",
              "      <td>[4307, 22883, 6720, 24347, 26219, 555, 12106, 6210, 4308, 1605, 24037, 26273, 12106, 4308, 10535, 622, 17946, 10364, 14371, 12805, 22229]</td>\n",
              "      <td>[4, 1, 3]</td>\n",
              "    </tr>\n",
              "  </tbody>\n",
              "</table></div>"
            ],
            "text/plain": [
              "                                                text           target  \\\n",
              "0  <start> Our Deeds are the Reason of this #eart...  <start> 1 <end>   \n",
              "1  <start> Forest fire near La Ronge Sask. Canada...  <start> 1 <end>   \n",
              "2  <start> All residents asked to 'shelter in pla...  <start> 1 <end>   \n",
              "3  <start> 13,000 people receive #wildfires evacu...  <start> 1 <end>   \n",
              "4  <start> Just got sent this photo from Ruby #Al...  <start> 1 <end>   \n",
              "\n",
              "                                         text_tokens        target_tokens  \\\n",
              "0  (<start>, Our, Deeds, are, the, Reason, of, th...  (<start>, 1, <end>)   \n",
              "1  (<start>, Forest, fire, near, La, Ronge, Sask,...  (<start>, 1, <end>)   \n",
              "2  (<start>, All, residents, asked, to, ', shelte...  (<start>, 1, <end>)   \n",
              "3  (<start>, 13,000, people, receive, #, wildfire...  (<start>, 1, <end>)   \n",
              "4  (<start>, Just, got, sent, this, photo, from, ...  (<start>, 1, <end>)   \n",
              "\n",
              "                                        text_indices target_indices  \n",
              "0  [4307, 11818, 12676, 21426, 13661, 2353, 24454...      [4, 1, 3]  \n",
              "1  [4307, 6196, 21655, 2105, 16543, 25204, 12277,...      [4, 1, 3]  \n",
              "2  [4307, 7190, 1509, 10931, 2935, 14498, 18011, ...      [4, 1, 3]  \n",
              "3  [4307, 10850, 18575, 4544, 4308, 10535, 4220, ...      [4, 1, 3]  \n",
              "4  [4307, 22883, 6720, 24347, 26219, 555, 12106, ...      [4, 1, 3]  "
            ]
          },
          "execution_count": 146,
          "metadata": {},
          "output_type": "execute_result"
        }
      ],
      "source": [
        "# Transformation of tokens into indices\n",
        "train[\"text_indices\"] = train[\"text_tokens\"].apply(lambda x: text_tokens_to_index(x))\n",
        "train[\"target_indices\"] = train[\"target_tokens\"].apply(lambda x: target_tokens_to_index(x))\n",
        "train.head(5)"
      ]
    },
    {
      "cell_type": "code",
      "execution_count": 147,
      "metadata": {},
      "outputs": [],
      "source": [
        "# Creating a function that will count the maximum length of a sentence\n",
        "def max_len(lines):\n",
        "    return max(len(line) for line in lines)"
      ]
    },
    {
      "cell_type": "code",
      "execution_count": 148,
      "metadata": {},
      "outputs": [],
      "source": [
        "# Application of the function on text and target tokens \n",
        "text_max_len = max_len(train[\"text_indices\"].to_list())\n",
        "target_max_len = max_len(train[\"target_indices\"].to_list())"
      ]
    },
    {
      "cell_type": "code",
      "execution_count": 149,
      "metadata": {},
      "outputs": [
        {
          "name": "stdout",
          "output_type": "stream",
          "text": [
            "81\n",
            "3\n"
          ]
        }
      ],
      "source": [
        "print(text_max_len)\n",
        "print(target_max_len)"
      ]
    },
    {
      "cell_type": "code",
      "execution_count": 150,
      "metadata": {},
      "outputs": [
        {
          "name": "stdout",
          "output_type": "stream",
          "text": [
            "[[ 4307 11818 12676 ...     0     0     0]\n",
            " [ 4307  6196 21655 ...     0     0     0]\n",
            " [ 4307  7190  1509 ...     0     0     0]\n",
            " ...\n",
            " [ 4307 16974 26119 ...     0     0     0]\n",
            " [ 4307 20206  1639 ...     0     0     0]\n",
            " [ 4307  5964  7024 ...     0     0     0]]\n",
            "[[4 1 3]\n",
            " [4 1 3]\n",
            " [4 1 3]\n",
            " ...\n",
            " [4 1 3]\n",
            " [4 1 3]\n",
            " [4 1 3]]\n"
          ]
        }
      ],
      "source": [
        "# Use of Keras to create token sequences of the same length\n",
        "padded_text_indices = tf.keras.preprocessing.sequence.pad_sequences(train[\"text_indices\"], maxlen=text_max_len, padding=\"post\")\n",
        "padded_target_indices = tf.keras.preprocessing.sequence.pad_sequences(train[\"target_indices\"], maxlen=target_max_len, padding=\"post\")\n",
        "\n",
        "print(padded_text_indices)\n",
        "print(padded_target_indices)"
      ]
    },
    {
      "cell_type": "code",
      "execution_count": 151,
      "metadata": {},
      "outputs": [],
      "source": [
        "# Creation of variables that we will reuse for our models\n",
        "BATCH_SIZE = 64\n",
        "TAKE_SIZE = int(0.8*len(train)/BATCH_SIZE)\n",
        "BUFFER_SIZE = TAKE_SIZE * BATCH_SIZE\n",
        "steps_per_epoch = TAKE_SIZE\n",
        "embedding_dim = 256\n",
        "units = 1024\n",
        "vocab_inp_size = text_vocab_size\n",
        "vocab_tar_size = target_vocab_size"
      ]
    },
    {
      "cell_type": "code",
      "execution_count": 152,
      "metadata": {},
      "outputs": [],
      "source": [
        "# Create a tensorflow dataset complet\n",
        "tf_ds = tf.data.Dataset.from_tensor_slices((padded_text_indices, padded_target_indices))\n",
        "# Shuffle & Batch\n",
        "tf_ds = tf_ds.shuffle(BUFFER_SIZE).batch(BATCH_SIZE, drop_remainder=True)"
      ]
    },
    {
      "cell_type": "code",
      "execution_count": 153,
      "metadata": {},
      "outputs": [],
      "source": [
        "# Train Validation Split\n",
        "train_data = tf_ds.take(TAKE_SIZE)\n",
        "val_data = tf_ds.skip(TAKE_SIZE)"
      ]
    },
    {
      "cell_type": "code",
      "execution_count": 154,
      "metadata": {},
      "outputs": [
        {
          "name": "stdout",
          "output_type": "stream",
          "text": [
            "(64, 81)\n",
            "(64, 3)\n"
          ]
        }
      ],
      "source": [
        "input_text, output_text = next(iter(train_data))\n",
        "print(input_text.numpy().shape)\n",
        "print(output_text.numpy().shape)"
      ]
    },
    {
      "cell_type": "code",
      "execution_count": 155,
      "metadata": {},
      "outputs": [],
      "source": [
        "# Encode\n",
        "class Encoder(tf.keras.Model):\n",
        "    def __init__(self, vocab_size, embedding_dim, enc_units, batch_sz):\n",
        "        super(Encoder, self).__init__()\n",
        "        self.batch_sz = batch_sz\n",
        "        self.enc_units = enc_units\n",
        "        self.embedding = tf.keras.layers.Embedding(vocab_size, embedding_dim)\n",
        "        self.gru = tf.keras.layers.GRU(self.enc_units,\n",
        "                                    return_sequences=True,\n",
        "                                    return_state=True,\n",
        "                                    recurrent_initializer='glorot_uniform')\n",
        "\n",
        "    def call(self, x, hidden):\n",
        "        x = self.embedding(x)\n",
        "        output, state = self.gru(x, initial_state = hidden)\n",
        "        return output, state\n",
        "\n",
        "    def initialize_hidden_state(self):\n",
        "        return tf.zeros((self.batch_sz, self.enc_units))"
      ]
    },
    {
      "cell_type": "code",
      "execution_count": 156,
      "metadata": {},
      "outputs": [
        {
          "name": "stdout",
          "output_type": "stream",
          "text": [
            "Encoder output shape: (batch size, sequence length, units) (64, 81, 1024)\n",
            "Encoder Hidden state shape: (batch size, units) (64, 1024)\n"
          ]
        }
      ],
      "source": [
        "encoder = Encoder(vocab_inp_size +1, embedding_dim, units, BATCH_SIZE)\n",
        "\n",
        "# Sample output\n",
        "sample_hidden = encoder.initialize_hidden_state()\n",
        "sample_output, sample_hidden = encoder(input_text, sample_hidden)\n",
        "print ('Encoder output shape: (batch size, sequence length, units) {}'.format(sample_output.shape))\n",
        "print ('Encoder Hidden state shape: (batch size, units) {}'.format(sample_hidden.shape))"
      ]
    },
    {
      "cell_type": "code",
      "execution_count": 157,
      "metadata": {},
      "outputs": [],
      "source": [
        "class BahdanauAttention(tf.keras.layers.Layer):\n",
        "    def __init__(self, units):\n",
        "        super(BahdanauAttention, self).__init__()\n",
        "        self.W1 = tf.keras.layers.Dense(units)\n",
        "        self.W2 = tf.keras.layers.Dense(units)\n",
        "        self.V = tf.keras.layers.Dense(1)\n",
        "\n",
        "    def call(self, query, values):\n",
        "        # hidden shape == (batch_size, hidden size)\n",
        "        # hidden_with_time_axis shape == (batch_size, 1, hidden size)\n",
        "        # This is done to calculate our \"attention\" score\n",
        "        hidden_with_time_axis = tf.expand_dims(query, 1)\n",
        "\n",
        "        # score shape == (batch_size, max_length, 1)\n",
        "        # We get 1 on the last axis because we apply the score to self.V\n",
        "        # The shape of the tensor before applying self.V is (batch_size, max_length, units)\n",
        "        score = self.V(tf.nn.tanh(\n",
        "            self.W1(values) + self.W2(hidden_with_time_axis)))\n",
        "\n",
        "        # attention_weights shape == (batch_size, max_length, 1)\n",
        "        attention_weights = tf.nn.softmax(score, axis=1)\n",
        "\n",
        "        # context_vector shape after sum == (batch_size, hidden_size)\n",
        "        context_vector = attention_weights * values\n",
        "        context_vector = tf.reduce_sum(context_vector, axis=1)\n",
        "\n",
        "        return context_vector, attention_weights"
      ]
    },
    {
      "cell_type": "code",
      "execution_count": 158,
      "metadata": {},
      "outputs": [
        {
          "name": "stdout",
          "output_type": "stream",
          "text": [
            "Attention result shape: (batch size, units) (64, 1024)\n",
            "Attention weights shape: (batch_size, sequence_length, 1) (64, 81, 1)\n"
          ]
        }
      ],
      "source": [
        "attention_layer = BahdanauAttention(10)\n",
        "attention_result, attention_weights = attention_layer(sample_hidden, sample_output)\n",
        "\n",
        "print(\"Attention result shape: (batch size, units) {}\".format(attention_result.shape))\n",
        "print(\"Attention weights shape: (batch_size, sequence_length, 1) {}\".format(attention_weights.shape))"
      ]
    },
    {
      "cell_type": "code",
      "execution_count": 159,
      "metadata": {},
      "outputs": [],
      "source": [
        "class Decoder(tf.keras.Model):\n",
        "    def __init__(self, vocab_size, embedding_dim, dec_units, batch_sz):\n",
        "        super(Decoder, self).__init__()\n",
        "        self.batch_sz = batch_sz\n",
        "        self.dec_units = dec_units\n",
        "        self.embedding = tf.keras.layers.Embedding(vocab_size, embedding_dim)\n",
        "        self.gru = tf.keras.layers.GRU(self.dec_units,\n",
        "                                    return_sequences=True,\n",
        "                                    return_state=True,\n",
        "                                    recurrent_initializer='glorot_uniform')\n",
        "        self.fc = tf.keras.layers.Dense(vocab_size)\n",
        "\n",
        "        # Used for attention\n",
        "        self.attention = BahdanauAttention(self.dec_units)\n",
        "\n",
        "    def call(self, x, hidden, enc_output):\n",
        "        # enc_output shape == (batch_size, max_length, hidden_size)\n",
        "        context_vector, attention_weights = self.attention(hidden, enc_output)\n",
        "\n",
        "        # x shape after embedding == (batch_size, 1, embedding_dim)\n",
        "        x = self.embedding(x)\n",
        "\n",
        "        # x shape after concatenate == (batch_size, 1, embedding_dim + hidden_size)\n",
        "        x = tf.concat([tf.expand_dims(context_vector, 1), x], axis=-1)\n",
        "\n",
        "        # Passing from the concatenated vector to the GRU layer\n",
        "        output, state = self.gru(x)\n",
        "\n",
        "        # output shape == (batch_size * 1, hidden_size)\n",
        "        output = tf.reshape(output, (-1, output.shape[2]))\n",
        "\n",
        "        # output shape == (batch_size, vocab)\n",
        "        x = self.fc(output)\n",
        "\n",
        "        return x, state, attention_weights"
      ]
    },
    {
      "cell_type": "code",
      "execution_count": 160,
      "metadata": {},
      "outputs": [
        {
          "name": "stdout",
          "output_type": "stream",
          "text": [
            "Decoder output shape: (batch_size, vocab size) (64, 5)\n"
          ]
        }
      ],
      "source": [
        "decoder = Decoder(vocab_tar_size + 1, embedding_dim, units, BATCH_SIZE)\n",
        "\n",
        "sample_decoder_output, _, _ = decoder(tf.random.uniform((BATCH_SIZE, 1)),\n",
        "                                      sample_hidden, sample_output)\n",
        "\n",
        "print ('Decoder output shape: (batch_size, vocab size) {}'.format(sample_decoder_output.shape))"
      ]
    },
    {
      "cell_type": "code",
      "execution_count": 161,
      "metadata": {},
      "outputs": [
        {
          "data": {
            "text/plain": [
              "<tf.Tensor: shape=(64, 5), dtype=float32, numpy=\n",
              "array([[-9.96324234e-03,  1.27057526e-02,  5.10069600e-04,\n",
              "         1.50917312e-02,  1.62083469e-03],\n",
              "       [-1.03315040e-02,  1.21188425e-02,  7.89092854e-04,\n",
              "         1.51111931e-02,  1.04839820e-03],\n",
              "       [-8.49365722e-03,  1.26076378e-02,  7.47433340e-04,\n",
              "         1.52824968e-02,  2.33889185e-03],\n",
              "       [-1.04139177e-02,  1.23249730e-02,  3.21208034e-04,\n",
              "         1.51927499e-02,  1.40437111e-03],\n",
              "       [-8.70588608e-03,  1.27742933e-02,  6.30964874e-04,\n",
              "         1.38679435e-02,  2.72932136e-03],\n",
              "       [-8.71530082e-03,  1.22740902e-02,  1.51066226e-04,\n",
              "         1.48227736e-02,  2.09891843e-03],\n",
              "       [-8.29650462e-03,  1.23109296e-02,  2.66390853e-05,\n",
              "         1.47496313e-02,  3.45280208e-03],\n",
              "       [-9.01066698e-03,  1.29633304e-02,  9.51982278e-04,\n",
              "         1.49153778e-02,  1.61468051e-03],\n",
              "       [-1.05402926e-02,  1.25548514e-02,  9.90349683e-04,\n",
              "         1.54941920e-02,  6.94898888e-04],\n",
              "       [-8.75657424e-03,  1.22655667e-02,  8.23220587e-04,\n",
              "         1.46899000e-02,  1.91178080e-03],\n",
              "       [-1.02644050e-02,  1.26544554e-02,  1.34421827e-03,\n",
              "         1.51150748e-02,  1.02591095e-03],\n",
              "       [-9.25494265e-03,  1.26172630e-02,  1.09190983e-03,\n",
              "         1.50550734e-02,  1.18859718e-03],\n",
              "       [-1.19244177e-02,  1.24482708e-02,  1.10568816e-03,\n",
              "         1.57485344e-02,  2.38542911e-04],\n",
              "       [-9.46515426e-03,  1.22160753e-02,  1.23397680e-03,\n",
              "         1.43991522e-02,  1.52335409e-03],\n",
              "       [-8.86302814e-03,  1.23353936e-02,  3.02195898e-04,\n",
              "         1.44816348e-02,  2.37278454e-03],\n",
              "       [-1.00900820e-02,  1.21567873e-02,  7.28121377e-04,\n",
              "         1.51067041e-02,  1.12403231e-03],\n",
              "       [-9.81648359e-03,  1.24087688e-02,  9.04940534e-04,\n",
              "         1.49886589e-02,  1.68371992e-03],\n",
              "       [-9.72549058e-03,  1.27886888e-02,  6.05662353e-04,\n",
              "         1.47670526e-02,  1.48496171e-03],\n",
              "       [-9.39084217e-03,  1.22184046e-02,  6.54066389e-04,\n",
              "         1.52248470e-02,  2.18169205e-03],\n",
              "       [-1.01817604e-02,  1.22127980e-02,  1.26235944e-03,\n",
              "         1.49501925e-02,  1.29146036e-03],\n",
              "       [-1.10698575e-02,  1.21263172e-02,  1.18228747e-03,\n",
              "         1.52660487e-02,  1.13410968e-03],\n",
              "       [-1.03640920e-02,  1.23678725e-02,  7.87405996e-04,\n",
              "         1.49910264e-02,  1.24195218e-03],\n",
              "       [-1.02042612e-02,  1.21790320e-02,  7.29324878e-04,\n",
              "         1.53942797e-02,  4.60361131e-04],\n",
              "       [-1.09710917e-02,  1.28825186e-02,  7.33871013e-04,\n",
              "         1.55022293e-02,  9.56797041e-04],\n",
              "       [-1.00986920e-02,  1.30404541e-02,  7.77263776e-04,\n",
              "         1.56445354e-02,  1.12568494e-03],\n",
              "       [-9.10511240e-03,  1.26742637e-02,  1.28182466e-03,\n",
              "         1.50761520e-02,  1.43670756e-03],\n",
              "       [-1.20652011e-02,  1.25400648e-02,  1.23590650e-03,\n",
              "         1.63482986e-02,  1.23392791e-04],\n",
              "       [-1.10219941e-02,  1.24990456e-02,  9.39246849e-04,\n",
              "         1.57380700e-02,  8.15050676e-04],\n",
              "       [-1.15400013e-02,  1.26159629e-02,  1.21268001e-03,\n",
              "         1.55842789e-02,  3.30917537e-05],\n",
              "       [-9.83843207e-03,  1.22903977e-02,  8.43181508e-04,\n",
              "         1.46676619e-02,  9.39155463e-04],\n",
              "       [-1.03959246e-02,  1.19379535e-02,  4.36000992e-04,\n",
              "         1.53600024e-02,  1.39116868e-03],\n",
              "       [-1.10686822e-02,  1.22793317e-02,  9.86799248e-04,\n",
              "         1.55816516e-02,  5.18593471e-04],\n",
              "       [-1.03063034e-02,  1.25489533e-02,  9.60374484e-04,\n",
              "         1.54462717e-02,  1.74934976e-03],\n",
              "       [-1.13719907e-02,  1.22564984e-02,  9.56786796e-04,\n",
              "         1.56417433e-02,  1.16981100e-03],\n",
              "       [-8.65218788e-03,  1.23074083e-02,  6.42842613e-04,\n",
              "         1.51965898e-02,  1.89172942e-03],\n",
              "       [-9.28908493e-03,  1.21955909e-02,  5.76917082e-04,\n",
              "         1.43234842e-02,  1.63998595e-03],\n",
              "       [-1.13132577e-02,  1.24761183e-02,  1.18950405e-03,\n",
              "         1.56217990e-02,  5.47041185e-04],\n",
              "       [-1.08353375e-02,  1.24287196e-02,  9.18267411e-04,\n",
              "         1.56684779e-02,  1.13032525e-03],\n",
              "       [-1.10869659e-02,  1.24965776e-02,  9.73526621e-04,\n",
              "         1.60589404e-02,  7.66910613e-04],\n",
              "       [-8.58024508e-03,  1.20436409e-02,  6.97045005e-04,\n",
              "         1.44589180e-02,  1.54069019e-03],\n",
              "       [-1.06011033e-02,  1.24336239e-02,  1.10457628e-03,\n",
              "         1.54793961e-02,  1.08478777e-03],\n",
              "       [-1.01247132e-02,  1.20270150e-02,  9.50228656e-04,\n",
              "         1.49091715e-02,  6.23780768e-04],\n",
              "       [-1.18193999e-02,  1.25936000e-02,  1.09468424e-03,\n",
              "         1.60883926e-02,  1.66536309e-04],\n",
              "       [-9.69792437e-03,  1.25302337e-02,  4.31902125e-04,\n",
              "         1.48875481e-02,  2.01464258e-03],\n",
              "       [-9.45934746e-03,  1.26174372e-02,  8.55354534e-04,\n",
              "         1.50831211e-02,  1.54059753e-03],\n",
              "       [-8.88023153e-03,  1.17933601e-02,  1.78905088e-04,\n",
              "         1.51712727e-02,  2.24219589e-03],\n",
              "       [-9.57649201e-03,  1.25443824e-02,  7.45707599e-04,\n",
              "         1.45893339e-02,  1.25806173e-03],\n",
              "       [-1.10567007e-02,  1.25258472e-02,  1.51296949e-03,\n",
              "         1.59485117e-02,  4.53210901e-04],\n",
              "       [-1.09633636e-02,  1.24800624e-02,  7.75499269e-04,\n",
              "         1.58013850e-02,  5.84659167e-04],\n",
              "       [-1.07196104e-02,  1.23221641e-02,  8.70800461e-04,\n",
              "         1.54894479e-02,  1.22887921e-03],\n",
              "       [-1.19443443e-02,  1.26799466e-02,  9.96275106e-04,\n",
              "         1.62268300e-02,  6.45555556e-05],\n",
              "       [-9.41684004e-03,  1.23246824e-02,  1.07842952e-03,\n",
              "         1.49677461e-02,  1.65514415e-03],\n",
              "       [-9.78080556e-03,  1.20437024e-02,  5.04115131e-04,\n",
              "         1.50665445e-02,  1.59366941e-03],\n",
              "       [-1.04048923e-02,  1.17276842e-02,  1.69250171e-03,\n",
              "         1.59360673e-02,  1.56738982e-03],\n",
              "       [-8.11454188e-03,  1.24370139e-02,  1.32011250e-04,\n",
              "         1.35571491e-02,  1.74801517e-03],\n",
              "       [-1.09141357e-02,  1.22121517e-02,  1.92386075e-03,\n",
              "         1.58048086e-02,  1.21062156e-03],\n",
              "       [-8.59916396e-03,  1.20526636e-02,  3.26340203e-04,\n",
              "         1.43420482e-02,  1.96541427e-03],\n",
              "       [-1.12316180e-02,  1.26096057e-02,  1.01236010e-03,\n",
              "         1.60021111e-02,  4.65639867e-04],\n",
              "       [-9.63339116e-03,  1.26317162e-02,  2.21097027e-04,\n",
              "         1.53065603e-02,  1.57473562e-03],\n",
              "       [-8.96327384e-03,  1.29795447e-02,  2.52782879e-03,\n",
              "         1.54543323e-02,  2.01266678e-03],\n",
              "       [-9.42241400e-03,  1.27329752e-02,  5.25332638e-04,\n",
              "         1.49912639e-02,  1.65559724e-03],\n",
              "       [-1.01160090e-02,  1.25671355e-02,  1.20740628e-03,\n",
              "         1.47629604e-02,  1.23294024e-03],\n",
              "       [-7.50552444e-03,  1.24954758e-02,  3.95104289e-05,\n",
              "         1.33819692e-02,  2.13270169e-03],\n",
              "       [-9.05802473e-03,  1.20808017e-02,  9.34349373e-04,\n",
              "         1.45173604e-02,  2.52452493e-03]], dtype=float32)>"
            ]
          },
          "execution_count": 161,
          "metadata": {},
          "output_type": "execute_result"
        }
      ],
      "source": [
        "sample_decoder_output"
      ]
    },
    {
      "cell_type": "markdown",
      "metadata": {},
      "source": [
        "> Loss"
      ]
    },
    {
      "cell_type": "code",
      "execution_count": 162,
      "metadata": {},
      "outputs": [],
      "source": [
        "optimizer = tf.keras.optimizers.Adam()\n",
        "loss_object = tf.keras.losses.SparseCategoricalCrossentropy(from_logits=True, reduction='none')"
      ]
    },
    {
      "cell_type": "code",
      "execution_count": 163,
      "metadata": {},
      "outputs": [],
      "source": [
        "def loss_function(real, pred):\n",
        "  mask = tf.math.logical_not(tf.math.equal(real, 0))\n",
        "  loss_ = loss_object(real, pred)\n",
        "\n",
        "  mask = tf.cast(mask, dtype=loss_.dtype)\n",
        "  loss_ *= mask\n",
        "\n",
        "  return tf.reduce_mean(loss_)"
      ]
    },
    {
      "cell_type": "code",
      "execution_count": 164,
      "metadata": {},
      "outputs": [],
      "source": [
        "import os\n",
        "checkpoint_dir = './training_checkpoints'\n",
        "checkpoint_prefix = os.path.join(checkpoint_dir, \"ckpt\")\n",
        "checkpoint = tf.train.Checkpoint(optimizer=optimizer,\n",
        "                                 encoder=encoder,\n",
        "                                 decoder=decoder)"
      ]
    },
    {
      "cell_type": "markdown",
      "metadata": {},
      "source": [
        "> Traning"
      ]
    },
    {
      "cell_type": "code",
      "execution_count": 165,
      "metadata": {},
      "outputs": [],
      "source": [
        "@tf.function\n",
        "def train_step(inp, targ, enc_hidden):\n",
        "    loss = 0\n",
        "\n",
        "    with tf.GradientTape() as tape:\n",
        "        enc_output, enc_hidden = encoder(inp, enc_hidden)\n",
        "\n",
        "        dec_hidden = enc_hidden\n",
        "\n",
        "        dec_input = tf.expand_dims([all_target_tokens[\"<start>\"]] * BATCH_SIZE, 1)\n",
        "\n",
        "        # Teacher forcing - feeding the target as the next input\n",
        "        for t in range(1, targ.shape[1]):\n",
        "        # passing enc_output to the decoder\n",
        "            predictions, dec_hidden, _ = decoder(dec_input, dec_hidden, enc_output)\n",
        "\n",
        "            loss += loss_function(targ[:, t], predictions)\n",
        "\n",
        "            # using teacher forcing\n",
        "            dec_input = tf.expand_dims(targ[:, t], 1)\n",
        "\n",
        "    batch_loss = (loss / int(targ.shape[1]))\n",
        "\n",
        "    variables = encoder.trainable_variables + decoder.trainable_variables\n",
        "\n",
        "    gradients = tape.gradient(loss, variables)\n",
        "\n",
        "    optimizer.apply_gradients(zip(gradients, variables))\n",
        "\n",
        "    return batch_loss"
      ]
    },
    {
      "cell_type": "code",
      "execution_count": 166,
      "metadata": {},
      "outputs": [
        {
          "name": "stdout",
          "output_type": "stream",
          "text": [
            "Epoch 1 Batch 0 Loss 1.0728\n",
            "Epoch 1 Batch 10 Loss 0.5089\n",
            "Epoch 1 Batch 20 Loss 0.2710\n",
            "Epoch 1 Batch 30 Loss 0.2257\n",
            "Epoch 1 Batch 40 Loss 0.2424\n",
            "Epoch 1 Batch 50 Loss 0.2365\n",
            "Epoch 1 Batch 60 Loss 0.2253\n",
            "Epoch 1 Batch 70 Loss 0.2250\n",
            "Epoch 1 Batch 80 Loss 0.2379\n",
            "Epoch 1 Batch 90 Loss 0.2347\n",
            "Epoch 1 Loss 0.3173\n",
            "Time taken for 1 epoch 389.5030744075775 sec\n",
            "\n",
            "Epoch 2 Batch 0 Loss 0.2337\n",
            "Epoch 2 Batch 10 Loss 0.2390\n",
            "Epoch 2 Batch 20 Loss 0.2287\n",
            "Epoch 2 Batch 30 Loss 0.2173\n",
            "Epoch 2 Batch 40 Loss 0.2318\n",
            "Epoch 2 Batch 50 Loss 0.2236\n",
            "Epoch 2 Batch 60 Loss 0.2294\n",
            "Epoch 2 Batch 70 Loss 0.2306\n",
            "Epoch 2 Batch 80 Loss 0.2259\n",
            "Epoch 2 Batch 90 Loss 0.2228\n",
            "Epoch 2 Loss 0.2304\n",
            "Time taken for 1 epoch 324.3126947879791 sec\n",
            "\n",
            "Epoch 3 Batch 0 Loss 0.2300\n",
            "Epoch 3 Batch 10 Loss 0.2269\n",
            "Epoch 3 Batch 20 Loss 0.2473\n",
            "Epoch 3 Batch 30 Loss 0.2230\n",
            "Epoch 3 Batch 40 Loss 0.2333\n",
            "Epoch 3 Batch 50 Loss 0.2274\n",
            "Epoch 3 Batch 60 Loss 0.2235\n",
            "Epoch 3 Batch 70 Loss 0.2396\n",
            "Epoch 3 Batch 80 Loss 0.2323\n",
            "Epoch 3 Batch 90 Loss 0.2253\n",
            "Epoch 3 Loss 0.2311\n",
            "Time taken for 1 epoch 324.992778301239 sec\n",
            "\n",
            "Epoch 4 Batch 0 Loss 0.2306\n",
            "Epoch 4 Batch 10 Loss 0.2334\n",
            "Epoch 4 Batch 20 Loss 0.2243\n",
            "Epoch 4 Batch 30 Loss 0.2302\n",
            "Epoch 4 Batch 40 Loss 0.2325\n",
            "Epoch 4 Batch 50 Loss 0.2279\n",
            "Epoch 4 Batch 60 Loss 0.2066\n",
            "Epoch 4 Batch 70 Loss 0.1739\n",
            "Epoch 4 Batch 80 Loss 0.1781\n",
            "Epoch 4 Batch 90 Loss 0.2084\n",
            "Epoch 4 Loss 0.2105\n",
            "Time taken for 1 epoch 320.645103931427 sec\n",
            "\n",
            "Epoch 5 Batch 0 Loss 0.1348\n",
            "Epoch 5 Batch 10 Loss 0.1035\n",
            "Epoch 5 Batch 20 Loss 0.1192\n",
            "Epoch 5 Batch 30 Loss 0.1337\n",
            "Epoch 5 Batch 40 Loss 0.1239\n",
            "Epoch 5 Batch 50 Loss 0.0937\n",
            "Epoch 5 Batch 60 Loss 0.1353\n",
            "Epoch 5 Batch 70 Loss 0.0923\n",
            "Epoch 5 Batch 80 Loss 0.1564\n",
            "Epoch 5 Batch 90 Loss 0.1371\n",
            "Epoch 5 Loss 0.1421\n",
            "Time taken for 1 epoch 311.63008975982666 sec\n",
            "\n"
          ]
        }
      ],
      "source": [
        "import time\n",
        "\n",
        "EPOCHS = 5\n",
        "steps_per_epoch = TAKE_SIZE\n",
        "\n",
        "for epoch in range(EPOCHS):\n",
        "    start = time.time()\n",
        "\n",
        "    enc_hidden = encoder.initialize_hidden_state()\n",
        "    total_loss = 0\n",
        "\n",
        "    for (batch, (inp, targ)) in enumerate(train_data.take(steps_per_epoch)):\n",
        "        batch_loss = train_step(inp, targ, enc_hidden)\n",
        "        total_loss += batch_loss\n",
        "\n",
        "        if batch % 10 == 0:\n",
        "            print('Epoch {} Batch {} Loss {:.4f}'.format(epoch + 1,\n",
        "                                                        batch,\n",
        "                                                        batch_loss.numpy()))\n",
        "    \n",
        "    # saving (checkpoint) the model every 2 epochs\n",
        "    if (epoch + 1) % 2 == 0:\n",
        "        checkpoint.save(file_prefix = checkpoint_prefix)\n",
        "\n",
        "    print('Epoch {} Loss {:.4f}'.format(epoch + 1,\n",
        "                                        total_loss / steps_per_epoch))\n",
        "    print('Time taken for 1 epoch {} sec\\n'.format(time.time() - start))"
      ]
    },
    {
      "cell_type": "code",
      "execution_count": 167,
      "metadata": {
        "id": "y8Wvt8q1KN0T"
      },
      "outputs": [
        {
          "data": {
            "text/plain": [
              "<tensorflow.python.training.tracking.util.CheckpointLoadStatus at 0x1d0b4141220>"
            ]
          },
          "execution_count": 167,
          "metadata": {},
          "output_type": "execute_result"
        }
      ],
      "source": [
        "# restoring the latest checkpoint in checkpoint_dir\n",
        "checkpoint.restore(tf.train.latest_checkpoint(checkpoint_dir))"
      ]
    },
    {
      "cell_type": "code",
      "execution_count": 168,
      "metadata": {},
      "outputs": [],
      "source": [
        "checkpoint.restore(\"training_checkpoints/ckpt-2\")\n",
        "encoder_old=checkpoint.encoder\n",
        "decoder_old=checkpoint.decoder"
      ]
    },
    {
      "cell_type": "code",
      "execution_count": 169,
      "metadata": {},
      "outputs": [
        {
          "data": {
            "text/plain": [
              "<__main__.Encoder at 0x1d0b4141c40>"
            ]
          },
          "execution_count": 169,
          "metadata": {},
          "output_type": "execute_result"
        }
      ],
      "source": [
        "encoder_old"
      ]
    },
    {
      "cell_type": "code",
      "execution_count": 170,
      "metadata": {},
      "outputs": [
        {
          "name": "stdout",
          "output_type": "stream",
          "text": [
            "Text sentence: <start> Ignition Knock ( Detonation ) Sensor - Senso Standard KS94 http://t.co/dY1erSDcRh http://t.co/m4cPmxmuRK <end> \n",
            "True translation: <start> 1 <end> \n",
            "Model translation: 0 <end> \n"
          ]
        }
      ],
      "source": [
        "for example, label in val_data.take(10):\n",
        "  hidden = [tf.zeros((1, units))]\n",
        "  input_t = example[0]\n",
        "  output_label = label[0]\n",
        "  enc_out, enc_hidden = encoder(tf.expand_dims(input_t, axis=0), hidden)\n",
        "\n",
        "  dec_hidden = enc_hidden\n",
        "  dec_input = tf.expand_dims([all_target_tokens[\"<start>\"]], 0)\n",
        "\n",
        "  result = \"\"\n",
        "\n",
        "  for t in range(padded_text_indices.shape[-1]):\n",
        "    predictions, dec_hidden, attention_weights = decoder(dec_input,\n",
        "                                                          dec_hidden,\n",
        "                                                          enc_out)\n",
        "\n",
        "    predicted_id = tf.argmax(predictions[0]).numpy()\n",
        "    corresponding_word = [word for word, id in all_target_tokens.items() if id==predicted_id]\n",
        "    result += corresponding_word[0] + \" \"\n",
        "\n",
        "    if corresponding_word[0] == '<end>':\n",
        "      break\n",
        "\n",
        "    # the predicted ID is fed back into the model\n",
        "    dec_input = tf.expand_dims([predicted_id], 0)\n",
        "\n",
        "  input_sentence = \"\"\n",
        "  for token_id in input_t:\n",
        "    \n",
        "    corresponding_word = [word for word, id in all_text_tokens.items() if id==token_id]\n",
        "    input_sentence += corresponding_word[0] + \" \"\n",
        "    if corresponding_word[0] == \"<end>\":\n",
        "      break\n",
        "\n",
        "  true_translation = \"\"\n",
        "  for token_id in output_label:\n",
        "    corresponding_word = [word for word, id in all_target_tokens.items() if id==token_id]\n",
        "    true_translation += corresponding_word[0] + \" \"\n",
        "    if corresponding_word[0] == \"<end>\":\n",
        "      break \n",
        "\n",
        "\n",
        "print(\"Text sentence: {}\".format(input_sentence))\n",
        "print(\"True translation: {}\".format(true_translation))\n",
        "print(\"Model translation: {}\".format(result))"
      ]
    },
    {
      "cell_type": "code",
      "execution_count": 171,
      "metadata": {},
      "outputs": [
        {
          "name": "stdout",
          "output_type": "stream",
          "text": [
            "Text sentence: <start> @yahoocare perhaps you should change you name to yahoo does n't care .   Are you so inundated with complaints that you can not respond to me ? ? <end> \n",
            "True translation: <start> 0 <end> \n",
            "Model translation: 0 <end> \n"
          ]
        }
      ],
      "source": [
        "for example, label in val_data.take(10):\n",
        "\n",
        "  hidden = [tf.zeros((1, units))]\n",
        "  input_t = example[0]\n",
        "  output_label = label[0]\n",
        "  enc_out, enc_hidden = encoder_old(tf.expand_dims(input_t, axis=0), hidden)\n",
        "\n",
        "  dec_hidden = enc_hidden\n",
        "  dec_input = tf.expand_dims([all_target_tokens[\"<start>\"]], 0)\n",
        "\n",
        "  result = \"\"\n",
        "\n",
        "  for t in range(padded_text_indices.shape[-1]):\n",
        "    predictions, dec_hidden, attention_weights = decoder_old(dec_input,\n",
        "                                                          dec_hidden,\n",
        "                                                          enc_out)\n",
        "\n",
        "    predicted_id = tf.argmax(predictions[0]).numpy()\n",
        "    corresponding_word = [word for word, id in all_target_tokens.items() if id==predicted_id]\n",
        "    result += corresponding_word[0] + \" \"\n",
        "\n",
        "    if corresponding_word[0] == '<end>':\n",
        "      break\n",
        "\n",
        "    # the predicted ID is fed back into the model\n",
        "    dec_input = tf.expand_dims([predicted_id], 0)\n",
        "\n",
        "  input_sentence = \"\"\n",
        "  for token_id in input_t:\n",
        "    \n",
        "    corresponding_word = [word for word, id in all_text_tokens.items() if id==token_id]\n",
        "    input_sentence += corresponding_word[0] + \" \"\n",
        "    if corresponding_word[0] == \"<end>\":\n",
        "      break\n",
        "\n",
        "  true_translation = \"\"\n",
        "  for token_id in output_label:\n",
        "    corresponding_word = [word for word, id in all_target_tokens.items() if id==token_id]\n",
        "    true_translation += corresponding_word[0] + \" \"\n",
        "    if corresponding_word[0] == \"<end>\":\n",
        "      break \n",
        "\n",
        "\n",
        "print(\"Text sentence: {}\".format(input_sentence))\n",
        "print(\"True translation: {}\".format(true_translation))\n",
        "print(\"Model translation: {}\".format(result))"
      ]
    },
    {
      "cell_type": "code",
      "execution_count": null,
      "metadata": {},
      "outputs": [],
      "source": []
    },
    {
      "cell_type": "code",
      "execution_count": null,
      "metadata": {},
      "outputs": [],
      "source": []
    }
  ],
  "metadata": {
    "accelerator": "GPU",
    "colab": {
      "collapsed_sections": [],
      "name": "NLP_Project_Real_or_Not_NLP_with_Disaster_20211221.ipynb",
      "provenance": [],
      "toc_visible": true
    },
    "kernelspec": {
      "display_name": "Python 3",
      "language": "python",
      "name": "python3"
    },
    "language_info": {
      "codemirror_mode": {
        "name": "ipython",
        "version": 3
      },
      "file_extension": ".py",
      "mimetype": "text/x-python",
      "name": "python",
      "nbconvert_exporter": "python",
      "pygments_lexer": "ipython3",
      "version": "3.8.8"
    },
    "toc": {
      "base_numbering": 1,
      "nav_menu": {},
      "number_sections": true,
      "sideBar": true,
      "skip_h1_title": false,
      "title_cell": "Table of Contents",
      "title_sidebar": "Contents",
      "toc_cell": false,
      "toc_position": {},
      "toc_section_display": true,
      "toc_window_display": false
    },
    "varInspector": {
      "cols": {
        "lenName": 16,
        "lenType": 16,
        "lenVar": 40
      },
      "kernels_config": {
        "python": {
          "delete_cmd_postfix": "",
          "delete_cmd_prefix": "del ",
          "library": "var_list.py",
          "varRefreshCmd": "print(var_dic_list())"
        },
        "r": {
          "delete_cmd_postfix": ") ",
          "delete_cmd_prefix": "rm(",
          "library": "var_list.r",
          "varRefreshCmd": "cat(var_dic_list()) "
        }
      },
      "types_to_exclude": [
        "module",
        "function",
        "builtin_function_or_method",
        "instance",
        "_Feature"
      ],
      "window_display": false
    }
  },
  "nbformat": 4,
  "nbformat_minor": 0
}
