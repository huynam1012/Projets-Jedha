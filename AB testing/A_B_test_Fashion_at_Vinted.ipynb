{
  "cells": [
    {
      "cell_type": "markdown",
      "metadata": {
        "id": "zr85PucE55Ic"
      },
      "source": [
        "![](https://upload.wikimedia.org/wikipedia/commons/2/29/Vinted_logo.png)\n",
        "\n",
        "## A/B Fashion @ Vinted\n",
        "\n",
        "[Vinted](https://www.vinted.fr/) is a French e-commerce platform which allow to sell your old clothes. Over the years the company has grown a lot and is now making around $40 Millions in revenue and is value $4.5 billion dollars. \n",
        "\n",
        "Conversion for e-commerce is extremely important. Vinted's team would like to optimize their website. Their designer and marketing team selected two versions they would like to test on their website. Here they are: \n",
        "\n",
        "## Feature A \n",
        "\n",
        "![](https://essentials-assets.s3.eu-west-3.amazonaws.com/M03-Python_programming_and_statistics/D02-A_B_testing_and_web_analytics/Vinted_Feature_A.png)\n",
        "\n",
        "## Feature B \n",
        "\n",
        "![](https://essentials-assets.s3.eu-west-3.amazonaws.com/M03-Python_programming_and_statistics/D02-A_B_testing_and_web_analytics/Vinted_Feature_B.png)\n",
        "\n",
        "They asked you to run an A/B test to determine which version would provide more conversions. They also provided you with a file called `vinted_website_optimization.csv`. "
      ]
    },
    {
      "cell_type": "markdown",
      "metadata": {
        "id": "60xANH7c55Ii"
      },
      "source": [
        "## Step 1 - Import Libraries \n",
        "\n",
        "For this project, we will be using: \n",
        "\n",
        "* `pandas as pd`\n",
        "* `numpy as np`\n",
        "* `seaborn as sns`\n",
        "* `matplotlib.pyplot as plt`"
      ]
    },
    {
      "cell_type": "code",
      "execution_count": null,
      "metadata": {
        "id": "spiCFrrk6xH9"
      },
      "outputs": [],
      "source": [
        "import pandas as pd \n",
        "import seaborn as sns \n",
        "import numpy as np\n",
        "import matplotlib.pyplot as plt "
      ]
    },
    {
      "cell_type": "markdown",
      "metadata": {
        "id": "VAwRdJhOAgNa"
      },
      "source": [
        "## Step 2 - Import dataset \n",
        "\n",
        "As stated above, we need to import `vinted_website_optimization.csv` that holds the results of our A/B test "
      ]
    },
    {
      "cell_type": "code",
      "execution_count": null,
      "metadata": {
        "id": "Cl0l3lnN55In",
        "outputId": "29a5a95d-4d6d-4016-87c7-9bf9a44d102f"
      },
      "outputs": [
        {
          "data": {
            "text/html": [
              "<div>\n",
              "<style scoped>\n",
              "    .dataframe tbody tr th:only-of-type {\n",
              "        vertical-align: middle;\n",
              "    }\n",
              "\n",
              "    .dataframe tbody tr th {\n",
              "        vertical-align: top;\n",
              "    }\n",
              "\n",
              "    .dataframe thead th {\n",
              "        text-align: right;\n",
              "    }\n",
              "</style>\n",
              "<table border=\"1\" class=\"dataframe\">\n",
              "  <thead>\n",
              "    <tr style=\"text-align: right;\">\n",
              "      <th></th>\n",
              "      <th>Feature_A</th>\n",
              "      <th>Feature_B</th>\n",
              "    </tr>\n",
              "  </thead>\n",
              "  <tbody>\n",
              "    <tr>\n",
              "      <th>0</th>\n",
              "      <td>0</td>\n",
              "      <td>0</td>\n",
              "    </tr>\n",
              "    <tr>\n",
              "      <th>1</th>\n",
              "      <td>0</td>\n",
              "      <td>0</td>\n",
              "    </tr>\n",
              "    <tr>\n",
              "      <th>2</th>\n",
              "      <td>0</td>\n",
              "      <td>0</td>\n",
              "    </tr>\n",
              "    <tr>\n",
              "      <th>3</th>\n",
              "      <td>0</td>\n",
              "      <td>0</td>\n",
              "    </tr>\n",
              "    <tr>\n",
              "      <th>4</th>\n",
              "      <td>1</td>\n",
              "      <td>0</td>\n",
              "    </tr>\n",
              "  </tbody>\n",
              "</table>\n",
              "</div>"
            ],
            "text/plain": [
              "   Feature_A  Feature_B\n",
              "0          0          0\n",
              "1          0          0\n",
              "2          0          0\n",
              "3          0          0\n",
              "4          1          0"
            ]
          },
          "execution_count": 2,
          "metadata": {},
          "output_type": "execute_result"
        }
      ],
      "source": [
        "df = pd.read_csv(\"src/vinted_website_optimization.csv\")\n",
        "df.head()"
      ]
    },
    {
      "cell_type": "markdown",
      "metadata": {
        "id": "ND7DWo0P55Io"
      },
      "source": [
        "## Step 3 - EDA \n",
        "\n",
        "Now, let's do a little bit of Exploratory Data Analysis. Let's first see the proportion of conversion for Feature A as well as Feature B "
      ]
    },
    {
      "cell_type": "code",
      "execution_count": null,
      "metadata": {
        "id": "_nHYu-yv55Ip",
        "outputId": "800d4876-0461-4260-c7e2-51cb4f1dd371"
      },
      "outputs": [
        {
          "data": {
            "text/plain": [
              "Feature_A    0.086\n",
              "Feature_B    0.126\n",
              "dtype: float64"
            ]
          },
          "execution_count": 3,
          "metadata": {},
          "output_type": "execute_result"
        }
      ],
      "source": [
        "df.mean()"
      ]
    },
    {
      "cell_type": "markdown",
      "metadata": {
        "id": "qQzTyr_MAzwC"
      },
      "source": [
        "Then visualize both feature using `pandas` and the `plot` function. We will need to build confidence intervals with 95% confidence level."
      ]
    },
    {
      "cell_type": "code",
      "execution_count": null,
      "metadata": {
        "id": "vmsX0AUY55It",
        "outputId": "578c83c6-e2a2-41c9-87d4-cef82c3081b6"
      },
      "outputs": [
        {
          "data": {
            "text/plain": [
              "<AxesSubplot:>"
            ]
          },
          "execution_count": 5,
          "metadata": {},
          "output_type": "execute_result"
        },
        {
          "data": {
            "image/png": "[encoded data removed]",
            "text/plain": [
              "<Figure size 432x288 with 1 Axes>"
            ]
          },
          "metadata": {},
          "output_type": "display_data"
        }
      ],
      "source": [
        "t = 1.96\n",
        "n = len(df)\n",
        "E = t*df.std()/np.sqrt(n)\n",
        "\n",
        "df.mean().plot(kind=\"bar\", yerr=E)"
      ]
    },
    {
      "cell_type": "markdown",
      "metadata": {
        "id": "8TfaCj2Y55Iw"
      },
      "source": [
        "## Step 4 - Test \n",
        "\n",
        "Since our DataFrame is made differently we won't need to do much manipulations. However we do need to apply the following formula:\n",
        "\n",
        "$$Z-Score = \\frac{\\mu_B - \\mu_A}{\\sqrt{\\frac{\\sigma_B^2}{n_B}+ \\frac{\\sigma_A^2}{n_A}}}$$"
      ]
    },
    {
      "cell_type": "code",
      "execution_count": null,
      "metadata": {
        "id": "79dMcSYS55Ix",
        "outputId": "522cfb67-6b7d-4bc8-8ae6-b093062dacf5"
      },
      "outputs": [
        {
          "data": {
            "text/plain": [
              "2.056800150160431"
            ]
          },
          "execution_count": 8,
          "metadata": {},
          "output_type": "execute_result"
        }
      ],
      "source": [
        "mean_a = df['Feature_A'].mean()\n",
        "mean_b = df['Feature_B'].mean()\n",
        "\n",
        "std_a = df['Feature_A'].std()\n",
        "std_b = df['Feature_B'].std()\n",
        "\n",
        "\n",
        "n_a = len(df)\n",
        "n_b = len(df)\n",
        "\n",
        "z_score = (mean_b - mean_a) / np.sqrt(std_a**2/n_a + std_b**2/n_b)\n",
        "z_score"
      ]
    },
    {
      "cell_type": "code",
      "metadata": {
        "id": "fmbYLUNzDU0Z"
      },
      "source": [
        "## Step 5 - Set $\\alpha$\n",
        "\n",
        "Let's now set $\\alpha$, after checking with Airbnb's team, they've settled for 95% confidence level"
      ],
      "execution_count": null,
      "outputs": []
    },
    {
      "cell_type": "code",
      "execution_count": null,
      "metadata": {
        "id": "FNLV-fB055Iz"
      },
      "outputs": [],
      "source": [
        "alpha=0.05"
      ]
    },
    {
      "cell_type": "markdown",
      "metadata": {
        "id": "YywtLK4q55I0"
      },
      "source": [
        "## Step 6 - Compare p-value to $\\alpha$ \n",
        "\n",
        "Finally, we need to compare our p-value to $\\alpha$, to do so, we'll be using `ztest` from `statsmodels`: \n",
        "\n",
        "* [`ztest`](https://www.statsmodels.org/dev/generated/statsmodels.stats.weightstats.ztest.html)"
      ]
    },
    {
      "cell_type": "code",
      "execution_count": null,
      "metadata": {
        "id": "_jNySfZ-55I0",
        "outputId": "f08ef935-db69-44d9-9b0a-faa7098108be"
      },
      "outputs": [
        {
          "name": "stdout",
          "output_type": "stream",
          "text": [
            "Z_score value is: 2.056800150160431\n",
            "p-value is: 0.019852726822912285\n",
            "We can reject the Null Hypothesis\n"
          ]
        }
      ],
      "source": [
        "from statsmodels.stats.weightstats import ztest\n",
        "z_score, p_value = ztest(df['Feature_B'], df['Feature_A'], alternative='larger', value=0)\n",
        "\n",
        "print(\"Z_score value is: {}\".format(z_score))\n",
        "print(\"p-value is: {}\".format(p_value))\n",
        "\n",
        "if p_value < alpha:\n",
        "    print(\"We can reject the Null Hypothesis\")\n",
        "else:\n",
        "    print(\"We can't reject the Null hypothesis\")"
      ]
    },
    {
      "cell_type": "markdown",
      "metadata": {
        "id": "RjhfEGbj55I1"
      },
      "source": [
        "## Step 7 (Optional) - Visualize probability\n",
        "\n",
        "Finally, one cool thing could be to visualize your Z-test! One thing that we could use is `matplotlib.pyplot` library with `seaborn`. Check out this code and try to understand the results. "
      ]
    },
    {
      "cell_type": "code",
      "execution_count": null,
      "metadata": {
        "id": "wyWVadACDg_n",
        "outputId": "2173f360-3145-4551-814c-9532954933cb"
      },
      "outputs": [
        {
          "name": "stderr",
          "output_type": "stream",
          "text": [
            "/Library/Frameworks/Python.framework/Versions/3.6/lib/python3.6/site-packages/scipy/stats/stats.py:1713: FutureWarning: Using a non-tuple sequence for multidimensional indexing is deprecated; use `arr[tuple(seq)]` instead of `arr[seq]`. In the future this will be interpreted as an array index, `arr[np.array(seq)]`, which will result either in an error or a different result.\n",
            "  return np.add.reduce(sorted[indexer] * weights, axis=axis) / sumval\n"
          ]
        },
        {
          "data": {
            "image/png": "[encoded data removed]",
            "text/plain": [
              "<Figure size 432x288 with 1 Axes>"
            ]
          },
          "metadata": {},
          "output_type": "display_data"
        }
      ],
      "source": [
        "### Visualize area under curve\n",
        "import seaborn as sns \n",
        "\n",
        "# Displot from seaborn gives us a distribution from what is inside the parenthesis\n",
        "# np.random.normal simulates a normal distribution \n",
        "# hist=None simply stats that we don't want a histogram\n",
        "ax = sns.distplot(np.random.normal(0, 1, size=1000000), hist=None) \n",
        "\n",
        "# This is a mask that will let us filter only the values beyond z-score\n",
        "mask = ax.lines[0].get_xydata()[:, 0] > z_score ## Only modify the operator sign (<, >) depending on your problem\n",
        "\n",
        "# This will get the coordinates of all the data points beyon z-score\n",
        "x_area_under_curve = ax.lines[0].get_xydata()[:, 0][mask]\n",
        "y_area_under_curve = ax.lines[0].get_xydata()[:, 1][mask]\n",
        "\n",
        "# We finally fill the area with red\n",
        "ax.fill_between(x_area_under_curve, y_area_under_curve, color=\"red\")\n",
        "plt.show()"
      ]
    },
    {
      "cell_type": "code",
      "execution_count": null,
      "metadata": {
        "id": "E08QKDb155I5"
      },
      "outputs": [],
      "source": [
        ""
      ]
    }
  ],
  "metadata": {
    "colab": {
      "name": "04-AB_Fashion_at_Vinted.ipynb",
      "provenance": [],
      "toc_visible": true
    },
    "interpreter": {
      "hash": "dca0ade3e726a953b501b15e8e990130d2b7799f14cfd9f4271676035ebe5511"
    },
    "kernelspec": {
      "display_name": "Python 3",
      "language": "python",
      "name": "python3"
    },
    "language_info": {
      "codemirror_mode": {
        "name": "ipython",
        "version": 3
      },
      "file_extension": ".py",
      "mimetype": "text/x-python",
      "name": "python",
      "nbconvert_exporter": "python",
      "pygments_lexer": "ipython3",
      "version": "3.6.3"
    }
  },
  "nbformat": 4,
  "nbformat_minor": 0
}